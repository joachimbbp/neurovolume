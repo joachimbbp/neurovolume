{
 "cells": [
  {
   "cell_type": "markdown",
   "metadata": {},
   "source": [
    "# Generate Neuro Volume\n",
    "Use this notebook to generate a VDB volume from a `n.ii` brain scan file.\n",
    "VDB output is set to `/output`"
   ]
  },
  {
   "cell_type": "code",
   "execution_count": null,
   "metadata": {},
   "outputs": [],
   "source": [
    "import os\n",
    "import nibabel as nib\n",
    "import pylab as plt\n",
    "import numpy as np\n",
    "from nibabel.testing import data_path\n",
    "\n",
    "from functions import normalize_array, show_3D_array, view_sagittal_slices, create_volume, parent_directory"
   ]
  },
  {
   "cell_type": "code",
   "execution_count": null,
   "metadata": {},
   "outputs": [],
   "source": [
    "#Sets parent directory as per this repo's file structure. If you change the file structure, please modify accordingly.\n",
    "parent_directory = parent_directory()\n",
    "\n",
    "#Likewise, these input and output paths can be hard coded to your own datasets and outputs\n",
    "#Please note that the output file path will also need to be changed in the Blender file's script if you wish to use Blender.\n",
    "input_filepath = os.path.join(parent_directory, \"media/sub-1001_T1w.nii\")\n",
    "output_folder = os.path.join(parent_directory, \"output/\")"
   ]
  },
  {
   "cell_type": "code",
   "execution_count": null,
   "metadata": {},
   "outputs": [],
   "source": [
    "brain_file = os.path.join(data_path, input_filepath)\n",
    "brain_img = nib.load(brain_file)\n",
    "brain_tensor = brain_img.get_fdata()\n",
    "normalized_brain_tensor = np.array(normalize_array(brain_tensor)) #Tensors for VDB must be normalized to 0.0-1.0\n",
    "output_brain_volume = create_volume(normalized_brain_tensor)"
   ]
  },
  {
   "cell_type": "markdown",
   "metadata": {},
   "source": []
  },
  {
   "cell_type": "code",
   "execution_count": null,
   "metadata": {},
   "outputs": [],
   "source": [
    "# Optional Debug Functions\n",
    "show_3D_array(output_brain_volume) #View the dataset in 3D, might take a sec\n",
    "view_sagittal_slices(output_brain_volume) #View all sagittal slices, long output"
   ]
  },
  {
   "cell_type": "code",
   "execution_count": null,
   "metadata": {},
   "outputs": [],
   "source": [
    "#Save to output folder\n",
    "np.save(\"{}/brain_volume.npy\".format(output_folder), output_brain_volume)"
   ]
  },
  {
   "cell_type": "markdown",
   "metadata": {},
   "source": []
  }
 ],
 "metadata": {
  "kernelspec": {
   "display_name": ".venv",
   "language": "python",
   "name": "python3"
  },
  "language_info": {
   "codemirror_mode": {
    "name": "ipython",
    "version": 3
   },
   "file_extension": ".py",
   "mimetype": "text/x-python",
   "name": "python",
   "nbconvert_exporter": "python",
   "pygments_lexer": "ipython3",
   "version": "3.11.5"
  }
 },
 "nbformat": 4,
 "nbformat_minor": 2
}
