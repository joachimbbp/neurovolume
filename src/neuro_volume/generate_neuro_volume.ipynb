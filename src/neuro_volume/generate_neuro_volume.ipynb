{
 "cells": [
  {
   "cell_type": "code",
   "execution_count": 2,
   "metadata": {},
   "outputs": [],
   "source": [
    "import os\n",
    "import nibabel as nib\n",
    "import pylab as plt\n",
    "import numpy as np\n",
    "from nibabel.testing import data_path\n",
    "\n",
    "from functions import normalize_array, show_3D_array, view_sagittal_slices, create_volume, parent_directory"
   ]
  },
  {
   "cell_type": "code",
   "execution_count": 7,
   "metadata": {},
   "outputs": [],
   "source": []
  },
  {
   "cell_type": "code",
   "execution_count": 2,
   "metadata": {},
   "outputs": [],
   "source": [
    "parent_directory = parent_directory()\n",
    "\n",
    "output_folder = os.path.join(parent_directory, \"output/\")"
   ]
  },
  {
   "cell_type": "code",
   "execution_count": 3,
   "metadata": {},
   "outputs": [],
   "source": [
    "#Andrew's brain, resting\n",
    "input_filepath = \"/Users/joachimpfefferkorn/Documents/mri_data/To_Share/MNI_Space/filtreg_sm_dspk_sk_sub-AG5_ses-baseline_task-Newresting1HB6scan_space-MNI152NLin2009cAsym_desc-preproc_bold.nii\""
   ]
  },
  {
   "cell_type": "markdown",
   "metadata": {},
   "source": []
  },
  {
   "cell_type": "code",
   "execution_count": 11,
   "metadata": {},
   "outputs": [
    {
     "ename": "",
     "evalue": "",
     "output_type": "error",
     "traceback": [
      "\u001b[1;31mThe Kernel crashed while executing code in the current cell or a previous cell. \n",
      "\u001b[1;31mPlease review the code in the cell(s) to identify a possible cause of the failure. \n",
      "\u001b[1;31mClick <a href='https://aka.ms/vscodeJupyterKernelCrash'>here</a> for more info. \n",
      "\u001b[1;31mView Jupyter <a href='command:jupyter.viewOutput'>log</a> for further details."
     ]
    }
   ],
   "source": [
    "brain_file = os.path.join(data_path, input_filepath)\n",
    "brain_img = nib.load(brain_file)\n",
    "brain_tensor = brain_img.get_fdata()\n",
    "\n",
    "normalized_brain_tensor = normalize_array(brain_tensor) #Tensors for VDB must be normalized to 0.0-1.0\n",
    "output_brain_volume = create_volume(normalized_brain_tensor)"
   ]
  },
  {
   "cell_type": "code",
   "execution_count": 5,
   "metadata": {},
   "outputs": [
    {
     "name": "stdout",
     "output_type": "stream",
     "text": [
      "brain tensor dimensions:  (108, 128, 108, 400)\n",
      "normalized brain tensor dimesions:  (108, 128, 108, 400)\n",
      "output_brain_volume dimensions:  (108, 128, 108, 400)\n"
     ]
    }
   ],
   "source": [
    "print(\"brain tensor dimensions: \", brain_tensor.shape)\n",
    "print(\"normalized brain tensor dimesions: \", normalized_brain_tensor.shape)\n",
    "print(\"output_brain_volume dimensions: \", output_brain_volume.shape)"
   ]
  },
  {
   "cell_type": "code",
   "execution_count": null,
   "metadata": {},
   "outputs": [],
   "source": [
    "show_3D_array()"
   ]
  },
  {
   "cell_type": "code",
   "execution_count": 25,
   "metadata": {},
   "outputs": [],
   "source": [
    "#Save to output folder\n",
    "np.save(\"{}/brain_volume.npy\".format(output_folder), output_brain_volume)"
   ]
  },
  {
   "cell_type": "code",
   "execution_count": null,
   "metadata": {},
   "outputs": [],
   "source": []
  }
 ],
 "metadata": {
  "kernelspec": {
   "display_name": ".venv",
   "language": "python",
   "name": "python3"
  },
  "language_info": {
   "codemirror_mode": {
    "name": "ipython",
    "version": 3
   },
   "file_extension": ".py",
   "mimetype": "text/x-python",
   "name": "python",
   "nbconvert_exporter": "python",
   "pygments_lexer": "ipython3",
   "version": "3.11.5"
  }
 },
 "nbformat": 4,
 "nbformat_minor": 2
}
