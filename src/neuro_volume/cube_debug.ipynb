{
 "cells": [
  {
   "cell_type": "code",
   "execution_count": 1,
   "metadata": {},
   "outputs": [],
   "source": [
    "import numpy as np\n",
    "import pyopenvdb as vdb"
   ]
  },
  {
   "cell_type": "code",
   "execution_count": 2,
   "metadata": {},
   "outputs": [],
   "source": [
    "dimension = 400\n",
    "array = np.zeros((dimension,dimension,dimension))\n",
    "for i in range(dimension):\n",
    "   for j in range(dimension):\n",
    "      for k in range(dimension):\n",
    "         if i < 200 and i >=100 and \\\n",
    "          j < 200 and j >=100 and \\\n",
    "          k < 200 and k >=100:\n",
    "\n",
    "            array[i,j,k] = 1.0"
   ]
  },
  {
   "cell_type": "code",
   "execution_count": 9,
   "metadata": {},
   "outputs": [],
   "source": [
    "grid = vdb.FloatGrid()\n",
    "grid.copyFromArray(array)\n",
    "grid.name = \"cube\"\n",
    "vdb.write('cube.vdb', grids=[grid])"
   ]
  },
  {
   "cell_type": "code",
   "execution_count": null,
   "metadata": {},
   "outputs": [],
   "source": [
    "#This works! although my existing material doesn't jive with it"
   ]
  }
 ],
 "metadata": {
  "kernelspec": {
   "display_name": ".venv",
   "language": "python",
   "name": "python3"
  },
  "language_info": {
   "codemirror_mode": {
    "name": "ipython",
    "version": 3
   },
   "file_extension": ".py",
   "mimetype": "text/x-python",
   "name": "python",
   "nbconvert_exporter": "python",
   "pygments_lexer": "ipython3",
   "version": "3.11.2"
  }
 },
 "nbformat": 4,
 "nbformat_minor": 2
}
