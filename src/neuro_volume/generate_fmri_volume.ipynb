{
 "cells": [
  {
   "cell_type": "code",
   "execution_count": 28,
   "metadata": {},
   "outputs": [],
   "source": [
    "import os\n",
    "import nibabel as nib\n",
    "from nibabel.testing import data_path\n",
    "import matplotlib\n",
    "from matplotlib import pyplot as plt\n",
    "from nilearn import plotting, image\n",
    "from nilearn.image import mean_img\n",
    "import numpy as np\n",
    "\n",
    "from functions import normalize_array, create_volume"
   ]
  },
  {
   "cell_type": "code",
   "execution_count": 29,
   "metadata": {},
   "outputs": [],
   "source": [
    "# link to fMRI scan\n",
    "input_fmri_file = \"/Users/joachimpfefferkorn/Documents/mri_data/To_Share/T1w_Space/filtreg_sm_dspk_sk_sub-AG5_ses-baseline_task-Newresting1HB6scan_space-T1w_desc-preproc_bold.nii\""
   ]
  },
  {
   "cell_type": "code",
   "execution_count": 30,
   "metadata": {},
   "outputs": [],
   "source": [
    "andrew_brain_filename = os.path.join(data_path, input_fmri_file)\n",
    "andrew_brain_img = nib.load(andrew_brain_filename) #why is this a join?"
   ]
  },
  {
   "cell_type": "code",
   "execution_count": 31,
   "metadata": {},
   "outputs": [],
   "source": [
    "\n",
    "andrew_brain_data = andrew_brain_img.get_fdata()\n",
    "normalized_brain_array = normalize_array(andrew_brain_data)"
   ]
  },
  {
   "cell_type": "code",
   "execution_count": 32,
   "metadata": {},
   "outputs": [],
   "source": [
    "normalized_brain_vol = create_volume(normalized_brain_array)"
   ]
  },
  {
   "cell_type": "markdown",
   "metadata": {},
   "source": [
    "# Comparing to a Base\n",
    "These results won't be meaningful, but they might be a good MVP of your volume renderer.\n",
    "Instead of comparing to a control condition, let's just compare to the first 3D volume in the series.\n",
    "Later you can compare this to something more meaningful."
   ]
  },
  {
   "cell_type": "code",
   "execution_count": 33,
   "metadata": {},
   "outputs": [],
   "source": [
    "output_folder = \"/Users/joachimpfefferkorn/repos/neurovolume/output/npy_seq\""
   ]
  },
  {
   "cell_type": "code",
   "execution_count": 38,
   "metadata": {},
   "outputs": [],
   "source": [
    "def view_mid_slice(slice):\n",
    "    base_slice = slice[:][:][50] #hard coded for now\n",
    "    plt.imshow(base_slice, cmap=\"viridis\")\n",
    "    plt.show()\n"
   ]
  },
  {
   "cell_type": "code",
   "execution_count": 69,
   "metadata": {},
   "outputs": [],
   "source": [
    "def diff_with_thresh_3D(control, experiment, thresh=0.001):\n",
    "    diff = np.absolute(control - experiment)\n",
    "    for z in range(diff.shape[2]): #must be a faster way to do this\n",
    "        for y in range(diff.shape[1]):\n",
    "            for x in range(diff.shape[0]):\n",
    "                if diff[x,y,z] < thresh:\n",
    "                    diff[x,y,z] = 0\n",
    "    return diff"
   ]
  },
  {
   "cell_type": "code",
   "execution_count": 70,
   "metadata": {},
   "outputs": [
    {
     "data": {
      "image/png": "[encoded data removed]",
      "text/plain": [
       "<Figure size 640x480 with 1 Axes>"
      ]
     },
     "metadata": {},
     "output_type": "display_data"
    }
   ],
   "source": [
    "#pulling out the base:\n",
    "experimental_mid_slice = normalized_brain_vol[:,:,:,200]\n",
    "control_mid_slice = normalized_brain_vol[:,:,:,0]\n",
    "\n",
    "diff = diff_with_thresh(control_mid_slice, experimental_mid_slice)\n",
    "\n",
    "#view_mid_slice(experimental_mid_slice)\n",
    "#view_mid_slice(control_mid_slice)\n",
    "view_mid_slice(diff)\n",
    "#viewing a slice\n"
   ]
  },
  {
   "cell_type": "code",
   "execution_count": 71,
   "metadata": {},
   "outputs": [],
   "source": [
    "# MVP/Testing CAVEATS (READ BEFORE USING!:\n",
    "# Not applicable to any kind of meaningful analysis\n",
    "# only tests against a single, 3D slice as the control.\n",
    "# Difference is calculated as ABSOLUTE as I don't know how VDBs handle negative numbers\n",
    "# This probably will have to be a seperate variable:\n",
    "#   As in, there is the unsigned density (0-1) and then some kind of signed float that represents the activation\n",
    "\n",
    "# lots of possible x/y/z/row/col gore but hopefully that just results in mirroring of final output.\n",
    "\n",
    "def create_4D_volume_MVP(experimental_4D, control_3D_test_variant):\n",
    "    fmri_volume = np.zeros(experimental_4D.shape)\n",
    "    for time_index in range(experimental_4D.shape[3]):\n",
    "        density = diff_with_thresh_3D(control_3D_test_variant, fmri_volume[:, :, :, time_index])\n",
    "        for z_index in range(experimental_4D.shape[2]):\n",
    "            for y_index in range(experimental_4D.shape[1]):\n",
    "                for x_index in range(experimental_4D.shape[0]): \n",
    "                    fmri_volume[x_index,y_index,z_index,time_index] = density[x_index,y_index,z_index]\n",
    "                    #print(f\"time: {time}, pos: {x_index},{y_index},{z_index}, density: {density}\")\n",
    "        vol_frame = \"{:03d}\".format(time_index)\n",
    "        np.save(f\"{output_folder}/fmri_{vol_frame}.npy\", fmri_volume[:,:,:,time_index])\n",
    "        print(f\"saved {vol_frame}\")"
   ]
  },
  {
   "cell_type": "code",
   "execution_count": null,
   "metadata": {},
   "outputs": [],
   "source": [
    "create_4D_volume_MVP(normalized_brain_vol, normalized_brain_vol[:,:,:,0])"
   ]
  },
  {
   "cell_type": "code",
   "execution_count": null,
   "metadata": {},
   "outputs": [],
   "source": []
  }
 ],
 "metadata": {
  "kernelspec": {
   "display_name": ".venv",
   "language": "python",
   "name": "python3"
  },
  "language_info": {
   "codemirror_mode": {
    "name": "ipython",
    "version": 3
   },
   "file_extension": ".py",
   "mimetype": "text/x-python",
   "name": "python",
   "nbconvert_exporter": "python",
   "pygments_lexer": "ipython3",
   "version": "3.11.5"
  }
 },
 "nbformat": 4,
 "nbformat_minor": 2
}
