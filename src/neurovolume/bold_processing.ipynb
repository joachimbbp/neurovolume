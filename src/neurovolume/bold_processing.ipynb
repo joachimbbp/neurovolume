{
 "cells": [
  {
   "cell_type": "markdown",
   "metadata": {},
   "source": [
    "WIP notebook to build bold diffing workflow"
   ]
  },
  {
   "cell_type": "code",
   "execution_count": null,
   "metadata": {},
   "outputs": [],
   "source": [
    "from neurovolume.functions import *"
   ]
  },
  {
   "cell_type": "code",
   "execution_count": null,
   "metadata": {},
   "outputs": [],
   "source": [
    "import matplotlib.pyplot as plt\n",
    "import numpy as np"
   ]
  },
  {
   "cell_type": "markdown",
   "metadata": {},
   "source": [
    "Let's do something as canonical as possible:\n",
    "- Assume that experimental and control are properly timed (you can add offsets later)"
   ]
  },
  {
   "cell_type": "code",
   "execution_count": null,
   "metadata": {},
   "outputs": [],
   "source": [
    "import nibabel as nib\n",
    "experimental = nib.load('/Users/joachimpfefferkorn/repos/neurovolume/media/openneuro/sub-01_task-emotionalfaces_run-1_bold.nii').get_fdata()\n",
    "control = nib.load('/Users/joachimpfefferkorn/repos/neurovolume/media/openneuro/sub-01_task-rest_bold.nii').get_fdata()"
   ]
  },
  {
   "cell_type": "markdown",
   "metadata": {},
   "source": [
    "- [ ] **Add an offset for the control!**"
   ]
  },
  {
   "cell_type": "code",
   "execution_count": null,
   "metadata": {},
   "outputs": [],
   "source": [
    "method_of_subtraction = create_normalized_volume(np.clip(np.subtract(experimental, control[:,:,:,:experimental.shape[3]]), 0, None))\n",
    "print(method_of_subtraction.shape)"
   ]
  },
  {
   "cell_type": "code",
   "execution_count": null,
   "metadata": {},
   "outputs": [],
   "source": [
    "fig, axs = plt.subplots(1, 3)\n",
    "z, t, = 16, 92\n",
    "\n",
    "axs[0].imshow(experimental[:,:,z,t])\n",
    "axs[1].imshow(control[:,:,z,t])\n",
    "axs[2].imshow(method_of_subtraction[:,:,z,t])"
   ]
  },
  {
   "cell_type": "markdown",
   "metadata": {},
   "source": [
    "We could easily export this, but let's:\n",
    "- extract *just* the motion so we can see what we're looking at\n",
    "- add some time correction and frame interpolation! "
   ]
  },
  {
   "cell_type": "code",
   "execution_count": null,
   "metadata": {},
   "outputs": [],
   "source": [
    "motion_extraction = create_normalized_volume(np.clip(np.diff(method_of_subtraction, axis=3), 0, None))"
   ]
  },
  {
   "cell_type": "markdown",
   "metadata": {},
   "source": [
    "Notice that we lose a frame here!"
   ]
  },
  {
   "cell_type": "code",
   "execution_count": null,
   "metadata": {},
   "outputs": [],
   "source": [
    "print(motion_extraction.shape)\n",
    "print(method_of_subtraction.shape)"
   ]
  },
  {
   "cell_type": "code",
   "execution_count": null,
   "metadata": {},
   "outputs": [],
   "source": [
    "# explore_4D_vol(motion_extraction)\n",
    "# print(motion_extraction.min(), motion_extraction.max())\n",
    "# plot_average(motion_extraction)"
   ]
  },
  {
   "cell_type": "markdown",
   "metadata": {},
   "source": [
    "Great, let's stretch this out into realtime!"
   ]
  },
  {
   "cell_type": "code",
   "execution_count": null,
   "metadata": {},
   "outputs": [],
   "source": [
    "exp_hdr = nib.load('/Users/joachimpfefferkorn/repos/neurovolume/media/openneuro/sub-01_task-emotionalfaces_run-1_bold.nii').header\n",
    "seconds_per_frame = exp_hdr['pixdim'][4] #seconds per frame\n",
    "fps = 24\n",
    "frame_duration = seconds_per_frame * fps\n",
    "total_frames = int(frame_duration * motion_extraction.shape[3])\n",
    "\n",
    "print(f'frames last {seconds_per_frame} seconds')\n",
    "print(f'Project is {fps} frames per second')\n",
    "print(f'frames last {frame_duration} frames (or at least that is the interval between each non-interpolated frame)')\n",
    "print(f'Project total frames: {total_frames}')"
   ]
  },
  {
   "cell_type": "code",
   "execution_count": null,
   "metadata": {},
   "outputs": [],
   "source": [
    "stretched = np.empty((motion_extraction.shape[0], motion_extraction.shape[1], motion_extraction.shape[2], total_frames))\n",
    "#Not super scalable if you have a non-int seconds per frame\n",
    "print(stretched.shape)"
   ]
  },
  {
   "cell_type": "markdown",
   "metadata": {},
   "source": [
    "cross dissolve from frame to frame:"
   ]
  },
  {
   "cell_type": "code",
   "execution_count": null,
   "metadata": {},
   "outputs": [],
   "source": [
    "if_idx = 0 # how many steps you are from the last og frame\n",
    "og_frame = 0\n",
    "a_frame = np.empty_like(motion_extraction[:,:,:,0])\n",
    "b_frame = np.empty_like(motion_extraction[:,:,:,0])\n",
    "\n",
    "for frame in range(stretched.shape[3]):\n",
    "    if float(frame % frame_duration) == 0.0: #og frame\n",
    "        if_idx = 0\n",
    "        a_frame = motion_extraction[:,:,:,int(frame/frame_duration)]\n",
    "        stretched[:,:,:, frame] = a_frame\n",
    "        if og_frame + 1 <= motion_extraction.shape[3]-1:\n",
    "            b_frame = motion_extraction[:,:,:,int(og_frame+1)]\n",
    "        og_frame += 1\n",
    "\n",
    "    else: #interframe\n",
    "        if_idx += 1\n",
    "        a_scalar = (frame_duration - if_idx) / frame_duration\n",
    "        b_scalar = if_idx / frame_duration\n",
    "\n",
    "        stretched[:,:,:,frame] = ((a_frame * a_scalar) + (b_frame * b_scalar)) #maybe there's a faster numpy function?"
   ]
  },
  {
   "cell_type": "code",
   "execution_count": null,
   "metadata": {},
   "outputs": [],
   "source": [
    "print(stretched.min(), stretched.max())"
   ]
  },
  {
   "cell_type": "code",
   "execution_count": null,
   "metadata": {},
   "outputs": [],
   "source": [
    "#typically takes seven seconds\n",
    "plot_average(stretched)"
   ]
  },
  {
   "cell_type": "code",
   "execution_count": null,
   "metadata": {},
   "outputs": [],
   "source": [
    "explore_4D_vol(stretched[:,:,:,0:96], dim='z', cmap='viridis')"
   ]
  },
  {
   "cell_type": "code",
   "execution_count": null,
   "metadata": {},
   "outputs": [],
   "source": [
    "output = '/Users/joachimpfefferkorn/repos/neurovolume/output/bold/motion_extraction_stretch.npy'\n",
    "with open(output, 'wb') as f:\n",
    "    np.save(f, stretched)"
   ]
  }
 ],
 "metadata": {
  "kernelspec": {
   "display_name": ".venv",
   "language": "python",
   "name": "python3"
  },
  "language_info": {
   "codemirror_mode": {
    "name": "ipython",
    "version": 3
   },
   "file_extension": ".py",
   "mimetype": "text/x-python",
   "name": "python",
   "nbconvert_exporter": "python",
   "pygments_lexer": "ipython3",
   "version": "3.11.5"
  }
 },
 "nbformat": 4,
 "nbformat_minor": 2
}
