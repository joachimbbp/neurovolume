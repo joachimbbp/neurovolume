{
 "cells": [
  {
   "cell_type": "markdown",
   "metadata": {},
   "source": [
    "# Gathering Data"
   ]
  },
  {
   "cell_type": "code",
   "execution_count": 2,
   "metadata": {},
   "outputs": [],
   "source": [
    "from notebook_viewer_functions import *\n",
    "from functions import *\n",
    "from scivol import *\n",
    "from helpers import *\n",
    "import ipyvolume as ipv\n",
    "import numpy as np\n",
    "import json\n",
    "import ants\n",
    "import gzip"
   ]
  },
  {
   "cell_type": "code",
   "execution_count": 3,
   "metadata": {},
   "outputs": [
    {
     "name": "stdout",
     "output_type": "stream",
     "text": [
      "/Users/joachimpfefferkorn/repos/neurovolume\n"
     ]
    }
   ],
   "source": [
    "proj_root = parent_directory()\n",
    "print(proj_root)\n",
    "mri_input_filepath = os.path.join(proj_root, \"media/sub-01/anat/sub-01_T1w.nii.gz\")\n",
    "template_folder = \"/Users/joachimpfefferkorn/repos/neurovolume/templates\"\n",
    "output_folder = os.path.join(proj_root, \"output/\")\n",
    "\n",
    "default_cmap = 'nipy_spectral'"
   ]
  },
  {
   "cell_type": "code",
   "execution_count": 4,
   "metadata": {},
   "outputs": [],
   "source": [
    "raw_anat_img = ants.image_read(mri_input_filepath)"
   ]
  },
  {
   "cell_type": "code",
   "execution_count": 5,
   "metadata": {},
   "outputs": [
    {
     "name": "stdout",
     "output_type": "stream",
     "text": [
      "ANTsImage (LPI)\n",
      "\t Pixel Type : float (float32)\n",
      "\t Components : 1\n",
      "\t Dimensions : (512, 512, 296)\n",
      "\t Spacing    : (0.4785, 0.4785, 0.5)\n",
      "\t Origin     : (119.989, 104.52, -84.2457)\n",
      "\t Direction  : [-1.      0.0025  0.     -0.0025 -1.      0.      0.      0.      1.    ]\n",
      "\n"
     ]
    },
    {
     "data": {
      "application/vnd.jupyter.widget-view+json": {
       "model_id": "ee5231830fd746e680be2295e70ba91f",
       "version_major": 2,
       "version_minor": 0
      },
      "text/plain": [
       "interactive(children=(IntSlider(value=255, description='slice', max=511), Output()), _dom_classes=('widget-int…"
      ]
     },
     "metadata": {},
     "output_type": "display_data"
    },
    {
     "data": {
      "application/vnd.jupyter.widget-view+json": {
       "model_id": "46147fa73a594f98a2d5634431bc3737",
       "version_major": 2,
       "version_minor": 0
      },
      "text/plain": [
       "interactive(children=(IntSlider(value=255, description='slice', max=511), Output()), _dom_classes=('widget-int…"
      ]
     },
     "metadata": {},
     "output_type": "display_data"
    },
    {
     "data": {
      "application/vnd.jupyter.widget-view+json": {
       "model_id": "df41a961c522491087ac50e11a6563a4",
       "version_major": 2,
       "version_minor": 0
      },
      "text/plain": [
       "interactive(children=(IntSlider(value=147, description='slice', max=295), Output()), _dom_classes=('widget-int…"
      ]
     },
     "metadata": {},
     "output_type": "display_data"
    }
   ],
   "source": [
    "print(raw_anat_img)\n",
    "explore_3D_vol(raw_anat_img.numpy(), dim=\"x\")\n",
    "explore_3D_vol(raw_anat_img.numpy(), dim=\"y\")\n",
    "explore_3D_vol(raw_anat_img.numpy(), dim=\"z\")"
   ]
  },
  {
   "cell_type": "markdown",
   "metadata": {},
   "source": [
    "# Skull Stripping\n",
    "Using ANTs\n",
    "\n",
    "[this notebook](https://github.com/Angeluz-07/MRI-preprocessing-techniques/blob/main/notebooks/09_brain_extraction_with_template.ipynb) is what we're basing this on"
   ]
  },
  {
   "cell_type": "markdown",
   "metadata": {},
   "source": [
    "## Load Template and Mask"
   ]
  },
  {
   "cell_type": "code",
   "execution_count": 6,
   "metadata": {},
   "outputs": [],
   "source": [
    "mni_template_img = ants.image_read(f\"{template_folder}/mni_icbm152_t1_tal_nlin_sym_09a.nii\")\n",
    "mni_template_mask = ants.image_read(f\"{template_folder}/mni_icbm152_t1_tal_nlin_sym_09a_mask.nii\")"
   ]
  },
  {
   "cell_type": "code",
   "execution_count": 7,
   "metadata": {},
   "outputs": [
    {
     "name": "stdout",
     "output_type": "stream",
     "text": [
      "ANTsImage (LPI)\n",
      "\t Pixel Type : float (float32)\n",
      "\t Components : 1\n",
      "\t Dimensions : (197, 233, 189)\n",
      "\t Spacing    : (1.0, 1.0, 1.0)\n",
      "\t Origin     : (98.0, 134.0, -72.0)\n",
      "\t Direction  : [-1.  0.  0.  0. -1.  0.  0.  0.  1.]\n",
      "\n"
     ]
    },
    {
     "data": {
      "application/vnd.jupyter.widget-view+json": {
       "model_id": "29c75ef855eb438bb714b6d5076a9b69",
       "version_major": 2,
       "version_minor": 0
      },
      "text/plain": [
       "interactive(children=(IntSlider(value=98, description='slice', max=196), Output()), _dom_classes=('widget-inte…"
      ]
     },
     "metadata": {},
     "output_type": "display_data"
    }
   ],
   "source": [
    "print(mni_template_img)\n",
    "explore_3D_vol(mni_template_img.numpy())"
   ]
  },
  {
   "cell_type": "code",
   "execution_count": 8,
   "metadata": {},
   "outputs": [
    {
     "name": "stdout",
     "output_type": "stream",
     "text": [
      "ANTsImage (LPI)\n",
      "\t Pixel Type : float (float32)\n",
      "\t Components : 1\n",
      "\t Dimensions : (197, 233, 189)\n",
      "\t Spacing    : (1.0, 1.0, 1.0)\n",
      "\t Origin     : (98.0, 134.0, -72.0)\n",
      "\t Direction  : [-1.  0.  0.  0. -1.  0.  0.  0.  1.]\n",
      "\n"
     ]
    },
    {
     "data": {
      "application/vnd.jupyter.widget-view+json": {
       "model_id": "583f12a16dd343b98335abc0dbe084fa",
       "version_major": 2,
       "version_minor": 0
      },
      "text/plain": [
       "interactive(children=(IntSlider(value=98, description='slice', max=196), Output()), _dom_classes=('widget-inte…"
      ]
     },
     "metadata": {},
     "output_type": "display_data"
    }
   ],
   "source": [
    "print(mni_template_mask)\n",
    "explore_3D_vol(mni_template_mask.numpy())"
   ]
  },
  {
   "cell_type": "markdown",
   "metadata": {},
   "source": [
    "## Register Template and Masks to Raw image\n",
    "Here we warp the MNI template"
   ]
  },
  {
   "cell_type": "code",
   "execution_count": 9,
   "metadata": {},
   "outputs": [
    {
     "name": "stdout",
     "output_type": "stream",
     "text": [
      "antsRegistration -d 3 -r [0x17f5c7228,0x1129d3088,1] -m mattes[0x17f5c7228,0x1129d3088,1,32,regular,0.2] -t Affine[0.25] -c 2100x1200x1200x0 -s 3x2x1x0 -f 4x2x2x1 -x [NA,NA] -m mattes[0x17f5c7228,0x1129d3088,1,32] -t SyN[0.200000,3.000000,0.000000] -c [40x20x0,1e-7,8] -s 2x1x0 -f 4x2x1 -u 1 -z 1 -o [/var/folders/m4/rtcmkx_17lv03n9tvdf76ycr0000gn/T/tmpucm2vqlj,0x17f8cde48,0x17f8ce4a8] -x [NA,NA] --float 1 --write-composite-transform 0 -v 1\n",
      "All_Command_lines_OK\n",
      "Using single precision for computations.\n",
      "=============================================================================\n",
      "The composite transform comprises the following transforms (in order): \n",
      "  1. Center of mass alignment using fixed image: 0x17f5c7228 and moving image: 0x1129d3088 (type = Euler3DTransform)\n",
      "=============================================================================\n",
      "  Reading mask(s).\n",
      "    Registration stage 0\n",
      "      No fixed mask\n",
      "      No moving mask\n",
      "    Registration stage 1\n",
      "      No fixed mask\n",
      "      No moving mask\n",
      "  number of levels = 4\n",
      "  number of levels = 3\n",
      "  fixed image: 0x17f5c7228\n",
      "  moving image: 0x1129d3088\n",
      "  fixed image: 0x17f5c7228\n",
      "  moving image: 0x1129d3088\n",
      "Dimension = 3\n",
      "Number of stages = 2\n",
      "Use histogram matching = true\n",
      "Winsorize image intensities = false\n",
      "  Lower quantile = 0\n",
      "  Upper quantile = 1\n",
      "\n",
      "\n",
      "Stage 1 State\n",
      "   Image metric = MattesMI\n",
      "     Fixed image = Image (0x17fa06570)\n",
      "  RTTI typeinfo:   itk::Image<float, 3u>\n",
      "  Reference Count: 2\n",
      "  Modified Time: 2192\n",
      "  Debug: Off\n",
      "  Object Name: \n",
      "  Observers: \n",
      "    none\n",
      "  Source: (none)\n",
      "  Source output name: (none)\n",
      "  Release Data: Off\n",
      "  Data Released: False\n",
      "  Global Release Data: Off\n",
      "  PipelineMTime: 0\n",
      "  UpdateMTime: 2166\n",
      "  RealTimeStamp: 0 seconds \n",
      "  LargestPossibleRegion: \n",
      "    Dimension: 3\n",
      "    Index: [0, 0, 0]\n",
      "    Size: [512, 512, 296]\n",
      "  BufferedRegion: \n",
      "    Dimension: 3\n",
      "    Index: [0, 0, 0]\n",
      "    Size: [512, 512, 296]\n",
      "  RequestedRegion: \n",
      "    Dimension: 3\n",
      "    Index: [0, 0, 0]\n",
      "    Size: [512, 512, 296]\n",
      "  Spacing: [0.4785, 0.4785, 0.5]\n",
      "  Origin: [119.989, 104.52, -84.2457]\n",
      "  Direction: \n",
      "-0.999997 0.00254 0\n",
      "-0.00254 -0.999997 0\n",
      "0 0 1\n",
      "\n",
      "  IndexToPointMatrix: \n",
      "-0.478498 0.00121539 0\n",
      "-0.00121539 -0.478498 0\n",
      "0 0 0.5\n",
      "\n",
      "  PointToIndexMatrix: \n",
      "-2.08986 -0.00530826 0\n",
      "0.00530826 -2.08986 0\n",
      "0 0 2\n",
      "\n",
      "  Inverse Direction: \n",
      "-0.999997 -0.00254 0\n",
      "0.00254 -0.999997 0\n",
      "0 0 1\n",
      "\n",
      "  PixelContainer: \n",
      "    ImportImageContainer (0x17fa06820)\n",
      "      RTTI typeinfo:   itk::ImportImageContainer<unsigned long, float>\n",
      "      Reference Count: 1\n",
      "      Modified Time: 2164\n",
      "      Debug: Off\n",
      "      Object Name: \n",
      "      Observers: \n",
      "        none\n",
      "      Pointer: 0x39c548000\n",
      "      Container manages memory: true\n",
      "      Size: 77594624\n",
      "      Capacity: 77594624\n",
      "\n",
      "     Moving image = Image (0x1269d1ee0)\n",
      "  RTTI typeinfo:   itk::Image<float, 3u>\n",
      "  Reference Count: 2\n",
      "  Modified Time: 2193\n",
      "  Debug: Off\n",
      "  Object Name: \n",
      "  Observers: \n",
      "    none\n",
      "  Source: (none)\n",
      "  Source output name: (none)\n",
      "  Release Data: Off\n",
      "  Data Released: False\n",
      "  Global Release Data: Off\n",
      "  PipelineMTime: 0\n",
      "  UpdateMTime: 2190\n",
      "  RealTimeStamp: 0 seconds \n",
      "  LargestPossibleRegion: \n",
      "    Dimension: 3\n",
      "    Index: [0, 0, 0]\n",
      "    Size: [197, 233, 189]\n",
      "  BufferedRegion: \n",
      "    Dimension: 3\n",
      "    Index: [0, 0, 0]\n",
      "    Size: [197, 233, 189]\n",
      "  RequestedRegion: \n",
      "    Dimension: 3\n",
      "    Index: [0, 0, 0]\n",
      "    Size: [197, 233, 189]\n",
      "  Spacing: [1, 1, 1]\n",
      "  Origin: [98, 134, -72]\n",
      "  Direction: \n",
      "-1 0 0\n",
      "0 -1 0\n",
      "0 0 1\n",
      "\n",
      "  IndexToPointMatrix: \n",
      "-1 0 0\n",
      "0 -1 0\n",
      "0 0 1\n",
      "\n",
      "  PointToIndexMatrix: \n",
      "-1 0 0\n",
      "0 -1 0\n",
      "0 0 1\n",
      "\n",
      "  Inverse Direction: \n",
      "-1 0 0\n",
      "0 -1 0\n",
      "0 0 1\n",
      "\n",
      "  PixelContainer: \n",
      "    ImportImageContainer (0x1269d2190)\n",
      "      RTTI typeinfo:   itk::ImportImageContainer<unsigned long, float>\n",
      "      Reference Count: 1\n",
      "      Modified Time: 2188\n",
      "      Debug: Off\n",
      "      Object Name: \n",
      "      Observers: \n",
      "        none\n",
      "      Pointer: 0x364578000\n",
      "      Container manages memory: true\n",
      "      Size: 8675289\n",
      "      Capacity: 8675289\n",
      "\n",
      "     Weighting = 1\n",
      "     Sampling strategy = regular\n",
      "     Number of bins = 32\n",
      "     Radius = 4\n",
      "     Sampling percentage  = 0.2\n",
      "   Transform = Affine\n",
      "     Gradient step = 0.25\n",
      "     Update field sigma (voxel space) = 0\n",
      "     Total field sigma (voxel space) = 0\n",
      "     Update field time sigma = 0\n",
      "     Total field time sigma  = 0\n",
      "     Number of time indices = 0\n",
      "     Number of time point samples = 0\n",
      "Stage 2 State\n",
      "   Image metric = MattesMI\n",
      "     Fixed image = Image (0x17b1b75c0)\n",
      "  RTTI typeinfo:   itk::Image<float, 3u>\n",
      "  Reference Count: 2\n",
      "  Modified Time: 2244\n",
      "  Debug: Off\n",
      "  Object Name: \n",
      "  Observers: \n",
      "    none\n",
      "  Source: (none)\n",
      "  Source output name: (none)\n",
      "  Release Data: Off\n",
      "  Data Released: False\n",
      "  Global Release Data: Off\n",
      "  PipelineMTime: 0\n",
      "  UpdateMTime: 2218\n",
      "  RealTimeStamp: 0 seconds \n",
      "  LargestPossibleRegion: \n",
      "    Dimension: 3\n",
      "    Index: [0, 0, 0]\n",
      "    Size: [512, 512, 296]\n",
      "  BufferedRegion: \n",
      "    Dimension: 3\n",
      "    Index: [0, 0, 0]\n",
      "    Size: [512, 512, 296]\n",
      "  RequestedRegion: \n",
      "    Dimension: 3\n",
      "    Index: [0, 0, 0]\n",
      "    Size: [512, 512, 296]\n",
      "  Spacing: [0.4785, 0.4785, 0.5]\n",
      "  Origin: [119.989, 104.52, -84.2457]\n",
      "  Direction: \n",
      "-0.999997 0.00254 0\n",
      "-0.00254 -0.999997 0\n",
      "0 0 1\n",
      "\n",
      "  IndexToPointMatrix: \n",
      "-0.478498 0.00121539 0\n",
      "-0.00121539 -0.478498 0\n",
      "0 0 0.5\n",
      "\n",
      "  PointToIndexMatrix: \n",
      "-2.08986 -0.00530826 0\n",
      "0.00530826 -2.08986 0\n",
      "0 0 2\n",
      "\n",
      "  Inverse Direction: \n",
      "-0.999997 -0.00254 0\n",
      "0.00254 -0.999997 0\n",
      "0 0 1\n",
      "\n",
      "  PixelContainer: \n",
      "    ImportImageContainer (0x17b1b71b0)\n",
      "      RTTI typeinfo:   itk::ImportImageContainer<unsigned long, float>\n",
      "      Reference Count: 1\n",
      "      Modified Time: 2216\n",
      "      Debug: Off\n",
      "      Object Name: \n",
      "      Observers: \n",
      "        none\n",
      "      Pointer: 0x3aed48000\n",
      "      Container manages memory: true\n",
      "      Size: 77594624\n",
      "      Capacity: 77594624\n",
      "\n",
      "     Moving image = Image (0x17d674730)\n",
      "  RTTI typeinfo:   itk::Image<float, 3u>\n",
      "  Reference Count: 2\n",
      "  Modified Time: 2245\n",
      "  Debug: Off\n",
      "  Object Name: \n",
      "  Observers: \n",
      "    none\n",
      "  Source: (none)\n",
      "  Source output name: (none)\n",
      "  Release Data: Off\n",
      "  Data Released: False\n",
      "  Global Release Data: Off\n",
      "  PipelineMTime: 0\n",
      "  UpdateMTime: 2242\n",
      "  RealTimeStamp: 0 seconds \n",
      "  LargestPossibleRegion: \n",
      "    Dimension: 3\n",
      "    Index: [0, 0, 0]\n",
      "    Size: [197, 233, 189]\n",
      "  BufferedRegion: \n",
      "    Dimension: 3\n",
      "    Index: [0, 0, 0]\n",
      "    Size: [197, 233, 189]\n",
      "  RequestedRegion: \n",
      "    Dimension: 3\n",
      "    Index: [0, 0, 0]\n",
      "    Size: [197, 233, 189]\n",
      "  Spacing: [1, 1, 1]\n",
      "  Origin: [98, 134, -72]\n",
      "  Direction: \n",
      "-1 0 0\n",
      "0 -1 0\n",
      "0 0 1\n",
      "\n",
      "  IndexToPointMatrix: \n",
      "-1 0 0\n",
      "0 -1 0\n",
      "0 0 1\n",
      "\n",
      "  PointToIndexMatrix: \n",
      "-1 0 0\n",
      "0 -1 0\n",
      "0 0 1\n",
      "\n",
      "  Inverse Direction: \n",
      "-1 0 0\n",
      "0 -1 0\n",
      "0 0 1\n",
      "\n",
      "  PixelContainer: \n",
      "    ImportImageContainer (0x17d656030)\n",
      "      RTTI typeinfo:   itk::ImportImageContainer<unsigned long, float>\n",
      "      Reference Count: 1\n",
      "      Modified Time: 2240\n",
      "      Debug: Off\n",
      "      Object Name: \n",
      "      Observers: \n",
      "        none\n",
      "      Pointer: 0x366690000\n",
      "      Container manages memory: true\n",
      "      Size: 8675289\n",
      "      Capacity: 8675289\n",
      "\n",
      "     Weighting = 1\n",
      "     Sampling strategy = none\n",
      "     Number of bins = 32\n",
      "     Radius = 4\n",
      "     Sampling percentage  = 1\n",
      "   Transform = SyN\n",
      "     Gradient step = 0.2\n",
      "     Update field sigma (voxel space) = 3\n",
      "     Total field sigma (voxel space) = 0\n",
      "     Update field time sigma = 0\n",
      "     Total field time sigma  = 0\n",
      "     Number of time indices = 0\n",
      "     Number of time point samples = 0\n",
      "Registration using 2 total stages.\n",
      "\n",
      "Stage 0\n",
      "  iterations = 2100x1200x1200x0\n",
      "  convergence threshold = 1e-06\n",
      "  convergence window size = 10\n",
      "  number of levels = 4\n",
      "  using the Mattes MI metric (number of bins = 32, weight = 1, use gradient filter = 0)\n",
      "  preprocessing:  histogram matching the images\n",
      "  Shrink factors (level 1 out of 4): [4, 4, 4]\n",
      "  Shrink factors (level 2 out of 4): [2, 2, 2]\n",
      "  Shrink factors (level 3 out of 4): [2, 2, 2]\n",
      "  Shrink factors (level 4 out of 4): [1, 1, 1]\n",
      "  smoothing sigmas per level: [3, 2, 1, 0]\n",
      "  regular sampling (percentage = 0.2)\n",
      "\n",
      "*** Running AffineTransform registration ***\n",
      "\n",
      "DIAGNOSTIC,Iteration,metricValue,convergenceValue,ITERATION_TIME_INDEX,SINCE_LAST\n",
      " 2DIAGNOSTIC,     1, -4.720469117165e-01, inf, 7.1568e-01, 7.1568e-01, \n",
      " 2DIAGNOSTIC,     2, -4.756067693233e-01, inf, 7.5570e-01, 4.0022e-02, \n",
      " 2DIAGNOSTIC,     3, -4.817047715187e-01, inf, 7.9339e-01, 3.7686e-02, \n",
      " 2DIAGNOSTIC,     4, -4.921475946903e-01, inf, 8.3113e-01, 3.7741e-02, \n",
      " 2DIAGNOSTIC,     5, -5.098479986191e-01, inf, 8.6955e-01, 3.8424e-02, \n",
      " 2DIAGNOSTIC,     6, -5.386577844620e-01, inf, 9.0844e-01, 3.8891e-02, \n",
      " 2DIAGNOSTIC,     7, -5.756201744080e-01, inf, 9.6599e-01, 5.7546e-02, \n",
      " 2DIAGNOSTIC,     8, -5.842947959900e-01, inf, 1.0868e+00, 1.2080e-01, \n",
      " 2DIAGNOSTIC,     9, -5.842860341072e-01, inf, 1.1296e+00, 4.2783e-02, \n",
      " 2DIAGNOSTIC,    10, -5.843119025230e-01, 1.732695847750e-02, 1.2012e+00, 7.1656e-02, \n",
      " 2DIAGNOSTIC,    11, -5.843533873558e-01, 1.468669623137e-02, 1.3098e+00, 1.0859e-01, \n",
      " 2DIAGNOSTIC,    12, -5.844283103943e-01, 1.135356631130e-02, 1.3539e+00, 4.4037e-02, \n",
      " 2DIAGNOSTIC,    13, -5.845590829849e-01, 7.809483446181e-03, 1.3950e+00, 4.1172e-02, \n",
      " 2DIAGNOSTIC,    14, -5.847702026367e-01, 4.514388740063e-03, 1.4351e+00, 4.0021e-02, \n",
      " 2DIAGNOSTIC,    15, -5.851084589958e-01, 1.893206150271e-03, 1.4762e+00, 4.1199e-02, \n",
      " 2DIAGNOSTIC,    16, -5.856631398201e-01, 3.642161027528e-04, 1.5159e+00, 3.9614e-02, \n",
      " 2DIAGNOSTIC,    17, -5.865289568901e-01, 1.294255343964e-04, 1.5535e+00, 3.7663e-02, \n",
      " 2DIAGNOSTIC,    18, -5.878120064735e-01, 1.936164480867e-04, 1.5914e+00, 3.7902e-02, \n",
      " 2DIAGNOSTIC,    19, -5.895847082138e-01, 2.797569613904e-04, 1.6298e+00, 3.8395e-02, \n",
      " 2DIAGNOSTIC,    20, -5.920360088348e-01, 3.933229600079e-04, 1.6719e+00, 4.2087e-02, \n",
      " 2DIAGNOSTIC,    21, -5.956482291222e-01, 5.462949047796e-04, 1.7148e+00, 4.2889e-02, \n",
      " 2DIAGNOSTIC,    22, -6.024894118309e-01, 7.910326821730e-04, 1.7553e+00, 4.0549e-02, \n",
      " 2DIAGNOSTIC,    23, -6.137757301331e-01, 1.185644650832e-03, 1.7953e+00, 3.9929e-02, \n",
      " 2DIAGNOSTIC,    24, -6.229149103165e-01, 1.623987220228e-03, 1.8595e+00, 6.4201e-02, \n",
      " 2DIAGNOSTIC,    25, -6.239015460014e-01, 1.897315145470e-03, 1.8991e+00, 3.9593e-02, \n",
      " 2DIAGNOSTIC,    26, -6.252841353416e-01, 2.010537311435e-03, 1.9369e+00, 3.7863e-02, \n",
      " 2DIAGNOSTIC,    27, -6.337233781815e-01, 2.095320029184e-03, 1.9826e+00, 4.5703e-02, \n",
      " 2DIAGNOSTIC,    28, -6.392014622688e-01, 2.087757224217e-03, 2.0266e+00, 4.3944e-02, \n",
      " 2DIAGNOSTIC,    29, -6.413949728012e-01, 1.948957331479e-03, 2.0698e+00, 4.3233e-02, \n",
      " 2DIAGNOSTIC,    30, -6.436406373978e-01, 1.717416220345e-03, 2.1137e+00, 4.3878e-02, \n",
      " 2DIAGNOSTIC,    31, -6.461340188980e-01, 1.437727711163e-03, 2.1515e+00, 3.7838e-02, \n",
      " 2DIAGNOSTIC,    32, -6.490869522095e-01, 1.184703665785e-03, 2.1951e+00, 4.3546e-02, \n",
      " 2DIAGNOSTIC,    33, -6.499564647675e-01, 1.009714440443e-03, 2.2639e+00, 6.8805e-02, \n",
      " 2DIAGNOSTIC,    34, -6.500226259232e-01, 8.830316364765e-04, 2.3022e+00, 3.8284e-02, \n",
      " 2DIAGNOSTIC,    35, -6.502321958542e-01, 6.993233691901e-04, 2.3393e+00, 3.7118e-02, \n",
      " 2DIAGNOSTIC,    36, -6.503775715828e-01, 4.784196498804e-04, 2.3778e+00, 3.8560e-02, \n",
      " 2DIAGNOSTIC,    37, -6.504874825478e-01, 3.339398826938e-04, 2.4157e+00, 3.7864e-02, \n",
      " 2DIAGNOSTIC,    38, -6.505809426308e-01, 2.359587961109e-04, 2.4535e+00, 3.7810e-02, \n",
      " 2DIAGNOSTIC,    39, -6.507847309113e-01, 1.505307154730e-04, 2.4913e+00, 3.7745e-02, \n",
      " 2DIAGNOSTIC,    40, -6.511420011520e-01, 8.611779776402e-05, 2.5369e+00, 4.5649e-02, \n",
      " 2DIAGNOSTIC,    41, -6.512489914894e-01, 4.613933560904e-05, 2.5938e+00, 5.6846e-02, \n",
      " 2DIAGNOSTIC,    42, -6.514050960541e-01, 3.875184847857e-05, 2.6312e+00, 3.7450e-02, \n",
      " 2DIAGNOSTIC,    43, -6.515522003174e-01, 3.932491017622e-05, 2.6687e+00, 3.7497e-02, \n",
      " 2DIAGNOSTIC,    44, -6.519193053246e-01, 4.075056858710e-05, 2.7239e+00, 5.5203e-02, \n",
      " 2DIAGNOSTIC,    45, -6.520275473595e-01, 4.146329956711e-05, 2.7611e+00, 3.7180e-02, \n",
      " 2DIAGNOSTIC,    46, -6.521297693253e-01, 4.079759310116e-05, 2.8048e+00, 4.3720e-02, \n",
      " 2DIAGNOSTIC,    47, -6.522009968758e-01, 3.820629717666e-05, 2.8486e+00, 4.3818e-02, \n",
      " 2DIAGNOSTIC,    48, -6.523678898811e-01, 3.465593181318e-05, 2.8984e+00, 4.9817e-02, \n",
      " 2DIAGNOSTIC,    49, -6.525757312775e-01, 3.179189661751e-05, 2.9374e+00, 3.8910e-02, \n",
      " 2DIAGNOSTIC,    50, -6.526073813438e-01, 2.965920975839e-05, 2.9762e+00, 3.8848e-02, \n",
      " 2DIAGNOSTIC,    51, -6.527026891708e-01, 2.673861672520e-05, 3.0174e+00, 4.1229e-02, \n",
      " 2DIAGNOSTIC,    52, -6.528863310814e-01, 2.449052772135e-05, 3.0574e+00, 3.9956e-02, \n",
      " 2DIAGNOSTIC,    53, -6.530514955521e-01, 2.265714101668e-05, 3.1103e+00, 5.2866e-02, \n",
      " 2DIAGNOSTIC,    54, -6.530950665474e-01, 2.226726246590e-05, 3.1689e+00, 5.8621e-02, \n",
      " 2DIAGNOSTIC,    55, -6.531299948692e-01, 2.104745362885e-05, 3.2091e+00, 4.0268e-02, \n",
      " 2DIAGNOSTIC,    56, -6.531569957733e-01, 1.900899042084e-05, 3.2572e+00, 4.8069e-02, \n",
      " 2DIAGNOSTIC,    57, -6.532112360001e-01, 1.625425829843e-05, 3.2959e+00, 3.8697e-02, \n",
      " 2DIAGNOSTIC,    58, -6.532328724861e-01, 1.353325296805e-05, 3.3463e+00, 5.0408e-02, \n",
      " 2DIAGNOSTIC,    59, -6.532531976700e-01, 1.146980048361e-05, 3.3844e+00, 3.8129e-02, \n",
      " 2DIAGNOSTIC,    60, -6.532858014107e-01, 8.940680345404e-06, 3.4230e+00, 3.8543e-02, \n",
      " 2DIAGNOSTIC,    61, -6.533098816872e-01, 6.568302069354e-06, 3.4736e+00, 5.0635e-02, \n",
      " 2DIAGNOSTIC,    62, -6.533337235451e-01, 5.204652097746e-06, 3.5172e+00, 4.3575e-02, \n",
      " 2DIAGNOSTIC,    63, -6.533609628677e-01, 4.836982952838e-06, 3.5737e+00, 5.6503e-02, \n",
      " 2DIAGNOSTIC,    64, -6.534022688866e-01, 4.673857347370e-06, 3.6117e+00, 3.8015e-02, \n",
      " 2DIAGNOSTIC,    65, -6.534329056740e-01, 4.573254500428e-06, 3.6555e+00, 4.3738e-02, \n",
      " 2DIAGNOSTIC,    66, -6.534383296967e-01, 4.300192358642e-06, 3.7004e+00, 4.4906e-02, \n",
      " 2DIAGNOSTIC,    67, -6.534464955330e-01, 4.100688784092e-06, 3.7437e+00, 4.3390e-02, \n",
      " 2DIAGNOSTIC,    68, -6.534446477890e-01, 3.692717200465e-06, 3.7874e+00, 4.3626e-02, \n",
      " 2DIAGNOSTIC,    69, -6.534436941147e-01, 3.111184469162e-06, 3.8322e+00, 4.4814e-02, \n",
      " 2DIAGNOSTIC,    70, -6.534498333931e-01, 2.543837581470e-06, 3.8758e+00, 4.3595e-02, \n",
      " 2DIAGNOSTIC,    71, -6.534518599510e-01, 1.961287125596e-06, 3.9277e+00, 5.1914e-02, \n",
      " 2DIAGNOSTIC,    72, -6.534683704376e-01, 1.508378204562e-06, 3.9713e+00, 4.3626e-02, \n",
      " 2DIAGNOSTIC,    73, -6.535109877586e-01, 1.397812525283e-06, 4.0234e+00, 5.2067e-02, \n",
      " 2DIAGNOSTIC,    74, -6.535676121712e-01, 1.792987177396e-06, 4.0682e+00, 4.4795e-02, \n",
      " 2DIAGNOSTIC,    75, -6.535684466362e-01, 2.232578935946e-06, 4.1130e+00, 4.4819e-02, \n",
      " 2DIAGNOSTIC,    76, -6.535622477531e-01, 2.488572590664e-06, 4.1558e+00, 4.2749e-02, \n",
      " 2DIAGNOSTIC,    77, -6.535625457764e-01, 2.594495299491e-06, 4.2179e+00, 6.2172e-02, \n",
      " 2DIAGNOSTIC,    78, -6.535617709160e-01, 2.468104412401e-06, 4.2618e+00, 4.3854e-02, \n",
      " 2DIAGNOSTIC,    79, -6.535615324974e-01, 2.134856458724e-06, 4.3115e+00, 4.9708e-02, \n",
      " 2DIAGNOSTIC,    80, -6.535615324974e-01, 1.683247432993e-06, 4.3547e+00, 4.3256e-02, \n",
      " 2DIAGNOSTIC,    81, -6.535621881485e-01, 1.141701773122e-06, 4.4051e+00, 5.0378e-02, \n",
      "DIAGNOSTIC,Iteration,metricValue,convergenceValue,ITERATION_TIME_INDEX,SINCE_LAST\n",
      " 2DIAGNOSTIC,     1, -5.728036165237e-01, inf, 5.4390e+00, 1.0338e+00, \n",
      " 2DIAGNOSTIC,     2, -5.734999179840e-01, inf, 5.6375e+00, 1.9854e-01, \n",
      " 2DIAGNOSTIC,     3, -5.735977292061e-01, inf, 5.8113e+00, 1.7384e-01, \n",
      " 2DIAGNOSTIC,     4, -5.736377239227e-01, inf, 5.9840e+00, 1.7269e-01, \n",
      " 2DIAGNOSTIC,     5, -5.737158656120e-01, inf, 6.1576e+00, 1.7353e-01, \n",
      " 2DIAGNOSTIC,     6, -5.737722516060e-01, inf, 6.3858e+00, 2.2828e-01, \n",
      " 2DIAGNOSTIC,     7, -5.738013386726e-01, inf, 6.7033e+00, 3.1745e-01, \n",
      " 2DIAGNOSTIC,     8, -5.738041996956e-01, inf, 6.9008e+00, 1.9750e-01, \n",
      " 2DIAGNOSTIC,     9, -5.738112330437e-01, inf, 7.0982e+00, 1.9743e-01, \n",
      " 2DIAGNOSTIC,    10, -5.738134384155e-01, 7.810876559233e-05, 7.2718e+00, 1.7359e-01, \n",
      " 2DIAGNOSTIC,    11, -5.738154053688e-01, 3.314287096146e-05, 7.4457e+00, 1.7389e-01, \n",
      " 2DIAGNOSTIC,    12, -5.738230943680e-01, 2.195627166657e-05, 7.6223e+00, 1.7658e-01, \n",
      " 2DIAGNOSTIC,    13, -5.738297104836e-01, 1.474125838286e-05, 7.7978e+00, 1.7556e-01, \n",
      " 2DIAGNOSTIC,    14, -5.738400816917e-01, 9.176658750221e-06, 7.9759e+00, 1.7812e-01, \n",
      " 2DIAGNOSTIC,    15, -5.738606452942e-01, 6.937576017663e-06, 8.1600e+00, 1.8404e-01, \n",
      " 2DIAGNOSTIC,    16, -5.738916397095e-01, 7.207283488242e-06, 8.3515e+00, 1.9156e-01, \n",
      " 2DIAGNOSTIC,    17, -5.739375948906e-01, 9.133687854046e-06, 8.5909e+00, 2.3935e-01, \n",
      " 2DIAGNOSTIC,    18, -5.739545226097e-01, 1.069365225703e-05, 8.8432e+00, 2.5233e-01, \n",
      " 2DIAGNOSTIC,    19, -5.739686489105e-01, 1.182340565720e-05, 9.0210e+00, 1.7775e-01, \n",
      " 2DIAGNOSTIC,    20, -5.739818215370e-01, 1.228223936778e-05, 9.2084e+00, 1.8738e-01, \n",
      " 2DIAGNOSTIC,    21, -5.740011930466e-01, 1.218835859618e-05, 9.4298e+00, 2.2141e-01, \n",
      " 2DIAGNOSTIC,    22, -5.740117430687e-01, 1.149761101260e-05, 9.6458e+00, 2.1599e-01, \n",
      " 2DIAGNOSTIC,    23, -5.740200877190e-01, 1.025031451718e-05, 9.8488e+00, 2.0309e-01, \n",
      " 2DIAGNOSTIC,    24, -5.740291476250e-01, 8.684463864483e-06, 1.0047e+01, 1.9856e-01, \n",
      " 2DIAGNOSTIC,    25, -5.740377306938e-01, 7.122258011805e-06, 1.0231e+01, 1.8350e-01, \n",
      " 2DIAGNOSTIC,    26, -5.740583539009e-01, 6.088313966757e-06, 1.0466e+01, 2.3526e-01, \n",
      " 2DIAGNOSTIC,    27, -5.740702152252e-01, 5.719831278839e-06, 1.0645e+01, 1.7886e-01, \n",
      " 2DIAGNOSTIC,    28, -5.740754604340e-01, 5.339548351913e-06, 1.0840e+01, 1.9494e-01, \n",
      " 2DIAGNOSTIC,    29, -5.740791559219e-01, 4.895026904705e-06, 1.1154e+01, 3.1389e-01, \n",
      " 2DIAGNOSTIC,    30, -5.740852355957e-01, 4.432036803337e-06, 1.1349e+01, 1.9483e-01, \n",
      " 2DIAGNOSTIC,    31, -5.740895271301e-01, 4.049215476698e-06, 1.1528e+01, 1.7949e-01, \n",
      " 2DIAGNOSTIC,    32, -5.740996003151e-01, 3.718525476870e-06, 1.1704e+01, 1.7570e-01, \n",
      " 2DIAGNOSTIC,    33, -5.741154551506e-01, 3.510840542731e-06, 1.1928e+01, 2.2391e-01, \n",
      " 2DIAGNOSTIC,    34, -5.741240382195e-01, 3.327850436108e-06, 1.2151e+01, 2.2282e-01, \n",
      " 2DIAGNOSTIC,    35, -5.741277337074e-01, 3.096072987319e-06, 1.2384e+01, 2.3379e-01, \n",
      " 2DIAGNOSTIC,    36, -5.741302967072e-01, 2.986639856317e-06, 1.2572e+01, 1.8771e-01, \n",
      " 2DIAGNOSTIC,    37, -5.741306543350e-01, 2.844429445759e-06, 1.2777e+01, 2.0483e-01, \n",
      " 2DIAGNOSTIC,    38, -5.741314291954e-01, 2.596082367745e-06, 1.2986e+01, 2.0954e-01, \n",
      " 2DIAGNOSTIC,    39, -5.741323828697e-01, 2.249738372484e-06, 1.3162e+01, 1.7521e-01, \n",
      " 2DIAGNOSTIC,    40, -5.741364955902e-01, 1.911685330924e-06, 1.3342e+01, 1.7988e-01, \n",
      " 2DIAGNOSTIC,    41, -5.741378068924e-01, 1.549752596475e-06, 1.3542e+01, 2.0030e-01, \n",
      " 2DIAGNOSTIC,    42, -5.741444230080e-01, 1.324432560068e-06, 1.3936e+01, 3.9381e-01, \n",
      " 2DIAGNOSTIC,    43, -5.741492509842e-01, 1.290157229050e-06, 1.4139e+01, 2.0315e-01, \n",
      " 2DIAGNOSTIC,    44, -5.741482973099e-01, 1.288937482968e-06, 1.4325e+01, 1.8654e-01, \n",
      " 2DIAGNOSTIC,    45, -5.741496086121e-01, 1.289215674660e-06, 1.4510e+01, 1.8432e-01, \n",
      " 2DIAGNOSTIC,    46, -5.741518139839e-01, 1.284730274165e-06, 1.4702e+01, 1.9190e-01, \n",
      " 2DIAGNOSTIC,    47, -5.741527080536e-01, 1.235185095538e-06, 1.4897e+01, 1.9587e-01, \n",
      " 2DIAGNOSTIC,    48, -5.741583108902e-01, 1.199479925162e-06, 1.5099e+01, 2.0173e-01, \n",
      " 2DIAGNOSTIC,    49, -5.741759538651e-01, 1.300406552218e-06, 1.5370e+01, 2.7112e-01, \n",
      " 2DIAGNOSTIC,    50, -5.741752386093e-01, 1.365113121210e-06, 1.5545e+01, 1.7467e-01, \n",
      " 2DIAGNOSTIC,    51, -5.741770863533e-01, 1.389182216371e-06, 1.5747e+01, 2.0217e-01, \n",
      " 2DIAGNOSTIC,    52, -5.741761922836e-01, 1.393739921696e-06, 1.5923e+01, 1.7554e-01, \n",
      " 2DIAGNOSTIC,    53, -5.741775631905e-01, 1.380389562655e-06, 1.6167e+01, 2.4445e-01, \n",
      " 2DIAGNOSTIC,    54, -5.741804838181e-01, 1.307480602009e-06, 1.6346e+01, 1.7903e-01, \n",
      " 2DIAGNOSTIC,    55, -5.741803646088e-01, 1.177889657811e-06, 1.6713e+01, 3.6720e-01, \n",
      " 2DIAGNOSTIC,    56, -5.741804838181e-01, 1.018983311951e-06, 1.6947e+01, 2.3365e-01, \n",
      "DIAGNOSTIC,Iteration,metricValue,convergenceValue,ITERATION_TIME_INDEX,SINCE_LAST\n",
      " 2DIAGNOSTIC,     1, -4.941765367985e-01, inf, 1.8162e+01, 1.2151e+00, \n",
      " 2DIAGNOSTIC,     2, -4.947659075260e-01, inf, 1.8342e+01, 1.8002e-01, \n",
      " 2DIAGNOSTIC,     3, -4.948663115501e-01, inf, 1.8517e+01, 1.7504e-01, \n",
      " 2DIAGNOSTIC,     4, -4.949534535408e-01, inf, 1.8744e+01, 2.2682e-01, \n",
      " 2DIAGNOSTIC,     5, -4.949713945389e-01, inf, 1.9012e+01, 2.6814e-01, \n",
      " 2DIAGNOSTIC,     6, -4.949712455273e-01, inf, 1.9284e+01, 2.7160e-01, \n",
      " 2DIAGNOSTIC,     7, -4.949710667133e-01, inf, 1.9485e+01, 2.0115e-01, \n",
      " 2DIAGNOSTIC,     8, -4.949710667133e-01, inf, 1.9733e+01, 2.4845e-01, \n",
      " 2DIAGNOSTIC,     9, -4.949710965157e-01, inf, 1.9936e+01, 2.0263e-01, \n",
      " 2DIAGNOSTIC,    10, -4.949709773064e-01, 6.378953548847e-05, 2.0138e+01, 2.0239e-01, \n",
      " 2DIAGNOSTIC,    11, -4.949710667133e-01, 1.900662209664e-05, 2.0339e+01, 2.0067e-01, \n",
      " 2DIAGNOSTIC,    12, -4.949708878994e-01, 8.367834197998e-06, 2.0586e+01, 2.4693e-01, \n",
      " 2DIAGNOSTIC,    13, -4.949709177017e-01, 3.185345576640e-06, 2.0809e+01, 2.2270e-01, \n",
      " 2DIAGNOSTIC,    14, -4.949709475040e-01, 2.230163090644e-06, 2.1037e+01, 2.2799e-01, \n",
      " 2DIAGNOSTIC,    15, -4.949709475040e-01, 2.092539034493e-06, 2.1241e+01, 2.0423e-01, \n",
      " 2DIAGNOSTIC,    16, -4.949708282948e-01, 1.964780722119e-06, 2.1446e+01, 2.0500e-01, \n",
      " 2DIAGNOSTIC,    17, -4.949707984924e-01, 1.846839722930e-06, 2.1646e+01, 2.0030e-01, \n",
      " 2DIAGNOSTIC,    18, -4.949709177017e-01, 1.747556211740e-06, 2.1849e+01, 2.0304e-01, \n",
      " 2DIAGNOSTIC,    19, -4.949708580971e-01, 1.659069539528e-06, 2.2025e+01, 1.7574e-01, \n",
      " 2DIAGNOSTIC,    20, -4.949709177017e-01, 1.578679075465e-06, 2.2222e+01, 1.9748e-01, \n",
      " 2DIAGNOSTIC,    21, -4.949709177017e-01, 1.509305889158e-06, 2.2421e+01, 1.9837e-01, \n",
      " 2DIAGNOSTIC,    22, -4.949708282948e-01, 1.439364723410e-06, 2.2627e+01, 2.0662e-01, \n",
      " 2DIAGNOSTIC,    23, -4.949708580971e-01, 1.377221565235e-06, 2.2852e+01, 2.2433e-01, \n",
      " 2DIAGNOSTIC,    24, -4.949708580971e-01, 1.321085051131e-06, 2.3050e+01, 1.9862e-01, \n",
      " 2DIAGNOSTIC,    25, -4.949708282948e-01, 1.268900405194e-06, 2.3233e+01, 1.8215e-01, \n",
      " 2DIAGNOSTIC,    26, -4.949706792831e-01, 1.214875624100e-06, 2.3450e+01, 2.1722e-01, \n",
      " 2DIAGNOSTIC,    27, -4.949707388878e-01, 1.166031211142e-06, 2.3652e+01, 2.0225e-01, \n",
      " 2DIAGNOSTIC,    28, -4.949707388878e-01, 1.123929450841e-06, 2.3865e+01, 2.1284e-01, \n",
      " 2DIAGNOSTIC,    29, -4.949709773064e-01, 1.089033048629e-06, 2.4079e+01, 2.1426e-01, \n",
      " 2DIAGNOSTIC,    30, -4.949709773064e-01, 1.057965278051e-06, 2.4289e+01, 2.0961e-01, \n",
      " 2DIAGNOSTIC,    31, -4.949709773064e-01, 1.029007080433e-06, 2.4496e+01, 2.0711e-01, \n",
      " 2DIAGNOSTIC,    32, -4.949710369110e-01, 1.000826387099e-06, 2.4700e+01, 2.0432e-01, \n",
      "DIAGNOSTIC,Iteration,metricValue,convergenceValue,ITERATION_TIME_INDEX,SINCE_LAST\n",
      " 2DIAGNOSTIC,     1, -4.298057854176e-01, inf, 2.7667e+01, 2.9664e+00, \n",
      "  Elapsed time (stage 0): 2.9048e+01\n",
      "\n",
      "\n",
      "Stage 1\n",
      "  iterations = 40x20x0\n",
      "  convergence threshold = 1.0000e-07\n",
      "  convergence window size = 8\n",
      "  number of levels = 3\n",
      "  using the Mattes MI metric (number of bins = 32, weight = 1.0000e+00, use gradient filter = 0)\n",
      "  preprocessing:  histogram matching the images\n",
      "  Shrink factors (level 1 out of 3): [4, 4, 4]\n",
      "  Shrink factors (level 2 out of 3): [2, 2, 2]\n",
      "  Shrink factors (level 3 out of 3): [1, 1, 1]\n",
      "  smoothing sigmas per level: [2, 1, 0]\n",
      "  Using default NONE metricSamplingStrategy \n",
      "\n",
      "*** Running SyN registration (varianceForUpdateField = 3.0000e+00, varianceForTotalField = 0.0000e+00) ***\n",
      "\n",
      "XXDIAGNOSTIC,Iteration,metricValue,convergenceValue,ITERATION_TIME_INDEX,SINCE_LAST\n",
      " 1DIAGNOSTIC,     1, -5.479489564896e-01, inf, 1.1015e+00, 1.1015e+00, \n",
      " 1DIAGNOSTIC,     2, -5.533189177513e-01, inf, 1.3950e+00, 2.9343e-01, \n",
      " 1DIAGNOSTIC,     3, -5.589931607246e-01, inf, 1.6948e+00, 2.9984e-01, \n",
      " 1DIAGNOSTIC,     4, -5.641855597496e-01, inf, 1.9973e+00, 3.0252e-01, \n",
      " 1DIAGNOSTIC,     5, -5.692822933197e-01, inf, 2.3049e+00, 3.0756e-01, \n",
      " 1DIAGNOSTIC,     6, -5.736913681030e-01, inf, 2.6660e+00, 3.6109e-01, \n",
      " 1DIAGNOSTIC,     7, -5.777548551559e-01, inf, 2.9916e+00, 3.2557e-01, \n",
      " 1DIAGNOSTIC,     8, -5.814368724823e-01, 4.900951404124e-03, 3.3228e+00, 3.3121e-01, \n",
      " 1DIAGNOSTIC,     9, -5.844805836678e-01, 4.013476427644e-03, 3.6456e+00, 3.2284e-01, \n",
      " 1DIAGNOSTIC,    10, -5.872533917427e-01, 3.257551928982e-03, 3.9602e+00, 3.1462e-01, \n",
      " 1DIAGNOSTIC,    11, -5.895322561264e-01, 2.634307136759e-03, 4.2699e+00, 3.0963e-01, \n",
      " 1DIAGNOSTIC,    12, -5.917406082153e-01, 2.126116538420e-03, 4.6182e+00, 3.4831e-01, \n",
      " 1DIAGNOSTIC,    13, -5.937452316284e-01, 1.731927157380e-03, 4.9681e+00, 3.4989e-01, \n",
      " 1DIAGNOSTIC,    14, -5.956866741180e-01, 1.426224829629e-03, 5.3534e+00, 3.8539e-01, \n",
      " 1DIAGNOSTIC,    15, -5.975309610367e-01, 1.198249054141e-03, 5.7314e+00, 3.7801e-01, \n",
      " 1DIAGNOSTIC,    16, -5.991711616516e-01, 1.029668957926e-03, 6.0701e+00, 3.3866e-01, \n",
      " 1DIAGNOSTIC,    17, -6.006242632866e-01, 8.934545912780e-04, 6.3965e+00, 3.2636e-01, \n",
      " 1DIAGNOSTIC,    18, -6.014202237129e-01, 7.638743845746e-04, 6.7299e+00, 3.3339e-01, \n",
      " 1DIAGNOSTIC,    19, -6.020247340202e-01, 6.296411156654e-04, 7.0602e+00, 3.3036e-01, \n",
      " 1DIAGNOSTIC,    20, -6.029322147369e-01, 5.116444663145e-04, 7.3706e+00, 3.1037e-01, \n",
      " 1DIAGNOSTIC,    21, -6.038037538528e-01, 4.128302389290e-04, 7.6824e+00, 3.1176e-01, \n",
      " 1DIAGNOSTIC,    22, -6.047171354294e-01, 3.411766083445e-04, 7.9948e+00, 3.1241e-01, \n",
      " 1DIAGNOSTIC,    23, -6.055748462677e-01, 2.967192267533e-04, 8.3095e+00, 3.1474e-01, \n",
      " 1DIAGNOSTIC,    24, -6.053594946861e-01, 2.480436232872e-04, 8.6176e+00, 3.0806e-01, \n",
      " 1DIAGNOSTIC,    25, -6.047466993332e-01, 1.876101887319e-04, 8.9301e+00, 3.1249e-01, \n",
      " 1DIAGNOSTIC,    26, -6.043317317963e-01, 1.134158519562e-04, 9.2582e+00, 3.2818e-01, \n",
      " 1DIAGNOSTIC,    27, -6.039044857025e-01, 3.188817572664e-05, 9.5908e+00, 3.3252e-01, \n",
      " 1DIAGNOSTIC,    28, -6.034436225891e-01, -3.845359242405e-05, 9.9162e+00, 3.2544e-01, \n",
      "XXDIAGNOSTIC,Iteration,metricValue,convergenceValue,ITERATION_TIME_INDEX,SINCE_LAST\n",
      " 1DIAGNOSTIC,     1, -5.011705160141e-01, inf, 1.4143e+01, 4.2267e+00, \n",
      " 1DIAGNOSTIC,     2, -5.019832849503e-01, inf, 1.7058e+01, 2.9154e+00, \n",
      " 1DIAGNOSTIC,     3, -5.030723214149e-01, inf, 1.9705e+01, 2.6469e+00, \n",
      " 1DIAGNOSTIC,     4, -5.041118264198e-01, inf, 2.2535e+01, 2.8293e+00, \n",
      " 1DIAGNOSTIC,     5, -5.050346851349e-01, inf, 2.5140e+01, 2.6050e+00, \n",
      " 1DIAGNOSTIC,     6, -5.059222579002e-01, inf, 2.7884e+01, 2.7447e+00, \n",
      " 1DIAGNOSTIC,     7, -5.067775845528e-01, inf, 3.0389e+01, 2.5044e+00, \n",
      " 1DIAGNOSTIC,     8, -5.077060461044e-01, 1.076166867279e-03, 3.2987e+01, 2.5983e+00, \n",
      " 1DIAGNOSTIC,     9, -5.084784030914e-01, 9.336280054413e-04, 3.5899e+01, 2.9119e+00, \n",
      " 1DIAGNOSTIC,    10, -5.092166662216e-01, 7.996550411917e-04, 3.8669e+01, 2.7704e+00, \n",
      " 1DIAGNOSTIC,    11, -5.100882053375e-01, 7.029336993583e-04, 4.1737e+01, 3.0680e+00, \n",
      " 1DIAGNOSTIC,    12, -5.109063982964e-01, 6.312304176390e-04, 4.5182e+01, 3.4447e+00, \n",
      " 1DIAGNOSTIC,    13, -5.115797519684e-01, 5.670549580827e-04, 4.8371e+01, 3.1892e+00, \n",
      " 1DIAGNOSTIC,    14, -5.121672153473e-01, 5.051861517131e-04, 5.1328e+01, 2.9569e+00, \n",
      " 1DIAGNOSTIC,    15, -5.127305984497e-01, 4.450707929209e-04, 5.4560e+01, 3.2320e+00, \n",
      " 1DIAGNOSTIC,    16, -5.132218599319e-01, 3.902207245119e-04, 5.7852e+01, 3.2916e+00, \n",
      " 1DIAGNOSTIC,    17, -5.133483409882e-01, 3.227638080716e-04, 6.0733e+01, 2.8815e+00, \n",
      " 1DIAGNOSTIC,    18, -5.133110284805e-01, 2.437280345475e-04, 6.3699e+01, 2.9659e+00, \n",
      " 1DIAGNOSTIC,    19, -5.132496356964e-01, 1.673891383689e-04, 6.6615e+01, 2.9158e+00, \n",
      " 1DIAGNOSTIC,    20, -5.131392478943e-01, 9.891381341731e-05, 6.9387e+01, 2.7718e+00, \n",
      "  Elapsed time (stage 1): 75.16\n",
      "\n",
      "\n",
      "Total elapsed time: 104.3\n"
     ]
    }
   ],
   "source": [
    "template_warp_to_raw_anat = ants.registration(\n",
    "    fixed=raw_anat_img,\n",
    "    moving=mni_template_img, \n",
    "    type_of_transform='SyN',\n",
    "    verbose=True\n",
    ")"
   ]
  },
  {
   "cell_type": "code",
   "execution_count": 10,
   "metadata": {},
   "outputs": [],
   "source": [
    "registered_template_img = template_warp_to_raw_anat['warpedmovout']"
   ]
  },
  {
   "cell_type": "markdown",
   "metadata": {},
   "source": [
    "The following comparison function asserts that the new `registered_template_img` image has been transformed to the size and shape of the `raw_anat_img`"
   ]
  },
  {
   "cell_type": "markdown",
   "metadata": {},
   "source": [
    "Next, we apply this to the mask so that it fits over the brain in the data we wish to visualize"
   ]
  },
  {
   "cell_type": "code",
   "execution_count": 11,
   "metadata": {},
   "outputs": [
    {
     "name": "stdout",
     "output_type": "stream",
     "text": [
      "['-d', '3', '-i', '0x17f8ce6a8', '-o', '0x17f8ceb28', '-r', '0x17f8ce548', '-n', 'nearestNeighbor', '-t', '/var/folders/m4/rtcmkx_17lv03n9tvdf76ycr0000gn/T/tmpucm2vqlj1Warp.nii.gz', '-t', '/var/folders/m4/rtcmkx_17lv03n9tvdf76ycr0000gn/T/tmpucm2vqlj0GenericAffine.mat']\n",
      "Using double precision for computations.\n",
      "Input scalar image: 0x17f8ce6a8\n",
      "Could not create ImageIO for the input file, assuming dimension = 3 and scalar pixel type\n",
      "Reference image: 0x17f8ce548\n",
      "=============================================================================\n",
      "The composite transform comprises the following transforms (in order): \n",
      "  1. /var/folders/m4/rtcmkx_17lv03n9tvdf76ycr0000gn/T/tmpucm2vqlj0GenericAffine.mat (type = AffineTransform)\n",
      "  2. /var/folders/m4/rtcmkx_17lv03n9tvdf76ycr0000gn/T/tmpucm2vqlj1Warp.nii.gz (type = DisplacementFieldTransform)\n",
      "=============================================================================\n",
      "Default pixel value: 0\n",
      "Interpolation type: NearestNeighborInterpolateImageFunction\n",
      "Output warped image: 0x17f8ceb28\n"
     ]
    }
   ],
   "source": [
    "brain_mask = ants.apply_transforms(\n",
    "    fixed=template_warp_to_raw_anat['warpedmovout'],\n",
    "    moving=mni_template_mask,\n",
    "    transformlist=template_warp_to_raw_anat['fwdtransforms'],\n",
    "    interpolator='nearestNeighbor',\n",
    "    verbose=True\n",
    ")"
   ]
  },
  {
   "cell_type": "code",
   "execution_count": null,
   "metadata": {},
   "outputs": [
    {
     "data": {
      "application/vnd.jupyter.widget-view+json": {
       "model_id": "7e482bb271464c05be9d66538ba4e8ab",
       "version_major": 2,
       "version_minor": 0
      },
      "text/plain": [
       "interactive(children=(IntSlider(value=255, description='slice', max=511), Output()), _dom_classes=('widget-int…"
      ]
     },
     "metadata": {},
     "output_type": "display_data"
    }
   ],
   "source": [
    "#explore(raw_anat_img.numpy(), brain_mask.numpy())\n",
    "explore_3D_vol(raw_anat_img.numpy(), mask=brain_mask.numpy())"
   ]
  },
  {
   "cell_type": "markdown",
   "metadata": {},
   "source": [
    "Let's fine tune the mask a bit"
   ]
  },
  {
   "cell_type": "code",
   "execution_count": 13,
   "metadata": {},
   "outputs": [],
   "source": [
    "brain_mask_dilated = ants.morphology(brain_mask, radius=4, operation='dilate', mtype='binary')"
   ]
  },
  {
   "cell_type": "code",
   "execution_count": 14,
   "metadata": {},
   "outputs": [
    {
     "data": {
      "application/vnd.jupyter.widget-view+json": {
       "model_id": "af8e33e1f1ca4e9fbf89e33a9e5acb4a",
       "version_major": 2,
       "version_minor": 0
      },
      "text/plain": [
       "interactive(children=(IntSlider(value=255, description='slice', max=511), Output()), _dom_classes=('widget-int…"
      ]
     },
     "metadata": {},
     "output_type": "display_data"
    }
   ],
   "source": [
    "explore_3D_vol(raw_anat_img.numpy(), mask=brain_mask_dilated.numpy())"
   ]
  },
  {
   "cell_type": "markdown",
   "metadata": {},
   "source": [
    "# Mask the Image and Create Sections"
   ]
  },
  {
   "cell_type": "code",
   "execution_count": 15,
   "metadata": {},
   "outputs": [],
   "source": [
    "brain_anat = ants.mask_image(raw_anat_img, brain_mask_dilated)"
   ]
  },
  {
   "cell_type": "code",
   "execution_count": 16,
   "metadata": {},
   "outputs": [
    {
     "name": "stdout",
     "output_type": "stream",
     "text": [
      "ANTsImage (LPI)\n",
      "\t Pixel Type : float (float32)\n",
      "\t Components : 1\n",
      "\t Dimensions : (512, 512, 296)\n",
      "\t Spacing    : (0.4785, 0.4785, 0.5)\n",
      "\t Origin     : (119.989, 104.52, -84.2457)\n",
      "\t Direction  : [-1.      0.0025  0.     -0.0025 -1.      0.      0.      0.      1.    ]\n",
      "\n"
     ]
    },
    {
     "data": {
      "application/vnd.jupyter.widget-view+json": {
       "model_id": "604d2c0de09b41beac597203e1e94998",
       "version_major": 2,
       "version_minor": 0
      },
      "text/plain": [
       "interactive(children=(IntSlider(value=255, description='slice', max=511), Output()), _dom_classes=('widget-int…"
      ]
     },
     "metadata": {},
     "output_type": "display_data"
    }
   ],
   "source": [
    "print(brain_anat)\n",
    "explore_3D_vol(brain_anat.numpy())"
   ]
  },
  {
   "cell_type": "markdown",
   "metadata": {},
   "source": [
    "# Building Scivol"
   ]
  },
  {
   "cell_type": "markdown",
   "metadata": {},
   "source": [
    "Initialize the scivol object"
   ]
  },
  {
   "cell_type": "code",
   "execution_count": 17,
   "metadata": {},
   "outputs": [],
   "source": [
    "skullstrip = Scivol(\"skullstrip\")"
   ]
  },
  {
   "cell_type": "markdown",
   "metadata": {},
   "source": [
    "Create the volumes:"
   ]
  },
  {
   "cell_type": "code",
   "execution_count": 18,
   "metadata": {},
   "outputs": [],
   "source": [
    "full_anat_vol = create_normalized_volume(raw_anat_img.numpy())\n",
    "brain_anat_vol = create_normalized_volume(brain_anat.numpy())"
   ]
  },
  {
   "cell_type": "markdown",
   "metadata": {},
   "source": [
    "Create the grids:"
   ]
  },
  {
   "cell_type": "code",
   "execution_count": 19,
   "metadata": {},
   "outputs": [
    {
     "data": {
      "application/vnd.jupyter.widget-view+json": {
       "model_id": "4f1eaf00540547b7b31707b3f1080031",
       "version_major": 2,
       "version_minor": 0
      },
      "text/plain": [
       "interactive(children=(IntSlider(value=255, description='SLICE', max=511), Output()), _dom_classes=('widget-int…"
      ]
     },
     "metadata": {},
     "output_type": "display_data"
    },
    {
     "data": {
      "application/vnd.jupyter.widget-view+json": {
       "model_id": "9083c212388f4ea69a596dc35619f4ce",
       "version_major": 2,
       "version_minor": 0
      },
      "text/plain": [
       "interactive(children=(IntSlider(value=255, description='SLICE', max=511), Output()), _dom_classes=('widget-int…"
      ]
     },
     "metadata": {},
     "output_type": "display_data"
    }
   ],
   "source": [
    "explore_3D_array(full_anat_vol)\n",
    "explore_3D_array(brain_anat_vol)"
   ]
  },
  {
   "cell_type": "code",
   "execution_count": 20,
   "metadata": {},
   "outputs": [
    {
     "name": "stdout",
     "output_type": "stream",
     "text": [
      "writing full_anat to grid\n",
      "writing brain_anat to grid\n"
     ]
    }
   ],
   "source": [
    "skullstrip.add_grids([Grid(\"full_anat\",[full_anat_vol]), Grid(\"brain_anat\", [brain_anat_vol])])"
   ]
  },
  {
   "cell_type": "code",
   "execution_count": 21,
   "metadata": {},
   "outputs": [
    {
     "name": "stdout",
     "output_type": "stream",
     "text": [
      "skullstrip\n",
      "tolerance: 0.0\n",
      "affine: [[1. 0. 0. 0.]\n",
      " [0. 1. 0. 0.]\n",
      " [0. 0. 1. 0.]\n",
      " [0. 0. 0. 1.]]\n",
      "grids:\n",
      "    - full_anat\n",
      "    - brain_anat\n",
      "\n",
      "writing skullstrip scivol dictionary\n",
      "Encoding JSON file to utf-8\n",
      "saving skullstrip.scivol to /Users/joachimpfefferkorn/repos/neurovolume/output/\n"
     ]
    }
   ],
   "source": [
    "print(skullstrip)\n",
    "skullstrip.save_scivol(output_folder)"
   ]
  },
  {
   "cell_type": "markdown",
   "metadata": {},
   "source": [
    "Lets' quickly test this in our notebook"
   ]
  },
  {
   "cell_type": "code",
   "execution_count": 22,
   "metadata": {},
   "outputs": [],
   "source": [
    "test_compressed_file_path = \"/Users/joachimpfefferkorn/repos/neurovolume/output/skullstrip.scivol\"\n",
    "with gzip.open(test_compressed_file_path, 'r') as svin:\n",
    "    scivol_bytes = svin.read()\n",
    "scivol_str = scivol_bytes.decode('utf-8')"
   ]
  },
  {
   "cell_type": "code",
   "execution_count": 23,
   "metadata": {},
   "outputs": [],
   "source": [
    "scivol_dict = json.loads(scivol_str)"
   ]
  },
  {
   "cell_type": "code",
   "execution_count": 26,
   "metadata": {},
   "outputs": [
    {
     "name": "stdout",
     "output_type": "stream",
     "text": [
      "<class 'dict'>\n",
      "skullstrip\n",
      "['full_anat', 'brain_anat']\n",
      "<class 'numpy.ndarray'>\n"
     ]
    },
    {
     "data": {
      "application/vnd.jupyter.widget-view+json": {
       "model_id": "d12513ec31de486f82fea30811de43c5",
       "version_major": 2,
       "version_minor": 0
      },
      "text/plain": [
       "interactive(children=(IntSlider(value=255, description='slice', max=511), Output()), _dom_classes=('widget-int…"
      ]
     },
     "metadata": {},
     "output_type": "display_data"
    }
   ],
   "source": [
    "print(type(scivol_dict))\n",
    "print(scivol_dict['name'])\n",
    "print([grid for grid in scivol_dict['grids']])\n",
    "brain_anat_test_vol = np.asanyarray(scivol_dict['grids']['brain_anat']['frames'][0])\n",
    "print(type(brain_anat_test_vol))\n",
    "explore_3D_vol(brain_anat_test_vol)"
   ]
  },
  {
   "cell_type": "code",
   "execution_count": null,
   "metadata": {},
   "outputs": [
    {
     "data": {
      "application/vnd.jupyter.widget-view+json": {
       "model_id": "652ed61fbbeb45c19464aefab427bfaf",
       "version_major": 2,
       "version_minor": 0
      },
      "text/plain": [
       "interactive(children=(IntSlider(value=255, description='slice', max=511), Output()), _dom_classes=('widget-int…"
      ]
     },
     "metadata": {},
     "output_type": "display_data"
    }
   ],
   "source": [
    "explore_3D_vol(np.asanyarray(scivol_dict['grids']['full_anat']['frames'][0]))"
   ]
  }
 ],
 "metadata": {
  "kernelspec": {
   "display_name": ".venv",
   "language": "python",
   "name": "python3"
  },
  "language_info": {
   "codemirror_mode": {
    "name": "ipython",
    "version": 3
   },
   "file_extension": ".py",
   "mimetype": "text/x-python",
   "name": "python",
   "nbconvert_exporter": "python",
   "pygments_lexer": "ipython3",
   "version": "3.11.5"
  }
 },
 "nbformat": 4,
 "nbformat_minor": 2
}
