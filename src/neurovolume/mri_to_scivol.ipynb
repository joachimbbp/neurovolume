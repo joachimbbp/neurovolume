{
 "cells": [
  {
   "cell_type": "markdown",
   "metadata": {},
   "source": [
    "# Gathering Data"
   ]
  },
  {
   "cell_type": "code",
   "execution_count": 1,
   "metadata": {},
   "outputs": [],
   "source": [
    "from functions import *\n",
    "from scivol import *\n",
    "from helpers import *\n",
    "import ipyvolume as ipv\n",
    "import numpy as np\n",
    "import json\n",
    "import ants\n",
    "import gzip"
   ]
  },
  {
   "cell_type": "code",
   "execution_count": 2,
   "metadata": {},
   "outputs": [
    {
     "name": "stdout",
     "output_type": "stream",
     "text": [
      "/Users/joachimpfefferkorn/repos/neurovolume\n"
     ]
    }
   ],
   "source": [
    "proj_root = parent_directory()\n",
    "print(proj_root)\n",
    "mri_input_filepath = os.path.join(proj_root, \"media/sub-01/anat/sub-01_T1w.nii.gz\")\n",
    "template_folder = \"/Users/joachimpfefferkorn/repos/neurovolume/templates\"\n",
    "output_folder = os.path.join(proj_root, \"output/\")\n",
    "\n",
    "default_cmap = 'nipy_spectral'"
   ]
  },
  {
   "cell_type": "code",
   "execution_count": 3,
   "metadata": {},
   "outputs": [],
   "source": [
    "raw_anat_img = ants.image_read(mri_input_filepath)"
   ]
  },
  {
   "cell_type": "code",
   "execution_count": 4,
   "metadata": {},
   "outputs": [
    {
     "name": "stdout",
     "output_type": "stream",
     "text": [
      "ANTsImage (LPI)\n",
      "\t Pixel Type : float (float32)\n",
      "\t Components : 1\n",
      "\t Dimensions : (512, 512, 296)\n",
      "\t Spacing    : (0.4785, 0.4785, 0.5)\n",
      "\t Origin     : (119.989, 104.52, -84.2457)\n",
      "\t Direction  : [-1.      0.0025  0.     -0.0025 -1.      0.      0.      0.      1.    ]\n",
      "\n"
     ]
    },
    {
     "data": {
      "application/vnd.jupyter.widget-view+json": {
       "model_id": "86a2996329664a8eb53fc4e8513f6767",
       "version_major": 2,
       "version_minor": 0
      },
      "text/plain": [
       "interactive(children=(IntSlider(value=255, description='SLICE', max=511), Output()), _dom_classes=('widget-int…"
      ]
     },
     "metadata": {},
     "output_type": "display_data"
    }
   ],
   "source": [
    "print(raw_anat_img)\n",
    "explore_3D_array(raw_anat_img.numpy(), cmap=default_cmap)"
   ]
  },
  {
   "cell_type": "markdown",
   "metadata": {},
   "source": [
    "# Skull Stripping\n",
    "Using ANTs\n",
    "\n",
    "[this notebook](https://github.com/Angeluz-07/MRI-preprocessing-techniques/blob/main/notebooks/09_brain_extraction_with_template.ipynb) is what we're basing this on"
   ]
  },
  {
   "cell_type": "markdown",
   "metadata": {},
   "source": [
    "## Load Template and Mask"
   ]
  },
  {
   "cell_type": "code",
   "execution_count": 5,
   "metadata": {},
   "outputs": [],
   "source": [
    "mni_template_img = ants.image_read(f\"{template_folder}/mni_icbm152_t1_tal_nlin_sym_09a.nii\")\n",
    "mni_template_mask = ants.image_read(f\"{template_folder}/mni_icbm152_t1_tal_nlin_sym_09a_mask.nii\")"
   ]
  },
  {
   "cell_type": "code",
   "execution_count": 6,
   "metadata": {},
   "outputs": [
    {
     "name": "stdout",
     "output_type": "stream",
     "text": [
      "ANTsImage (LPI)\n",
      "\t Pixel Type : float (float32)\n",
      "\t Components : 1\n",
      "\t Dimensions : (197, 233, 189)\n",
      "\t Spacing    : (1.0, 1.0, 1.0)\n",
      "\t Origin     : (98.0, 134.0, -72.0)\n",
      "\t Direction  : [-1.  0.  0.  0. -1.  0.  0.  0.  1.]\n",
      "\n"
     ]
    },
    {
     "data": {
      "application/vnd.jupyter.widget-view+json": {
       "model_id": "2cdeb4c7117045409224a0d3152e9753",
       "version_major": 2,
       "version_minor": 0
      },
      "text/plain": [
       "interactive(children=(IntSlider(value=98, description='SLICE', max=196), Output()), _dom_classes=('widget-inte…"
      ]
     },
     "metadata": {},
     "output_type": "display_data"
    }
   ],
   "source": [
    "print(mni_template_img)\n",
    "explore_3D_array(mni_template_img.numpy(), cmap=default_cmap)"
   ]
  },
  {
   "cell_type": "code",
   "execution_count": 7,
   "metadata": {},
   "outputs": [
    {
     "name": "stdout",
     "output_type": "stream",
     "text": [
      "ANTsImage (LPI)\n",
      "\t Pixel Type : float (float32)\n",
      "\t Components : 1\n",
      "\t Dimensions : (197, 233, 189)\n",
      "\t Spacing    : (1.0, 1.0, 1.0)\n",
      "\t Origin     : (98.0, 134.0, -72.0)\n",
      "\t Direction  : [-1.  0.  0.  0. -1.  0.  0.  0.  1.]\n",
      "\n"
     ]
    },
    {
     "data": {
      "application/vnd.jupyter.widget-view+json": {
       "model_id": "62732bf344e84792a0e2ae8c8d6928d0",
       "version_major": 2,
       "version_minor": 0
      },
      "text/plain": [
       "interactive(children=(IntSlider(value=98, description='SLICE', max=196), Output()), _dom_classes=('widget-inte…"
      ]
     },
     "metadata": {},
     "output_type": "display_data"
    }
   ],
   "source": [
    "print(mni_template_mask)\n",
    "explore_3D_array(mni_template_mask.numpy(), cmap=default_cmap)"
   ]
  },
  {
   "cell_type": "markdown",
   "metadata": {},
   "source": [
    "## Register Template and Masks to Raw image\n",
    "Here we warp the MNI template"
   ]
  },
  {
   "cell_type": "code",
   "execution_count": 8,
   "metadata": {},
   "outputs": [
    {
     "name": "stdout",
     "output_type": "stream",
     "text": [
      "antsRegistration -d 3 -r [0x175b90bc8,0x11947fd28,1] -m mattes[0x175b90bc8,0x11947fd28,1,32,regular,0.2] -t Affine[0.25] -c 2100x1200x1200x0 -s 3x2x1x0 -f 4x2x2x1 -x [NA,NA] -m mattes[0x175b90bc8,0x11947fd28,1,32] -t SyN[0.200000,3.000000,0.000000] -c [40x20x0,1e-7,8] -s 2x1x0 -f 4x2x1 -u 1 -z 1 -o [/var/folders/m4/rtcmkx_17lv03n9tvdf76ycr0000gn/T/tmph__vey87,0x175c52348,0x175b91108] -x [NA,NA] --float 1 --write-composite-transform 0 -v 1\n",
      "All_Command_lines_OK\n",
      "Using single precision for computations.\n",
      "=============================================================================\n",
      "The composite transform comprises the following transforms (in order): \n",
      "  1. Center of mass alignment using fixed image: 0x175b90bc8 and moving image: 0x11947fd28 (type = Euler3DTransform)\n",
      "=============================================================================\n",
      "  Reading mask(s).\n",
      "    Registration stage 0\n",
      "      No fixed mask\n",
      "      No moving mask\n",
      "    Registration stage 1\n",
      "      No fixed mask\n",
      "      No moving mask\n",
      "  number of levels = 4\n",
      "  number of levels = 3\n",
      "  fixed image: 0x175b90bc8\n",
      "  moving image: 0x11947fd28\n",
      "  fixed image: 0x175b90bc8\n",
      "  moving image: 0x11947fd28\n",
      "Dimension = 3\n",
      "Number of stages = 2\n",
      "Use histogram matching = true\n",
      "Winsorize image intensities = false\n",
      "  Lower quantile = 0\n",
      "  Upper quantile = 1\n",
      "\n",
      "\n",
      "Stage 1 State\n",
      "   Image metric = MattesMI\n",
      "     Fixed image = Image (0x1687e86d0)\n",
      "  RTTI typeinfo:   itk::Image<float, 3u>\n",
      "  Reference Count: 2\n",
      "  Modified Time: 2192\n",
      "  Debug: Off\n",
      "  Object Name: \n",
      "  Observers: \n",
      "    none\n",
      "  Source: (none)\n",
      "  Source output name: (none)\n",
      "  Release Data: Off\n",
      "  Data Released: False\n",
      "  Global Release Data: Off\n",
      "  PipelineMTime: 0\n",
      "  UpdateMTime: 2166\n",
      "  RealTimeStamp: 0 seconds \n",
      "  LargestPossibleRegion: \n",
      "    Dimension: 3\n",
      "    Index: [0, 0, 0]\n",
      "    Size: [512, 512, 296]\n",
      "  BufferedRegion: \n",
      "    Dimension: 3\n",
      "    Index: [0, 0, 0]\n",
      "    Size: [512, 512, 296]\n",
      "  RequestedRegion: \n",
      "    Dimension: 3\n",
      "    Index: [0, 0, 0]\n",
      "    Size: [512, 512, 296]\n",
      "  Spacing: [0.4785, 0.4785, 0.5]\n",
      "  Origin: [119.989, 104.52, -84.2457]\n",
      "  Direction: \n",
      "-0.999997 0.00254 0\n",
      "-0.00254 -0.999997 0\n",
      "0 0 1\n",
      "\n",
      "  IndexToPointMatrix: \n",
      "-0.478498 0.00121539 0\n",
      "-0.00121539 -0.478498 0\n",
      "0 0 0.5\n",
      "\n",
      "  PointToIndexMatrix: \n",
      "-2.08986 -0.00530826 0\n",
      "0.00530826 -2.08986 0\n",
      "0 0 2\n",
      "\n",
      "  Inverse Direction: \n",
      "-0.999997 -0.00254 0\n",
      "0.00254 -0.999997 0\n",
      "0 0 1\n",
      "\n",
      "  PixelContainer: \n",
      "    ImportImageContainer (0x16875b8e0)\n",
      "      RTTI typeinfo:   itk::ImportImageContainer<unsigned long, float>\n",
      "      Reference Count: 1\n",
      "      Modified Time: 2164\n",
      "      Debug: Off\n",
      "      Object Name: \n",
      "      Observers: \n",
      "        none\n",
      "      Pointer: 0x36bc78000\n",
      "      Container manages memory: true\n",
      "      Size: 77594624\n",
      "      Capacity: 77594624\n",
      "\n",
      "     Moving image = Image (0x101de7110)\n",
      "  RTTI typeinfo:   itk::Image<float, 3u>\n",
      "  Reference Count: 2\n",
      "  Modified Time: 2193\n",
      "  Debug: Off\n",
      "  Object Name: \n",
      "  Observers: \n",
      "    none\n",
      "  Source: (none)\n",
      "  Source output name: (none)\n",
      "  Release Data: Off\n",
      "  Data Released: False\n",
      "  Global Release Data: Off\n",
      "  PipelineMTime: 0\n",
      "  UpdateMTime: 2190\n",
      "  RealTimeStamp: 0 seconds \n",
      "  LargestPossibleRegion: \n",
      "    Dimension: 3\n",
      "    Index: [0, 0, 0]\n",
      "    Size: [197, 233, 189]\n",
      "  BufferedRegion: \n",
      "    Dimension: 3\n",
      "    Index: [0, 0, 0]\n",
      "    Size: [197, 233, 189]\n",
      "  RequestedRegion: \n",
      "    Dimension: 3\n",
      "    Index: [0, 0, 0]\n",
      "    Size: [197, 233, 189]\n",
      "  Spacing: [1, 1, 1]\n",
      "  Origin: [98, 134, -72]\n",
      "  Direction: \n",
      "-1 0 0\n",
      "0 -1 0\n",
      "0 0 1\n",
      "\n",
      "  IndexToPointMatrix: \n",
      "-1 0 0\n",
      "0 -1 0\n",
      "0 0 1\n",
      "\n",
      "  PointToIndexMatrix: \n",
      "-1 0 0\n",
      "0 -1 0\n",
      "0 0 1\n",
      "\n",
      "  Inverse Direction: \n",
      "-1 0 0\n",
      "0 -1 0\n",
      "0 0 1\n",
      "\n",
      "  PixelContainer: \n",
      "    ImportImageContainer (0x101de47e0)\n",
      "      RTTI typeinfo:   itk::ImportImageContainer<unsigned long, float>\n",
      "      Reference Count: 1\n",
      "      Modified Time: 2188\n",
      "      Debug: Off\n",
      "      Object Name: \n",
      "      Observers: \n",
      "        none\n",
      "      Pointer: 0x333ca8000\n",
      "      Container manages memory: true\n",
      "      Size: 8675289\n",
      "      Capacity: 8675289\n",
      "\n",
      "     Weighting = 1\n",
      "     Sampling strategy = regular\n",
      "     Number of bins = 32\n",
      "     Radius = 4\n",
      "     Sampling percentage  = 0.2\n",
      "   Transform = Affine\n",
      "     Gradient step = 0.25\n",
      "     Update field sigma (voxel space) = 0\n",
      "     Total field sigma (voxel space) = 0\n",
      "     Update field time sigma = 0\n",
      "     Total field time sigma  = 0\n",
      "     Number of time indices = 0\n",
      "     Number of time point samples = 0\n",
      "Stage 2 State\n",
      "   Image metric = MattesMI\n",
      "     Fixed image = Image (0x14f1d2430)\n",
      "  RTTI typeinfo:   itk::Image<float, 3u>\n",
      "  Reference Count: 2\n",
      "  Modified Time: 2244\n",
      "  Debug: Off\n",
      "  Object Name: \n",
      "  Observers: \n",
      "    none\n",
      "  Source: (none)\n",
      "  Source output name: (none)\n",
      "  Release Data: Off\n",
      "  Data Released: False\n",
      "  Global Release Data: Off\n",
      "  PipelineMTime: 0\n",
      "  UpdateMTime: 2218\n",
      "  RealTimeStamp: 0 seconds \n",
      "  LargestPossibleRegion: \n",
      "    Dimension: 3\n",
      "    Index: [0, 0, 0]\n",
      "    Size: [512, 512, 296]\n",
      "  BufferedRegion: \n",
      "    Dimension: 3\n",
      "    Index: [0, 0, 0]\n",
      "    Size: [512, 512, 296]\n",
      "  RequestedRegion: \n",
      "    Dimension: 3\n",
      "    Index: [0, 0, 0]\n",
      "    Size: [512, 512, 296]\n",
      "  Spacing: [0.4785, 0.4785, 0.5]\n",
      "  Origin: [119.989, 104.52, -84.2457]\n",
      "  Direction: \n",
      "-0.999997 0.00254 0\n",
      "-0.00254 -0.999997 0\n",
      "0 0 1\n",
      "\n",
      "  IndexToPointMatrix: \n",
      "-0.478498 0.00121539 0\n",
      "-0.00121539 -0.478498 0\n",
      "0 0 0.5\n",
      "\n",
      "  PointToIndexMatrix: \n",
      "-2.08986 -0.00530826 0\n",
      "0.00530826 -2.08986 0\n",
      "0 0 2\n",
      "\n",
      "  Inverse Direction: \n",
      "-0.999997 -0.00254 0\n",
      "0.00254 -0.999997 0\n",
      "0 0 1\n",
      "\n",
      "  PixelContainer: \n",
      "    ImportImageContainer (0x14f1c8b40)\n",
      "      RTTI typeinfo:   itk::ImportImageContainer<unsigned long, float>\n",
      "      Reference Count: 1\n",
      "      Modified Time: 2216\n",
      "      Debug: Off\n",
      "      Object Name: \n",
      "      Observers: \n",
      "        none\n",
      "      Pointer: 0x37e478000\n",
      "      Container manages memory: true\n",
      "      Size: 77594624\n",
      "      Capacity: 77594624\n",
      "\n",
      "     Moving image = Image (0x14ef1e920)\n",
      "  RTTI typeinfo:   itk::Image<float, 3u>\n",
      "  Reference Count: 2\n",
      "  Modified Time: 2245\n",
      "  Debug: Off\n",
      "  Object Name: \n",
      "  Observers: \n",
      "    none\n",
      "  Source: (none)\n",
      "  Source output name: (none)\n",
      "  Release Data: Off\n",
      "  Data Released: False\n",
      "  Global Release Data: Off\n",
      "  PipelineMTime: 0\n",
      "  UpdateMTime: 2242\n",
      "  RealTimeStamp: 0 seconds \n",
      "  LargestPossibleRegion: \n",
      "    Dimension: 3\n",
      "    Index: [0, 0, 0]\n",
      "    Size: [197, 233, 189]\n",
      "  BufferedRegion: \n",
      "    Dimension: 3\n",
      "    Index: [0, 0, 0]\n",
      "    Size: [197, 233, 189]\n",
      "  RequestedRegion: \n",
      "    Dimension: 3\n",
      "    Index: [0, 0, 0]\n",
      "    Size: [197, 233, 189]\n",
      "  Spacing: [1, 1, 1]\n",
      "  Origin: [98, 134, -72]\n",
      "  Direction: \n",
      "-1 0 0\n",
      "0 -1 0\n",
      "0 0 1\n",
      "\n",
      "  IndexToPointMatrix: \n",
      "-1 0 0\n",
      "0 -1 0\n",
      "0 0 1\n",
      "\n",
      "  PointToIndexMatrix: \n",
      "-1 0 0\n",
      "0 -1 0\n",
      "0 0 1\n",
      "\n",
      "  Inverse Direction: \n",
      "-1 0 0\n",
      "0 -1 0\n",
      "0 0 1\n",
      "\n",
      "  PixelContainer: \n",
      "    ImportImageContainer (0x14ef20950)\n",
      "      RTTI typeinfo:   itk::ImportImageContainer<unsigned long, float>\n",
      "      Reference Count: 1\n",
      "      Modified Time: 2240\n",
      "      Debug: Off\n",
      "      Object Name: \n",
      "      Observers: \n",
      "        none\n",
      "      Pointer: 0x335dc0000\n",
      "      Container manages memory: true\n",
      "      Size: 8675289\n",
      "      Capacity: 8675289\n",
      "\n",
      "     Weighting = 1\n",
      "     Sampling strategy = none\n",
      "     Number of bins = 32\n",
      "     Radius = 4\n",
      "     Sampling percentage  = 1\n",
      "   Transform = SyN\n",
      "     Gradient step = 0.2\n",
      "     Update field sigma (voxel space) = 3\n",
      "     Total field sigma (voxel space) = 0\n",
      "     Update field time sigma = 0\n",
      "     Total field time sigma  = 0\n",
      "     Number of time indices = 0\n",
      "     Number of time point samples = 0\n",
      "Registration using 2 total stages.\n",
      "\n",
      "Stage 0\n",
      "  iterations = 2100x1200x1200x0\n",
      "  convergence threshold = 1e-06\n",
      "  convergence window size = 10\n",
      "  number of levels = 4\n",
      "  using the Mattes MI metric (number of bins = 32, weight = 1, use gradient filter = 0)\n",
      "  preprocessing:  histogram matching the images\n",
      "  Shrink factors (level 1 out of 4): [4, 4, 4]\n",
      "  Shrink factors (level 2 out of 4): [2, 2, 2]\n",
      "  Shrink factors (level 3 out of 4): [2, 2, 2]\n",
      "  Shrink factors (level 4 out of 4): [1, 1, 1]\n",
      "  smoothing sigmas per level: [3, 2, 1, 0]\n",
      "  regular sampling (percentage = 0.2)\n",
      "\n",
      "*** Running AffineTransform registration ***\n",
      "\n",
      "DIAGNOSTIC,Iteration,metricValue,convergenceValue,ITERATION_TIME_INDEX,SINCE_LAST\n",
      " 2DIAGNOSTIC,     1, -4.813464283943e-01, inf, 7.2479e-01, 7.2479e-01, \n",
      " 2DIAGNOSTIC,     2, -4.847346246243e-01, inf, 7.6406e-01, 3.9268e-02, \n",
      " 2DIAGNOSTIC,     3, -4.905389547348e-01, inf, 8.0399e-01, 3.9926e-02, \n",
      " 2DIAGNOSTIC,     4, -5.004203319550e-01, inf, 8.4297e-01, 3.8980e-02, \n",
      " 2DIAGNOSTIC,     5, -5.170661807060e-01, inf, 8.8209e-01, 3.9126e-02, \n",
      " 2DIAGNOSTIC,     6, -5.446085333824e-01, inf, 9.2021e-01, 3.8115e-02, \n",
      " 2DIAGNOSTIC,     7, -5.782753825188e-01, inf, 9.6677e-01, 4.6562e-02, \n",
      " 2DIAGNOSTIC,     8, -5.911751389503e-01, inf, 1.0310e+00, 6.4182e-02, \n",
      " 2DIAGNOSTIC,     9, -5.930408239365e-01, inf, 1.0690e+00, 3.8070e-02, \n",
      " 2DIAGNOSTIC,    10, -6.000207066536e-01, 1.715998537838e-02, 1.1072e+00, 3.8181e-02, \n",
      " 2DIAGNOSTIC,    11, -6.084560751915e-01, 1.540305837989e-02, 1.1456e+00, 3.8372e-02, \n",
      " 2DIAGNOSTIC,    12, -6.167664527893e-01, 1.306335814297e-02, 1.1899e+00, 4.4311e-02, \n",
      " 2DIAGNOSTIC,    13, -6.248782277107e-01, 1.049027591944e-02, 1.2464e+00, 5.6523e-02, \n",
      " 2DIAGNOSTIC,    14, -6.255030632019e-01, 7.772695273161e-03, 1.2851e+00, 3.8709e-02, \n",
      " 2DIAGNOSTIC,    15, -6.279026269913e-01, 5.384683143348e-03, 1.3231e+00, 3.7947e-02, \n",
      " 2DIAGNOSTIC,    16, -6.295803189278e-01, 3.717879299074e-03, 1.3610e+00, 3.7933e-02, \n",
      " 2DIAGNOSTIC,    17, -6.307748556137e-01, 2.930001355708e-03, 1.4047e+00, 4.3676e-02, \n",
      " 2DIAGNOSTIC,    18, -6.317312121391e-01, 2.348882379010e-03, 1.4606e+00, 5.5909e-02, \n",
      " 2DIAGNOSTIC,    19, -6.325341463089e-01, 1.686872681603e-03, 1.4984e+00, 3.7795e-02, \n",
      " 2DIAGNOSTIC,    20, -6.332849860191e-01, 1.128353178501e-03, 1.5365e+00, 3.8118e-02, \n",
      " 2DIAGNOSTIC,    21, -6.358090639114e-01, 7.726144976914e-04, 1.5887e+00, 5.2230e-02, \n",
      " 2DIAGNOSTIC,    22, -6.368921399117e-01, 5.810245056637e-04, 1.6499e+00, 6.1225e-02, \n",
      " 2DIAGNOSTIC,    23, -6.439757347107e-01, 6.722908001393e-04, 1.6949e+00, 4.4931e-02, \n",
      " 2DIAGNOSTIC,    24, -6.495752930641e-01, 8.129169000313e-04, 1.7404e+00, 4.5519e-02, \n",
      " 2DIAGNOSTIC,    25, -6.517356038094e-01, 9.505011839792e-04, 1.8071e+00, 6.6707e-02, \n",
      " 2DIAGNOSTIC,    26, -6.527741551399e-01, 1.038418384269e-03, 1.8732e+00, 6.6140e-02, \n",
      " 2DIAGNOSTIC,    27, -6.529564857483e-01, 1.046568737365e-03, 1.9183e+00, 4.5040e-02, \n",
      " 2DIAGNOSTIC,    28, -6.542222499847e-01, 9.920176817104e-04, 1.9567e+00, 3.8445e-02, \n",
      " 2DIAGNOSTIC,    29, -6.544518470764e-01, 8.631001110189e-04, 2.0016e+00, 4.4860e-02, \n",
      " 2DIAGNOSTIC,    30, -6.547499299049e-01, 6.787587190047e-04, 2.0516e+00, 5.0015e-02, \n",
      " 2DIAGNOSTIC,    31, -6.548636555672e-01, 4.852353886236e-04, 2.1345e+00, 8.2874e-02, \n",
      " 2DIAGNOSTIC,    32, -6.548621654510e-01, 2.732235589065e-04, 2.1788e+00, 4.4361e-02, \n",
      " 2DIAGNOSTIC,    33, -6.548647284508e-01, 1.476035686210e-04, 2.2239e+00, 4.5048e-02, \n",
      " 2DIAGNOSTIC,    34, -6.548643708229e-01, 9.197723557008e-05, 2.3282e+00, 1.0427e-01, \n",
      " 2DIAGNOSTIC,    35, -6.548644304276e-01, 5.963835792500e-05, 2.3865e+00, 5.8384e-02, \n",
      " 2DIAGNOSTIC,    36, -6.548643708229e-01, 3.717029176187e-05, 2.4389e+00, 5.2358e-02, \n",
      " 2DIAGNOSTIC,    37, -6.548643112183e-01, 1.447297381674e-05, 2.5055e+00, 6.6619e-02, \n",
      " 2DIAGNOSTIC,    38, -6.548643708229e-01, 7.139449735405e-06, 2.5641e+00, 5.8571e-02, \n",
      " 2DIAGNOSTIC,    39, -6.548643112183e-01, 2.241261199742e-06, 2.6090e+00, 4.4912e-02, \n",
      "DIAGNOSTIC,Iteration,metricValue,convergenceValue,ITERATION_TIME_INDEX,SINCE_LAST\n",
      " 2DIAGNOSTIC,     1, -5.709730386734e-01, inf, 3.6172e+00, 1.0082e+00, \n",
      " 2DIAGNOSTIC,     2, -5.717953443527e-01, inf, 3.7975e+00, 1.8034e-01, \n",
      " 2DIAGNOSTIC,     3, -5.719761252403e-01, inf, 4.0002e+00, 2.0265e-01, \n",
      " 2DIAGNOSTIC,     4, -5.720108151436e-01, inf, 4.1775e+00, 1.7735e-01, \n",
      " 2DIAGNOSTIC,     5, -5.720547437668e-01, inf, 4.3833e+00, 2.0574e-01, \n",
      " 2DIAGNOSTIC,     6, -5.721015334129e-01, inf, 4.5852e+00, 2.0196e-01, \n",
      " 2DIAGNOSTIC,     7, -5.721307992935e-01, inf, 4.8618e+00, 2.7654e-01, \n",
      " 2DIAGNOSTIC,     8, -5.721619725227e-01, inf, 5.0392e+00, 1.7738e-01, \n",
      " 2DIAGNOSTIC,     9, -5.721776485443e-01, inf, 5.2158e+00, 1.7664e-01, \n",
      " 2DIAGNOSTIC,    10, -5.722092390060e-01, 9.084701741813e-05, 5.3957e+00, 1.7993e-01, \n",
      " 2DIAGNOSTIC,    11, -5.722609758377e-01, 4.088723653695e-05, 5.5748e+00, 1.7904e-01, \n",
      " 2DIAGNOSTIC,    12, -5.723102092743e-01, 3.170124909957e-05, 5.8777e+00, 3.0299e-01, \n",
      " 2DIAGNOSTIC,    13, -5.723428726196e-01, 2.943756044260e-05, 6.0603e+00, 1.8256e-01, \n",
      " 2DIAGNOSTIC,    14, -5.723603963852e-01, 2.689060602279e-05, 6.2397e+00, 1.7937e-01, \n",
      " 2DIAGNOSTIC,    15, -5.723875761032e-01, 2.477151792846e-05, 6.4188e+00, 1.7916e-01, \n",
      " 2DIAGNOSTIC,    16, -5.724144577980e-01, 2.308321927558e-05, 6.6479e+00, 2.2906e-01, \n",
      " 2DIAGNOSTIC,    17, -5.724263191223e-01, 2.080936428683e-05, 6.8498e+00, 2.0191e-01, \n",
      " 2DIAGNOSTIC,    18, -5.724360346794e-01, 1.817785960156e-05, 7.0555e+00, 2.0568e-01, \n",
      " 2DIAGNOSTIC,    19, -5.724411010742e-01, 1.485263783252e-05, 7.2337e+00, 1.7821e-01, \n",
      " 2DIAGNOSTIC,    20, -5.724535584450e-01, 1.170882114820e-05, 7.4392e+00, 2.0548e-01, \n",
      " 2DIAGNOSTIC,    21, -5.724638104439e-01, 9.353082532471e-06, 7.6913e+00, 2.5214e-01, \n",
      " 2DIAGNOSTIC,    22, -5.724806189537e-01, 7.955090950418e-06, 7.8700e+00, 1.7868e-01, \n",
      " 2DIAGNOSTIC,    23, -5.724893212318e-01, 6.960141035961e-06, 8.0723e+00, 2.0235e-01, \n",
      " 2DIAGNOSTIC,    24, -5.724946260452e-01, 5.991068519506e-06, 8.2523e+00, 1.7999e-01, \n",
      " 2DIAGNOSTIC,    25, -5.725042223930e-01, 5.381633400248e-06, 8.5033e+00, 2.5100e-01, \n",
      " 2DIAGNOSTIC,    26, -5.725094676018e-01, 5.036631137045e-06, 8.7035e+00, 2.0016e-01, \n",
      " 2DIAGNOSTIC,    27, -5.725107789040e-01, 4.594231540977e-06, 8.8797e+00, 1.7621e-01, \n",
      " 2DIAGNOSTIC,    28, -5.725172162056e-01, 4.149684173171e-06, 9.0578e+00, 1.7812e-01, \n",
      " 2DIAGNOSTIC,    29, -5.725265145302e-01, 3.693504140756e-06, 9.2586e+00, 2.0077e-01, \n",
      " 2DIAGNOSTIC,    30, -5.725373029709e-01, 3.401531557756e-06, 9.4870e+00, 2.2840e-01, \n",
      " 2DIAGNOSTIC,    31, -5.725448727608e-01, 3.183854460076e-06, 9.6917e+00, 2.0469e-01, \n",
      " 2DIAGNOSTIC,    32, -5.725539326668e-01, 3.176079644618e-06, 9.8695e+00, 1.7779e-01, \n",
      " 2DIAGNOSTIC,    33, -5.725606083870e-01, 3.191627229171e-06, 1.0097e+01, 2.2754e-01, \n",
      " 2DIAGNOSTIC,    34, -5.725646615028e-01, 3.125818238914e-06, 1.0302e+01, 2.0488e-01, \n",
      " 2DIAGNOSTIC,    35, -5.725671052933e-01, 3.023965291504e-06, 1.0479e+01, 1.7724e-01, \n",
      " 2DIAGNOSTIC,    36, -5.725710988045e-01, 2.854928879970e-06, 1.0655e+01, 1.7635e-01, \n",
      " 2DIAGNOSTIC,    37, -5.725796222687e-01, 2.637578290887e-06, 1.0834e+01, 1.7871e-01, \n",
      " 2DIAGNOSTIC,    38, -5.725892782211e-01, 2.468129196131e-06, 1.1010e+01, 1.7623e-01, \n",
      " 2DIAGNOSTIC,    39, -5.726095438004e-01, 2.524566070861e-06, 1.1212e+01, 2.0114e-01, \n",
      " 2DIAGNOSTIC,    40, -5.726260542870e-01, 2.748998440438e-06, 1.1510e+01, 2.9810e-01, \n",
      " 2DIAGNOSTIC,    41, -5.726328492165e-01, 2.946283075289e-06, 1.1735e+01, 2.2566e-01, \n",
      " 2DIAGNOSTIC,    42, -5.726324915886e-01, 3.030073912669e-06, 1.1938e+01, 2.0263e-01, \n",
      " 2DIAGNOSTIC,    43, -5.726313591003e-01, 2.957465767395e-06, 1.2116e+01, 1.7803e-01, \n",
      " 2DIAGNOSTIC,    44, -5.726329684258e-01, 2.737821660048e-06, 1.2293e+01, 1.7751e-01, \n",
      " 2DIAGNOSTIC,    45, -5.726372003555e-01, 2.405427267149e-06, 1.2473e+01, 1.7989e-01, \n",
      " 2DIAGNOSTIC,    46, -5.726397633553e-01, 1.994570993702e-06, 1.2674e+01, 2.0101e-01, \n",
      " 2DIAGNOSTIC,    47, -5.726422667503e-01, 1.595176513547e-06, 1.2878e+01, 2.0391e-01, \n",
      " 2DIAGNOSTIC,    48, -5.726470351219e-01, 1.271160499527e-06, 1.3080e+01, 2.0159e-01, \n",
      " 2DIAGNOSTIC,    49, -5.726497769356e-01, 1.129984298132e-06, 1.3353e+01, 2.7323e-01, \n",
      " 2DIAGNOSTIC,    50, -5.726540684700e-01, 1.151960418611e-06, 1.3531e+01, 1.7739e-01, \n",
      " 2DIAGNOSTIC,    51, -5.726550817490e-01, 1.198925247081e-06, 1.3709e+01, 1.7832e-01, \n",
      " 2DIAGNOSTIC,    52, -5.726553201675e-01, 1.188753685710e-06, 1.3936e+01, 2.2746e-01, \n",
      " 2DIAGNOSTIC,    53, -5.726582407951e-01, 1.140405288425e-06, 1.4138e+01, 2.0202e-01, \n",
      " 2DIAGNOSTIC,    54, -5.726570487022e-01, 1.043901079356e-06, 1.4339e+01, 2.0068e-01, \n",
      "DIAGNOSTIC,Iteration,metricValue,convergenceValue,ITERATION_TIME_INDEX,SINCE_LAST\n",
      " 2DIAGNOSTIC,     1, -4.872281551361e-01, inf, 1.5379e+01, 1.0399e+00, \n",
      " 2DIAGNOSTIC,     2, -4.879456758499e-01, inf, 1.5557e+01, 1.7808e-01, \n",
      " 2DIAGNOSTIC,     3, -4.880893826485e-01, inf, 1.5734e+01, 1.7707e-01, \n",
      " 2DIAGNOSTIC,     4, -4.881878495216e-01, inf, 1.5936e+01, 2.0226e-01, \n",
      " 2DIAGNOSTIC,     5, -4.882237613201e-01, inf, 1.6138e+01, 2.0155e-01, \n",
      " 2DIAGNOSTIC,     6, -4.882352650166e-01, inf, 1.6391e+01, 2.5345e-01, \n",
      " 2DIAGNOSTIC,     7, -4.882386624813e-01, inf, 1.6593e+01, 2.0122e-01, \n",
      " 2DIAGNOSTIC,     8, -4.882381856441e-01, inf, 1.6799e+01, 2.0608e-01, \n",
      " 2DIAGNOSTIC,     9, -4.882385730743e-01, inf, 1.6978e+01, 1.7917e-01, \n",
      " 2DIAGNOSTIC,    10, -4.882413446903e-01, 8.464531856589e-05, 1.7180e+01, 2.0251e-01, \n",
      " 2DIAGNOSTIC,    11, -4.882419109344e-01, 2.786386903608e-05, 1.7384e+01, 2.0329e-01, \n",
      " 2DIAGNOSTIC,    12, -4.882467389107e-01, 1.324101685896e-05, 1.7586e+01, 2.0273e-01, \n",
      " 2DIAGNOSTIC,    13, -4.882496893406e-01, 6.377365934895e-06, 1.7765e+01, 1.7855e-01, \n",
      " 2DIAGNOSTIC,    14, -4.882586300373e-01, 4.567731593852e-06, 1.7941e+01, 1.7647e-01, \n",
      " 2DIAGNOSTIC,    15, -4.882681071758e-01, 4.532146249403e-06, 1.8120e+01, 1.7826e-01, \n",
      " 2DIAGNOSTIC,    16, -4.882878661156e-01, 5.407839580585e-06, 1.8370e+01, 2.5063e-01, \n",
      " 2DIAGNOSTIC,    17, -4.882915318012e-01, 6.095572189224e-06, 1.8570e+01, 2.0014e-01, \n",
      " 2DIAGNOSTIC,    18, -4.882961213589e-01, 6.456236405938e-06, 1.8773e+01, 2.0217e-01, \n",
      " 2DIAGNOSTIC,    19, -4.882964789867e-01, 6.368162758008e-06, 1.8975e+01, 2.0237e-01, \n",
      " 2DIAGNOSTIC,    20, -4.882963299751e-01, 5.926543963142e-06, 1.9182e+01, 2.0680e-01, \n",
      " 2DIAGNOSTIC,    21, -4.883014857769e-01, 5.274203431327e-06, 1.9459e+01, 2.7762e-01, \n",
      " 2DIAGNOSTIC,    22, -4.883017241955e-01, 4.460725449462e-06, 1.9662e+01, 2.0229e-01, \n",
      " 2DIAGNOSTIC,    23, -4.883020520210e-01, 3.522117140164e-06, 1.9842e+01, 1.8009e-01, \n",
      " 2DIAGNOSTIC,    24, -4.883013963699e-01, 2.663830400707e-06, 2.0045e+01, 2.0282e-01, \n",
      " 2DIAGNOSTIC,    25, -4.883013069630e-01, 1.956596179298e-06, 2.0247e+01, 2.0219e-01, \n",
      " 2DIAGNOSTIC,    26, -4.883017539978e-01, 1.688597194516e-06, 2.0499e+01, 2.5277e-01, \n",
      " 2DIAGNOSTIC,    27, -4.883015751839e-01, 1.467666606914e-06, 2.0703e+01, 2.0399e-01, \n",
      " 2DIAGNOSTIC,    28, -4.883016347885e-01, 1.333187242381e-06, 2.0909e+01, 2.0520e-01, \n",
      " 2DIAGNOSTIC,    29, -4.883014857769e-01, 1.194961896545e-06, 2.1088e+01, 1.7982e-01, \n",
      " 2DIAGNOSTIC,    30, -4.883015155792e-01, 1.051472168001e-06, 2.1317e+01, 2.2847e-01, \n",
      " 2DIAGNOSTIC,    31, -4.883016049862e-01, 1.015906036628e-06, 2.1520e+01, 2.0332e-01, \n",
      "DIAGNOSTIC,Iteration,metricValue,convergenceValue,ITERATION_TIME_INDEX,SINCE_LAST\n",
      " 2DIAGNOSTIC,     1, -4.298710227013e-01, inf, 2.4349e+01, 2.8290e+00, \n",
      "  Elapsed time (stage 0): 2.5595e+01\n",
      "\n",
      "\n",
      "Stage 1\n",
      "  iterations = 40x20x0\n",
      "  convergence threshold = 1.0000e-07\n",
      "  convergence window size = 8\n",
      "  number of levels = 3\n",
      "  using the Mattes MI metric (number of bins = 32, weight = 1.0000e+00, use gradient filter = 0)\n",
      "  preprocessing:  histogram matching the images\n",
      "  Shrink factors (level 1 out of 3): [4, 4, 4]\n",
      "  Shrink factors (level 2 out of 3): [2, 2, 2]\n",
      "  Shrink factors (level 3 out of 3): [1, 1, 1]\n",
      "  smoothing sigmas per level: [2, 1, 0]\n",
      "  Using default NONE metricSamplingStrategy \n",
      "\n",
      "*** Running SyN registration (varianceForUpdateField = 3.0000e+00, varianceForTotalField = 0.0000e+00) ***\n",
      "\n",
      "XXDIAGNOSTIC,Iteration,metricValue,convergenceValue,ITERATION_TIME_INDEX,SINCE_LAST\n",
      " 1DIAGNOSTIC,     1, -5.478352308273e-01, inf, 8.7999e-01, 8.7999e-01, \n",
      " 1DIAGNOSTIC,     2, -5.531772375107e-01, inf, 1.1674e+00, 2.8737e-01, \n",
      " 1DIAGNOSTIC,     3, -5.589648485184e-01, inf, 1.4523e+00, 2.8497e-01, \n",
      " 1DIAGNOSTIC,     4, -5.642091035843e-01, inf, 1.7483e+00, 2.9597e-01, \n",
      " 1DIAGNOSTIC,     5, -5.692669153214e-01, inf, 2.0466e+00, 2.9834e-01, \n",
      " 1DIAGNOSTIC,     6, -5.738466978073e-01, inf, 2.3394e+00, 2.9279e-01, \n",
      " 1DIAGNOSTIC,     7, -5.780556201935e-01, inf, 2.6274e+00, 2.8799e-01, \n",
      " 1DIAGNOSTIC,     8, -5.816336870193e-01, 4.960496444255e-03, 2.9208e+00, 2.9340e-01, \n",
      " 1DIAGNOSTIC,     9, -5.846564769745e-01, 4.060995765030e-03, 3.2248e+00, 3.0403e-01, \n",
      " 1DIAGNOSTIC,    10, -5.872036218643e-01, 3.273114794865e-03, 3.5332e+00, 3.0838e-01, \n",
      " 1DIAGNOSTIC,    11, -5.894418954849e-01, 2.625642344356e-03, 3.8386e+00, 3.0542e-01, \n",
      " 1DIAGNOSTIC,    12, -5.915930271149e-01, 2.098430413753e-03, 4.1519e+00, 3.1322e-01, \n",
      " 1DIAGNOSTIC,    13, -5.936229228973e-01, 1.691475510597e-03, 4.4602e+00, 3.0836e-01, \n",
      " 1DIAGNOSTIC,    14, -5.956344604492e-01, 1.390948193148e-03, 4.7651e+00, 3.0492e-01, \n",
      " 1DIAGNOSTIC,    15, -5.973939299583e-01, 1.174948411062e-03, 5.0756e+00, 3.1049e-01, \n",
      " 1DIAGNOSTIC,    16, -5.990657806396e-01, 1.017356524244e-03, 5.3763e+00, 3.0064e-01, \n",
      " 1DIAGNOSTIC,    17, -6.005373001099e-01, 8.924554567784e-04, 5.6876e+00, 3.1128e-01, \n",
      " 1DIAGNOSTIC,    18, -6.015008687973e-01, 7.710122736171e-04, 5.9847e+00, 2.9712e-01, \n",
      " 1DIAGNOSTIC,    19, -6.020746827126e-01, 6.407977198251e-04, 6.2850e+00, 3.0032e-01, \n",
      " 1DIAGNOSTIC,    20, -6.029866933823e-01, 5.233691772446e-04, 6.5897e+00, 3.0467e-01, \n",
      " 1DIAGNOSTIC,    21, -6.038354635239e-01, 4.233186773490e-04, 6.8972e+00, 3.0757e-01, \n",
      " 1DIAGNOSTIC,    22, -6.047582626343e-01, 3.511477552820e-04, 7.2019e+00, 3.0464e-01, \n",
      " 1DIAGNOSTIC,    23, -6.056050062180e-01, 3.022879827768e-04, 7.5071e+00, 3.0523e-01, \n",
      " 1DIAGNOSTIC,    24, -6.056528091431e-01, 2.561953151599e-04, 7.8186e+00, 3.1145e-01, \n",
      " 1DIAGNOSTIC,    25, -6.052423119545e-01, 2.020056854235e-04, 8.1280e+00, 3.0948e-01, \n",
      " 1DIAGNOSTIC,    26, -6.045867204666e-01, 1.298694987781e-04, 8.4387e+00, 3.1068e-01, \n",
      " 1DIAGNOSTIC,    27, -6.040298342705e-01, 4.451235872693e-05, 8.7504e+00, 3.1169e-01, \n",
      " 1DIAGNOSTIC,    28, -6.034444570541e-01, -3.396864849492e-05, 9.0527e+00, 3.0226e-01, \n",
      "XXDIAGNOSTIC,Iteration,metricValue,convergenceValue,ITERATION_TIME_INDEX,SINCE_LAST\n",
      " 1DIAGNOSTIC,     1, -5.007426142693e-01, inf, 1.2696e+01, 3.6438e+00, \n",
      " 1DIAGNOSTIC,     2, -5.016163587570e-01, inf, 1.5089e+01, 2.3930e+00, \n",
      " 1DIAGNOSTIC,     3, -5.025699138641e-01, inf, 1.7505e+01, 2.4155e+00, \n",
      " 1DIAGNOSTIC,     4, -5.035718083382e-01, inf, 1.9934e+01, 2.4290e+00, \n",
      " 1DIAGNOSTIC,     5, -5.044981241226e-01, inf, 2.2341e+01, 2.4070e+00, \n",
      " 1DIAGNOSTIC,     6, -5.053768157959e-01, inf, 2.4742e+01, 2.4010e+00, \n",
      " 1DIAGNOSTIC,     7, -5.062328577042e-01, inf, 2.7138e+01, 2.3958e+00, \n",
      " 1DIAGNOSTIC,     8, -5.071085691452e-01, 1.047622063197e-03, 2.9529e+01, 2.3917e+00, \n",
      " 1DIAGNOSTIC,     9, -5.079709291458e-01, 9.172883001156e-04, 3.1871e+01, 2.3418e+00, \n",
      " 1DIAGNOSTIC,    10, -5.087786316872e-01, 8.043558918871e-04, 3.4327e+01, 2.4557e+00, \n",
      " 1DIAGNOSTIC,    11, -5.095447301865e-01, 7.092406740412e-04, 3.6769e+01, 2.4421e+00, \n",
      " 1DIAGNOSTIC,    12, -5.101890563965e-01, 6.261909729801e-04, 3.9241e+01, 2.4723e+00, \n",
      " 1DIAGNOSTIC,    13, -5.107862949371e-01, 5.492799682543e-04, 4.1816e+01, 2.5750e+00, \n",
      " 1DIAGNOSTIC,    14, -5.113438367844e-01, 4.768872458953e-04, 4.4390e+01, 2.5733e+00, \n",
      " 1DIAGNOSTIC,    15, -5.118699073792e-01, 4.102640377823e-04, 4.6944e+01, 2.5539e+00, \n",
      " 1DIAGNOSTIC,    16, -5.122953057289e-01, 3.498203004710e-04, 4.9552e+01, 2.6081e+00, \n",
      " 1DIAGNOSTIC,    17, -5.123307704926e-01, 2.831373130903e-04, 5.2106e+01, 2.5542e+00, \n",
      " 1DIAGNOSTIC,    18, -5.119884014130e-01, 2.014198544202e-04, 5.4677e+01, 2.5706e+00, \n",
      " 1DIAGNOSTIC,    19, -5.114973783493e-01, 1.095935804187e-04, 5.7276e+01, 2.5989e+00, \n",
      " 1DIAGNOSTIC,    20, -5.110987424850e-01, 1.971741039597e-05, 5.9953e+01, 2.6777e+00, \n",
      "  Elapsed time (stage 1): 65.09\n",
      "\n",
      "\n",
      "Total elapsed time: 90.75\n"
     ]
    }
   ],
   "source": [
    "template_warp_to_raw_anat = ants.registration(\n",
    "    fixed=raw_anat_img,\n",
    "    moving=mni_template_img, \n",
    "    type_of_transform='SyN',\n",
    "    verbose=True\n",
    ")"
   ]
  },
  {
   "cell_type": "code",
   "execution_count": 9,
   "metadata": {},
   "outputs": [],
   "source": [
    "registered_template_img = template_warp_to_raw_anat['warpedmovout']"
   ]
  },
  {
   "cell_type": "markdown",
   "metadata": {},
   "source": [
    "The following comparison function asserts that the new `registered_template_img` image has been transformed to the size and shape of the `raw_anat_img`"
   ]
  },
  {
   "cell_type": "code",
   "execution_count": 10,
   "metadata": {},
   "outputs": [
    {
     "data": {
      "application/vnd.jupyter.widget-view+json": {
       "model_id": "3ed69c38499e42c19bf18bb7d53e521b",
       "version_major": 2,
       "version_minor": 0
      },
      "text/plain": [
       "interactive(children=(IntSlider(value=255, description='SLICE', max=511), Output()), _dom_classes=('widget-int…"
      ]
     },
     "metadata": {},
     "output_type": "display_data"
    }
   ],
   "source": [
    "explore_3D_array_comparison(\n",
    "    arr_before=raw_anat_img.numpy(),\n",
    "    arr_after=registered_template_img.numpy()\n",
    ")\n",
    "#I don't love \"before\" and \"after\" as the names here as we are really only changing the template\n",
    "# This is pretty confusing, so just ignore the names for now\n",
    "# Maybe I'll change this and write my own helper functions"
   ]
  },
  {
   "cell_type": "markdown",
   "metadata": {},
   "source": [
    "Next, we apply this to the mask so that it fits over the brain in the data we wish to visualize"
   ]
  },
  {
   "cell_type": "code",
   "execution_count": 11,
   "metadata": {},
   "outputs": [
    {
     "name": "stdout",
     "output_type": "stream",
     "text": [
      "['-d', '3', '-i', '0x175b91108', '-o', '0x175c525e8', '-r', '0x175c51aa8', '-n', 'nearestNeighbor', '-t', '/var/folders/m4/rtcmkx_17lv03n9tvdf76ycr0000gn/T/tmph__vey871Warp.nii.gz', '-t', '/var/folders/m4/rtcmkx_17lv03n9tvdf76ycr0000gn/T/tmph__vey870GenericAffine.mat']\n",
      "Using double precision for computations.\n",
      "Input scalar image: 0x175b91108\n",
      "Could not create ImageIO for the input file, assuming dimension = 3 and scalar pixel type\n",
      "Reference image: 0x175c51aa8\n",
      "=============================================================================\n",
      "The composite transform comprises the following transforms (in order): \n",
      "  1. /var/folders/m4/rtcmkx_17lv03n9tvdf76ycr0000gn/T/tmph__vey870GenericAffine.mat (type = AffineTransform)\n",
      "  2. /var/folders/m4/rtcmkx_17lv03n9tvdf76ycr0000gn/T/tmph__vey871Warp.nii.gz (type = DisplacementFieldTransform)\n",
      "=============================================================================\n",
      "Default pixel value: 0\n",
      "Interpolation type: NearestNeighborInterpolateImageFunction\n",
      "Output warped image: 0x175c525e8\n"
     ]
    }
   ],
   "source": [
    "brain_mask = ants.apply_transforms(\n",
    "    fixed=template_warp_to_raw_anat['warpedmovout'],\n",
    "    moving=mni_template_mask,\n",
    "    transformlist=template_warp_to_raw_anat['fwdtransforms'],\n",
    "    interpolator='nearestNeighbor',\n",
    "    verbose=True\n",
    ")"
   ]
  },
  {
   "cell_type": "code",
   "execution_count": 12,
   "metadata": {},
   "outputs": [
    {
     "data": {
      "application/vnd.jupyter.widget-view+json": {
       "model_id": "84876e7c7c644c2f859c8f1eda1001c0",
       "version_major": 2,
       "version_minor": 0
      },
      "text/plain": [
       "interactive(children=(IntSlider(value=255, description='SLICE', max=511), Output()), _dom_classes=('widget-int…"
      ]
     },
     "metadata": {},
     "output_type": "display_data"
    }
   ],
   "source": [
    "explore_3D_array_with_mask_contour(raw_anat_img.numpy(), brain_mask.numpy())"
   ]
  },
  {
   "cell_type": "markdown",
   "metadata": {},
   "source": [
    "Let's fine tune the mask a bit"
   ]
  },
  {
   "cell_type": "code",
   "execution_count": 13,
   "metadata": {},
   "outputs": [],
   "source": [
    "brain_mask_dilated = ants.morphology(brain_mask, radius=4, operation='dilate', mtype='binary')"
   ]
  },
  {
   "cell_type": "code",
   "execution_count": 14,
   "metadata": {},
   "outputs": [
    {
     "data": {
      "application/vnd.jupyter.widget-view+json": {
       "model_id": "8ccbf178bf7a4d5dbafcfa79a8b16cc7",
       "version_major": 2,
       "version_minor": 0
      },
      "text/plain": [
       "interactive(children=(IntSlider(value=255, description='SLICE', max=511), Output()), _dom_classes=('widget-int…"
      ]
     },
     "metadata": {},
     "output_type": "display_data"
    }
   ],
   "source": [
    "explore_3D_array_with_mask_contour(raw_anat_img.numpy(), brain_mask_dilated.numpy())"
   ]
  },
  {
   "cell_type": "markdown",
   "metadata": {},
   "source": [
    "# Mask the Image and Create Sections"
   ]
  },
  {
   "cell_type": "code",
   "execution_count": 15,
   "metadata": {},
   "outputs": [],
   "source": [
    "brain_anat = ants.mask_image(raw_anat_img, brain_mask_dilated)"
   ]
  },
  {
   "cell_type": "code",
   "execution_count": 16,
   "metadata": {},
   "outputs": [
    {
     "name": "stdout",
     "output_type": "stream",
     "text": [
      "ANTsImage (LPI)\n",
      "\t Pixel Type : float (float32)\n",
      "\t Components : 1\n",
      "\t Dimensions : (512, 512, 296)\n",
      "\t Spacing    : (0.4785, 0.4785, 0.5)\n",
      "\t Origin     : (119.989, 104.52, -84.2457)\n",
      "\t Direction  : [-1.      0.0025  0.     -0.0025 -1.      0.      0.      0.      1.    ]\n",
      "\n"
     ]
    },
    {
     "data": {
      "application/vnd.jupyter.widget-view+json": {
       "model_id": "5fe8877f42964ad3acfba44caf02362f",
       "version_major": 2,
       "version_minor": 0
      },
      "text/plain": [
       "interactive(children=(IntSlider(value=255, description='SLICE', max=511), Output()), _dom_classes=('widget-int…"
      ]
     },
     "metadata": {},
     "output_type": "display_data"
    }
   ],
   "source": [
    "print(brain_anat)\n",
    "explore_3D_array(brain_anat.numpy(), cmap=default_cmap)"
   ]
  },
  {
   "cell_type": "markdown",
   "metadata": {},
   "source": [
    "# Building Scivol"
   ]
  },
  {
   "cell_type": "markdown",
   "metadata": {},
   "source": [
    "It looks like ANTS already applies the affine (double check this), so I think you can just 86 that from your workflow"
   ]
  },
  {
   "cell_type": "markdown",
   "metadata": {},
   "source": [
    "Initialize the scivol object"
   ]
  },
  {
   "cell_type": "code",
   "execution_count": 17,
   "metadata": {},
   "outputs": [],
   "source": [
    "skullstrip = Scivol(\"skullstrip\")"
   ]
  },
  {
   "cell_type": "markdown",
   "metadata": {},
   "source": [
    "Create the volumes:"
   ]
  },
  {
   "cell_type": "code",
   "execution_count": 18,
   "metadata": {},
   "outputs": [],
   "source": [
    "full_anat_vol = create_normalized_volume(raw_anat_img.numpy())\n",
    "brain_anat_vol = create_normalized_volume(brain_anat.numpy())"
   ]
  },
  {
   "cell_type": "markdown",
   "metadata": {},
   "source": [
    "Create the grids:"
   ]
  },
  {
   "cell_type": "code",
   "execution_count": 19,
   "metadata": {},
   "outputs": [
    {
     "data": {
      "application/vnd.jupyter.widget-view+json": {
       "model_id": "3851a8028027455298fad35a465f6886",
       "version_major": 2,
       "version_minor": 0
      },
      "text/plain": [
       "interactive(children=(IntSlider(value=255, description='SLICE', max=511), Output()), _dom_classes=('widget-int…"
      ]
     },
     "metadata": {},
     "output_type": "display_data"
    },
    {
     "data": {
      "application/vnd.jupyter.widget-view+json": {
       "model_id": "8b5ec5a00192416ea4ac558b8a566ad0",
       "version_major": 2,
       "version_minor": 0
      },
      "text/plain": [
       "interactive(children=(IntSlider(value=255, description='SLICE', max=511), Output()), _dom_classes=('widget-int…"
      ]
     },
     "metadata": {},
     "output_type": "display_data"
    }
   ],
   "source": [
    "explore_3D_array(full_anat_vol)\n",
    "explore_3D_array(brain_anat_vol)"
   ]
  },
  {
   "cell_type": "code",
   "execution_count": 20,
   "metadata": {},
   "outputs": [
    {
     "name": "stdout",
     "output_type": "stream",
     "text": [
      "writing full_anat to grid\n",
      "writing brain_anat to grid\n"
     ]
    }
   ],
   "source": [
    "skullstrip.add_grids([Grid(\"full_anat\",[full_anat_vol]), Grid(\"brain_anat\", [brain_anat_vol])])"
   ]
  },
  {
   "cell_type": "code",
   "execution_count": 21,
   "metadata": {},
   "outputs": [
    {
     "name": "stdout",
     "output_type": "stream",
     "text": [
      "skullstrip\n",
      "tolerance: 0.0\n",
      "affine: [[1. 0. 0. 0.]\n",
      " [0. 1. 0. 0.]\n",
      " [0. 0. 1. 0.]\n",
      " [0. 0. 0. 1.]]\n",
      "grids:\n",
      "    - full_anat\n",
      "    - brain_anat\n",
      "\n",
      "writing skullstrip scivol dictionary\n",
      "Encoding JSON file to utf-8\n",
      "saving skullstrip.scivol to /Users/joachimpfefferkorn/repos/neurovolume/output/\n"
     ]
    }
   ],
   "source": [
    "print(skullstrip)\n",
    "skullstrip.save_scivol(output_folder)"
   ]
  },
  {
   "cell_type": "markdown",
   "metadata": {},
   "source": [
    "Lets' quickly test this in our notebook"
   ]
  },
  {
   "cell_type": "code",
   "execution_count": 24,
   "metadata": {},
   "outputs": [],
   "source": [
    "test_compressed_file_path = \"/Users/joachimpfefferkorn/repos/neurovolume/output/skullstrip.scivol\"\n",
    "with gzip.open(test_compressed_file_path, 'r') as svin:\n",
    "    scivol_bytes = svin.read()\n",
    "scivol_str = scivol_bytes.decode('utf-8')"
   ]
  },
  {
   "cell_type": "code",
   "execution_count": 25,
   "metadata": {},
   "outputs": [],
   "source": [
    "scivol_dict = json.loads(scivol_str)"
   ]
  },
  {
   "cell_type": "code",
   "execution_count": 26,
   "metadata": {},
   "outputs": [
    {
     "name": "stdout",
     "output_type": "stream",
     "text": [
      "<class 'dict'>\n",
      "skullstrip\n",
      "['full_anat', 'brain_anat']\n",
      "<class 'numpy.ndarray'>\n"
     ]
    },
    {
     "data": {
      "application/vnd.jupyter.widget-view+json": {
       "model_id": "596e6d2cc6e04a829c790644e83df60f",
       "version_major": 2,
       "version_minor": 0
      },
      "text/plain": [
       "interactive(children=(IntSlider(value=255, description='SLICE', max=511), Output()), _dom_classes=('widget-int…"
      ]
     },
     "metadata": {},
     "output_type": "display_data"
    }
   ],
   "source": [
    "print(type(scivol_dict))\n",
    "print(scivol_dict['name'])\n",
    "print([grid for grid in scivol_dict['grids']])\n",
    "brain_anat_test_vol = np.asanyarray(scivol_dict['grids']['brain_anat']['frames'][0])\n",
    "print(type(brain_anat_test_vol))\n",
    "explore_3D_array(brain_anat_test_vol)"
   ]
  },
  {
   "cell_type": "markdown",
   "metadata": {},
   "source": [
    "Before moving to blender to render these images, let's make sure that we can parse these scivol files here"
   ]
  }
 ],
 "metadata": {
  "kernelspec": {
   "display_name": ".venv",
   "language": "python",
   "name": "python3"
  },
  "language_info": {
   "codemirror_mode": {
    "name": "ipython",
    "version": 3
   },
   "file_extension": ".py",
   "mimetype": "text/x-python",
   "name": "python",
   "nbconvert_exporter": "python",
   "pygments_lexer": "ipython3",
   "version": "3.11.5"
  }
 },
 "nbformat": 4,
 "nbformat_minor": 2
}
