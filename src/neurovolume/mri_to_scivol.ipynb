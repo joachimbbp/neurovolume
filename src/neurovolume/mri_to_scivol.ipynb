{
 "cells": [
  {
   "cell_type": "markdown",
   "metadata": {},
   "source": [
    "# Gathering Data"
   ]
  },
  {
   "cell_type": "code",
   "execution_count": 1,
   "metadata": {},
   "outputs": [],
   "source": [
    "from functions import *\n",
    "from scivol import *\n",
    "from helpers import *\n",
    "import ipyvolume as ipv\n",
    "import numpy as np\n",
    "import json\n",
    "import ants"
   ]
  },
  {
   "cell_type": "code",
   "execution_count": 2,
   "metadata": {},
   "outputs": [
    {
     "name": "stdout",
     "output_type": "stream",
     "text": [
      "/Users/joachimpfefferkorn/repos/neurovolume\n"
     ]
    }
   ],
   "source": [
    "proj_root = parent_directory()\n",
    "print(proj_root)\n",
    "mri_input_filepath = os.path.join(proj_root, \"media/sub-01/anat/sub-01_T1w.nii.gz\")\n",
    "template_folder = \"/Users/joachimpfefferkorn/repos/neurovolume/templates\"\n",
    "output_folder = os.path.join(proj_root, \"output/\")\n",
    "\n",
    "default_cmap = 'nipy_spectral'"
   ]
  },
  {
   "cell_type": "code",
   "execution_count": 3,
   "metadata": {},
   "outputs": [],
   "source": [
    "raw_anat_img = ants.image_read(mri_input_filepath)"
   ]
  },
  {
   "cell_type": "code",
   "execution_count": 4,
   "metadata": {},
   "outputs": [
    {
     "name": "stdout",
     "output_type": "stream",
     "text": [
      "ANTsImage (LPI)\n",
      "\t Pixel Type : float (float32)\n",
      "\t Components : 1\n",
      "\t Dimensions : (512, 512, 296)\n",
      "\t Spacing    : (0.4785, 0.4785, 0.5)\n",
      "\t Origin     : (119.989, 104.52, -84.2457)\n",
      "\t Direction  : [-1.      0.0025  0.     -0.0025 -1.      0.      0.      0.      1.    ]\n",
      "\n"
     ]
    },
    {
     "data": {
      "application/vnd.jupyter.widget-view+json": {
       "model_id": "cbcc99674272402b9759e39d6d43bc40",
       "version_major": 2,
       "version_minor": 0
      },
      "text/plain": [
       "interactive(children=(IntSlider(value=255, description='SLICE', max=511), Output()), _dom_classes=('widget-int…"
      ]
     },
     "metadata": {},
     "output_type": "display_data"
    }
   ],
   "source": [
    "print(raw_anat_img)\n",
    "explore_3D_array(raw_anat_img.numpy(), cmap=default_cmap)"
   ]
  },
  {
   "cell_type": "markdown",
   "metadata": {},
   "source": [
    "# Skull Stripping\n",
    "Using ANTs\n",
    "\n",
    "[this notebook](https://github.com/Angeluz-07/MRI-preprocessing-techniques/blob/main/notebooks/09_brain_extraction_with_template.ipynb) is what we're basing this on"
   ]
  },
  {
   "cell_type": "markdown",
   "metadata": {},
   "source": [
    "## Load Template and Mask"
   ]
  },
  {
   "cell_type": "code",
   "execution_count": 5,
   "metadata": {},
   "outputs": [],
   "source": [
    "mni_template_img = ants.image_read(f\"{template_folder}/mni_icbm152_t1_tal_nlin_sym_09a.nii\")\n",
    "mni_template_mask = ants.image_read(f\"{template_folder}/mni_icbm152_t1_tal_nlin_sym_09a_mask.nii\")"
   ]
  },
  {
   "cell_type": "code",
   "execution_count": 6,
   "metadata": {},
   "outputs": [
    {
     "name": "stdout",
     "output_type": "stream",
     "text": [
      "ANTsImage (LPI)\n",
      "\t Pixel Type : float (float32)\n",
      "\t Components : 1\n",
      "\t Dimensions : (197, 233, 189)\n",
      "\t Spacing    : (1.0, 1.0, 1.0)\n",
      "\t Origin     : (98.0, 134.0, -72.0)\n",
      "\t Direction  : [-1.  0.  0.  0. -1.  0.  0.  0.  1.]\n",
      "\n"
     ]
    },
    {
     "data": {
      "application/vnd.jupyter.widget-view+json": {
       "model_id": "2dd6da477cdc4f4baf96093c617e8aab",
       "version_major": 2,
       "version_minor": 0
      },
      "text/plain": [
       "interactive(children=(IntSlider(value=98, description='SLICE', max=196), Output()), _dom_classes=('widget-inte…"
      ]
     },
     "metadata": {},
     "output_type": "display_data"
    }
   ],
   "source": [
    "print(mni_template_img)\n",
    "explore_3D_array(mni_template_img.numpy(), cmap=default_cmap)"
   ]
  },
  {
   "cell_type": "code",
   "execution_count": 7,
   "metadata": {},
   "outputs": [
    {
     "name": "stdout",
     "output_type": "stream",
     "text": [
      "ANTsImage (LPI)\n",
      "\t Pixel Type : float (float32)\n",
      "\t Components : 1\n",
      "\t Dimensions : (197, 233, 189)\n",
      "\t Spacing    : (1.0, 1.0, 1.0)\n",
      "\t Origin     : (98.0, 134.0, -72.0)\n",
      "\t Direction  : [-1.  0.  0.  0. -1.  0.  0.  0.  1.]\n",
      "\n"
     ]
    },
    {
     "data": {
      "application/vnd.jupyter.widget-view+json": {
       "model_id": "d395555bf7a946eb83c9798958c7ec2e",
       "version_major": 2,
       "version_minor": 0
      },
      "text/plain": [
       "interactive(children=(IntSlider(value=98, description='SLICE', max=196), Output()), _dom_classes=('widget-inte…"
      ]
     },
     "metadata": {},
     "output_type": "display_data"
    }
   ],
   "source": [
    "print(mni_template_mask)\n",
    "explore_3D_array(mni_template_mask.numpy(), cmap=default_cmap)"
   ]
  },
  {
   "cell_type": "markdown",
   "metadata": {},
   "source": [
    "## Register Template and Masks to Raw image\n",
    "Here we warp the MNI template"
   ]
  },
  {
   "cell_type": "code",
   "execution_count": 8,
   "metadata": {},
   "outputs": [
    {
     "name": "stdout",
     "output_type": "stream",
     "text": [
      "antsRegistration -d 3 -r [0x17716d108,0x1069d2b28,1] -m mattes[0x17716d108,0x1069d2b28,1,32,regular,0.2] -t Affine[0.25] -c 2100x1200x1200x0 -s 3x2x1x0 -f 4x2x2x1 -x [NA,NA] -m mattes[0x17716d108,0x1069d2b28,1,32] -t SyN[0.200000,3.000000,0.000000] -c [40x20x0,1e-7,8] -s 2x1x0 -f 4x2x1 -u 1 -z 1 -o [/var/folders/m4/rtcmkx_17lv03n9tvdf76ycr0000gn/T/tmpwia47o58,0x118994ea8,0x17716c848] -x [NA,NA] --float 1 --write-composite-transform 0 -v 1\n",
      "All_Command_lines_OK\n",
      "Using single precision for computations.\n",
      "=============================================================================\n",
      "The composite transform comprises the following transforms (in order): \n",
      "  1. Center of mass alignment using fixed image: 0x17716d108 and moving image: 0x1069d2b28 (type = Euler3DTransform)\n",
      "=============================================================================\n",
      "  Reading mask(s).\n",
      "    Registration stage 0\n",
      "      No fixed mask\n",
      "      No moving mask\n",
      "    Registration stage 1\n",
      "      No fixed mask\n",
      "      No moving mask\n",
      "  number of levels = 4\n",
      "  number of levels = 3\n",
      "  fixed image: 0x17716d108\n",
      "  moving image: 0x1069d2b28\n",
      "  fixed image: 0x17716d108\n",
      "  moving image: 0x1069d2b28\n",
      "Dimension = 3\n",
      "Number of stages = 2\n",
      "Use histogram matching = true\n",
      "Winsorize image intensities = false\n",
      "  Lower quantile = 0\n",
      "  Upper quantile = 1\n",
      "\n",
      "\n",
      "Stage 1 State\n",
      "   Image metric = MattesMI\n",
      "     Fixed image = Image (0x176b33830)\n",
      "  RTTI typeinfo:   itk::Image<float, 3u>\n",
      "  Reference Count: 2\n",
      "  Modified Time: 2192\n",
      "  Debug: Off\n",
      "  Object Name: \n",
      "  Observers: \n",
      "    none\n",
      "  Source: (none)\n",
      "  Source output name: (none)\n",
      "  Release Data: Off\n",
      "  Data Released: False\n",
      "  Global Release Data: Off\n",
      "  PipelineMTime: 0\n",
      "  UpdateMTime: 2166\n",
      "  RealTimeStamp: 0 seconds \n",
      "  LargestPossibleRegion: \n",
      "    Dimension: 3\n",
      "    Index: [0, 0, 0]\n",
      "    Size: [512, 512, 296]\n",
      "  BufferedRegion: \n",
      "    Dimension: 3\n",
      "    Index: [0, 0, 0]\n",
      "    Size: [512, 512, 296]\n",
      "  RequestedRegion: \n",
      "    Dimension: 3\n",
      "    Index: [0, 0, 0]\n",
      "    Size: [512, 512, 296]\n",
      "  Spacing: [0.4785, 0.4785, 0.5]\n",
      "  Origin: [119.989, 104.52, -84.2457]\n",
      "  Direction: \n",
      "-0.999997 0.00254 0\n",
      "-0.00254 -0.999997 0\n",
      "0 0 1\n",
      "\n",
      "  IndexToPointMatrix: \n",
      "-0.478498 0.00121539 0\n",
      "-0.00121539 -0.478498 0\n",
      "0 0 0.5\n",
      "\n",
      "  PointToIndexMatrix: \n",
      "-2.08986 -0.00530826 0\n",
      "0.00530826 -2.08986 0\n",
      "0 0 2\n",
      "\n",
      "  Inverse Direction: \n",
      "-0.999997 -0.00254 0\n",
      "0.00254 -0.999997 0\n",
      "0 0 1\n",
      "\n",
      "  PixelContainer: \n",
      "    ImportImageContainer (0x176b336b0)\n",
      "      RTTI typeinfo:   itk::ImportImageContainer<unsigned long, float>\n",
      "      Reference Count: 1\n",
      "      Modified Time: 2164\n",
      "      Debug: Off\n",
      "      Object Name: \n",
      "      Observers: \n",
      "        none\n",
      "      Pointer: 0x3745c4000\n",
      "      Container manages memory: true\n",
      "      Size: 77594624\n",
      "      Capacity: 77594624\n",
      "\n",
      "     Moving image = Image (0x128061030)\n",
      "  RTTI typeinfo:   itk::Image<float, 3u>\n",
      "  Reference Count: 2\n",
      "  Modified Time: 2193\n",
      "  Debug: Off\n",
      "  Object Name: \n",
      "  Observers: \n",
      "    none\n",
      "  Source: (none)\n",
      "  Source output name: (none)\n",
      "  Release Data: Off\n",
      "  Data Released: False\n",
      "  Global Release Data: Off\n",
      "  PipelineMTime: 0\n",
      "  UpdateMTime: 2190\n",
      "  RealTimeStamp: 0 seconds \n",
      "  LargestPossibleRegion: \n",
      "    Dimension: 3\n",
      "    Index: [0, 0, 0]\n",
      "    Size: [197, 233, 189]\n",
      "  BufferedRegion: \n",
      "    Dimension: 3\n",
      "    Index: [0, 0, 0]\n",
      "    Size: [197, 233, 189]\n",
      "  RequestedRegion: \n",
      "    Dimension: 3\n",
      "    Index: [0, 0, 0]\n",
      "    Size: [197, 233, 189]\n",
      "  Spacing: [1, 1, 1]\n",
      "  Origin: [98, 134, -72]\n",
      "  Direction: \n",
      "-1 0 0\n",
      "0 -1 0\n",
      "0 0 1\n",
      "\n",
      "  IndexToPointMatrix: \n",
      "-1 0 0\n",
      "0 -1 0\n",
      "0 0 1\n",
      "\n",
      "  PointToIndexMatrix: \n",
      "-1 0 0\n",
      "0 -1 0\n",
      "0 0 1\n",
      "\n",
      "  Inverse Direction: \n",
      "-1 0 0\n",
      "0 -1 0\n",
      "0 0 1\n",
      "\n",
      "  PixelContainer: \n",
      "    ImportImageContainer (0x128060e70)\n",
      "      RTTI typeinfo:   itk::ImportImageContainer<unsigned long, float>\n",
      "      Reference Count: 1\n",
      "      Modified Time: 2188\n",
      "      Debug: Off\n",
      "      Object Name: \n",
      "      Observers: \n",
      "        none\n",
      "      Pointer: 0x33c5f4000\n",
      "      Container manages memory: true\n",
      "      Size: 8675289\n",
      "      Capacity: 8675289\n",
      "\n",
      "     Weighting = 1\n",
      "     Sampling strategy = regular\n",
      "     Number of bins = 32\n",
      "     Radius = 4\n",
      "     Sampling percentage  = 0.2\n",
      "   Transform = Affine\n",
      "     Gradient step = 0.25\n",
      "     Update field sigma (voxel space) = 0\n",
      "     Total field sigma (voxel space) = 0\n",
      "     Update field time sigma = 0\n",
      "     Total field time sigma  = 0\n",
      "     Number of time indices = 0\n",
      "     Number of time point samples = 0\n",
      "Stage 2 State\n",
      "   Image metric = MattesMI\n",
      "     Fixed image = Image (0x16985bdf0)\n",
      "  RTTI typeinfo:   itk::Image<float, 3u>\n",
      "  Reference Count: 2\n",
      "  Modified Time: 2244\n",
      "  Debug: Off\n",
      "  Object Name: \n",
      "  Observers: \n",
      "    none\n",
      "  Source: (none)\n",
      "  Source output name: (none)\n",
      "  Release Data: Off\n",
      "  Data Released: False\n",
      "  Global Release Data: Off\n",
      "  PipelineMTime: 0\n",
      "  UpdateMTime: 2218\n",
      "  RealTimeStamp: 0 seconds \n",
      "  LargestPossibleRegion: \n",
      "    Dimension: 3\n",
      "    Index: [0, 0, 0]\n",
      "    Size: [512, 512, 296]\n",
      "  BufferedRegion: \n",
      "    Dimension: 3\n",
      "    Index: [0, 0, 0]\n",
      "    Size: [512, 512, 296]\n",
      "  RequestedRegion: \n",
      "    Dimension: 3\n",
      "    Index: [0, 0, 0]\n",
      "    Size: [512, 512, 296]\n",
      "  Spacing: [0.4785, 0.4785, 0.5]\n",
      "  Origin: [119.989, 104.52, -84.2457]\n",
      "  Direction: \n",
      "-0.999997 0.00254 0\n",
      "-0.00254 -0.999997 0\n",
      "0 0 1\n",
      "\n",
      "  IndexToPointMatrix: \n",
      "-0.478498 0.00121539 0\n",
      "-0.00121539 -0.478498 0\n",
      "0 0 0.5\n",
      "\n",
      "  PointToIndexMatrix: \n",
      "-2.08986 -0.00530826 0\n",
      "0.00530826 -2.08986 0\n",
      "0 0 2\n",
      "\n",
      "  Inverse Direction: \n",
      "-0.999997 -0.00254 0\n",
      "0.00254 -0.999997 0\n",
      "0 0 1\n",
      "\n",
      "  PixelContainer: \n",
      "    ImportImageContainer (0x16985c0a0)\n",
      "      RTTI typeinfo:   itk::ImportImageContainer<unsigned long, float>\n",
      "      Reference Count: 1\n",
      "      Modified Time: 2216\n",
      "      Debug: Off\n",
      "      Object Name: \n",
      "      Observers: \n",
      "        none\n",
      "      Pointer: 0x386dc4000\n",
      "      Container manages memory: true\n",
      "      Size: 77594624\n",
      "      Capacity: 77594624\n",
      "\n",
      "     Moving image = Image (0x16985c100)\n",
      "  RTTI typeinfo:   itk::Image<float, 3u>\n",
      "  Reference Count: 2\n",
      "  Modified Time: 2245\n",
      "  Debug: Off\n",
      "  Object Name: \n",
      "  Observers: \n",
      "    none\n",
      "  Source: (none)\n",
      "  Source output name: (none)\n",
      "  Release Data: Off\n",
      "  Data Released: False\n",
      "  Global Release Data: Off\n",
      "  PipelineMTime: 0\n",
      "  UpdateMTime: 2242\n",
      "  RealTimeStamp: 0 seconds \n",
      "  LargestPossibleRegion: \n",
      "    Dimension: 3\n",
      "    Index: [0, 0, 0]\n",
      "    Size: [197, 233, 189]\n",
      "  BufferedRegion: \n",
      "    Dimension: 3\n",
      "    Index: [0, 0, 0]\n",
      "    Size: [197, 233, 189]\n",
      "  RequestedRegion: \n",
      "    Dimension: 3\n",
      "    Index: [0, 0, 0]\n",
      "    Size: [197, 233, 189]\n",
      "  Spacing: [1, 1, 1]\n",
      "  Origin: [98, 134, -72]\n",
      "  Direction: \n",
      "-1 0 0\n",
      "0 -1 0\n",
      "0 0 1\n",
      "\n",
      "  IndexToPointMatrix: \n",
      "-1 0 0\n",
      "0 -1 0\n",
      "0 0 1\n",
      "\n",
      "  PointToIndexMatrix: \n",
      "-1 0 0\n",
      "0 -1 0\n",
      "0 0 1\n",
      "\n",
      "  Inverse Direction: \n",
      "-1 0 0\n",
      "0 -1 0\n",
      "0 0 1\n",
      "\n",
      "  PixelContainer: \n",
      "    ImportImageContainer (0x16985c3b0)\n",
      "      RTTI typeinfo:   itk::ImportImageContainer<unsigned long, float>\n",
      "      Reference Count: 1\n",
      "      Modified Time: 2240\n",
      "      Debug: Off\n",
      "      Object Name: \n",
      "      Observers: \n",
      "        none\n",
      "      Pointer: 0x33e70c000\n",
      "      Container manages memory: true\n",
      "      Size: 8675289\n",
      "      Capacity: 8675289\n",
      "\n",
      "     Weighting = 1\n",
      "     Sampling strategy = none\n",
      "     Number of bins = 32\n",
      "     Radius = 4\n",
      "     Sampling percentage  = 1\n",
      "   Transform = SyN\n",
      "     Gradient step = 0.2\n",
      "     Update field sigma (voxel space) = 3\n",
      "     Total field sigma (voxel space) = 0\n",
      "     Update field time sigma = 0\n",
      "     Total field time sigma  = 0\n",
      "     Number of time indices = 0\n",
      "     Number of time point samples = 0\n",
      "Registration using 2 total stages.\n",
      "\n",
      "Stage 0\n",
      "  iterations = 2100x1200x1200x0\n",
      "  convergence threshold = 1e-06\n",
      "  convergence window size = 10\n",
      "  number of levels = 4\n",
      "  using the Mattes MI metric (number of bins = 32, weight = 1, use gradient filter = 0)\n",
      "  preprocessing:  histogram matching the images\n",
      "  Shrink factors (level 1 out of 4): [4, 4, 4]\n",
      "  Shrink factors (level 2 out of 4): [2, 2, 2]\n",
      "  Shrink factors (level 3 out of 4): [2, 2, 2]\n",
      "  Shrink factors (level 4 out of 4): [1, 1, 1]\n",
      "  smoothing sigmas per level: [3, 2, 1, 0]\n",
      "  regular sampling (percentage = 0.2)\n",
      "\n",
      "*** Running AffineTransform registration ***\n",
      "\n",
      "DIAGNOSTIC,Iteration,metricValue,convergenceValue,ITERATION_TIME_INDEX,SINCE_LAST\n",
      " 2DIAGNOSTIC,     1, -4.818952679634e-01, inf, 7.2545e-01, 7.2545e-01, \n",
      " 2DIAGNOSTIC,     2, -4.852522909641e-01, inf, 7.6704e-01, 4.1590e-02, \n",
      " 2DIAGNOSTIC,     3, -4.908930957317e-01, inf, 8.2668e-01, 5.9640e-02, \n",
      " 2DIAGNOSTIC,     4, -5.005742311478e-01, inf, 9.0336e-01, 7.6681e-02, \n",
      " 2DIAGNOSTIC,     5, -5.174242854118e-01, inf, 9.4609e-01, 4.2733e-02, \n",
      " 2DIAGNOSTIC,     6, -5.450478196144e-01, inf, 9.8698e-01, 4.0888e-02, \n",
      " 2DIAGNOSTIC,     7, -5.782383084297e-01, inf, 1.0359e+00, 4.8870e-02, \n",
      " 2DIAGNOSTIC,     8, -5.919463634491e-01, inf, 1.1287e+00, 9.2861e-02, \n",
      " 2DIAGNOSTIC,     9, -5.927181839943e-01, inf, 1.1771e+00, 4.8394e-02, \n",
      " 2DIAGNOSTIC,    10, -5.962675213814e-01, 1.690853573382e-02, 1.2221e+00, 4.4983e-02, \n",
      " 2DIAGNOSTIC,    11, -6.007270812988e-01, 1.485262345523e-02, 1.2686e+00, 4.6504e-02, \n",
      " 2DIAGNOSTIC,    12, -6.067056059837e-01, 1.222000923008e-02, 1.3141e+00, 4.5497e-02, \n",
      " 2DIAGNOSTIC,    13, -6.136689782143e-01, 9.424289688468e-03, 1.3607e+00, 4.6653e-02, \n",
      " 2DIAGNOSTIC,    14, -6.233401298523e-01, 6.923039909452e-03, 1.4353e+00, 7.4585e-02, \n",
      " 2DIAGNOSTIC,    15, -6.248849630356e-01, 4.770334810019e-03, 1.4781e+00, 4.2729e-02, \n",
      " 2DIAGNOSTIC,    16, -6.256087422371e-01, 3.345501841977e-03, 1.5297e+00, 5.1600e-02, \n",
      " 2DIAGNOSTIC,    17, -6.268102526665e-01, 2.796556800604e-03, 1.5947e+00, 6.5046e-02, \n",
      " 2DIAGNOSTIC,    18, -6.274402737617e-01, 2.449565101415e-03, 1.6436e+00, 4.8880e-02, \n",
      " 2DIAGNOSTIC,    19, -6.287950873375e-01, 1.967962598428e-03, 1.7002e+00, 5.6620e-02, \n",
      " 2DIAGNOSTIC,    20, -6.303184628487e-01, 1.480511855334e-03, 1.7399e+00, 3.9737e-02, \n",
      " 2DIAGNOSTIC,    21, -6.309785246849e-01, 1.025906414725e-03, 1.7826e+00, 4.2667e-02, \n",
      " 2DIAGNOSTIC,    22, -6.323193311691e-01, 6.811167695560e-04, 1.8354e+00, 5.2746e-02, \n",
      " 2DIAGNOSTIC,    23, -6.332556605339e-01, 4.660323320422e-04, 1.8765e+00, 4.1175e-02, \n",
      " 2DIAGNOSTIC,    24, -6.427087187767e-01, 6.104626227170e-04, 1.9364e+00, 5.9865e-02, \n",
      " 2DIAGNOSTIC,    25, -6.520270705223e-01, 8.886741125025e-04, 1.9800e+00, 4.3597e-02, \n",
      " 2DIAGNOSTIC,    26, -6.538556814194e-01, 1.104106195271e-03, 2.0270e+00, 4.7026e-02, \n",
      " 2DIAGNOSTIC,    27, -6.548340916634e-01, 1.240661367774e-03, 2.1147e+00, 8.7672e-02, \n",
      " 2DIAGNOSTIC,    28, -6.548258662224e-01, 1.261955476366e-03, 2.1677e+00, 5.2981e-02, \n",
      " 2DIAGNOSTIC,    29, -6.548334956169e-01, 1.182448118925e-03, 2.2149e+00, 4.7237e-02, \n",
      " 2DIAGNOSTIC,    30, -6.548334360123e-01, 1.018637791276e-03, 2.2562e+00, 4.1339e-02, \n",
      " 2DIAGNOSTIC,    31, -6.548406481743e-01, 7.812624098733e-04, 2.3159e+00, 5.9620e-02, \n",
      " 2DIAGNOSTIC,    32, -6.548441648483e-01, 5.091111524962e-04, 2.3683e+00, 5.2409e-02, \n",
      " 2DIAGNOSTIC,    33, -6.548317670822e-01, 2.179344737669e-04, 2.4151e+00, 4.6833e-02, \n",
      " 2DIAGNOSTIC,    34, -6.548177599907e-01, 5.128618795425e-05, 2.4646e+00, 4.9484e-02, \n",
      " 2DIAGNOSTIC,    35, -6.548181176186e-01, 1.374697967549e-05, 2.5108e+00, 4.6191e-02, \n",
      "DIAGNOSTIC,Iteration,metricValue,convergenceValue,ITERATION_TIME_INDEX,SINCE_LAST\n",
      " 2DIAGNOSTIC,     1, -5.710700154305e-01, inf, 3.5216e+00, 1.0109e+00, \n",
      " 2DIAGNOSTIC,     2, -5.720230340958e-01, inf, 3.7030e+00, 1.8137e-01, \n",
      " 2DIAGNOSTIC,     3, -5.722293257713e-01, inf, 3.9064e+00, 2.0335e-01, \n",
      " 2DIAGNOSTIC,     4, -5.722361207008e-01, inf, 4.1854e+00, 2.7900e-01, \n",
      " 2DIAGNOSTIC,     5, -5.722439885139e-01, inf, 4.4465e+00, 2.6112e-01, \n",
      " 2DIAGNOSTIC,     6, -5.722438693047e-01, inf, 4.6741e+00, 2.2761e-01, \n",
      " 2DIAGNOSTIC,     7, -5.722439289093e-01, inf, 4.8777e+00, 2.0356e-01, \n",
      " 2DIAGNOSTIC,     8, -5.722367167473e-01, inf, 5.1237e+00, 2.4603e-01, \n",
      " 2DIAGNOSTIC,     9, -5.722361207008e-01, inf, 5.4171e+00, 2.9339e-01, \n",
      " 2DIAGNOSTIC,    10, -5.722348690033e-01, 7.072579319356e-05, 5.6498e+00, 2.3273e-01, \n",
      " 2DIAGNOSTIC,    11, -5.722352862358e-01, 1.253587652172e-05, 5.8513e+00, 2.0150e-01, \n",
      " 2DIAGNOSTIC,    12, -5.722352266312e-01, 2.393928980382e-06, 6.0246e+00, 1.7330e-01, \n",
      " 2DIAGNOSTIC,    13, -5.722333788872e-01, 1.647692670304e-06, 6.2210e+00, 1.9636e-01, \n",
      " 2DIAGNOSTIC,    14, -5.722344517708e-01, 1.354814571641e-06, 6.4289e+00, 2.0797e-01, \n",
      " 2DIAGNOSTIC,    15, -5.722344517708e-01, 1.439929178559e-06, 6.6282e+00, 1.9923e-01, \n",
      " 2DIAGNOSTIC,    16, -5.722337365150e-01, 1.546757971482e-06, 6.8737e+00, 2.4558e-01, \n",
      " 2DIAGNOSTIC,    17, -5.722341537476e-01, 1.701634232631e-06, 7.0946e+00, 2.2085e-01, \n",
      " 2DIAGNOSTIC,    18, -5.722341537476e-01, 1.655908249631e-06, 7.2915e+00, 1.9689e-01, \n",
      " 2DIAGNOSTIC,    19, -5.722331404686e-01, 1.583385710546e-06, 7.5171e+00, 2.2561e-01, \n",
      " 2DIAGNOSTIC,    20, -5.722331404686e-01, 1.494847765571e-06, 7.7182e+00, 2.0109e-01, \n",
      " 2DIAGNOSTIC,    21, -5.722330808640e-01, 1.431605710422e-06, 7.9331e+00, 2.1496e-01, \n",
      " 2DIAGNOSTIC,    22, -5.722330212593e-01, 1.379865693707e-06, 8.1317e+00, 1.9854e-01, \n",
      " 2DIAGNOSTIC,    23, -5.722329616547e-01, 1.296404775530e-06, 8.3299e+00, 1.9825e-01, \n",
      " 2DIAGNOSTIC,    24, -5.722329616547e-01, 1.250195737157e-06, 8.5339e+00, 2.0399e-01, \n",
      " 2DIAGNOSTIC,    25, -5.722329020500e-01, 1.213783889398e-06, 8.7073e+00, 1.7342e-01, \n",
      " 2DIAGNOSTIC,    26, -5.722329616547e-01, 1.172332531496e-06, 8.9066e+00, 1.9924e-01, \n",
      " 2DIAGNOSTIC,    27, -5.722329616547e-01, 1.145891474152e-06, 9.1054e+00, 1.9880e-01, \n",
      " 2DIAGNOSTIC,    28, -5.722330212593e-01, 1.125655899159e-06, 9.2789e+00, 1.7348e-01, \n",
      " 2DIAGNOSTIC,    29, -5.722329616547e-01, 1.089100919671e-06, 9.4744e+00, 1.9551e-01, \n",
      " 2DIAGNOSTIC,    30, -5.722330212593e-01, 1.056480869011e-06, 9.6693e+00, 1.9498e-01, \n",
      " 2DIAGNOSTIC,    31, -5.722332000732e-01, 1.027949565469e-06, 9.8654e+00, 1.9608e-01, \n",
      "DIAGNOSTIC,Iteration,metricValue,convergenceValue,ITERATION_TIME_INDEX,SINCE_LAST\n",
      " 2DIAGNOSTIC,     1, -4.917006194592e-01, inf, 1.0909e+01, 1.0437e+00, \n",
      " 2DIAGNOSTIC,     2, -4.924020767212e-01, inf, 1.1080e+01, 1.7070e-01, \n",
      " 2DIAGNOSTIC,     3, -4.926559627056e-01, inf, 1.1254e+01, 1.7430e-01, \n",
      " 2DIAGNOSTIC,     4, -4.928925037384e-01, inf, 1.1489e+01, 2.3488e-01, \n",
      " 2DIAGNOSTIC,     5, -4.929440617561e-01, inf, 1.1697e+01, 2.0805e-01, \n",
      " 2DIAGNOSTIC,     6, -4.929585158825e-01, inf, 1.1896e+01, 1.9932e-01, \n",
      " 2DIAGNOSTIC,     7, -4.930089414120e-01, inf, 1.2071e+01, 1.7480e-01, \n",
      " 2DIAGNOSTIC,     8, -4.930484592915e-01, inf, 1.2249e+01, 1.7808e-01, \n",
      " 2DIAGNOSTIC,     9, -4.930858910084e-01, inf, 1.2470e+01, 2.2061e-01, \n",
      " 2DIAGNOSTIC,    10, -4.931134283543e-01, 1.382769987686e-04, 1.2643e+01, 1.7262e-01, \n",
      " 2DIAGNOSTIC,    11, -4.931457340717e-01, 7.293572707567e-05, 1.2871e+01, 2.2845e-01, \n",
      " 2DIAGNOSTIC,    12, -4.932126700878e-01, 4.891407297691e-05, 1.3071e+01, 2.0013e-01, \n",
      " 2DIAGNOSTIC,    13, -4.932328164577e-01, 3.621333598858e-05, 1.3245e+01, 1.7393e-01, \n",
      " 2DIAGNOSTIC,    14, -4.932489991188e-01, 3.264446422691e-05, 1.3444e+01, 1.9905e-01, \n",
      " 2DIAGNOSTIC,    15, -4.932688772678e-01, 2.956216121675e-05, 1.3666e+01, 2.2230e-01, \n",
      " 2DIAGNOSTIC,    16, -4.932805299759e-01, 2.524232149881e-05, 1.3840e+01, 1.7372e-01, \n",
      " 2DIAGNOSTIC,    17, -4.932918846607e-01, 2.133792077075e-05, 1.4036e+01, 1.9589e-01, \n",
      " 2DIAGNOSTIC,    18, -4.933030009270e-01, 1.766732566466e-05, 1.4283e+01, 2.4682e-01, \n",
      " 2DIAGNOSTIC,    19, -4.933131635189e-01, 1.436206639482e-05, 1.4460e+01, 1.7682e-01, \n",
      " 2DIAGNOSTIC,    20, -4.933231770992e-01, 1.128470012191e-05, 1.4656e+01, 1.9616e-01, \n",
      " 2DIAGNOSTIC,    21, -4.933340847492e-01, 8.736456038605e-06, 1.4853e+01, 1.9695e-01, \n",
      " 2DIAGNOSTIC,    22, -4.933402240276e-01, 7.650634870515e-06, 1.5050e+01, 1.9747e-01, \n",
      " 2DIAGNOSTIC,    23, -4.933520555496e-01, 6.875266080897e-06, 1.5246e+01, 1.9571e-01, \n",
      " 2DIAGNOSTIC,    24, -4.933619201183e-01, 6.261015187192e-06, 1.5421e+01, 1.7470e-01, \n",
      " 2DIAGNOSTIC,    25, -4.933690130711e-01, 5.847023203387e-06, 1.5617e+01, 1.9592e-01, \n",
      " 2DIAGNOSTIC,    26, -4.933832585812e-01, 5.604894340649e-06, 1.5815e+01, 1.9805e-01, \n",
      " 2DIAGNOSTIC,    27, -4.933905303478e-01, 5.357190275390e-06, 1.6010e+01, 1.9515e-01, \n",
      " 2DIAGNOSTIC,    28, -4.933989048004e-01, 5.130392764841e-06, 1.6187e+01, 1.7743e-01, \n",
      " 2DIAGNOSTIC,    29, -4.934062659740e-01, 4.885805537924e-06, 1.6410e+01, 2.2277e-01, \n",
      " 2DIAGNOSTIC,    30, -4.934150576591e-01, 4.655554675992e-06, 1.6584e+01, 1.7421e-01, \n",
      " 2DIAGNOSTIC,    31, -4.934183061123e-01, 4.359207196103e-06, 1.6759e+01, 1.7504e-01, \n",
      " 2DIAGNOSTIC,    32, -4.934267103672e-01, 4.024024292448e-06, 1.6957e+01, 1.9776e-01, \n",
      " 2DIAGNOSTIC,    33, -4.934333860874e-01, 3.740931333596e-06, 1.7155e+01, 1.9758e-01, \n",
      " 2DIAGNOSTIC,    34, -4.934389591217e-01, 3.469964212854e-06, 1.7328e+01, 1.7328e-01, \n",
      " 2DIAGNOSTIC,    35, -4.934468865395e-01, 3.215602873752e-06, 1.7533e+01, 2.0505e-01, \n",
      " 2DIAGNOSTIC,    36, -4.934524893761e-01, 3.071013907174e-06, 1.7735e+01, 2.0215e-01, \n",
      " 2DIAGNOSTIC,    37, -4.934599399567e-01, 2.952661134259e-06, 1.7987e+01, 2.5161e-01, \n",
      " 2DIAGNOSTIC,    38, -4.934614598751e-01, 2.787524408632e-06, 1.8213e+01, 2.2646e-01, \n",
      " 2DIAGNOSTIC,    39, -4.934608936310e-01, 2.543903974583e-06, 1.8411e+01, 1.9827e-01, \n",
      " 2DIAGNOSTIC,    40, -4.934617578983e-01, 2.287975348736e-06, 1.8611e+01, 2.0009e-01, \n",
      " 2DIAGNOSTIC,    41, -4.934614598751e-01, 1.940167749126e-06, 1.8789e+01, 1.7741e-01, \n",
      " 2DIAGNOSTIC,    42, -4.934624433517e-01, 1.624492369956e-06, 1.8963e+01, 1.7431e-01, \n",
      " 2DIAGNOSTIC,    43, -4.934633374214e-01, 1.341371785202e-06, 1.9145e+01, 1.8217e-01, \n",
      " 2DIAGNOSTIC,    44, -4.934656023979e-01, 1.115360987569e-06, 1.9348e+01, 2.0230e-01, \n",
      " 2DIAGNOSTIC,    45, -4.934686124325e-01, 1.000536371976e-06, 1.9551e+01, 2.0310e-01, \n",
      "DIAGNOSTIC,Iteration,metricValue,convergenceValue,ITERATION_TIME_INDEX,SINCE_LAST\n",
      " 2DIAGNOSTIC,     1, -4.297178685665e-01, inf, 2.2368e+01, 2.8172e+00, \n",
      "  Elapsed time (stage 0): 2.3651e+01\n",
      "\n",
      "\n",
      "Stage 1\n",
      "  iterations = 40x20x0\n",
      "  convergence threshold = 1.0000e-07\n",
      "  convergence window size = 8\n",
      "  number of levels = 3\n",
      "  using the Mattes MI metric (number of bins = 32, weight = 1.0000e+00, use gradient filter = 0)\n",
      "  preprocessing:  histogram matching the images\n",
      "  Shrink factors (level 1 out of 3): [4, 4, 4]\n",
      "  Shrink factors (level 2 out of 3): [2, 2, 2]\n",
      "  Shrink factors (level 3 out of 3): [1, 1, 1]\n",
      "  smoothing sigmas per level: [2, 1, 0]\n",
      "  Using default NONE metricSamplingStrategy \n",
      "\n",
      "*** Running SyN registration (varianceForUpdateField = 3.0000e+00, varianceForTotalField = 0.0000e+00) ***\n",
      "\n",
      "XXDIAGNOSTIC,Iteration,metricValue,convergenceValue,ITERATION_TIME_INDEX,SINCE_LAST\n",
      " 1DIAGNOSTIC,     1, -5.478988885880e-01, inf, 9.1879e-01, 9.1879e-01, \n",
      " 1DIAGNOSTIC,     2, -5.533946752548e-01, inf, 1.2070e+00, 2.8817e-01, \n",
      " 1DIAGNOSTIC,     3, -5.590735673904e-01, inf, 1.5041e+00, 2.9716e-01, \n",
      " 1DIAGNOSTIC,     4, -5.642343759537e-01, inf, 1.7987e+00, 2.9460e-01, \n",
      " 1DIAGNOSTIC,     5, -5.691726207733e-01, inf, 2.0964e+00, 2.9765e-01, \n",
      " 1DIAGNOSTIC,     6, -5.736795663834e-01, inf, 2.3961e+00, 2.9972e-01, \n",
      " 1DIAGNOSTIC,     7, -5.778627395630e-01, inf, 2.6954e+00, 2.9933e-01, \n",
      " 1DIAGNOSTIC,     8, -5.814542770386e-01, 4.901358857751e-03, 2.9998e+00, 3.0438e-01, \n",
      " 1DIAGNOSTIC,     9, -5.848081707954e-01, 4.030504263937e-03, 3.3099e+00, 3.1008e-01, \n",
      " 1DIAGNOSTIC,    10, -5.873545408249e-01, 3.278755582869e-03, 3.6253e+00, 3.1546e-01, \n",
      " 1DIAGNOSTIC,    11, -5.896204710007e-01, 2.655780408531e-03, 3.9322e+00, 3.0683e-01, \n",
      " 1DIAGNOSTIC,    12, -5.918229818344e-01, 2.143014222383e-03, 4.2351e+00, 3.0298e-01, \n",
      " 1DIAGNOSTIC,    13, -5.938082337379e-01, 1.733917975798e-03, 4.5377e+00, 3.0254e-01, \n",
      " 1DIAGNOSTIC,    14, -5.957704186440e-01, 1.420411746949e-03, 4.8499e+00, 3.1218e-01, \n",
      " 1DIAGNOSTIC,    15, -5.975781083107e-01, 1.190207432956e-03, 5.1579e+00, 3.0808e-01, \n",
      " 1DIAGNOSTIC,    16, -5.991627573967e-01, 1.014929031953e-03, 5.4639e+00, 3.0599e-01, \n",
      " 1DIAGNOSTIC,    17, -6.006283164024e-01, 8.865153649822e-04, 5.7841e+00, 3.2013e-01, \n",
      " 1DIAGNOSTIC,    18, -6.014953255653e-01, 7.595531060360e-04, 6.0880e+00, 3.0394e-01, \n",
      " 1DIAGNOSTIC,    19, -6.021087169647e-01, 6.281232926995e-04, 6.4024e+00, 3.1444e-01, \n",
      " 1DIAGNOSTIC,    20, -6.029467582703e-01, 5.107106408104e-04, 6.7054e+00, 3.0294e-01, \n",
      " 1DIAGNOSTIC,    21, -6.038483381271e-01, 4.128494474571e-04, 7.0153e+00, 3.0987e-01, \n",
      " 1DIAGNOSTIC,    22, -6.047101020813e-01, 3.410844074097e-04, 7.3141e+00, 2.9884e-01, \n",
      " 1DIAGNOSTIC,    23, -6.056634187698e-01, 2.981320430990e-04, 7.6246e+00, 3.1054e-01, \n",
      " 1DIAGNOSTIC,    24, -6.055494546890e-01, 2.517678367440e-04, 7.9295e+00, 3.0481e-01, \n",
      " 1DIAGNOSTIC,    25, -6.051419973373e-01, 1.980621018447e-04, 8.2441e+00, 3.1466e-01, \n",
      " 1DIAGNOSTIC,    26, -6.044934988022e-01, 1.247881591553e-04, 8.5677e+00, 3.2353e-01, \n",
      " 1DIAGNOSTIC,    27, -6.039816737175e-01, 4.097704004380e-05, 8.8823e+00, 3.1468e-01, \n",
      " 1DIAGNOSTIC,    28, -6.035173535347e-01, -3.453365206951e-05, 9.1956e+00, 3.1330e-01, \n",
      "XXDIAGNOSTIC,Iteration,metricValue,convergenceValue,ITERATION_TIME_INDEX,SINCE_LAST\n",
      " 1DIAGNOSTIC,     1, -5.008273124695e-01, inf, 1.3004e+01, 3.8088e+00, \n",
      " 1DIAGNOSTIC,     2, -5.016335248947e-01, inf, 1.5784e+01, 2.7799e+00, \n",
      " 1DIAGNOSTIC,     3, -5.026841163635e-01, inf, 1.8239e+01, 2.4550e+00, \n",
      " 1DIAGNOSTIC,     4, -5.036473274231e-01, inf, 2.0745e+01, 2.5061e+00, \n",
      " 1DIAGNOSTIC,     5, -5.045617818832e-01, inf, 2.3115e+01, 2.3694e+00, \n",
      " 1DIAGNOSTIC,     6, -5.054475665092e-01, inf, 2.5587e+01, 2.4725e+00, \n",
      " 1DIAGNOSTIC,     7, -5.062580108643e-01, inf, 2.8042e+01, 2.4549e+00, \n",
      " 1DIAGNOSTIC,     8, -5.070730447769e-01, 1.035263179801e-03, 3.0509e+01, 2.4669e+00, \n",
      " 1DIAGNOSTIC,     9, -5.079054832458e-01, 8.991450304165e-04, 3.3004e+01, 2.4950e+00, \n",
      " 1DIAGNOSTIC,    10, -5.087553858757e-01, 7.820320315659e-04, 3.5480e+01, 2.4755e+00, \n",
      " 1DIAGNOSTIC,    11, -5.095303654671e-01, 6.932474207133e-04, 3.7945e+01, 2.4650e+00, \n",
      " 1DIAGNOSTIC,    12, -5.102559328079e-01, 6.202884251252e-04, 4.0455e+01, 2.5099e+00, \n",
      " 1DIAGNOSTIC,    13, -5.108395814896e-01, 5.512806237675e-04, 4.3059e+01, 2.6048e+00, \n",
      " 1DIAGNOSTIC,    14, -5.114001035690e-01, 4.858863248955e-04, 4.5669e+01, 2.6099e+00, \n",
      " 1DIAGNOSTIC,    15, -5.118939876556e-01, 4.204533179291e-04, 4.8319e+01, 2.6496e+00, \n",
      " 1DIAGNOSTIC,    16, -5.124037265778e-01, 3.606185782701e-04, 5.0928e+01, 2.6087e+00, \n",
      " 1DIAGNOSTIC,    17, -5.128706693649e-01, 3.091029357165e-04, 5.3510e+01, 2.5823e+00, \n",
      " 1DIAGNOSTIC,    18, -5.126942396164e-01, 2.449475869071e-04, 5.6038e+01, 2.5281e+00, \n",
      " 1DIAGNOSTIC,    19, -5.124333500862e-01, 1.714683312457e-04, 5.8681e+01, 2.6433e+00, \n",
      " 1DIAGNOSTIC,    20, -5.120980739594e-01, 9.409968333784e-05, 6.1285e+01, 2.6042e+00, \n",
      "  Elapsed time (stage 1): 66.49\n",
      "\n",
      "\n",
      "Total elapsed time: 90.2\n"
     ]
    }
   ],
   "source": [
    "template_warp_to_raw_anat = ants.registration(\n",
    "    fixed=raw_anat_img,\n",
    "    moving=mni_template_img, \n",
    "    type_of_transform='SyN',\n",
    "    verbose=True\n",
    ")"
   ]
  },
  {
   "cell_type": "code",
   "execution_count": 9,
   "metadata": {},
   "outputs": [],
   "source": [
    "registered_template_img = template_warp_to_raw_anat['warpedmovout']"
   ]
  },
  {
   "cell_type": "markdown",
   "metadata": {},
   "source": [
    "The following comparison function asserts that the new `registered_template_img` image has been transformed to the size and shape of the `raw_anat_img`"
   ]
  },
  {
   "cell_type": "code",
   "execution_count": 10,
   "metadata": {},
   "outputs": [
    {
     "data": {
      "application/vnd.jupyter.widget-view+json": {
       "model_id": "2f5ade9cf4a349b7b5828568782b4052",
       "version_major": 2,
       "version_minor": 0
      },
      "text/plain": [
       "interactive(children=(IntSlider(value=255, description='SLICE', max=511), Output()), _dom_classes=('widget-int…"
      ]
     },
     "metadata": {},
     "output_type": "display_data"
    }
   ],
   "source": [
    "explore_3D_array_comparison(\n",
    "    arr_before=raw_anat_img.numpy(),\n",
    "    arr_after=registered_template_img.numpy()\n",
    ")\n",
    "#I don't love \"before\" and \"after\" as the names here as we are really only changing the template\n",
    "# This is pretty confusing, so just ignore the names for now\n",
    "# Maybe I'll change this and write my own helper functions"
   ]
  },
  {
   "cell_type": "markdown",
   "metadata": {},
   "source": [
    "Next, we apply this to the mask so that it fits over the brain in the data we wish to visualize"
   ]
  },
  {
   "cell_type": "code",
   "execution_count": 11,
   "metadata": {},
   "outputs": [
    {
     "name": "stdout",
     "output_type": "stream",
     "text": [
      "['-d', '3', '-i', '0x17716d108', '-o', '0x1777a24a8', '-r', '0x1777a2ce8', '-n', 'nearestNeighbor', '-t', '/var/folders/m4/rtcmkx_17lv03n9tvdf76ycr0000gn/T/tmpwia47o581Warp.nii.gz', '-t', '/var/folders/m4/rtcmkx_17lv03n9tvdf76ycr0000gn/T/tmpwia47o580GenericAffine.mat']\n",
      "Using double precision for computations.\n",
      "Input scalar image: 0x17716d108\n",
      "Could not create ImageIO for the input file, assuming dimension = 3 and scalar pixel type\n",
      "Reference image: 0x1777a2ce8\n",
      "=============================================================================\n",
      "The composite transform comprises the following transforms (in order): \n",
      "  1. /var/folders/m4/rtcmkx_17lv03n9tvdf76ycr0000gn/T/tmpwia47o580GenericAffine.mat (type = AffineTransform)\n",
      "  2. /var/folders/m4/rtcmkx_17lv03n9tvdf76ycr0000gn/T/tmpwia47o581Warp.nii.gz (type = DisplacementFieldTransform)\n",
      "=============================================================================\n",
      "Default pixel value: 0\n",
      "Interpolation type: NearestNeighborInterpolateImageFunction\n",
      "Output warped image: 0x1777a24a8\n"
     ]
    }
   ],
   "source": [
    "brain_mask = ants.apply_transforms(\n",
    "    fixed=template_warp_to_raw_anat['warpedmovout'],\n",
    "    moving=mni_template_mask,\n",
    "    transformlist=template_warp_to_raw_anat['fwdtransforms'],\n",
    "    interpolator='nearestNeighbor',\n",
    "    verbose=True\n",
    ")"
   ]
  },
  {
   "cell_type": "code",
   "execution_count": 12,
   "metadata": {},
   "outputs": [
    {
     "data": {
      "application/vnd.jupyter.widget-view+json": {
       "model_id": "5c25c118d45d454794050cc8eec03470",
       "version_major": 2,
       "version_minor": 0
      },
      "text/plain": [
       "interactive(children=(IntSlider(value=255, description='SLICE', max=511), Output()), _dom_classes=('widget-int…"
      ]
     },
     "metadata": {},
     "output_type": "display_data"
    }
   ],
   "source": [
    "explore_3D_array_with_mask_contour(raw_anat_img.numpy(), brain_mask.numpy())"
   ]
  },
  {
   "cell_type": "markdown",
   "metadata": {},
   "source": [
    "Let's fine tune the mask a bit"
   ]
  },
  {
   "cell_type": "code",
   "execution_count": 13,
   "metadata": {},
   "outputs": [],
   "source": [
    "brain_mask_dilated = ants.morphology(brain_mask, radius=4, operation='dilate', mtype='binary')"
   ]
  },
  {
   "cell_type": "code",
   "execution_count": 14,
   "metadata": {},
   "outputs": [
    {
     "data": {
      "application/vnd.jupyter.widget-view+json": {
       "model_id": "1033782358834dd4959ae2895a594878",
       "version_major": 2,
       "version_minor": 0
      },
      "text/plain": [
       "interactive(children=(IntSlider(value=255, description='SLICE', max=511), Output()), _dom_classes=('widget-int…"
      ]
     },
     "metadata": {},
     "output_type": "display_data"
    }
   ],
   "source": [
    "explore_3D_array_with_mask_contour(raw_anat_img.numpy(), brain_mask_dilated.numpy())"
   ]
  },
  {
   "cell_type": "markdown",
   "metadata": {},
   "source": [
    "# Mask the Image and Create Sections"
   ]
  },
  {
   "cell_type": "code",
   "execution_count": 15,
   "metadata": {},
   "outputs": [],
   "source": [
    "brain_anat = ants.mask_image(raw_anat_img, brain_mask_dilated)"
   ]
  },
  {
   "cell_type": "code",
   "execution_count": 16,
   "metadata": {},
   "outputs": [
    {
     "name": "stdout",
     "output_type": "stream",
     "text": [
      "ANTsImage (LPI)\n",
      "\t Pixel Type : float (float32)\n",
      "\t Components : 1\n",
      "\t Dimensions : (512, 512, 296)\n",
      "\t Spacing    : (0.4785, 0.4785, 0.5)\n",
      "\t Origin     : (119.989, 104.52, -84.2457)\n",
      "\t Direction  : [-1.      0.0025  0.     -0.0025 -1.      0.      0.      0.      1.    ]\n",
      "\n"
     ]
    },
    {
     "data": {
      "application/vnd.jupyter.widget-view+json": {
       "model_id": "dd8d61a99a864908807659c1dfe50f24",
       "version_major": 2,
       "version_minor": 0
      },
      "text/plain": [
       "interactive(children=(IntSlider(value=255, description='SLICE', max=511), Output()), _dom_classes=('widget-int…"
      ]
     },
     "metadata": {},
     "output_type": "display_data"
    }
   ],
   "source": [
    "print(brain_anat)\n",
    "explore_3D_array(brain_anat.numpy(), cmap=default_cmap)"
   ]
  },
  {
   "cell_type": "markdown",
   "metadata": {},
   "source": [
    "# Building Scivol"
   ]
  },
  {
   "cell_type": "markdown",
   "metadata": {},
   "source": [
    "It looks like ANTS already applies the affine (double check this), so I think you can just 86 that from your workflow"
   ]
  },
  {
   "cell_type": "markdown",
   "metadata": {},
   "source": [
    "Initialize the scivol object"
   ]
  },
  {
   "cell_type": "code",
   "execution_count": 17,
   "metadata": {},
   "outputs": [],
   "source": [
    "skullstrip = Scivol(\"skullstrip\")"
   ]
  },
  {
   "cell_type": "markdown",
   "metadata": {},
   "source": [
    "Create the volumes:"
   ]
  },
  {
   "cell_type": "code",
   "execution_count": 18,
   "metadata": {},
   "outputs": [],
   "source": [
    "full_anat_vol = create_normalized_volume(raw_anat_img.numpy())\n",
    "brain_anat_vol = create_normalized_volume(brain_anat.numpy())"
   ]
  },
  {
   "cell_type": "markdown",
   "metadata": {},
   "source": [
    "Create the grids:"
   ]
  },
  {
   "cell_type": "code",
   "execution_count": 19,
   "metadata": {},
   "outputs": [
    {
     "data": {
      "application/vnd.jupyter.widget-view+json": {
       "model_id": "30a277d11f1b426dacb6a3dc7929d78b",
       "version_major": 2,
       "version_minor": 0
      },
      "text/plain": [
       "interactive(children=(IntSlider(value=255, description='SLICE', max=511), Output()), _dom_classes=('widget-int…"
      ]
     },
     "metadata": {},
     "output_type": "display_data"
    },
    {
     "data": {
      "application/vnd.jupyter.widget-view+json": {
       "model_id": "fd578d8a4be44511bff30d62ef05a5b1",
       "version_major": 2,
       "version_minor": 0
      },
      "text/plain": [
       "interactive(children=(IntSlider(value=255, description='SLICE', max=511), Output()), _dom_classes=('widget-int…"
      ]
     },
     "metadata": {},
     "output_type": "display_data"
    }
   ],
   "source": [
    "explore_3D_array(full_anat_vol)\n",
    "explore_3D_array(brain_anat_vol)"
   ]
  },
  {
   "cell_type": "code",
   "execution_count": 20,
   "metadata": {},
   "outputs": [
    {
     "name": "stdout",
     "output_type": "stream",
     "text": [
      "writing full_anat to grid\n",
      "writing brain_anat to grid\n"
     ]
    }
   ],
   "source": [
    "skullstrip.add_grids([Grid(\"full_anat\",[full_anat_vol]), Grid(\"brain_anat\", [brain_anat_vol])])"
   ]
  },
  {
   "cell_type": "code",
   "execution_count": 21,
   "metadata": {},
   "outputs": [
    {
     "name": "stdout",
     "output_type": "stream",
     "text": [
      "skullstrip\n",
      "tolerance: 0.0\n",
      "affine: [[1. 0. 0. 0.]\n",
      " [0. 1. 0. 0.]\n",
      " [0. 0. 1. 0.]\n",
      " [0. 0. 0. 1.]]\n",
      "grids:\n",
      "    - full_anat\n",
      "    - brain_anat\n",
      "\n"
     ]
    }
   ],
   "source": [
    "print(skullstrip)"
   ]
  },
  {
   "cell_type": "code",
   "execution_count": null,
   "metadata": {},
   "outputs": [],
   "source": [
    "skullstrip.save_scivol(output_folder)"
   ]
  },
  {
   "cell_type": "markdown",
   "metadata": {},
   "source": [
    "Before moving to blender to render these images, let's make sure that we can parse these scivol files here"
   ]
  },
  {
   "cell_type": "code",
   "execution_count": 23,
   "metadata": {},
   "outputs": [],
   "source": [
    "# scivol_path = \"/Users/joachimpfefferkorn/repos/neurovolume/output/skullstrip.scivol\"\n",
    "# with open(scivol_path, 'r') as file:\n",
    "#     data = json.load(file)\n",
    "# print(\"scivol name: \", data['name'], \"\\n\")\n",
    "# for grid_key in data['grids'].keys():\n",
    "#     print(grid_key)\n",
    "#     vol = np.array(data['grids'][grid_key]['frames'][0])"
   ]
  },
  {
   "cell_type": "code",
   "execution_count": 24,
   "metadata": {},
   "outputs": [],
   "source": [
    "# print(data['tolerance'])\n",
    "# print((np.asarray(data['affine'])))"
   ]
  },
  {
   "cell_type": "code",
   "execution_count": 25,
   "metadata": {},
   "outputs": [],
   "source": [
    "# print(data['grids'].keys())\n",
    "# for grid in data['grids']:\n",
    "#     print(grid)"
   ]
  },
  {
   "cell_type": "markdown",
   "metadata": {},
   "source": [
    "hmm... this seems correct but blender is only reading in one grid"
   ]
  }
 ],
 "metadata": {
  "kernelspec": {
   "display_name": ".venv",
   "language": "python",
   "name": "python3"
  },
  "language_info": {
   "codemirror_mode": {
    "name": "ipython",
    "version": 3
   },
   "file_extension": ".py",
   "mimetype": "text/x-python",
   "name": "python",
   "nbconvert_exporter": "python",
   "pygments_lexer": "ipython3",
   "version": "3.11.5"
  }
 },
 "nbformat": 4,
 "nbformat_minor": 2
}
