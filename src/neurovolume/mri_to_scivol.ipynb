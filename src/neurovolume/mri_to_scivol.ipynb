{
 "cells": [
  {
   "cell_type": "markdown",
   "metadata": {},
   "source": [
    "# Gathering Data"
   ]
  },
  {
   "cell_type": "code",
   "execution_count": 2,
   "metadata": {},
   "outputs": [],
   "source": [
    "from functions import *\n",
    "from scivol import *\n",
    "from helpers import *\n",
    "import nibabel as nib\n",
    "import ipyvolume as ipv\n",
    "import numpy as np\n",
    "import json\n",
    "#import nilearn\n",
    "import ants"
   ]
  },
  {
   "cell_type": "code",
   "execution_count": 3,
   "metadata": {},
   "outputs": [
    {
     "name": "stdout",
     "output_type": "stream",
     "text": [
      "/Users/joachimpfefferkorn/repos/neurovolume\n"
     ]
    }
   ],
   "source": [
    "proj_root = parent_directory()\n",
    "print(proj_root)\n",
    "mri_input_filepath = os.path.join(proj_root, \"media/sub-01/anat/sub-01_T1w.nii.gz\")\n",
    "template_folder = \"/Users/joachimpfefferkorn/repos/neurovolume/templates\"\n",
    "output_folder = os.path.join(proj_root, \"output/\")\n",
    "\n",
    "default_cmap = 'nipy_spectral'"
   ]
  },
  {
   "cell_type": "code",
   "execution_count": 4,
   "metadata": {},
   "outputs": [],
   "source": [
    "#anat_img = nib.load(mri_input_filepath)\n",
    "raw_anat_img = ants.image_read(mri_input_filepath)"
   ]
  },
  {
   "cell_type": "code",
   "execution_count": 5,
   "metadata": {},
   "outputs": [
    {
     "name": "stdout",
     "output_type": "stream",
     "text": [
      "ANTsImage (LPI)\n",
      "\t Pixel Type : float (float32)\n",
      "\t Components : 1\n",
      "\t Dimensions : (512, 512, 296)\n",
      "\t Spacing    : (0.4785, 0.4785, 0.5)\n",
      "\t Origin     : (119.989, 104.52, -84.2457)\n",
      "\t Direction  : [-1.      0.0025  0.     -0.0025 -1.      0.      0.      0.      1.    ]\n",
      "\n"
     ]
    },
    {
     "data": {
      "application/vnd.jupyter.widget-view+json": {
       "model_id": "f12b9a93a2b94d32a3b06857b558c09e",
       "version_major": 2,
       "version_minor": 0
      },
      "text/plain": [
       "interactive(children=(IntSlider(value=255, description='SLICE', max=511), Output()), _dom_classes=('widget-int…"
      ]
     },
     "metadata": {},
     "output_type": "display_data"
    }
   ],
   "source": [
    "print(raw_anat_img)\n",
    "explore_3D_array(raw_anat_img.numpy(), cmap=default_cmap)"
   ]
  },
  {
   "cell_type": "markdown",
   "metadata": {},
   "source": [
    "# Skull Stripping\n",
    "Using ANTs\n",
    "\n",
    "[this notebook](https://github.com/Angeluz-07/MRI-preprocessing-techniques/blob/main/notebooks/09_brain_extraction_with_template.ipynb) is what we're basing this on"
   ]
  },
  {
   "cell_type": "markdown",
   "metadata": {},
   "source": [
    "## Load Template and Mask"
   ]
  },
  {
   "cell_type": "code",
   "execution_count": 6,
   "metadata": {},
   "outputs": [],
   "source": [
    "mni_template_img = ants.image_read(f\"{template_folder}/mni_icbm152_t1_tal_nlin_sym_09a.nii\")\n",
    "mni_template_mask = ants.image_read(f\"{template_folder}/mni_icbm152_t1_tal_nlin_sym_09a_mask.nii\")"
   ]
  },
  {
   "cell_type": "code",
   "execution_count": 7,
   "metadata": {},
   "outputs": [
    {
     "name": "stdout",
     "output_type": "stream",
     "text": [
      "ANTsImage (LPI)\n",
      "\t Pixel Type : float (float32)\n",
      "\t Components : 1\n",
      "\t Dimensions : (197, 233, 189)\n",
      "\t Spacing    : (1.0, 1.0, 1.0)\n",
      "\t Origin     : (98.0, 134.0, -72.0)\n",
      "\t Direction  : [-1.  0.  0.  0. -1.  0.  0.  0.  1.]\n",
      "\n"
     ]
    },
    {
     "data": {
      "application/vnd.jupyter.widget-view+json": {
       "model_id": "a84c7070b2ec49879587af98e36be5f3",
       "version_major": 2,
       "version_minor": 0
      },
      "text/plain": [
       "interactive(children=(IntSlider(value=98, description='SLICE', max=196), Output()), _dom_classes=('widget-inte…"
      ]
     },
     "metadata": {},
     "output_type": "display_data"
    }
   ],
   "source": [
    "print(mni_template_img)\n",
    "explore_3D_array(mni_template_img.numpy(), cmap=default_cmap)"
   ]
  },
  {
   "cell_type": "code",
   "execution_count": 8,
   "metadata": {},
   "outputs": [
    {
     "name": "stdout",
     "output_type": "stream",
     "text": [
      "ANTsImage (LPI)\n",
      "\t Pixel Type : float (float32)\n",
      "\t Components : 1\n",
      "\t Dimensions : (197, 233, 189)\n",
      "\t Spacing    : (1.0, 1.0, 1.0)\n",
      "\t Origin     : (98.0, 134.0, -72.0)\n",
      "\t Direction  : [-1.  0.  0.  0. -1.  0.  0.  0.  1.]\n",
      "\n"
     ]
    },
    {
     "data": {
      "application/vnd.jupyter.widget-view+json": {
       "model_id": "d7dc93f396d24a179ea17056a95efcd3",
       "version_major": 2,
       "version_minor": 0
      },
      "text/plain": [
       "interactive(children=(IntSlider(value=98, description='SLICE', max=196), Output()), _dom_classes=('widget-inte…"
      ]
     },
     "metadata": {},
     "output_type": "display_data"
    }
   ],
   "source": [
    "print(mni_template_mask)\n",
    "explore_3D_array(mni_template_mask.numpy(), cmap=default_cmap)"
   ]
  },
  {
   "cell_type": "markdown",
   "metadata": {},
   "source": [
    "## Register Template and Masks to Raw image\n",
    "Here we warp the MNI template"
   ]
  },
  {
   "cell_type": "code",
   "execution_count": 9,
   "metadata": {},
   "outputs": [
    {
     "name": "stdout",
     "output_type": "stream",
     "text": [
      "antsRegistration -d 3 -r [0x13a564d28,0x10fa7ba48,1] -m mattes[0x13a564d28,0x10fa7ba48,1,32,regular,0.2] -t Affine[0.25] -c 2100x1200x1200x0 -s 3x2x1x0 -f 4x2x2x1 -x [NA,NA] -m mattes[0x13a564d28,0x10fa7ba48,1,32] -t SyN[0.200000,3.000000,0.000000] -c [40x20x0,1e-7,8] -s 2x1x0 -f 4x2x1 -u 1 -z 1 -o [/var/folders/m4/rtcmkx_17lv03n9tvdf76ycr0000gn/T/tmpdmc7s5k_,0x13a565168,0x13a5651e8] -x [NA,NA] --float 1 --write-composite-transform 0 -v 1\n",
      "All_Command_lines_OK\n",
      "Using single precision for computations.\n",
      "=============================================================================\n",
      "The composite transform comprises the following transforms (in order): \n",
      "  1. Center of mass alignment using fixed image: 0x13a564d28 and moving image: 0x10fa7ba48 (type = Euler3DTransform)\n",
      "=============================================================================\n",
      "  Reading mask(s).\n",
      "    Registration stage 0\n",
      "      No fixed mask\n",
      "      No moving mask\n",
      "    Registration stage 1\n",
      "      No fixed mask\n",
      "      No moving mask\n",
      "  number of levels = 4\n",
      "  number of levels = 3\n",
      "  fixed image: 0x13a564d28\n",
      "  moving image: 0x10fa7ba48\n",
      "  fixed image: 0x13a564d28\n",
      "  moving image: 0x10fa7ba48\n",
      "Dimension = 3\n",
      "Number of stages = 2\n",
      "Use histogram matching = true\n",
      "Winsorize image intensities = false\n",
      "  Lower quantile = 0\n",
      "  Upper quantile = 1\n",
      "\n",
      "\n",
      "Stage 1 State\n",
      "   Image metric = MattesMI\n",
      "     Fixed image = Image (0x10558aa90)\n",
      "  RTTI typeinfo:   itk::Image<float, 3u>\n",
      "  Reference Count: 2\n",
      "  Modified Time: 2192\n",
      "  Debug: Off\n",
      "  Object Name: \n",
      "  Observers: \n",
      "    none\n",
      "  Source: (none)\n",
      "  Source output name: (none)\n",
      "  Release Data: Off\n",
      "  Data Released: False\n",
      "  Global Release Data: Off\n",
      "  PipelineMTime: 0\n",
      "  UpdateMTime: 2166\n",
      "  RealTimeStamp: 0 seconds \n",
      "  LargestPossibleRegion: \n",
      "    Dimension: 3\n",
      "    Index: [0, 0, 0]\n",
      "    Size: [512, 512, 296]\n",
      "  BufferedRegion: \n",
      "    Dimension: 3\n",
      "    Index: [0, 0, 0]\n",
      "    Size: [512, 512, 296]\n",
      "  RequestedRegion: \n",
      "    Dimension: 3\n",
      "    Index: [0, 0, 0]\n",
      "    Size: [512, 512, 296]\n",
      "  Spacing: [0.4785, 0.4785, 0.5]\n",
      "  Origin: [119.989, 104.52, -84.2457]\n",
      "  Direction: \n",
      "-0.999997 0.00254 0\n",
      "-0.00254 -0.999997 0\n",
      "0 0 1\n",
      "\n",
      "  IndexToPointMatrix: \n",
      "-0.478498 0.00121539 0\n",
      "-0.00121539 -0.478498 0\n",
      "0 0 0.5\n",
      "\n",
      "  PointToIndexMatrix: \n",
      "-2.08986 -0.00530826 0\n",
      "0.00530826 -2.08986 0\n",
      "0 0 2\n",
      "\n",
      "  Inverse Direction: \n",
      "-0.999997 -0.00254 0\n",
      "0.00254 -0.999997 0\n",
      "0 0 1\n",
      "\n",
      "  PixelContainer: \n",
      "    ImportImageContainer (0x10558ad40)\n",
      "      RTTI typeinfo:   itk::ImportImageContainer<unsigned long, float>\n",
      "      Reference Count: 1\n",
      "      Modified Time: 2164\n",
      "      Debug: Off\n",
      "      Object Name: \n",
      "      Observers: \n",
      "        none\n",
      "      Pointer: 0x367e0c000\n",
      "      Container manages memory: true\n",
      "      Size: 77594624\n",
      "      Capacity: 77594624\n",
      "\n",
      "     Moving image = Image (0x10558ade0)\n",
      "  RTTI typeinfo:   itk::Image<float, 3u>\n",
      "  Reference Count: 2\n",
      "  Modified Time: 2193\n",
      "  Debug: Off\n",
      "  Object Name: \n",
      "  Observers: \n",
      "    none\n",
      "  Source: (none)\n",
      "  Source output name: (none)\n",
      "  Release Data: Off\n",
      "  Data Released: False\n",
      "  Global Release Data: Off\n",
      "  PipelineMTime: 0\n",
      "  UpdateMTime: 2190\n",
      "  RealTimeStamp: 0 seconds \n",
      "  LargestPossibleRegion: \n",
      "    Dimension: 3\n",
      "    Index: [0, 0, 0]\n",
      "    Size: [197, 233, 189]\n",
      "  BufferedRegion: \n",
      "    Dimension: 3\n",
      "    Index: [0, 0, 0]\n",
      "    Size: [197, 233, 189]\n",
      "  RequestedRegion: \n",
      "    Dimension: 3\n",
      "    Index: [0, 0, 0]\n",
      "    Size: [197, 233, 189]\n",
      "  Spacing: [1, 1, 1]\n",
      "  Origin: [98, 134, -72]\n",
      "  Direction: \n",
      "-1 0 0\n",
      "0 -1 0\n",
      "0 0 1\n",
      "\n",
      "  IndexToPointMatrix: \n",
      "-1 0 0\n",
      "0 -1 0\n",
      "0 0 1\n",
      "\n",
      "  PointToIndexMatrix: \n",
      "-1 0 0\n",
      "0 -1 0\n",
      "0 0 1\n",
      "\n",
      "  Inverse Direction: \n",
      "-1 0 0\n",
      "0 -1 0\n",
      "0 0 1\n",
      "\n",
      "  PixelContainer: \n",
      "    ImportImageContainer (0x10558aa30)\n",
      "      RTTI typeinfo:   itk::ImportImageContainer<unsigned long, float>\n",
      "      Reference Count: 1\n",
      "      Modified Time: 2188\n",
      "      Debug: Off\n",
      "      Object Name: \n",
      "      Observers: \n",
      "        none\n",
      "      Pointer: 0x37a60c000\n",
      "      Container manages memory: true\n",
      "      Size: 8675289\n",
      "      Capacity: 8675289\n",
      "\n",
      "     Weighting = 1\n",
      "     Sampling strategy = regular\n",
      "     Number of bins = 32\n",
      "     Radius = 4\n",
      "     Sampling percentage  = 0.2\n",
      "   Transform = Affine\n",
      "     Gradient step = 0.25\n",
      "     Update field sigma (voxel space) = 0\n",
      "     Total field sigma (voxel space) = 0\n",
      "     Update field time sigma = 0\n",
      "     Total field time sigma  = 0\n",
      "     Number of time indices = 0\n",
      "     Number of time point samples = 0\n",
      "Stage 2 State\n",
      "   Image metric = MattesMI\n",
      "     Fixed image = Image (0x10fdfb9d0)\n",
      "  RTTI typeinfo:   itk::Image<float, 3u>\n",
      "  Reference Count: 2\n",
      "  Modified Time: 2244\n",
      "  Debug: Off\n",
      "  Object Name: \n",
      "  Observers: \n",
      "    none\n",
      "  Source: (none)\n",
      "  Source output name: (none)\n",
      "  Release Data: Off\n",
      "  Data Released: False\n",
      "  Global Release Data: Off\n",
      "  PipelineMTime: 0\n",
      "  UpdateMTime: 2218\n",
      "  RealTimeStamp: 0 seconds \n",
      "  LargestPossibleRegion: \n",
      "    Dimension: 3\n",
      "    Index: [0, 0, 0]\n",
      "    Size: [512, 512, 296]\n",
      "  BufferedRegion: \n",
      "    Dimension: 3\n",
      "    Index: [0, 0, 0]\n",
      "    Size: [512, 512, 296]\n",
      "  RequestedRegion: \n",
      "    Dimension: 3\n",
      "    Index: [0, 0, 0]\n",
      "    Size: [512, 512, 296]\n",
      "  Spacing: [0.4785, 0.4785, 0.5]\n",
      "  Origin: [119.989, 104.52, -84.2457]\n",
      "  Direction: \n",
      "-0.999997 0.00254 0\n",
      "-0.00254 -0.999997 0\n",
      "0 0 1\n",
      "\n",
      "  IndexToPointMatrix: \n",
      "-0.478498 0.00121539 0\n",
      "-0.00121539 -0.478498 0\n",
      "0 0 0.5\n",
      "\n",
      "  PointToIndexMatrix: \n",
      "-2.08986 -0.00530826 0\n",
      "0.00530826 -2.08986 0\n",
      "0 0 2\n",
      "\n",
      "  Inverse Direction: \n",
      "-0.999997 -0.00254 0\n",
      "0.00254 -0.999997 0\n",
      "0 0 1\n",
      "\n",
      "  PixelContainer: \n",
      "    ImportImageContainer (0x10fdfb910)\n",
      "      RTTI typeinfo:   itk::ImportImageContainer<unsigned long, float>\n",
      "      Reference Count: 1\n",
      "      Modified Time: 2216\n",
      "      Debug: Off\n",
      "      Object Name: \n",
      "      Observers: \n",
      "        none\n",
      "      Pointer: 0x37c724000\n",
      "      Container manages memory: true\n",
      "      Size: 77594624\n",
      "      Capacity: 77594624\n",
      "\n",
      "     Moving image = Image (0x139ee7630)\n",
      "  RTTI typeinfo:   itk::Image<float, 3u>\n",
      "  Reference Count: 2\n",
      "  Modified Time: 2245\n",
      "  Debug: Off\n",
      "  Object Name: \n",
      "  Observers: \n",
      "    none\n",
      "  Source: (none)\n",
      "  Source output name: (none)\n",
      "  Release Data: Off\n",
      "  Data Released: False\n",
      "  Global Release Data: Off\n",
      "  PipelineMTime: 0\n",
      "  UpdateMTime: 2242\n",
      "  RealTimeStamp: 0 seconds \n",
      "  LargestPossibleRegion: \n",
      "    Dimension: 3\n",
      "    Index: [0, 0, 0]\n",
      "    Size: [197, 233, 189]\n",
      "  BufferedRegion: \n",
      "    Dimension: 3\n",
      "    Index: [0, 0, 0]\n",
      "    Size: [197, 233, 189]\n",
      "  RequestedRegion: \n",
      "    Dimension: 3\n",
      "    Index: [0, 0, 0]\n",
      "    Size: [197, 233, 189]\n",
      "  Spacing: [1, 1, 1]\n",
      "  Origin: [98, 134, -72]\n",
      "  Direction: \n",
      "-1 0 0\n",
      "0 -1 0\n",
      "0 0 1\n",
      "\n",
      "  IndexToPointMatrix: \n",
      "-1 0 0\n",
      "0 -1 0\n",
      "0 0 1\n",
      "\n",
      "  PointToIndexMatrix: \n",
      "-1 0 0\n",
      "0 -1 0\n",
      "0 0 1\n",
      "\n",
      "  Inverse Direction: \n",
      "-1 0 0\n",
      "0 -1 0\n",
      "0 0 1\n",
      "\n",
      "  PixelContainer: \n",
      "    ImportImageContainer (0x139e77470)\n",
      "      RTTI typeinfo:   itk::ImportImageContainer<unsigned long, float>\n",
      "      Reference Count: 1\n",
      "      Modified Time: 2240\n",
      "      Debug: Off\n",
      "      Object Name: \n",
      "      Observers: \n",
      "        none\n",
      "      Pointer: 0x38ef24000\n",
      "      Container manages memory: true\n",
      "      Size: 8675289\n",
      "      Capacity: 8675289\n",
      "\n",
      "     Weighting = 1\n",
      "     Sampling strategy = none\n",
      "     Number of bins = 32\n",
      "     Radius = 4\n",
      "     Sampling percentage  = 1\n",
      "   Transform = SyN\n",
      "     Gradient step = 0.2\n",
      "     Update field sigma (voxel space) = 3\n",
      "     Total field sigma (voxel space) = 0\n",
      "     Update field time sigma = 0\n",
      "     Total field time sigma  = 0\n",
      "     Number of time indices = 0\n",
      "     Number of time point samples = 0\n",
      "Registration using 2 total stages.\n",
      "\n",
      "Stage 0\n",
      "  iterations = 2100x1200x1200x0\n",
      "  convergence threshold = 1e-06\n",
      "  convergence window size = 10\n",
      "  number of levels = 4\n",
      "  using the Mattes MI metric (number of bins = 32, weight = 1, use gradient filter = 0)\n",
      "  preprocessing:  histogram matching the images\n",
      "  Shrink factors (level 1 out of 4): [4, 4, 4]\n",
      "  Shrink factors (level 2 out of 4): [2, 2, 2]\n",
      "  Shrink factors (level 3 out of 4): [2, 2, 2]\n",
      "  Shrink factors (level 4 out of 4): [1, 1, 1]\n",
      "  smoothing sigmas per level: [3, 2, 1, 0]\n",
      "  regular sampling (percentage = 0.2)\n",
      "\n",
      "*** Running AffineTransform registration ***\n",
      "\n",
      "DIAGNOSTIC,Iteration,metricValue,convergenceValue,ITERATION_TIME_INDEX,SINCE_LAST\n",
      " 2DIAGNOSTIC,     1, -4.780353605747e-01, inf, 7.1686e-01, 7.1686e-01, \n",
      " 2DIAGNOSTIC,     2, -4.814916551113e-01, inf, 7.5632e-01, 3.9465e-02, \n",
      " 2DIAGNOSTIC,     3, -4.874077439308e-01, inf, 7.9553e-01, 3.9207e-02, \n",
      " 2DIAGNOSTIC,     4, -4.973593950272e-01, inf, 8.3488e-01, 3.9355e-02, \n",
      " 2DIAGNOSTIC,     5, -5.144279599190e-01, inf, 8.7435e-01, 3.9466e-02, \n",
      " 2DIAGNOSTIC,     6, -5.422874689102e-01, inf, 9.1481e-01, 4.0465e-02, \n",
      " 2DIAGNOSTIC,     7, -5.772860646248e-01, inf, 9.7977e-01, 6.4954e-02, \n",
      " 2DIAGNOSTIC,     8, -5.852043628693e-01, inf, 1.0899e+00, 1.1015e-01, \n",
      " 2DIAGNOSTIC,     9, -5.852318406105e-01, inf, 1.1391e+00, 4.9143e-02, \n",
      " 2DIAGNOSTIC,    10, -5.853033661842e-01, 1.643957942724e-02, 1.1817e+00, 4.2691e-02, \n",
      " 2DIAGNOSTIC,    11, -5.854248404503e-01, 1.392556168139e-02, 1.2214e+00, 3.9695e-02, \n",
      " 2DIAGNOSTIC,    12, -5.856248736382e-01, 1.076244283468e-02, 1.2616e+00, 4.0172e-02, \n",
      " 2DIAGNOSTIC,    13, -5.859581828117e-01, 7.410688325763e-03, 1.3019e+00, 4.0305e-02, \n",
      " 2DIAGNOSTIC,    14, -5.865004658699e-01, 4.303594119847e-03, 1.3419e+00, 3.9976e-02, \n",
      " 2DIAGNOSTIC,    15, -5.873408913612e-01, 1.853514811955e-03, 1.3870e+00, 4.5098e-02, \n",
      " 2DIAGNOSTIC,    16, -5.886217951775e-01, 4.653740325011e-04, 1.4269e+00, 3.9864e-02, \n",
      " 2DIAGNOSTIC,    17, -5.903808474541e-01, 3.066963981837e-04, 1.4668e+00, 3.9929e-02, \n",
      " 2DIAGNOSTIC,    18, -5.926195383072e-01, 4.254471859895e-04, 1.5065e+00, 3.9720e-02, \n",
      " 2DIAGNOSTIC,    19, -5.956301093102e-01, 5.720237968490e-04, 1.5474e+00, 4.0919e-02, \n",
      " 2DIAGNOSTIC,    20, -6.004589200020e-01, 7.727405754849e-04, 1.5879e+00, 4.0461e-02, \n",
      " 2DIAGNOSTIC,    21, -6.103705763817e-01, 1.119372318499e-03, 1.6271e+00, 3.9243e-02, \n",
      " 2DIAGNOSTIC,    22, -6.198470592499e-01, 1.542947604321e-03, 1.6923e+00, 6.5185e-02, \n",
      " 2DIAGNOSTIC,    23, -6.218101978302e-01, 1.829911023378e-03, 1.7309e+00, 3.8607e-02, \n",
      " 2DIAGNOSTIC,    24, -6.237403750420e-01, 1.974455080926e-03, 1.7701e+00, 3.9201e-02, \n",
      " 2DIAGNOSTIC,    25, -6.271928548813e-01, 2.006742404774e-03, 1.8279e+00, 5.7761e-02, \n",
      " 2DIAGNOSTIC,    26, -6.285592913628e-01, 1.893964246847e-03, 1.8673e+00, 3.9400e-02, \n",
      " 2DIAGNOSTIC,    27, -6.291667819023e-01, 1.653502113186e-03, 1.9062e+00, 3.8889e-02, \n",
      " 2DIAGNOSTIC,    28, -6.303507089615e-01, 1.338189234957e-03, 1.9525e+00, 4.6347e-02, \n",
      " 2DIAGNOSTIC,    29, -6.309365034103e-01, 9.825113229454e-04, 2.0044e+00, 5.1868e-02, \n",
      " 2DIAGNOSTIC,    30, -6.315139532089e-01, 6.445582257584e-04, 2.0430e+00, 3.8569e-02, \n",
      " 2DIAGNOSTIC,    31, -6.322063207626e-01, 4.319059662521e-04, 2.0813e+00, 3.8377e-02, \n",
      " 2DIAGNOSTIC,    32, -6.342722773552e-01, 3.677902859636e-04, 2.1310e+00, 4.9628e-02, \n",
      " 2DIAGNOSTIC,    33, -6.348055005074e-01, 3.089215024374e-04, 2.1710e+00, 4.0039e-02, \n",
      " 2DIAGNOSTIC,    34, -6.352556943893e-01, 2.574390091468e-04, 2.2138e+00, 4.2771e-02, \n",
      " 2DIAGNOSTIC,    35, -6.422836184502e-01, 3.288856823929e-04, 2.2605e+00, 4.6734e-02, \n",
      " 2DIAGNOSTIC,    36, -6.426308751106e-01, 3.850740031339e-04, 2.3110e+00, 5.0478e-02, \n",
      " 2DIAGNOSTIC,    37, -6.429697275162e-01, 4.140713426750e-04, 2.3481e+00, 3.7143e-02, \n",
      " 2DIAGNOSTIC,    38, -6.433674097061e-01, 4.232021747157e-04, 2.3866e+00, 3.8488e-02, \n",
      " 2DIAGNOSTIC,    39, -6.495801806450e-01, 4.745360347442e-04, 2.4446e+00, 5.7969e-02, \n",
      " 2DIAGNOSTIC,    40, -6.504753232002e-01, 4.922328516841e-04, 2.4831e+00, 3.8544e-02, \n",
      " 2DIAGNOSTIC,    41, -6.509371399879e-01, 4.752870881930e-04, 2.5286e+00, 4.5513e-02, \n",
      " 2DIAGNOSTIC,    42, -6.515186429024e-01, 4.460612253752e-04, 2.6007e+00, 7.2019e-02, \n",
      " 2DIAGNOSTIC,    43, -6.516265273094e-01, 3.834482922684e-04, 2.6464e+00, 4.5784e-02, \n",
      " 2DIAGNOSTIC,    44, -6.522989869118e-01, 2.963281003758e-04, 2.6863e+00, 3.9849e-02, \n",
      " 2DIAGNOSTIC,    45, -6.527189016342e-01, 2.626297355164e-04, 2.7752e+00, 8.8933e-02, \n",
      " 2DIAGNOSTIC,    46, -6.527933478355e-01, 2.106369065586e-04, 2.8178e+00, 4.2603e-02, \n",
      " 2DIAGNOSTIC,    47, -6.528770923615e-01, 1.459889608668e-04, 2.8567e+00, 3.8841e-02, \n",
      " 2DIAGNOSTIC,    48, -6.529654860497e-01, 7.352343527600e-05, 2.8967e+00, 4.0043e-02, \n",
      " 2DIAGNOSTIC,    49, -6.531554460526e-01, 5.817653800477e-05, 2.9364e+00, 3.9662e-02, \n",
      " 2DIAGNOSTIC,    50, -6.534273624420e-01, 4.872857971350e-05, 2.9766e+00, 4.0177e-02, \n",
      " 2DIAGNOSTIC,    51, -6.538058519363e-01, 4.265646202839e-05, 3.0157e+00, 3.9105e-02, \n",
      " 2DIAGNOSTIC,    52, -6.541727185249e-01, 4.135548442719e-05, 3.0937e+00, 7.8092e-02, \n",
      " 2DIAGNOSTIC,    53, -6.543301343918e-01, 3.838512202492e-05, 3.1408e+00, 4.7014e-02, \n",
      " 2DIAGNOSTIC,    54, -6.543789505959e-01, 3.804787775152e-05, 3.1799e+00, 3.9169e-02, \n",
      " 2DIAGNOSTIC,    55, -6.544431447983e-01, 3.821916106972e-05, 3.2187e+00, 3.8808e-02, \n",
      " 2DIAGNOSTIC,    56, -6.545043587685e-01, 3.585118611227e-05, 3.2636e+00, 4.4818e-02, \n",
      " 2DIAGNOSTIC,    57, -6.545183658600e-01, 3.094831845374e-05, 3.3088e+00, 4.5208e-02, \n",
      " 2DIAGNOSTIC,    58, -6.545570492744e-01, 2.433306508465e-05, 3.3735e+00, 6.4704e-02, \n",
      " 2DIAGNOSTIC,    59, -6.545683741570e-01, 1.725967558741e-05, 3.4242e+00, 5.0756e-02, \n",
      " 2DIAGNOSTIC,    60, -6.545607447624e-01, 1.082720064005e-05, 3.4741e+00, 4.9897e-02, \n",
      " 2DIAGNOSTIC,    61, -6.545664072037e-01, 6.472657787526e-06, 3.5118e+00, 3.7687e-02, \n",
      " 2DIAGNOSTIC,    62, -6.545732021332e-01, 4.446290859050e-06, 3.5510e+00, 3.9147e-02, \n",
      " 2DIAGNOSTIC,    63, -6.545843482018e-01, 3.338805754538e-06, 3.5891e+00, 3.8153e-02, \n",
      " 2DIAGNOSTIC,    64, -6.546308994293e-01, 2.673330754988e-06, 3.6280e+00, 3.8931e-02, \n",
      " 2DIAGNOSTIC,    65, -6.547269225121e-01, 2.940485956060e-06, 3.7092e+00, 8.1192e-02, \n",
      " 2DIAGNOSTIC,    66, -6.547424197197e-01, 3.486094783511e-06, 3.7543e+00, 4.5087e-02, \n",
      " 2DIAGNOSTIC,    67, -6.547420620918e-01, 3.822508006124e-06, 3.8019e+00, 4.7599e-02, \n",
      " 2DIAGNOSTIC,    68, -6.547427773476e-01, 4.100934347662e-06, 3.8690e+00, 6.7066e-02, \n",
      " 2DIAGNOSTIC,    69, -6.547414064407e-01, 4.085535238119e-06, 3.9157e+00, 4.6757e-02, \n",
      " 2DIAGNOSTIC,    70, -6.547412872314e-01, 3.661897608254e-06, 3.9624e+00, 4.6688e-02, \n",
      " 2DIAGNOSTIC,    71, -6.547399163246e-01, 2.972051788674e-06, 4.0061e+00, 4.3712e-02, \n",
      " 2DIAGNOSTIC,    72, -6.547399163246e-01, 2.115529014191e-06, 4.0509e+00, 4.4725e-02, \n",
      " 2DIAGNOSTIC,    73, -6.547392606735e-01, 1.190284365293e-06, 4.0955e+00, 4.4672e-02, \n",
      "DIAGNOSTIC,Iteration,metricValue,convergenceValue,ITERATION_TIME_INDEX,SINCE_LAST\n",
      " 2DIAGNOSTIC,     1, -5.702050924301e-01, inf, 5.1731e+00, 1.0775e+00, \n",
      " 2DIAGNOSTIC,     2, -5.709964632988e-01, inf, 5.3499e+00, 1.7687e-01, \n",
      " 2DIAGNOSTIC,     3, -5.711606740952e-01, inf, 5.5247e+00, 1.7473e-01, \n",
      " 2DIAGNOSTIC,     4, -5.712512731552e-01, inf, 5.7044e+00, 1.7972e-01, \n",
      " 2DIAGNOSTIC,     5, -5.713945031166e-01, inf, 5.8815e+00, 1.7709e-01, \n",
      " 2DIAGNOSTIC,     6, -5.715262293816e-01, inf, 6.1344e+00, 2.5295e-01, \n",
      " 2DIAGNOSTIC,     7, -5.715604424477e-01, inf, 6.3348e+00, 2.0039e-01, \n",
      " 2DIAGNOSTIC,     8, -5.715966820717e-01, inf, 6.5069e+00, 1.7212e-01, \n",
      " 2DIAGNOSTIC,     9, -5.717895627022e-01, inf, 6.7034e+00, 1.9650e-01, \n",
      " 2DIAGNOSTIC,    10, -5.720404982567e-01, 1.524254912511e-04, 6.9260e+00, 2.2257e-01, \n",
      " 2DIAGNOSTIC,    11, -5.721003413200e-01, 1.091632075259e-04, 7.1236e+00, 1.9758e-01, \n",
      " 2DIAGNOSTIC,    12, -5.721445679665e-01, 9.830202907324e-05, 7.3232e+00, 1.9962e-01, \n",
      " 2DIAGNOSTIC,    13, -5.721741914749e-01, 8.802008233033e-05, 7.5531e+00, 2.2994e-01, \n",
      " 2DIAGNOSTIC,    14, -5.721838474274e-01, 7.479677879019e-05, 7.7412e+00, 1.8809e-01, \n",
      " 2DIAGNOSTIC,    15, -5.722558498383e-01, 6.361377745634e-05, 8.0248e+00, 2.8357e-01, \n",
      " 2DIAGNOSTIC,    16, -5.722573399544e-01, 5.230011447566e-05, 8.2533e+00, 2.2846e-01, \n",
      " 2DIAGNOSTIC,    17, -5.722559690475e-01, 3.880171789206e-05, 8.4799e+00, 2.2667e-01, \n",
      " 2DIAGNOSTIC,    18, -5.722551345825e-01, 2.434283669572e-05, 8.6553e+00, 1.7533e-01, \n",
      " 2DIAGNOSTIC,    19, -5.722536444664e-01, 1.415826318407e-05, 8.8779e+00, 2.2268e-01, \n",
      " 2DIAGNOSTIC,    20, -5.722531676292e-01, 1.000896099868e-05, 9.1104e+00, 2.3250e-01, \n",
      " 2DIAGNOSTIC,    21, -5.722519755363e-01, 6.833684437879e-06, 9.3488e+00, 2.3835e-01, \n",
      " 2DIAGNOSTIC,    22, -5.722514390945e-01, 4.447972514754e-06, 9.5685e+00, 2.1976e-01, \n",
      " 2DIAGNOSTIC,    23, -5.722506046295e-01, 2.624512262628e-06, 9.8698e+00, 3.0125e-01, \n",
      "DIAGNOSTIC,Iteration,metricValue,convergenceValue,ITERATION_TIME_INDEX,SINCE_LAST\n",
      " 2DIAGNOSTIC,     1, -4.876982867718e-01, inf, 1.1034e+01, 1.1641e+00, \n",
      " 2DIAGNOSTIC,     2, -4.883507490158e-01, inf, 1.1211e+01, 1.7736e-01, \n",
      " 2DIAGNOSTIC,     3, -4.884839951992e-01, inf, 1.1389e+01, 1.7759e-01, \n",
      " 2DIAGNOSTIC,     4, -4.885726571083e-01, inf, 1.1621e+01, 2.3237e-01, \n",
      " 2DIAGNOSTIC,     5, -4.885891377926e-01, inf, 1.1850e+01, 2.2838e-01, \n",
      " 2DIAGNOSTIC,     6, -4.885885715485e-01, inf, 1.2138e+01, 2.8810e-01, \n",
      " 2DIAGNOSTIC,     7, -4.885879456997e-01, inf, 1.2413e+01, 2.7508e-01, \n",
      " 2DIAGNOSTIC,     8, -4.885880351067e-01, inf, 1.2655e+01, 2.4201e-01, \n",
      " 2DIAGNOSTIC,     9, -4.885877668858e-01, inf, 1.2872e+01, 2.1750e-01, \n",
      " 2DIAGNOSTIC,    10, -4.885879456997e-01, 7.164484122768e-05, 1.3089e+01, 2.1680e-01, \n",
      " 2DIAGNOSTIC,    11, -4.885881841183e-01, 2.077475255646e-05, 1.3305e+01, 2.1562e-01, \n",
      " 2DIAGNOSTIC,    12, -4.885887801647e-01, 8.324065674969e-06, 1.3562e+01, 2.5719e-01, \n",
      " 2DIAGNOSTIC,    13, -4.885887801647e-01, 3.134054395559e-06, 1.3793e+01, 2.3148e-01, \n",
      " 2DIAGNOSTIC,    14, -4.885886907578e-01, 2.283722324137e-06, 1.4011e+01, 2.1779e-01, \n",
      " 2DIAGNOSTIC,    15, -4.885886907578e-01, 2.185176299463e-06, 1.4220e+01, 2.0920e-01, \n",
      " 2DIAGNOSTIC,    16, -4.885884821415e-01, 2.064595264528e-06, 1.4424e+01, 2.0314e-01, \n",
      " 2DIAGNOSTIC,    17, -4.885887503624e-01, 1.938125478773e-06, 1.4627e+01, 2.0312e-01, \n",
      " 2DIAGNOSTIC,    18, -4.885888993740e-01, 1.826830612117e-06, 1.4829e+01, 2.0202e-01, \n",
      " 2DIAGNOSTIC,    19, -4.885886013508e-01, 1.704099304334e-06, 1.5046e+01, 2.1714e-01, \n",
      " 2DIAGNOSTIC,    20, -4.885885119438e-01, 1.593525780663e-06, 1.5257e+01, 2.1118e-01, \n",
      " 2DIAGNOSTIC,    21, -4.885878860950e-01, 1.481672256887e-06, 1.5515e+01, 2.5787e-01, \n",
      " 2DIAGNOSTIC,    22, -4.885878860950e-01, 1.398638687533e-06, 1.5716e+01, 2.0136e-01, \n",
      " 2DIAGNOSTIC,    23, -4.885878860950e-01, 1.326579877059e-06, 1.5921e+01, 2.0469e-01, \n",
      " 2DIAGNOSTIC,    24, -4.885876476765e-01, 1.257442136193e-06, 1.6100e+01, 1.7883e-01, \n",
      " 2DIAGNOSTIC,    25, -4.885875582695e-01, 1.198352038045e-06, 1.6278e+01, 1.7855e-01, \n",
      " 2DIAGNOSTIC,    26, -4.885876774788e-01, 1.148447722699e-06, 1.6480e+01, 2.0195e-01, \n",
      " 2DIAGNOSTIC,    27, -4.885877072811e-01, 1.115088252845e-06, 1.6694e+01, 2.1400e-01, \n",
      " 2DIAGNOSTIC,    28, -4.885875284672e-01, 1.089086367756e-06, 1.6878e+01, 1.8427e-01, \n",
      " 2DIAGNOSTIC,    29, -4.885876178741e-01, 1.064978505383e-06, 1.7083e+01, 2.0444e-01, \n",
      " 2DIAGNOSTIC,    30, -4.885879755020e-01, 1.050722175933e-06, 1.7283e+01, 2.0043e-01, \n",
      " 2DIAGNOSTIC,    31, -4.885878860950e-01, 1.024270318339e-06, 1.7461e+01, 1.7722e-01, \n",
      "DIAGNOSTIC,Iteration,metricValue,convergenceValue,ITERATION_TIME_INDEX,SINCE_LAST\n",
      " 2DIAGNOSTIC,     1, -4.298230111599e-01, inf, 2.0471e+01, 3.0104e+00, \n",
      "  Elapsed time (stage 0): 2.1804e+01\n",
      "\n",
      "\n",
      "Stage 1\n",
      "  iterations = 40x20x0\n",
      "  convergence threshold = 1.0000e-07\n",
      "  convergence window size = 8\n",
      "  number of levels = 3\n",
      "  using the Mattes MI metric (number of bins = 32, weight = 1.0000e+00, use gradient filter = 0)\n",
      "  preprocessing:  histogram matching the images\n",
      "  Shrink factors (level 1 out of 3): [4, 4, 4]\n",
      "  Shrink factors (level 2 out of 3): [2, 2, 2]\n",
      "  Shrink factors (level 3 out of 3): [1, 1, 1]\n",
      "  smoothing sigmas per level: [2, 1, 0]\n",
      "  Using default NONE metricSamplingStrategy \n",
      "\n",
      "*** Running SyN registration (varianceForUpdateField = 3.0000e+00, varianceForTotalField = 0.0000e+00) ***\n",
      "\n",
      "XXDIAGNOSTIC,Iteration,metricValue,convergenceValue,ITERATION_TIME_INDEX,SINCE_LAST\n",
      " 1DIAGNOSTIC,     1, -5.479141473770e-01, inf, 1.0052e+00, 1.0052e+00, \n",
      " 1DIAGNOSTIC,     2, -5.533665418625e-01, inf, 1.3428e+00, 3.3762e-01, \n",
      " 1DIAGNOSTIC,     3, -5.588635206223e-01, inf, 1.6801e+00, 3.3721e-01, \n",
      " 1DIAGNOSTIC,     4, -5.639516711235e-01, inf, 2.0146e+00, 3.3453e-01, \n",
      " 1DIAGNOSTIC,     5, -5.690854787827e-01, inf, 2.3326e+00, 3.1804e-01, \n",
      " 1DIAGNOSTIC,     6, -5.736709833145e-01, inf, 2.6458e+00, 3.1316e-01, \n",
      " 1DIAGNOSTIC,     7, -5.778064727783e-01, inf, 2.9629e+00, 3.1711e-01, \n",
      " 1DIAGNOSTIC,     8, -5.814795494080e-01, 4.913187585771e-03, 3.2629e+00, 2.9999e-01, \n",
      " 1DIAGNOSTIC,     9, -5.847864747047e-01, 4.054912831634e-03, 3.5770e+00, 3.1416e-01, \n",
      " 1DIAGNOSTIC,    10, -5.872273445129e-01, 3.300962969661e-03, 3.8894e+00, 3.1235e-01, \n",
      " 1DIAGNOSTIC,    11, -5.894733667374e-01, 2.662408398464e-03, 4.2002e+00, 3.1078e-01, \n",
      " 1DIAGNOSTIC,    12, -5.916182398796e-01, 2.128948224708e-03, 4.5126e+00, 3.1245e-01, \n",
      " 1DIAGNOSTIC,    13, -5.936489105225e-01, 1.715686521493e-03, 4.8168e+00, 3.0422e-01, \n",
      " 1DIAGNOSTIC,    14, -5.955687761307e-01, 1.402961555868e-03, 5.1261e+00, 3.0926e-01, \n",
      " 1DIAGNOSTIC,    15, -5.973753929138e-01, 1.173958415166e-03, 5.4400e+00, 3.1392e-01, \n",
      " 1DIAGNOSTIC,    16, -5.989754199982e-01, 1.005684142001e-03, 5.7529e+00, 3.1289e-01, \n",
      " 1DIAGNOSTIC,    17, -6.004817485809e-01, 8.845488773659e-04, 6.0611e+00, 3.0823e-01, \n",
      " 1DIAGNOSTIC,    18, -6.013037562370e-01, 7.592941983603e-04, 6.3715e+00, 3.1033e-01, \n",
      " 1DIAGNOSTIC,    19, -6.019476652145e-01, 6.298995576799e-04, 6.6879e+00, 3.1643e-01, \n",
      " 1DIAGNOSTIC,    20, -6.028178930283e-01, 5.131949437782e-04, 7.0138e+00, 3.2585e-01, \n",
      " 1DIAGNOSTIC,    21, -6.036850214005e-01, 4.159404197708e-04, 7.3263e+00, 3.1251e-01, \n",
      " 1DIAGNOSTIC,    22, -6.045670509338e-01, 3.437743871473e-04, 7.6314e+00, 3.0513e-01, \n",
      " 1DIAGNOSTIC,    23, -6.054417490959e-01, 2.979828277603e-04, 7.9469e+00, 3.1550e-01, \n",
      " 1DIAGNOSTIC,    24, -6.051739454269e-01, 2.455977373756e-04, 8.2578e+00, 3.1091e-01, \n",
      " 1DIAGNOSTIC,    25, -6.045351028442e-01, 1.828115346143e-04, 8.5698e+00, 3.1200e-01, \n",
      " 1DIAGNOSTIC,    26, -6.040854454041e-01, 1.069160207408e-04, 8.8815e+00, 3.1166e-01, \n",
      " 1DIAGNOSTIC,    27, -6.037869453430e-01, 2.846711322491e-05, 9.1950e+00, 3.1351e-01, \n",
      " 1DIAGNOSTIC,    28, -6.032626628876e-01, -4.070713475812e-05, 9.5159e+00, 3.2091e-01, \n",
      "XXDIAGNOSTIC,Iteration,metricValue,convergenceValue,ITERATION_TIME_INDEX,SINCE_LAST\n",
      " 1DIAGNOSTIC,     1, -5.009649991989e-01, inf, 1.3252e+01, 3.7359e+00, \n",
      " 1DIAGNOSTIC,     2, -5.017982721329e-01, inf, 1.5755e+01, 2.5033e+00, \n",
      " 1DIAGNOSTIC,     3, -5.028514862061e-01, inf, 1.8354e+01, 2.5984e+00, \n",
      " 1DIAGNOSTIC,     4, -5.038391351700e-01, inf, 2.0957e+01, 2.6039e+00, \n",
      " 1DIAGNOSTIC,     5, -5.047798752785e-01, inf, 2.3761e+01, 2.8036e+00, \n",
      " 1DIAGNOSTIC,     6, -5.056645870209e-01, inf, 2.6328e+01, 2.5671e+00, \n",
      " 1DIAGNOSTIC,     7, -5.065937042236e-01, inf, 2.8905e+01, 2.5770e+00, \n",
      " 1DIAGNOSTIC,     8, -5.076186656952e-01, 1.085426425561e-03, 3.1523e+01, 2.6175e+00, \n",
      " 1DIAGNOSTIC,     9, -5.085264444351e-01, 9.643480880186e-04, 3.4029e+01, 2.5064e+00, \n",
      " 1DIAGNOSTIC,    10, -5.093661546707e-01, 8.517541573383e-04, 3.6593e+01, 2.5644e+00, \n",
      " 1DIAGNOSTIC,    11, -5.101037025452e-01, 7.547425338998e-04, 3.9286e+01, 2.6922e+00, \n",
      " 1DIAGNOSTIC,    12, -5.107775926590e-01, 6.644504028372e-04, 4.2193e+01, 2.9072e+00, \n",
      " 1DIAGNOSTIC,    13, -5.113983154297e-01, 5.779818166047e-04, 4.5189e+01, 2.9965e+00, \n",
      " 1DIAGNOSTIC,    14, -5.119637250900e-01, 4.940832732245e-04, 4.8166e+01, 2.9762e+00, \n",
      " 1DIAGNOSTIC,    15, -5.122935175896e-01, 4.093422612641e-04, 5.0908e+01, 2.7429e+00, \n",
      " 1DIAGNOSTIC,    16, -5.125889778137e-01, 3.341156116221e-04, 5.3627e+01, 2.7181e+00, \n",
      " 1DIAGNOSTIC,    17, -5.125342607498e-01, 2.546330215409e-04, 5.6382e+01, 2.7554e+00, \n",
      " 1DIAGNOSTIC,    18, -5.121181011200e-01, 1.639983238420e-04, 5.9178e+01, 2.7962e+00, \n",
      " 1DIAGNOSTIC,    19, -5.115793943405e-01, 6.695340562146e-05, 6.1931e+01, 2.7528e+00, \n",
      " 1DIAGNOSTIC,    20, -5.111627578735e-01, -2.101335121552e-05, 6.4597e+01, 2.6665e+00, \n",
      "  Elapsed time (stage 1): 70.68\n",
      "\n",
      "\n",
      "Total elapsed time: 92.54\n"
     ]
    }
   ],
   "source": [
    "transformation = ants.registration(\n",
    "    fixed=raw_anat_img,\n",
    "    moving=mni_template_img, \n",
    "    type_of_transform='SyN',\n",
    "    verbose=True\n",
    ")"
   ]
  },
  {
   "cell_type": "code",
   "execution_count": 10,
   "metadata": {},
   "outputs": [],
   "source": [
    "registered_template_img = transformation['warpedmovout']"
   ]
  },
  {
   "cell_type": "markdown",
   "metadata": {},
   "source": [
    "The following comparison function asserts that the new `registered_template_img` image has been transformed to the size and shape of the `raw_anat_img`"
   ]
  },
  {
   "cell_type": "code",
   "execution_count": 11,
   "metadata": {},
   "outputs": [
    {
     "data": {
      "application/vnd.jupyter.widget-view+json": {
       "model_id": "0f9a2e7d0a074b46a40c4ee7b1fe3f7f",
       "version_major": 2,
       "version_minor": 0
      },
      "text/plain": [
       "interactive(children=(IntSlider(value=255, description='SLICE', max=511), Output()), _dom_classes=('widget-int…"
      ]
     },
     "metadata": {},
     "output_type": "display_data"
    }
   ],
   "source": [
    "explore_3D_array_comparison(\n",
    "    arr_before=raw_anat_img.numpy(), \n",
    "    arr_after=registered_template_img.numpy()\n",
    ")\n",
    "#I don't love \"before\" and \"after\" as the names here as we are really only changing the template\n",
    "# This is pretty confusing, so just ignore the names for now\n",
    "# Maybe I'll change this and write my own helper functions"
   ]
  },
  {
   "cell_type": "markdown",
   "metadata": {},
   "source": [
    "Next, we apply this to the mask so that it fits over the brain in the data we wish to visualize"
   ]
  },
  {
   "cell_type": "code",
   "execution_count": 12,
   "metadata": {},
   "outputs": [
    {
     "name": "stdout",
     "output_type": "stream",
     "text": [
      "['-d', '3', '-i', '0x13a564fc8', '-o', '0x10fa7ba48', '-r', '0x13a736c28', '-n', 'nearestNeighbor', '-t', '/var/folders/m4/rtcmkx_17lv03n9tvdf76ycr0000gn/T/tmpdmc7s5k_1Warp.nii.gz', '-t', '/var/folders/m4/rtcmkx_17lv03n9tvdf76ycr0000gn/T/tmpdmc7s5k_0GenericAffine.mat']\n",
      "Using double precision for computations.\n",
      "Input scalar image: 0x13a564fc8\n",
      "Could not create ImageIO for the input file, assuming dimension = 3 and scalar pixel type\n",
      "Reference image: 0x13a736c28\n",
      "=============================================================================\n",
      "The composite transform comprises the following transforms (in order): \n",
      "  1. /var/folders/m4/rtcmkx_17lv03n9tvdf76ycr0000gn/T/tmpdmc7s5k_0GenericAffine.mat (type = AffineTransform)\n",
      "  2. /var/folders/m4/rtcmkx_17lv03n9tvdf76ycr0000gn/T/tmpdmc7s5k_1Warp.nii.gz (type = DisplacementFieldTransform)\n",
      "=============================================================================\n",
      "Default pixel value: 0\n",
      "Interpolation type: NearestNeighborInterpolateImageFunction\n",
      "Output warped image: 0x10fa7ba48\n"
     ]
    }
   ],
   "source": [
    "brain_mask = ants.apply_transforms(\n",
    "    fixed=transformation['warpedmovout'],\n",
    "    moving=mni_template_mask,\n",
    "    transformlist=transformation['fwdtransforms'],\n",
    "    interpolator='nearestNeighbor',\n",
    "    verbose=True\n",
    ")"
   ]
  },
  {
   "cell_type": "code",
   "execution_count": 13,
   "metadata": {},
   "outputs": [
    {
     "data": {
      "application/vnd.jupyter.widget-view+json": {
       "model_id": "830938fd4d8749bd8f0921c69f86c274",
       "version_major": 2,
       "version_minor": 0
      },
      "text/plain": [
       "interactive(children=(IntSlider(value=255, description='SLICE', max=511), Output()), _dom_classes=('widget-int…"
      ]
     },
     "metadata": {},
     "output_type": "display_data"
    }
   ],
   "source": [
    "explore_3D_array_with_mask_contour(raw_anat_img.numpy(), brain_mask.numpy())"
   ]
  },
  {
   "cell_type": "markdown",
   "metadata": {},
   "source": [
    "Let's fine tune the mask a bit"
   ]
  },
  {
   "cell_type": "code",
   "execution_count": 14,
   "metadata": {},
   "outputs": [],
   "source": [
    "brain_mask_dilated = ants.morphology(brain_mask, radius=4, operation='dilate', mtype='binary')"
   ]
  },
  {
   "cell_type": "code",
   "execution_count": 15,
   "metadata": {},
   "outputs": [
    {
     "data": {
      "application/vnd.jupyter.widget-view+json": {
       "model_id": "9b141054b0f64177b6618cec7e6ee0b4",
       "version_major": 2,
       "version_minor": 0
      },
      "text/plain": [
       "interactive(children=(IntSlider(value=255, description='SLICE', max=511), Output()), _dom_classes=('widget-int…"
      ]
     },
     "metadata": {},
     "output_type": "display_data"
    }
   ],
   "source": [
    "explore_3D_array_with_mask_contour(raw_anat_img.numpy(), brain_mask_dilated.numpy())"
   ]
  },
  {
   "cell_type": "markdown",
   "metadata": {},
   "source": [
    "# Mask the Image and Create Sections"
   ]
  },
  {
   "cell_type": "code",
   "execution_count": 16,
   "metadata": {},
   "outputs": [],
   "source": [
    "brain_anat = ants.mask_image(raw_anat_img, brain_mask_dilated)"
   ]
  },
  {
   "cell_type": "code",
   "execution_count": 17,
   "metadata": {},
   "outputs": [
    {
     "data": {
      "application/vnd.jupyter.widget-view+json": {
       "model_id": "143c5af2050946d7be6b96d1b30dec12",
       "version_major": 2,
       "version_minor": 0
      },
      "text/plain": [
       "interactive(children=(IntSlider(value=255, description='SLICE', max=511), Output()), _dom_classes=('widget-int…"
      ]
     },
     "metadata": {},
     "output_type": "display_data"
    }
   ],
   "source": [
    "explore_3D_array(brain_anat.numpy())"
   ]
  },
  {
   "cell_type": "code",
   "execution_count": 18,
   "metadata": {},
   "outputs": [
    {
     "name": "stdout",
     "output_type": "stream",
     "text": [
      "ANTsImage (LPI)\n",
      "\t Pixel Type : float (float32)\n",
      "\t Components : 1\n",
      "\t Dimensions : (512, 512, 296)\n",
      "\t Spacing    : (0.4785, 0.4785, 0.5)\n",
      "\t Origin     : (119.989, 104.52, -84.2457)\n",
      "\t Direction  : [-1.      0.0025  0.     -0.0025 -1.      0.      0.      0.      1.    ]\n",
      "\n"
     ]
    }
   ],
   "source": [
    "print(brain_anat)"
   ]
  },
  {
   "cell_type": "markdown",
   "metadata": {},
   "source": [
    "# Building Scivol"
   ]
  },
  {
   "cell_type": "markdown",
   "metadata": {},
   "source": [
    "It looks like ANTS already applies the affine (double check this), so I think you can just 86 that from your workflow"
   ]
  },
  {
   "cell_type": "code",
   "execution_count": null,
   "metadata": {},
   "outputs": [
    {
     "name": "stderr",
     "output_type": "stream",
     "text": [
      "/Users/joachimpfefferkorn/repos/neurovolume/.venv/lib/python3.11/site-packages/ipyvolume/serialize.py:102: RuntimeWarning: invalid value encountered in cast\n",
      "  subdata[..., i] = ((gradient[i][zindex] / 2.0 + 0.5) * 255).astype(np.uint8)\n"
     ]
    },
    {
     "data": {
      "application/vnd.jupyter.widget-view+json": {
       "model_id": "bb0713d96189455fbb993a6e30b56955",
       "version_major": 2,
       "version_minor": 0
      },
      "text/plain": [
       "Container(children=[VBox(children=(HBox(children=(Label(value='levels:'), FloatSlider(value=0.1, max=1.0, step…"
      ]
     },
     "execution_count": 19,
     "metadata": {},
     "output_type": "execute_result"
    }
   ],
   "source": [
    "#ipv.quickvolshow(brain_anat.numpy())"
   ]
  },
  {
   "cell_type": "code",
   "execution_count": 20,
   "metadata": {},
   "outputs": [],
   "source": [
    "affine = np.eye(4) #TODO get rid of the affines in general as ANTS doesn't need them"
   ]
  },
  {
   "cell_type": "markdown",
   "metadata": {},
   "source": [
    "Initialize the scivol object"
   ]
  },
  {
   "cell_type": "code",
   "execution_count": 21,
   "metadata": {},
   "outputs": [],
   "source": [
    "skullstrip = Scivol(\"skullstrip\", affine, 0.2)"
   ]
  },
  {
   "cell_type": "markdown",
   "metadata": {},
   "source": [
    "Create and add the grids"
   ]
  },
  {
   "cell_type": "code",
   "execution_count": null,
   "metadata": {},
   "outputs": [
    {
     "ename": "NameError",
     "evalue": "name 'create_normalized_volome' is not defined",
     "output_type": "error",
     "traceback": [
      "\u001b[0;31m---------------------------------------------------------------------------\u001b[0m",
      "\u001b[0;31mNameError\u001b[0m                                 Traceback (most recent call last)",
      "Cell \u001b[0;32mIn[22], line 1\u001b[0m\n\u001b[0;32m----> 1\u001b[0m skullstrip\u001b[38;5;241m.\u001b[39madd_grids([Grid(\u001b[38;5;124m\"\u001b[39m\u001b[38;5;124mfull_anat\u001b[39m\u001b[38;5;124m\"\u001b[39m,[\u001b[43mcreate_normalized_volome\u001b[49m(raw_anat_img\u001b[38;5;241m.\u001b[39mnumpy())]),\n\u001b[1;32m      2\u001b[0m Grid(\u001b[38;5;124m\"\u001b[39m\u001b[38;5;124mbrain_anat\u001b[39m\u001b[38;5;124m\"\u001b[39m, [create_normalized_volome(brain_anat\u001b[38;5;241m.\u001b[39mnumpy())])])\n",
      "\u001b[0;31mNameError\u001b[0m: name 'create_normalized_volome' is not defined"
     ]
    }
   ],
   "source": [
    "skullstrip.add_grids([Grid(\"full_anat\",[create_normalized_volume(raw_anat_img.numpy())]),\n",
    "Grid(\"brain_anat\", [create_normalized_volume(brain_anat.numpy())])])"
   ]
  },
  {
   "cell_type": "code",
   "execution_count": null,
   "metadata": {},
   "outputs": [
    {
     "name": "stdout",
     "output_type": "stream",
     "text": [
      "saving skullstrip.scivol\n",
      "writing skullstrip.scivol\n"
     ]
    }
   ],
   "source": [
    "skullstrip.save_scivol(output_folder)"
   ]
  },
  {
   "cell_type": "markdown",
   "metadata": {},
   "source": [
    "Before moving to blender to render these images, let's make sure that we can parse these scivol files here"
   ]
  },
  {
   "cell_type": "code",
   "execution_count": null,
   "metadata": {},
   "outputs": [
    {
     "name": "stdout",
     "output_type": "stream",
     "text": [
      "scivol name:  skullstrip \n",
      "\n",
      "full_anat\n",
      "brain_anat\n"
     ]
    }
   ],
   "source": [
    "scivol_path = \"/Users/joachimpfefferkorn/repos/neurovolume/output/skullstrip.scivol\"\n",
    "with open(scivol_path, 'r') as file:\n",
    "    data = json.load(file)\n",
    "print(\"scivol name: \", data['name'], \"\\n\")\n",
    "for grid_key in data['grids'].keys():\n",
    "    print(grid_key)\n",
    "    vol = np.array(data['grids'][grid_key]['frames'][0])"
   ]
  },
  {
   "cell_type": "code",
   "execution_count": null,
   "metadata": {},
   "outputs": [
    {
     "name": "stdout",
     "output_type": "stream",
     "text": [
      "0.2\n",
      "[[1. 0. 0. 0.]\n",
      " [0. 1. 0. 0.]\n",
      " [0. 0. 1. 0.]\n",
      " [0. 0. 0. 1.]]\n"
     ]
    }
   ],
   "source": [
    "print(data['tolerance'])\n",
    "print((np.asarray(data['affine'])))"
   ]
  },
  {
   "cell_type": "code",
   "execution_count": null,
   "metadata": {},
   "outputs": [
    {
     "name": "stdout",
     "output_type": "stream",
     "text": [
      "dict_keys(['full_anat', 'brain_anat'])\n",
      "full_anat\n",
      "brain_anat\n"
     ]
    }
   ],
   "source": [
    "print(data['grids'].keys())\n",
    "for grid in data['grids']:\n",
    "    print(grid)"
   ]
  },
  {
   "cell_type": "markdown",
   "metadata": {},
   "source": [
    "hmm... this seems correct but blender is only reading in one grid"
   ]
  },
  {
   "cell_type": "markdown",
   "metadata": {},
   "source": []
  }
 ],
 "metadata": {
  "kernelspec": {
   "display_name": ".venv",
   "language": "python",
   "name": "python3"
  },
  "language_info": {
   "codemirror_mode": {
    "name": "ipython",
    "version": 3
   },
   "file_extension": ".py",
   "mimetype": "text/x-python",
   "name": "python",
   "nbconvert_exporter": "python",
   "pygments_lexer": "ipython3",
   "version": "3.11.5"
  }
 },
 "nbformat": 4,
 "nbformat_minor": 2
}
