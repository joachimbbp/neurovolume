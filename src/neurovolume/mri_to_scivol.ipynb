{
 "cells": [
  {
   "cell_type": "markdown",
   "metadata": {},
   "source": [
    "# Gathering Data"
   ]
  },
  {
   "cell_type": "code",
   "execution_count": 18,
   "metadata": {},
   "outputs": [],
   "source": [
    "from functions import *\n",
    "from scivol import *\n",
    "import nibabel as nib\n",
    "import ipyvolume as ipv\n",
    "import numpy as np\n",
    "import json"
   ]
  },
  {
   "cell_type": "code",
   "execution_count": 3,
   "metadata": {},
   "outputs": [
    {
     "name": "stdout",
     "output_type": "stream",
     "text": [
      "/Users/joachimpfefferkorn/repos/neurovolume\n"
     ]
    }
   ],
   "source": [
    "proj_root = parent_directory()\n",
    "print(proj_root)\n",
    "mri_input_filepath = os.path.join(proj_root, \"media/sub-01/anat/sub-01_T2w.nii.gz\")\n",
    "output_folder = os.path.join(proj_root, \"output/\")\n",
    "mask_seq_path = \"/Users/joachimpfefferkorn/repos/neurovolume/output/slice_images_mask\""
   ]
  },
  {
   "cell_type": "code",
   "execution_count": 4,
   "metadata": {},
   "outputs": [
    {
     "name": "stdout",
     "output_type": "stream",
     "text": [
      "bool masks built v1\n",
      "creating masked normal tensor\n",
      "creating masked normal tensor\n"
     ]
    }
   ],
   "source": [
    "anat_img = nib.load(mri_input_filepath)\n",
    "full_anat = create_volume(normalize_array(anat_img.get_fdata()))\n",
    "brain_mask = build_bool_mask(mask_seq_path, full_anat)\n",
    "brain_anat = create_masked_normalized_tensor(full_anat, brain_mask)\n",
    "ext_anat = create_masked_normalized_tensor(full_anat, brain_mask, keep_when=False)\n",
    "# don't love the inconsistent nesting of these volume creation functions \n"
   ]
  },
  {
   "cell_type": "markdown",
   "metadata": {},
   "source": [
    "# Quick Visual Check\n",
    "Quick note on the following `ipv` functions:\n",
    "They appear to be normalizing the geometry to be a perfect cube. I wonder if there is a way to apply the affine to this?"
   ]
  },
  {
   "cell_type": "code",
   "execution_count": 5,
   "metadata": {},
   "outputs": [],
   "source": [
    "#ipv.quickvolshow(full_anat)"
   ]
  },
  {
   "cell_type": "code",
   "execution_count": 6,
   "metadata": {},
   "outputs": [],
   "source": [
    "#ipv.quickvolshow(brain_anat)"
   ]
  },
  {
   "cell_type": "code",
   "execution_count": 7,
   "metadata": {},
   "outputs": [],
   "source": [
    "#ipv.quickvolshow(ext_anat)"
   ]
  },
  {
   "cell_type": "markdown",
   "metadata": {},
   "source": [
    "# Building Scivol"
   ]
  },
  {
   "cell_type": "code",
   "execution_count": 8,
   "metadata": {},
   "outputs": [
    {
     "name": "stdout",
     "output_type": "stream",
     "text": [
      "<class 'numpy.ndarray'>\n"
     ]
    }
   ],
   "source": [
    "affine = anat_img.affine\n",
    "print(type(affine))"
   ]
  },
  {
   "cell_type": "markdown",
   "metadata": {},
   "source": [
    "Initialize the scivol object"
   ]
  },
  {
   "cell_type": "code",
   "execution_count": 9,
   "metadata": {},
   "outputs": [],
   "source": [
    "skullstrip = Scivol(\"skullstrip\", anat_img.affine, 0.2)"
   ]
  },
  {
   "cell_type": "markdown",
   "metadata": {},
   "source": [
    "Create and add the grids"
   ]
  },
  {
   "cell_type": "code",
   "execution_count": 10,
   "metadata": {},
   "outputs": [
    {
     "name": "stdout",
     "output_type": "stream",
     "text": [
      "writing full_anat to grid\n",
      "writing brain_anat to grid\n",
      "writing ext_anat to grid\n"
     ]
    }
   ],
   "source": [
    "skullstrip.add_grids([Grid(\"full_anat\",[full_anat]),\n",
    "Grid(\"brain_anat\", [brain_anat]),\n",
    "Grid(\"ext_anat\", [ext_anat])])\n"
   ]
  },
  {
   "cell_type": "code",
   "execution_count": 11,
   "metadata": {},
   "outputs": [
    {
     "name": "stdout",
     "output_type": "stream",
     "text": [
      "saving skullstrip.scivol\n",
      "writing skullstrip.scivol\n"
     ]
    }
   ],
   "source": [
    "skullstrip.save_scivol(output_folder)"
   ]
  },
  {
   "cell_type": "markdown",
   "metadata": {},
   "source": [
    "Before moving to blender to render these images, let's make sure that we can parse these scivol files here"
   ]
  },
  {
   "cell_type": "code",
   "execution_count": 26,
   "metadata": {},
   "outputs": [
    {
     "name": "stdout",
     "output_type": "stream",
     "text": [
      "scivol name:  skullstrip \n",
      "\n",
      "full_anat\n",
      "brain_anat\n",
      "ext_anat\n"
     ]
    }
   ],
   "source": [
    "scivol_path = \"/Users/joachimpfefferkorn/repos/neurovolume/output/skullstrip.scivol\"\n",
    "with open(scivol_path, 'r') as file:\n",
    "    data = json.load(file)\n",
    "print(\"scivol name: \", data['name'], \"\\n\")\n",
    "for grid_key in data['grids'].keys():\n",
    "    print(grid_key)\n",
    "    vol = np.array(data['grids'][grid_key]['frames'][0])"
   ]
  },
  {
   "cell_type": "code",
   "execution_count": 38,
   "metadata": {},
   "outputs": [
    {
     "name": "stdout",
     "output_type": "stream",
     "text": [
      "0.2\n",
      "[[  -0.5           0.           -0.          129.70300293]\n",
      " [  -0.            0.5          -0.         -110.68299866]\n",
      " [   0.            0.            4.          -74.83930206]\n",
      " [   0.            0.            0.            1.        ]]\n"
     ]
    }
   ],
   "source": [
    "print(data['tolerance'])\n",
    "print((np.asarray(data['affine'])))"
   ]
  },
  {
   "cell_type": "code",
   "execution_count": null,
   "metadata": {},
   "outputs": [
    {
     "name": "stdout",
     "output_type": "stream",
     "text": [
      "dict_keys(['full_anat', 'brain_anat', 'ext_anat'])\n"
     ]
    }
   ],
   "source": [
    "print(data['grids'].keys())\n",
    "for grid in data['grids']:\n",
    "    print(grid)"
   ]
  },
  {
   "cell_type": "markdown",
   "metadata": {},
   "source": [
    "Cool, let's quickly visualize this"
   ]
  },
  {
   "cell_type": "code",
   "execution_count": null,
   "metadata": {},
   "outputs": [
    {
     "data": {
      "application/vnd.jupyter.widget-view+json": {
       "model_id": "2a50ce4e50bf46cb9a3b9d5a181bcf0f",
       "version_major": 2,
       "version_minor": 0
      },
      "text/plain": [
       "Container(children=[VBox(children=(HBox(children=(Label(value='levels:'), FloatSlider(value=0.1, max=1.0, step…"
      ]
     },
     "execution_count": 25,
     "metadata": {},
     "output_type": "execute_result"
    }
   ],
   "source": [
    "ipv.quickvolshow(np.array(data['grids']['full_anat']['frames'][0]))\n",
    "# only 0 as it's just 3D, no temporal dimension involved here"
   ]
  },
  {
   "cell_type": "markdown",
   "metadata": {},
   "source": [
    "Great! Now lets go build and use a blender plugin"
   ]
  },
  {
   "cell_type": "markdown",
   "metadata": {},
   "source": []
  }
 ],
 "metadata": {
  "kernelspec": {
   "display_name": ".venv",
   "language": "python",
   "name": "python3"
  },
  "language_info": {
   "codemirror_mode": {
    "name": "ipython",
    "version": 3
   },
   "file_extension": ".py",
   "mimetype": "text/x-python",
   "name": "python",
   "nbconvert_exporter": "python",
   "pygments_lexer": "ipython3",
   "version": "3.11.5"
  }
 },
 "nbformat": 4,
 "nbformat_minor": 2
}
