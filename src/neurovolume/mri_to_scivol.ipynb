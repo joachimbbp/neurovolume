{
 "cells": [
  {
   "cell_type": "markdown",
   "metadata": {},
   "source": [
    "# Gathering MRI Data"
   ]
  },
  {
   "cell_type": "code",
   "execution_count": 1,
   "metadata": {},
   "outputs": [],
   "source": [
    "from notebook_viewer_functions import *\n",
    "from functions import *\n",
    "from scivol import *\n",
    "import numpy as np\n",
    "import json\n",
    "import ants\n",
    "import gzip"
   ]
  },
  {
   "cell_type": "code",
   "execution_count": 2,
   "metadata": {},
   "outputs": [
    {
     "name": "stdout",
     "output_type": "stream",
     "text": [
      "project root: /Users/joachimpfefferkorn/repos/neurovolume\n"
     ]
    }
   ],
   "source": [
    "proj_root = parent_directory()\n",
    "print(f\"project root: {proj_root}\")\n",
    "t1_input_filepath = os.path.join(proj_root, \"media/sub-01/anat/sub-01_T1w.nii.gz\")\n",
    "template_folder =  os.path.join(proj_root, \"templates/\")\n",
    "output_folder = os.path.join(proj_root, \"output/\")"
   ]
  },
  {
   "cell_type": "code",
   "execution_count": 3,
   "metadata": {},
   "outputs": [],
   "source": [
    "raw_anat_img = ants.image_read(t1_input_filepath)"
   ]
  },
  {
   "cell_type": "code",
   "execution_count": 4,
   "metadata": {},
   "outputs": [
    {
     "name": "stdout",
     "output_type": "stream",
     "text": [
      "ANTsImage (LPI)\n",
      "\t Pixel Type : float (float32)\n",
      "\t Components : 1\n",
      "\t Dimensions : (512, 512, 296)\n",
      "\t Spacing    : (0.4785, 0.4785, 0.5)\n",
      "\t Origin     : (119.989, 104.52, -84.2457)\n",
      "\t Direction  : [-1.      0.0025  0.     -0.0025 -1.      0.      0.      0.      1.    ]\n",
      "\n"
     ]
    },
    {
     "data": {
      "application/vnd.jupyter.widget-view+json": {
       "model_id": "f74d390391ea4d0481318d8b769aed04",
       "version_major": 2,
       "version_minor": 0
      },
      "text/plain": [
       "interactive(children=(IntSlider(value=255, description='slice', max=511), Output()), _dom_classes=('widget-int…"
      ]
     },
     "metadata": {},
     "output_type": "display_data"
    },
    {
     "data": {
      "application/vnd.jupyter.widget-view+json": {
       "model_id": "6fcdb2b6091e4c8690aaa37294c65769",
       "version_major": 2,
       "version_minor": 0
      },
      "text/plain": [
       "interactive(children=(IntSlider(value=255, description='slice', max=511), Output()), _dom_classes=('widget-int…"
      ]
     },
     "metadata": {},
     "output_type": "display_data"
    },
    {
     "data": {
      "application/vnd.jupyter.widget-view+json": {
       "model_id": "ac4ed67dc15c4f2c9a07ef534416f415",
       "version_major": 2,
       "version_minor": 0
      },
      "text/plain": [
       "interactive(children=(IntSlider(value=147, description='slice', max=295), Output()), _dom_classes=('widget-int…"
      ]
     },
     "metadata": {},
     "output_type": "display_data"
    }
   ],
   "source": [
    "print(raw_anat_img)\n",
    "explore_3D_vol(raw_anat_img.numpy(), dim=\"x\")\n",
    "explore_3D_vol(raw_anat_img.numpy(), dim=\"y\")\n",
    "explore_3D_vol(raw_anat_img.numpy(), dim=\"z\")"
   ]
  },
  {
   "cell_type": "markdown",
   "metadata": {},
   "source": [
    "# Skull Stripping\n",
    "Using ANTs\n",
    "\n",
    "[this notebook](https://github.com/Angeluz-07/MRI-preprocessing-techniques/blob/main/notebooks/09_brain_extraction_with_template.ipynb) is what we're basing this on"
   ]
  },
  {
   "cell_type": "markdown",
   "metadata": {},
   "source": [
    "## Load Template and Mask"
   ]
  },
  {
   "cell_type": "code",
   "execution_count": 5,
   "metadata": {},
   "outputs": [],
   "source": [
    "mni_template_img = ants.image_read(f\"{template_folder}/mni_icbm152_t1_tal_nlin_sym_09a.nii\")\n",
    "mni_template_mask = ants.image_read(f\"{template_folder}/mni_icbm152_t1_tal_nlin_sym_09a_mask.nii\")"
   ]
  },
  {
   "cell_type": "code",
   "execution_count": 6,
   "metadata": {},
   "outputs": [
    {
     "name": "stdout",
     "output_type": "stream",
     "text": [
      "ANTsImage (LPI)\n",
      "\t Pixel Type : float (float32)\n",
      "\t Components : 1\n",
      "\t Dimensions : (197, 233, 189)\n",
      "\t Spacing    : (1.0, 1.0, 1.0)\n",
      "\t Origin     : (98.0, 134.0, -72.0)\n",
      "\t Direction  : [-1.  0.  0.  0. -1.  0.  0.  0.  1.]\n",
      "\n"
     ]
    },
    {
     "data": {
      "application/vnd.jupyter.widget-view+json": {
       "model_id": "78fbdecaf11c4b809310958890178927",
       "version_major": 2,
       "version_minor": 0
      },
      "text/plain": [
       "interactive(children=(IntSlider(value=98, description='slice', max=196), Output()), _dom_classes=('widget-inte…"
      ]
     },
     "metadata": {},
     "output_type": "display_data"
    }
   ],
   "source": [
    "print(mni_template_img)\n",
    "explore_3D_vol(mni_template_img.numpy())"
   ]
  },
  {
   "cell_type": "code",
   "execution_count": 7,
   "metadata": {},
   "outputs": [
    {
     "name": "stdout",
     "output_type": "stream",
     "text": [
      "ANTsImage (LPI)\n",
      "\t Pixel Type : float (float32)\n",
      "\t Components : 1\n",
      "\t Dimensions : (197, 233, 189)\n",
      "\t Spacing    : (1.0, 1.0, 1.0)\n",
      "\t Origin     : (98.0, 134.0, -72.0)\n",
      "\t Direction  : [-1.  0.  0.  0. -1.  0.  0.  0.  1.]\n",
      "\n"
     ]
    },
    {
     "data": {
      "application/vnd.jupyter.widget-view+json": {
       "model_id": "af7fad18049145039b4fec523befe310",
       "version_major": 2,
       "version_minor": 0
      },
      "text/plain": [
       "interactive(children=(IntSlider(value=98, description='slice', max=196), Output()), _dom_classes=('widget-inte…"
      ]
     },
     "metadata": {},
     "output_type": "display_data"
    }
   ],
   "source": [
    "print(mni_template_mask)\n",
    "explore_3D_vol(mni_template_mask.numpy())"
   ]
  },
  {
   "cell_type": "markdown",
   "metadata": {},
   "source": [
    "## Register Template and Masks to Raw image\n",
    "Here we warp the MNI template"
   ]
  },
  {
   "cell_type": "code",
   "execution_count": 8,
   "metadata": {},
   "outputs": [
    {
     "name": "stdout",
     "output_type": "stream",
     "text": [
      "antsRegistration -d 3 -r [0x106e10e48,0x12a1f0828,1] -m mattes[0x106e10e48,0x12a1f0828,1,32,regular,0.2] -t Affine[0.25] -c 2100x1200x1200x0 -s 3x2x1x0 -f 4x2x2x1 -x [NA,NA] -m mattes[0x106e10e48,0x12a1f0828,1,32] -t SyN[0.200000,3.000000,0.000000] -c [40x20x0,1e-7,8] -s 2x1x0 -f 4x2x1 -u 1 -z 1 -o [/var/folders/m4/rtcmkx_17lv03n9tvdf76ycr0000gn/T/tmp5ny3a0i9,0x12a2ba3a8,0x12a2ba068] -x [NA,NA] --float 1 --write-composite-transform 0 -v 1\n",
      "All_Command_lines_OK\n",
      "Using single precision for computations.\n",
      "=============================================================================\n",
      "The composite transform comprises the following transforms (in order): \n",
      "  1. Center of mass alignment using fixed image: 0x106e10e48 and moving image: 0x12a1f0828 (type = Euler3DTransform)\n",
      "=============================================================================\n",
      "  Reading mask(s).\n",
      "    Registration stage 0\n",
      "      No fixed mask\n",
      "      No moving mask\n",
      "    Registration stage 1\n",
      "      No fixed mask\n",
      "      No moving mask\n",
      "  number of levels = 4\n",
      "  number of levels = 3\n",
      "  fixed image: 0x106e10e48\n",
      "  moving image: 0x12a1f0828\n",
      "  fixed image: 0x106e10e48\n",
      "  moving image: 0x12a1f0828\n",
      "Dimension = 3\n",
      "Number of stages = 2\n",
      "Use histogram matching = true\n",
      "Winsorize image intensities = false\n",
      "  Lower quantile = 0\n",
      "  Upper quantile = 1\n",
      "\n",
      "\n",
      "Stage 1 State\n",
      "   Image metric = MattesMI\n",
      "     Fixed image = Image (0x1292c8bc0)\n",
      "  RTTI typeinfo:   itk::Image<float, 3u>\n",
      "  Reference Count: 2\n",
      "  Modified Time: 2192\n",
      "  Debug: Off\n",
      "  Object Name: \n",
      "  Observers: \n",
      "    none\n",
      "  Source: (none)\n",
      "  Source output name: (none)\n",
      "  Release Data: Off\n",
      "  Data Released: False\n",
      "  Global Release Data: Off\n",
      "  PipelineMTime: 0\n",
      "  UpdateMTime: 2166\n",
      "  RealTimeStamp: 0 seconds \n",
      "  LargestPossibleRegion: \n",
      "    Dimension: 3\n",
      "    Index: [0, 0, 0]\n",
      "    Size: [512, 512, 296]\n",
      "  BufferedRegion: \n",
      "    Dimension: 3\n",
      "    Index: [0, 0, 0]\n",
      "    Size: [512, 512, 296]\n",
      "  RequestedRegion: \n",
      "    Dimension: 3\n",
      "    Index: [0, 0, 0]\n",
      "    Size: [512, 512, 296]\n",
      "  Spacing: [0.4785, 0.4785, 0.5]\n",
      "  Origin: [119.989, 104.52, -84.2457]\n",
      "  Direction: \n",
      "-0.999997 0.00254 0\n",
      "-0.00254 -0.999997 0\n",
      "0 0 1\n",
      "\n",
      "  IndexToPointMatrix: \n",
      "-0.478498 0.00121539 0\n",
      "-0.00121539 -0.478498 0\n",
      "0 0 0.5\n",
      "\n",
      "  PointToIndexMatrix: \n",
      "-2.08986 -0.00530826 0\n",
      "0.00530826 -2.08986 0\n",
      "0 0 2\n",
      "\n",
      "  Inverse Direction: \n",
      "-0.999997 -0.00254 0\n",
      "0.00254 -0.999997 0\n",
      "0 0 1\n",
      "\n",
      "  PixelContainer: \n",
      "    ImportImageContainer (0x1292c7b20)\n",
      "      RTTI typeinfo:   itk::ImportImageContainer<unsigned long, float>\n",
      "      Reference Count: 1\n",
      "      Modified Time: 2164\n",
      "      Debug: Off\n",
      "      Object Name: \n",
      "      Observers: \n",
      "        none\n",
      "      Pointer: 0x37f000000\n",
      "      Container manages memory: true\n",
      "      Size: 77594624\n",
      "      Capacity: 77594624\n",
      "\n",
      "     Moving image = Image (0x1160c6300)\n",
      "  RTTI typeinfo:   itk::Image<float, 3u>\n",
      "  Reference Count: 2\n",
      "  Modified Time: 2193\n",
      "  Debug: Off\n",
      "  Object Name: \n",
      "  Observers: \n",
      "    none\n",
      "  Source: (none)\n",
      "  Source output name: (none)\n",
      "  Release Data: Off\n",
      "  Data Released: False\n",
      "  Global Release Data: Off\n",
      "  PipelineMTime: 0\n",
      "  UpdateMTime: 2190\n",
      "  RealTimeStamp: 0 seconds \n",
      "  LargestPossibleRegion: \n",
      "    Dimension: 3\n",
      "    Index: [0, 0, 0]\n",
      "    Size: [197, 233, 189]\n",
      "  BufferedRegion: \n",
      "    Dimension: 3\n",
      "    Index: [0, 0, 0]\n",
      "    Size: [197, 233, 189]\n",
      "  RequestedRegion: \n",
      "    Dimension: 3\n",
      "    Index: [0, 0, 0]\n",
      "    Size: [197, 233, 189]\n",
      "  Spacing: [1, 1, 1]\n",
      "  Origin: [98, 134, -72]\n",
      "  Direction: \n",
      "-1 0 0\n",
      "0 -1 0\n",
      "0 0 1\n",
      "\n",
      "  IndexToPointMatrix: \n",
      "-1 0 0\n",
      "0 -1 0\n",
      "0 0 1\n",
      "\n",
      "  PointToIndexMatrix: \n",
      "-1 0 0\n",
      "0 -1 0\n",
      "0 0 1\n",
      "\n",
      "  Inverse Direction: \n",
      "-1 0 0\n",
      "0 -1 0\n",
      "0 0 1\n",
      "\n",
      "  PixelContainer: \n",
      "    ImportImageContainer (0x112623d60)\n",
      "      RTTI typeinfo:   itk::ImportImageContainer<unsigned long, float>\n",
      "      Reference Count: 1\n",
      "      Modified Time: 2188\n",
      "      Debug: Off\n",
      "      Object Name: \n",
      "      Observers: \n",
      "        none\n",
      "      Pointer: 0x168000000\n",
      "      Container manages memory: true\n",
      "      Size: 8675289\n",
      "      Capacity: 8675289\n",
      "\n",
      "     Weighting = 1\n",
      "     Sampling strategy = regular\n",
      "     Number of bins = 32\n",
      "     Radius = 4\n",
      "     Sampling percentage  = 0.2\n",
      "   Transform = Affine\n",
      "     Gradient step = 0.25\n",
      "     Update field sigma (voxel space) = 0\n",
      "     Total field sigma (voxel space) = 0\n",
      "     Update field time sigma = 0\n",
      "     Total field time sigma  = 0\n",
      "     Number of time indices = 0\n",
      "     Number of time point samples = 0\n",
      "Stage 2 State\n",
      "   Image metric = MattesMI\n",
      "     Fixed image = Image (0x111333e00)\n",
      "  RTTI typeinfo:   itk::Image<float, 3u>\n",
      "  Reference Count: 2\n",
      "  Modified Time: 2244\n",
      "  Debug: Off\n",
      "  Object Name: \n",
      "  Observers: \n",
      "    none\n",
      "  Source: (none)\n",
      "  Source output name: (none)\n",
      "  Release Data: Off\n",
      "  Data Released: False\n",
      "  Global Release Data: Off\n",
      "  PipelineMTime: 0\n",
      "  UpdateMTime: 2218\n",
      "  RealTimeStamp: 0 seconds \n",
      "  LargestPossibleRegion: \n",
      "    Dimension: 3\n",
      "    Index: [0, 0, 0]\n",
      "    Size: [512, 512, 296]\n",
      "  BufferedRegion: \n",
      "    Dimension: 3\n",
      "    Index: [0, 0, 0]\n",
      "    Size: [512, 512, 296]\n",
      "  RequestedRegion: \n",
      "    Dimension: 3\n",
      "    Index: [0, 0, 0]\n",
      "    Size: [512, 512, 296]\n",
      "  Spacing: [0.4785, 0.4785, 0.5]\n",
      "  Origin: [119.989, 104.52, -84.2457]\n",
      "  Direction: \n",
      "-0.999997 0.00254 0\n",
      "-0.00254 -0.999997 0\n",
      "0 0 1\n",
      "\n",
      "  IndexToPointMatrix: \n",
      "-0.478498 0.00121539 0\n",
      "-0.00121539 -0.478498 0\n",
      "0 0 0.5\n",
      "\n",
      "  PointToIndexMatrix: \n",
      "-2.08986 -0.00530826 0\n",
      "0.00530826 -2.08986 0\n",
      "0 0 2\n",
      "\n",
      "  Inverse Direction: \n",
      "-0.999997 -0.00254 0\n",
      "0.00254 -0.999997 0\n",
      "0 0 1\n",
      "\n",
      "  PixelContainer: \n",
      "    ImportImageContainer (0x111332680)\n",
      "      RTTI typeinfo:   itk::ImportImageContainer<unsigned long, float>\n",
      "      Reference Count: 1\n",
      "      Modified Time: 2216\n",
      "      Debug: Off\n",
      "      Object Name: \n",
      "      Observers: \n",
      "        none\n",
      "      Pointer: 0x391800000\n",
      "      Container manages memory: true\n",
      "      Size: 77594624\n",
      "      Capacity: 77594624\n",
      "\n",
      "     Moving image = Image (0x1292c8e70)\n",
      "  RTTI typeinfo:   itk::Image<float, 3u>\n",
      "  Reference Count: 2\n",
      "  Modified Time: 2245\n",
      "  Debug: Off\n",
      "  Object Name: \n",
      "  Observers: \n",
      "    none\n",
      "  Source: (none)\n",
      "  Source output name: (none)\n",
      "  Release Data: Off\n",
      "  Data Released: False\n",
      "  Global Release Data: Off\n",
      "  PipelineMTime: 0\n",
      "  UpdateMTime: 2242\n",
      "  RealTimeStamp: 0 seconds \n",
      "  LargestPossibleRegion: \n",
      "    Dimension: 3\n",
      "    Index: [0, 0, 0]\n",
      "    Size: [197, 233, 189]\n",
      "  BufferedRegion: \n",
      "    Dimension: 3\n",
      "    Index: [0, 0, 0]\n",
      "    Size: [197, 233, 189]\n",
      "  RequestedRegion: \n",
      "    Dimension: 3\n",
      "    Index: [0, 0, 0]\n",
      "    Size: [197, 233, 189]\n",
      "  Spacing: [1, 1, 1]\n",
      "  Origin: [98, 134, -72]\n",
      "  Direction: \n",
      "-1 0 0\n",
      "0 -1 0\n",
      "0 0 1\n",
      "\n",
      "  IndexToPointMatrix: \n",
      "-1 0 0\n",
      "0 -1 0\n",
      "0 0 1\n",
      "\n",
      "  PointToIndexMatrix: \n",
      "-1 0 0\n",
      "0 -1 0\n",
      "0 0 1\n",
      "\n",
      "  Inverse Direction: \n",
      "-1 0 0\n",
      "0 -1 0\n",
      "0 0 1\n",
      "\n",
      "  PixelContainer: \n",
      "    ImportImageContainer (0x1292c56f0)\n",
      "      RTTI typeinfo:   itk::ImportImageContainer<unsigned long, float>\n",
      "      Reference Count: 1\n",
      "      Modified Time: 2240\n",
      "      Debug: Off\n",
      "      Object Name: \n",
      "      Observers: \n",
      "        none\n",
      "      Pointer: 0x16a118000\n",
      "      Container manages memory: true\n",
      "      Size: 8675289\n",
      "      Capacity: 8675289\n",
      "\n",
      "     Weighting = 1\n",
      "     Sampling strategy = none\n",
      "     Number of bins = 32\n",
      "     Radius = 4\n",
      "     Sampling percentage  = 1\n",
      "   Transform = SyN\n",
      "     Gradient step = 0.2\n",
      "     Update field sigma (voxel space) = 3\n",
      "     Total field sigma (voxel space) = 0\n",
      "     Update field time sigma = 0\n",
      "     Total field time sigma  = 0\n",
      "     Number of time indices = 0\n",
      "     Number of time point samples = 0\n",
      "Registration using 2 total stages.\n",
      "\n",
      "Stage 0\n",
      "  iterations = 2100x1200x1200x0\n",
      "  convergence threshold = 1e-06\n",
      "  convergence window size = 10\n",
      "  number of levels = 4\n",
      "  using the Mattes MI metric (number of bins = 32, weight = 1, use gradient filter = 0)\n",
      "  preprocessing:  histogram matching the images\n",
      "  Shrink factors (level 1 out of 4): [4, 4, 4]\n",
      "  Shrink factors (level 2 out of 4): [2, 2, 2]\n",
      "  Shrink factors (level 3 out of 4): [2, 2, 2]\n",
      "  Shrink factors (level 4 out of 4): [1, 1, 1]\n",
      "  smoothing sigmas per level: [3, 2, 1, 0]\n",
      "  regular sampling (percentage = 0.2)\n",
      "\n",
      "*** Running AffineTransform registration ***\n",
      "\n",
      "DIAGNOSTIC,Iteration,metricValue,convergenceValue,ITERATION_TIME_INDEX,SINCE_LAST\n",
      " 2DIAGNOSTIC,     1, -4.759739935398e-01, inf, 8.0000e-01, 8.0000e-01, \n",
      " 2DIAGNOSTIC,     2, -4.794506728649e-01, inf, 8.4678e-01, 4.6781e-02, \n",
      " 2DIAGNOSTIC,     3, -4.853922724724e-01, inf, 8.9071e-01, 4.3932e-02, \n",
      " 2DIAGNOSTIC,     4, -4.955002069473e-01, inf, 9.3187e-01, 4.1157e-02, \n",
      " 2DIAGNOSTIC,     5, -5.126700401306e-01, inf, 9.7083e-01, 3.8957e-02, \n",
      " 2DIAGNOSTIC,     6, -5.410109162331e-01, inf, 1.0093e+00, 3.8517e-02, \n",
      " 2DIAGNOSTIC,     7, -5.773565173149e-01, inf, 1.0670e+00, 5.7626e-02, \n",
      " 2DIAGNOSTIC,     8, -5.857000946999e-01, inf, 1.1673e+00, 1.0036e-01, \n",
      " 2DIAGNOSTIC,     9, -5.857279896736e-01, inf, 1.2054e+00, 3.8098e-02, \n",
      " 2DIAGNOSTIC,    10, -5.858486294746e-01, 1.687248609960e-02, 1.2467e+00, 4.1284e-02, \n",
      " 2DIAGNOSTIC,    11, -5.860512256622e-01, 1.432287227362e-02, 1.2886e+00, 4.1892e-02, \n",
      " 2DIAGNOSTIC,    12, -5.863947272301e-01, 1.110254880041e-02, 1.3257e+00, 3.7113e-02, \n",
      " 2DIAGNOSTIC,    13, -5.869555473328e-01, 7.683724630624e-03, 1.3631e+00, 3.7399e-02, \n",
      " 2DIAGNOSTIC,    14, -5.878291726112e-01, 4.515470005572e-03, 1.4000e+00, 3.6916e-02, \n",
      " 2DIAGNOSTIC,    15, -5.890990495682e-01, 2.013593446463e-03, 1.4383e+00, 3.8228e-02, \n",
      " 2DIAGNOSTIC,    16, -5.908086299896e-01, 5.951366038062e-04, 1.4770e+00, 3.8739e-02, \n",
      " 2DIAGNOSTIC,    17, -5.930963754654e-01, 4.545324482024e-04, 1.5154e+00, 3.8438e-02, \n",
      " 2DIAGNOSTIC,    18, -5.962782502174e-01, 6.140523473732e-04, 1.5541e+00, 3.8662e-02, \n",
      " 2DIAGNOSTIC,    19, -6.013907194138e-01, 8.346922113560e-04, 1.5931e+00, 3.9023e-02, \n",
      " 2DIAGNOSTIC,    20, -6.119836568832e-01, 1.221875776537e-03, 1.6313e+00, 3.8128e-02, \n",
      " 2DIAGNOSTIC,    21, -6.217604279518e-01, 1.688255928457e-03, 1.6950e+00, 6.3707e-02, \n",
      " 2DIAGNOSTIC,    22, -6.231574416161e-01, 1.988305943087e-03, 1.7381e+00, 4.3158e-02, \n",
      " 2DIAGNOSTIC,    23, -6.245682239532e-01, 2.121276920661e-03, 1.7877e+00, 4.9604e-02, \n",
      " 2DIAGNOSTIC,    24, -6.272081732750e-01, 2.116861520335e-03, 1.8248e+00, 3.7048e-02, \n",
      " 2DIAGNOSTIC,    25, -6.278237104416e-01, 1.947377459146e-03, 1.8629e+00, 3.8137e-02, \n",
      " 2DIAGNOSTIC,    26, -6.288859248161e-01, 1.659856527112e-03, 1.9006e+00, 3.7645e-02, \n",
      " 2DIAGNOSTIC,    27, -6.303316950798e-01, 1.309268991463e-03, 1.9619e+00, 6.1331e-02, \n",
      " 2DIAGNOSTIC,    28, -6.309535503387e-01, 9.307299042121e-04, 2.0126e+00, 5.0720e-02, \n",
      " 2DIAGNOSTIC,    29, -6.314561367035e-01, 5.840061348863e-04, 2.0626e+00, 4.9947e-02, \n",
      " 2DIAGNOSTIC,    30, -6.328253149986e-01, 3.971636469942e-04, 2.1025e+00, 3.9902e-02, \n",
      " 2DIAGNOSTIC,    31, -6.333848237991e-01, 3.472022362985e-04, 2.1412e+00, 3.8728e-02, \n",
      " 2DIAGNOSTIC,    32, -6.344953775406e-01, 3.054713888559e-04, 2.1983e+00, 5.7143e-02, \n",
      " 2DIAGNOSTIC,    33, -6.350542306900e-01, 2.654106356204e-04, 2.2372e+00, 3.8851e-02, \n",
      " 2DIAGNOSTIC,    34, -6.355229616165e-01, 2.469870669302e-04, 2.2769e+00, 3.9693e-02, \n",
      " 2DIAGNOSTIC,    35, -6.364904642105e-01, 2.278333267896e-04, 2.3264e+00, 4.9573e-02, \n",
      " 2DIAGNOSTIC,    36, -6.368517875671e-01, 2.064791624434e-04, 2.3703e+00, 4.3903e-02, \n",
      " 2DIAGNOSTIC,    37, -6.369897127151e-01, 1.872708089650e-04, 2.4079e+00, 3.7585e-02, \n",
      " 2DIAGNOSTIC,    38, -6.393881440163e-01, 1.895091700135e-04, 2.4518e+00, 4.3895e-02, \n",
      " 2DIAGNOSTIC,    39, -6.399735808372e-01, 1.858824107330e-04, 2.4898e+00, 3.7929e-02, \n",
      " 2DIAGNOSTIC,    40, -6.404148340225e-01, 1.863781944849e-04, 2.5344e+00, 4.4678e-02, \n",
      " 2DIAGNOSTIC,    41, -6.415042281151e-01, 1.883272489067e-04, 2.5860e+00, 5.1607e-02, \n",
      " 2DIAGNOSTIC,    42, -6.428384780884e-01, 1.996155042434e-04, 2.6294e+00, 4.3363e-02, \n",
      " 2DIAGNOSTIC,    43, -6.479595899582e-01, 2.531999198254e-04, 2.6772e+00, 4.7843e-02, \n",
      " 2DIAGNOSTIC,    44, -6.536749005318e-01, 3.447113267612e-04, 2.7226e+00, 4.5399e-02, \n",
      " 2DIAGNOSTIC,    45, -6.543651819229e-01, 4.156681243330e-04, 2.7672e+00, 4.4536e-02, \n",
      " 2DIAGNOSTIC,    46, -6.548749208450e-01, 4.540050576907e-04, 2.8288e+00, 6.1570e-02, \n",
      " 2DIAGNOSTIC,    47, -6.549345850945e-01, 4.490995488595e-04, 2.8812e+00, 5.2441e-02, \n",
      " 2DIAGNOSTIC,    48, -6.548901796341e-01, 4.236423410475e-04, 2.9299e+00, 4.8715e-02, \n",
      " 2DIAGNOSTIC,    49, -6.548950076103e-01, 3.636651381385e-04, 3.0074e+00, 7.7473e-02, \n",
      " 2DIAGNOSTIC,    50, -6.549001932144e-01, 2.760168863460e-04, 3.0607e+00, 5.3324e-02, \n",
      " 2DIAGNOSTIC,    51, -6.548798680305e-01, 1.764335465850e-04, 3.1245e+00, 6.3792e-02, \n",
      " 2DIAGNOSTIC,    52, -6.548758149147e-01, 7.542398088844e-05, 3.2079e+00, 8.3420e-02, \n",
      " 2DIAGNOSTIC,    53, -6.548734903336e-01, 1.497299308539e-05, 3.2508e+00, 4.2856e-02, \n",
      " 2DIAGNOSTIC,    54, -6.548781394958e-01, 4.641913619707e-06, 3.3017e+00, 5.0967e-02, \n",
      "DIAGNOSTIC,Iteration,metricValue,convergenceValue,ITERATION_TIME_INDEX,SINCE_LAST\n",
      " 2DIAGNOSTIC,     1, -5.749976634979e-01, inf, 4.4445e+00, 1.1428e+00, \n",
      " 2DIAGNOSTIC,     2, -5.758173465729e-01, inf, 4.6618e+00, 2.1727e-01, \n",
      " 2DIAGNOSTIC,     3, -5.759303569794e-01, inf, 4.8374e+00, 1.7565e-01, \n",
      " 2DIAGNOSTIC,     4, -5.759631991386e-01, inf, 5.0362e+00, 1.9881e-01, \n",
      " 2DIAGNOSTIC,     5, -5.760204792023e-01, inf, 5.2968e+00, 2.6063e-01, \n",
      " 2DIAGNOSTIC,     6, -5.760914683342e-01, inf, 5.5828e+00, 2.8591e-01, \n",
      " 2DIAGNOSTIC,     7, -5.760897994041e-01, inf, 5.8314e+00, 2.4868e-01, \n",
      " 2DIAGNOSTIC,     8, -5.761199593544e-01, inf, 6.2653e+00, 4.3387e-01, \n",
      " 2DIAGNOSTIC,     9, -5.761309266090e-01, inf, 6.5502e+00, 2.8494e-01, \n",
      " 2DIAGNOSTIC,    10, -5.761377215385e-01, 8.301562775159e-05, 6.8658e+00, 3.1556e-01, \n",
      " 2DIAGNOSTIC,    11, -5.761466026306e-01, 3.313548222650e-05, 7.1119e+00, 2.4609e-01, \n",
      " 2DIAGNOSTIC,    12, -5.761541724205e-01, 2.278347710671e-05, 7.3368e+00, 2.2495e-01, \n",
      " 2DIAGNOSTIC,    13, -5.761611461639e-01, 1.677422915236e-05, 7.5623e+00, 2.2548e-01, \n",
      " 2DIAGNOSTIC,    14, -5.761591196060e-01, 1.136911487265e-05, 7.8156e+00, 2.5325e-01, \n",
      " 2DIAGNOSTIC,    15, -5.761595964432e-01, 7.704799827479e-06, 8.0111e+00, 1.9557e-01, \n",
      " 2DIAGNOSTIC,    16, -5.761586427689e-01, 6.160094471852e-06, 8.2569e+00, 2.4577e-01, \n",
      " 2DIAGNOSTIC,    17, -5.761586427689e-01, 4.340702162153e-06, 8.4573e+00, 2.0043e-01, \n",
      " 2DIAGNOSTIC,    18, -5.761587023735e-01, 3.316976744827e-06, 8.6302e+00, 1.7282e-01, \n",
      " 2DIAGNOSTIC,    19, -5.761576294899e-01, 2.514582092772e-06, 8.8036e+00, 1.7341e-01, \n",
      " 2DIAGNOSTIC,    20, -5.761568546295e-01, 1.862092062765e-06, 8.9755e+00, 1.7190e-01, \n",
      " 2DIAGNOSTIC,    21, -5.761568546295e-01, 1.451401544728e-06, 9.1765e+00, 2.0105e-01, \n",
      " 2DIAGNOSTIC,    22, -5.761561989784e-01, 1.233276407220e-06, 9.3519e+00, 1.7539e-01, \n",
      " 2DIAGNOSTIC,    23, -5.761586427689e-01, 1.256910195480e-06, 9.5723e+00, 2.2039e-01, \n",
      " 2DIAGNOSTIC,    24, -5.761584043503e-01, 1.241810423380e-06, 9.7718e+00, 1.9949e-01, \n",
      " 2DIAGNOSTIC,    25, -5.761579275131e-01, 1.236846401298e-06, 9.9702e+00, 1.9840e-01, \n",
      " 2DIAGNOSTIC,    26, -5.761570930481e-01, 1.202109046972e-06, 1.0196e+01, 2.2558e-01, \n",
      " 2DIAGNOSTIC,    27, -5.761561393738e-01, 1.154024403149e-06, 1.0379e+01, 1.8340e-01, \n",
      " 2DIAGNOSTIC,    28, -5.761548876762e-01, 1.090231876333e-06, 1.0552e+01, 1.7309e-01, \n",
      " 2DIAGNOSTIC,    29, -5.761561393738e-01, 1.038247773977e-06, 1.0756e+01, 2.0337e-01, \n",
      "DIAGNOSTIC,Iteration,metricValue,convergenceValue,ITERATION_TIME_INDEX,SINCE_LAST\n",
      " 2DIAGNOSTIC,     1, -4.867814481258e-01, inf, 1.1925e+01, 1.1698e+00, \n",
      " 2DIAGNOSTIC,     2, -4.875203967094e-01, inf, 1.2097e+01, 1.7185e-01, \n",
      " 2DIAGNOSTIC,     3, -4.876644611359e-01, inf, 1.2271e+01, 1.7383e-01, \n",
      " 2DIAGNOSTIC,     4, -4.877666234970e-01, inf, 1.2516e+01, 2.4446e-01, \n",
      " 2DIAGNOSTIC,     5, -4.878139793873e-01, inf, 1.2707e+01, 1.9180e-01, \n",
      " 2DIAGNOSTIC,     6, -4.878568947315e-01, inf, 1.2915e+01, 2.0721e-01, \n",
      " 2DIAGNOSTIC,     7, -4.878840148449e-01, inf, 1.3163e+01, 2.4851e-01, \n",
      " 2DIAGNOSTIC,     8, -4.878838956356e-01, inf, 1.3360e+01, 1.9708e-01, \n",
      " 2DIAGNOSTIC,     9, -4.878832697868e-01, inf, 1.3585e+01, 2.2520e-01, \n",
      " 2DIAGNOSTIC,    10, -4.878830611706e-01, 9.843028965406e-05, 1.3787e+01, 2.0116e-01, \n",
      " 2DIAGNOSTIC,    11, -4.878827631474e-01, 3.850349821732e-05, 1.4030e+01, 2.4329e-01, \n",
      " 2DIAGNOSTIC,    12, -4.878819882870e-01, 2.108670196321e-05, 1.4242e+01, 2.1192e-01, \n",
      " 2DIAGNOSTIC,    13, -4.878816008568e-01, 1.104718830902e-05, 1.4448e+01, 2.0586e-01, \n",
      " 2DIAGNOSTIC,    14, -4.878818690777e-01, 5.907690592721e-06, 1.4672e+01, 2.2394e-01, \n",
      " 2DIAGNOSTIC,    15, -4.878815412521e-01, 2.912186346293e-06, 1.4894e+01, 2.2275e-01, \n",
      " 2DIAGNOSTIC,    16, -4.878812432289e-01, 1.741951223266e-06, 1.5112e+01, 2.1797e-01, \n",
      " 2DIAGNOSTIC,    17, -4.878812432289e-01, 1.661742544457e-06, 1.5310e+01, 1.9750e-01, \n",
      " 2DIAGNOSTIC,    18, -4.878812134266e-01, 1.604857516213e-06, 1.5561e+01, 2.5173e-01, \n",
      " 2DIAGNOSTIC,    19, -4.878812432289e-01, 1.549816033730e-06, 1.5761e+01, 1.9920e-01, \n",
      " 2DIAGNOSTIC,    20, -4.878811836243e-01, 1.503546627646e-06, 1.5958e+01, 1.9727e-01, \n",
      " 2DIAGNOSTIC,    21, -4.878811836243e-01, 1.461959413973e-06, 1.6167e+01, 2.0878e-01, \n",
      " 2DIAGNOSTIC,    22, -4.878816008568e-01, 1.419509999323e-06, 1.6368e+01, 2.0090e-01, \n",
      " 2DIAGNOSTIC,    23, -4.878816306591e-01, 1.373076202071e-06, 1.6666e+01, 2.9791e-01, \n",
      " 2DIAGNOSTIC,    24, -4.878816902637e-01, 1.339305413239e-06, 1.6864e+01, 1.9832e-01, \n",
      " 2DIAGNOSTIC,    25, -4.878816306591e-01, 1.297913854614e-06, 1.7067e+01, 2.0348e-01, \n",
      " 2DIAGNOSTIC,    26, -4.878816306591e-01, 1.250353193427e-06, 1.7273e+01, 2.0602e-01, \n",
      " 2DIAGNOSTIC,    27, -4.878815114498e-01, 1.200764586429e-06, 1.7476e+01, 2.0222e-01, \n",
      " 2DIAGNOSTIC,    28, -4.878815412521e-01, 1.152262939286e-06, 1.7674e+01, 1.9825e-01, \n",
      " 2DIAGNOSTIC,    29, -4.878814816475e-01, 1.104803232010e-06, 1.7873e+01, 1.9930e-01, \n",
      " 2DIAGNOSTIC,    30, -4.878815412521e-01, 1.059610895027e-06, 1.8073e+01, 1.9999e-01, \n",
      " 2DIAGNOSTIC,    31, -4.878815114498e-01, 1.016353735395e-06, 1.8271e+01, 1.9782e-01, \n",
      "DIAGNOSTIC,Iteration,metricValue,convergenceValue,ITERATION_TIME_INDEX,SINCE_LAST\n",
      " 2DIAGNOSTIC,     1, -4.298082292080e-01, inf, 2.1189e+01, 2.9183e+00, \n",
      "  Elapsed time (stage 0): 2.2529e+01\n",
      "\n",
      "\n",
      "Stage 1\n",
      "  iterations = 40x20x0\n",
      "  convergence threshold = 1.0000e-07\n",
      "  convergence window size = 8\n",
      "  number of levels = 3\n",
      "  using the Mattes MI metric (number of bins = 32, weight = 1.0000e+00, use gradient filter = 0)\n",
      "  preprocessing:  histogram matching the images\n",
      "  Shrink factors (level 1 out of 3): [4, 4, 4]\n",
      "  Shrink factors (level 2 out of 3): [2, 2, 2]\n",
      "  Shrink factors (level 3 out of 3): [1, 1, 1]\n",
      "  smoothing sigmas per level: [2, 1, 0]\n",
      "  Using default NONE metricSamplingStrategy \n",
      "\n",
      "*** Running SyN registration (varianceForUpdateField = 3.0000e+00, varianceForTotalField = 0.0000e+00) ***\n",
      "\n",
      "XXDIAGNOSTIC,Iteration,metricValue,convergenceValue,ITERATION_TIME_INDEX,SINCE_LAST\n",
      " 1DIAGNOSTIC,     1, -5.479969382286e-01, inf, 1.0139e+00, 1.0139e+00, \n",
      " 1DIAGNOSTIC,     2, -5.532417893410e-01, inf, 1.3912e+00, 3.7729e-01, \n",
      " 1DIAGNOSTIC,     3, -5.585060119629e-01, inf, 1.6879e+00, 2.9673e-01, \n",
      " 1DIAGNOSTIC,     4, -5.635400414467e-01, inf, 2.0121e+00, 3.2419e-01, \n",
      " 1DIAGNOSTIC,     5, -5.687555074692e-01, inf, 2.3354e+00, 3.2327e-01, \n",
      " 1DIAGNOSTIC,     6, -5.736094713211e-01, inf, 2.6403e+00, 3.0492e-01, \n",
      " 1DIAGNOSTIC,     7, -5.777648687363e-01, inf, 2.9402e+00, 2.9990e-01, \n",
      " 1DIAGNOSTIC,     8, -5.810715556145e-01, 4.896887578070e-03, 3.2839e+00, 3.4367e-01, \n",
      " 1DIAGNOSTIC,     9, -5.838785767555e-01, 4.018916748464e-03, 3.5981e+00, 3.1419e-01, \n",
      " 1DIAGNOSTIC,    10, -5.866032838821e-01, 3.258600365371e-03, 4.0919e+00, 4.9384e-01, \n",
      " 1DIAGNOSTIC,    11, -5.890551805496e-01, 2.618483733386e-03, 4.4066e+00, 3.1470e-01, \n",
      " 1DIAGNOSTIC,    12, -5.911546349525e-01, 2.085857558995e-03, 4.7235e+00, 3.1685e-01, \n",
      " 1DIAGNOSTIC,    13, -5.932782888412e-01, 1.688337069936e-03, 5.0366e+00, 3.1307e-01, \n",
      " 1DIAGNOSTIC,    14, -5.952951312065e-01, 1.408057520166e-03, 5.3549e+00, 3.1832e-01, \n",
      " 1DIAGNOSTIC,    15, -5.971773862839e-01, 1.209899433888e-03, 5.6715e+00, 3.1662e-01, \n",
      " 1DIAGNOSTIC,    16, -5.987753868103e-01, 1.050253864378e-03, 5.9810e+00, 3.0946e-01, \n",
      " 1DIAGNOSTIC,    17, -6.002478599548e-01, 9.114671847783e-04, 6.3203e+00, 3.3934e-01, \n",
      " 1DIAGNOSTIC,    18, -6.011485457420e-01, 7.786953356117e-04, 6.6446e+00, 3.2432e-01, \n",
      " 1DIAGNOSTIC,    19, -6.017781496048e-01, 6.458943244070e-04, 6.9668e+00, 3.2218e-01, \n",
      " 1DIAGNOSTIC,    20, -6.026529073715e-01, 5.227392539382e-04, 7.3520e+00, 3.8523e-01, \n",
      " 1DIAGNOSTIC,    21, -6.035715937614e-01, 4.224701260682e-04, 7.6810e+00, 3.2896e-01, \n",
      " 1DIAGNOSTIC,    22, -6.043481230736e-01, 3.463219036348e-04, 8.0059e+00, 3.2494e-01, \n",
      " 1DIAGNOSTIC,    23, -6.051452159882e-01, 2.965921303257e-04, 8.3388e+00, 3.3283e-01, \n",
      " 1DIAGNOSTIC,    24, -6.050178408623e-01, 2.442932163831e-04, 8.6545e+00, 3.1572e-01, \n",
      " 1DIAGNOSTIC,    25, -6.044950485229e-01, 1.835648581618e-04, 8.9693e+00, 3.1483e-01, \n",
      " 1DIAGNOSTIC,    26, -6.035642623901e-01, 1.003522120300e-04, 9.2886e+00, 3.1932e-01, \n",
      " 1DIAGNOSTIC,    27, -6.031372547150e-01, 1.327814879915e-05, 9.6321e+00, 3.4347e-01, \n",
      " 1DIAGNOSTIC,    28, -6.029943823814e-01, -5.382592644310e-05, 9.9568e+00, 3.2469e-01, \n",
      "XXDIAGNOSTIC,Iteration,metricValue,convergenceValue,ITERATION_TIME_INDEX,SINCE_LAST\n",
      " 1DIAGNOSTIC,     1, -4.989281892776e-01, inf, 1.4321e+01, 4.3641e+00, \n",
      " 1DIAGNOSTIC,     2, -4.998769164085e-01, inf, 1.7463e+01, 3.1423e+00, \n",
      " 1DIAGNOSTIC,     3, -5.009893178940e-01, inf, 2.0748e+01, 3.2851e+00, \n",
      " 1DIAGNOSTIC,     4, -5.020234584808e-01, inf, 2.3570e+01, 2.8219e+00, \n",
      " 1DIAGNOSTIC,     5, -5.030323266983e-01, inf, 2.6522e+01, 2.9523e+00, \n",
      " 1DIAGNOSTIC,     6, -5.039639472961e-01, inf, 2.9921e+01, 3.3985e+00, \n",
      " 1DIAGNOSTIC,     7, -5.049447417259e-01, inf, 3.3087e+01, 3.1665e+00, \n",
      " 1DIAGNOSTIC,     8, -5.059026479721e-01, 1.146292779595e-03, 3.6743e+01, 3.6551e+00, \n",
      " 1DIAGNOSTIC,     9, -5.068439245224e-01, 1.003814977594e-03, 3.9656e+01, 2.9134e+00, \n",
      " 1DIAGNOSTIC,    10, -5.075883865356e-01, 8.703477797098e-04, 4.2418e+01, 2.7618e+00, \n",
      " 1DIAGNOSTIC,    11, -5.082247257233e-01, 7.516080513597e-04, 4.5144e+01, 2.7259e+00, \n",
      " 1DIAGNOSTIC,    12, -5.087046623230e-01, 6.355721270666e-04, 4.7901e+01, 2.7573e+00, \n",
      " 1DIAGNOSTIC,    13, -5.092033147812e-01, 5.288531538099e-04, 5.0549e+01, 2.6477e+00, \n",
      " 1DIAGNOSTIC,    14, -5.097161531448e-01, 4.343934997451e-04, 5.3205e+01, 2.6568e+00, \n",
      " 1DIAGNOSTIC,    15, -5.101956129074e-01, 3.585770027712e-04, 5.5866e+01, 2.6605e+00, \n",
      " 1DIAGNOSTIC,    16, -5.106813311577e-01, 3.038153517991e-04, 5.8540e+01, 2.6739e+00, \n",
      " 1DIAGNOSTIC,    17, -5.111391544342e-01, 2.691250992939e-04, 6.1185e+01, 2.6448e+00, \n",
      " 1DIAGNOSTIC,    18, -5.115036964417e-01, 2.423216938041e-04, 6.3757e+01, 2.5724e+00, \n",
      " 1DIAGNOSTIC,    19, -5.113385319710e-01, 2.008381998166e-04, 6.6439e+01, 2.6820e+00, \n",
      " 1DIAGNOSTIC,    20, -5.110840797424e-01, 1.427817187505e-04, 6.8974e+01, 2.5349e+00, \n",
      "  Elapsed time (stage 1): 74.61\n",
      "\n",
      "\n",
      "Total elapsed time: 97.21\n"
     ]
    }
   ],
   "source": [
    "template_warp_to_raw_anat = ants.registration(\n",
    "    fixed=raw_anat_img,\n",
    "    moving=mni_template_img, \n",
    "    type_of_transform='SyN',\n",
    "    verbose=True\n",
    ")"
   ]
  },
  {
   "cell_type": "code",
   "execution_count": 12,
   "metadata": {},
   "outputs": [
    {
     "name": "stdout",
     "output_type": "stream",
     "text": [
      "True\n"
     ]
    }
   ],
   "source": [
    "print(registered_template_img is template_warp_to_raw_anat['warpedmovout'])"
   ]
  },
  {
   "cell_type": "markdown",
   "metadata": {},
   "source": [
    "The following comparison function asserts that the new `registered_template_img` image has been transformed to the size and shape of the `raw_anat_img`\n",
    "\n",
    "**what is this and why is it here?**"
   ]
  },
  {
   "cell_type": "markdown",
   "metadata": {},
   "source": [
    "Next, we apply this to the mask so that it fits over the brain in the data we wish to visualize"
   ]
  },
  {
   "cell_type": "code",
   "execution_count": 11,
   "metadata": {},
   "outputs": [
    {
     "name": "stdout",
     "output_type": "stream",
     "text": [
      "['-d', '3', '-i', '0x17f8ce6a8', '-o', '0x17f8ceb28', '-r', '0x17f8ce548', '-n', 'nearestNeighbor', '-t', '/var/folders/m4/rtcmkx_17lv03n9tvdf76ycr0000gn/T/tmpucm2vqlj1Warp.nii.gz', '-t', '/var/folders/m4/rtcmkx_17lv03n9tvdf76ycr0000gn/T/tmpucm2vqlj0GenericAffine.mat']\n",
      "Using double precision for computations.\n",
      "Input scalar image: 0x17f8ce6a8\n",
      "Could not create ImageIO for the input file, assuming dimension = 3 and scalar pixel type\n",
      "Reference image: 0x17f8ce548\n",
      "=============================================================================\n",
      "The composite transform comprises the following transforms (in order): \n",
      "  1. /var/folders/m4/rtcmkx_17lv03n9tvdf76ycr0000gn/T/tmpucm2vqlj0GenericAffine.mat (type = AffineTransform)\n",
      "  2. /var/folders/m4/rtcmkx_17lv03n9tvdf76ycr0000gn/T/tmpucm2vqlj1Warp.nii.gz (type = DisplacementFieldTransform)\n",
      "=============================================================================\n",
      "Default pixel value: 0\n",
      "Interpolation type: NearestNeighborInterpolateImageFunction\n",
      "Output warped image: 0x17f8ceb28\n"
     ]
    }
   ],
   "source": [
    "brain_mask = ants.apply_transforms(\n",
    "    fixed=template_warp_to_raw_anat['warpedmovout'],\n",
    "    moving=mni_template_mask,\n",
    "    transformlist=template_warp_to_raw_anat['fwdtransforms'],\n",
    "    interpolator='nearestNeighbor',\n",
    "    verbose=True\n",
    ")"
   ]
  },
  {
   "cell_type": "code",
   "execution_count": null,
   "metadata": {},
   "outputs": [
    {
     "data": {
      "application/vnd.jupyter.widget-view+json": {
       "model_id": "7e482bb271464c05be9d66538ba4e8ab",
       "version_major": 2,
       "version_minor": 0
      },
      "text/plain": [
       "interactive(children=(IntSlider(value=255, description='slice', max=511), Output()), _dom_classes=('widget-int…"
      ]
     },
     "metadata": {},
     "output_type": "display_data"
    }
   ],
   "source": [
    "#explore(raw_anat_img.numpy(), brain_mask.numpy())\n",
    "explore_3D_vol(raw_anat_img.numpy(), mask=brain_mask.numpy())"
   ]
  },
  {
   "cell_type": "markdown",
   "metadata": {},
   "source": [
    "Let's fine tune the mask a bit"
   ]
  },
  {
   "cell_type": "code",
   "execution_count": 13,
   "metadata": {},
   "outputs": [],
   "source": [
    "brain_mask_dilated = ants.morphology(brain_mask, radius=4, operation='dilate', mtype='binary')"
   ]
  },
  {
   "cell_type": "code",
   "execution_count": 14,
   "metadata": {},
   "outputs": [
    {
     "data": {
      "application/vnd.jupyter.widget-view+json": {
       "model_id": "af8e33e1f1ca4e9fbf89e33a9e5acb4a",
       "version_major": 2,
       "version_minor": 0
      },
      "text/plain": [
       "interactive(children=(IntSlider(value=255, description='slice', max=511), Output()), _dom_classes=('widget-int…"
      ]
     },
     "metadata": {},
     "output_type": "display_data"
    }
   ],
   "source": [
    "explore_3D_vol(raw_anat_img.numpy(), mask=brain_mask_dilated.numpy())"
   ]
  },
  {
   "cell_type": "markdown",
   "metadata": {},
   "source": [
    "# Mask the Image and Create Sections"
   ]
  },
  {
   "cell_type": "code",
   "execution_count": 15,
   "metadata": {},
   "outputs": [],
   "source": [
    "brain_anat = ants.mask_image(raw_anat_img, brain_mask_dilated)"
   ]
  },
  {
   "cell_type": "code",
   "execution_count": 16,
   "metadata": {},
   "outputs": [
    {
     "name": "stdout",
     "output_type": "stream",
     "text": [
      "ANTsImage (LPI)\n",
      "\t Pixel Type : float (float32)\n",
      "\t Components : 1\n",
      "\t Dimensions : (512, 512, 296)\n",
      "\t Spacing    : (0.4785, 0.4785, 0.5)\n",
      "\t Origin     : (119.989, 104.52, -84.2457)\n",
      "\t Direction  : [-1.      0.0025  0.     -0.0025 -1.      0.      0.      0.      1.    ]\n",
      "\n"
     ]
    },
    {
     "data": {
      "application/vnd.jupyter.widget-view+json": {
       "model_id": "604d2c0de09b41beac597203e1e94998",
       "version_major": 2,
       "version_minor": 0
      },
      "text/plain": [
       "interactive(children=(IntSlider(value=255, description='slice', max=511), Output()), _dom_classes=('widget-int…"
      ]
     },
     "metadata": {},
     "output_type": "display_data"
    }
   ],
   "source": [
    "print(brain_anat)\n",
    "explore_3D_vol(brain_anat.numpy())"
   ]
  },
  {
   "cell_type": "markdown",
   "metadata": {},
   "source": [
    "# Building Scivol"
   ]
  },
  {
   "cell_type": "markdown",
   "metadata": {},
   "source": [
    "Initialize the scivol object"
   ]
  },
  {
   "cell_type": "code",
   "execution_count": 17,
   "metadata": {},
   "outputs": [],
   "source": [
    "skullstrip = Scivol(\"skullstrip\")"
   ]
  },
  {
   "cell_type": "markdown",
   "metadata": {},
   "source": [
    "Create the volumes:"
   ]
  },
  {
   "cell_type": "code",
   "execution_count": 18,
   "metadata": {},
   "outputs": [],
   "source": [
    "full_anat_vol = create_normalized_volume(raw_anat_img.numpy())\n",
    "brain_anat_vol = create_normalized_volume(brain_anat.numpy())"
   ]
  },
  {
   "cell_type": "markdown",
   "metadata": {},
   "source": [
    "Create the grids:"
   ]
  },
  {
   "cell_type": "code",
   "execution_count": 19,
   "metadata": {},
   "outputs": [
    {
     "data": {
      "application/vnd.jupyter.widget-view+json": {
       "model_id": "4f1eaf00540547b7b31707b3f1080031",
       "version_major": 2,
       "version_minor": 0
      },
      "text/plain": [
       "interactive(children=(IntSlider(value=255, description='SLICE', max=511), Output()), _dom_classes=('widget-int…"
      ]
     },
     "metadata": {},
     "output_type": "display_data"
    },
    {
     "data": {
      "application/vnd.jupyter.widget-view+json": {
       "model_id": "9083c212388f4ea69a596dc35619f4ce",
       "version_major": 2,
       "version_minor": 0
      },
      "text/plain": [
       "interactive(children=(IntSlider(value=255, description='SLICE', max=511), Output()), _dom_classes=('widget-int…"
      ]
     },
     "metadata": {},
     "output_type": "display_data"
    }
   ],
   "source": [
    "explore_3D_array(full_anat_vol)\n",
    "explore_3D_array(brain_anat_vol)"
   ]
  },
  {
   "cell_type": "code",
   "execution_count": 20,
   "metadata": {},
   "outputs": [
    {
     "name": "stdout",
     "output_type": "stream",
     "text": [
      "writing full_anat to grid\n",
      "writing brain_anat to grid\n"
     ]
    }
   ],
   "source": [
    "skullstrip.add_grids([Grid(\"full_anat\",[full_anat_vol]), Grid(\"brain_anat\", [brain_anat_vol])])"
   ]
  },
  {
   "cell_type": "code",
   "execution_count": 21,
   "metadata": {},
   "outputs": [
    {
     "name": "stdout",
     "output_type": "stream",
     "text": [
      "skullstrip\n",
      "tolerance: 0.0\n",
      "affine: [[1. 0. 0. 0.]\n",
      " [0. 1. 0. 0.]\n",
      " [0. 0. 1. 0.]\n",
      " [0. 0. 0. 1.]]\n",
      "grids:\n",
      "    - full_anat\n",
      "    - brain_anat\n",
      "\n",
      "writing skullstrip scivol dictionary\n",
      "Encoding JSON file to utf-8\n",
      "saving skullstrip.scivol to /Users/joachimpfefferkorn/repos/neurovolume/output/\n"
     ]
    }
   ],
   "source": [
    "print(skullstrip)\n",
    "skullstrip.save_scivol(output_folder)"
   ]
  },
  {
   "cell_type": "markdown",
   "metadata": {},
   "source": [
    "Lets' quickly test this in our notebook"
   ]
  },
  {
   "cell_type": "code",
   "execution_count": 22,
   "metadata": {},
   "outputs": [],
   "source": [
    "test_compressed_file_path = \"/Users/joachimpfefferkorn/repos/neurovolume/output/skullstrip.scivol\"\n",
    "with gzip.open(test_compressed_file_path, 'r') as svin:\n",
    "    scivol_bytes = svin.read()\n",
    "scivol_str = scivol_bytes.decode('utf-8')"
   ]
  },
  {
   "cell_type": "code",
   "execution_count": 23,
   "metadata": {},
   "outputs": [],
   "source": [
    "scivol_dict = json.loads(scivol_str)"
   ]
  },
  {
   "cell_type": "code",
   "execution_count": 26,
   "metadata": {},
   "outputs": [
    {
     "name": "stdout",
     "output_type": "stream",
     "text": [
      "<class 'dict'>\n",
      "skullstrip\n",
      "['full_anat', 'brain_anat']\n",
      "<class 'numpy.ndarray'>\n"
     ]
    },
    {
     "data": {
      "application/vnd.jupyter.widget-view+json": {
       "model_id": "d12513ec31de486f82fea30811de43c5",
       "version_major": 2,
       "version_minor": 0
      },
      "text/plain": [
       "interactive(children=(IntSlider(value=255, description='slice', max=511), Output()), _dom_classes=('widget-int…"
      ]
     },
     "metadata": {},
     "output_type": "display_data"
    }
   ],
   "source": [
    "print(type(scivol_dict))\n",
    "print(scivol_dict['name'])\n",
    "print([grid for grid in scivol_dict['grids']])\n",
    "brain_anat_test_vol = np.asanyarray(scivol_dict['grids']['brain_anat']['frames'][0])\n",
    "print(type(brain_anat_test_vol))\n",
    "explore_3D_vol(brain_anat_test_vol)"
   ]
  },
  {
   "cell_type": "code",
   "execution_count": null,
   "metadata": {},
   "outputs": [
    {
     "data": {
      "application/vnd.jupyter.widget-view+json": {
       "model_id": "652ed61fbbeb45c19464aefab427bfaf",
       "version_major": 2,
       "version_minor": 0
      },
      "text/plain": [
       "interactive(children=(IntSlider(value=255, description='slice', max=511), Output()), _dom_classes=('widget-int…"
      ]
     },
     "metadata": {},
     "output_type": "display_data"
    }
   ],
   "source": [
    "explore_3D_vol(np.asanyarray(scivol_dict['grids']['full_anat']['frames'][0]))"
   ]
  }
 ],
 "metadata": {
  "kernelspec": {
   "display_name": ".venv",
   "language": "python",
   "name": "python3"
  },
  "language_info": {
   "codemirror_mode": {
    "name": "ipython",
    "version": 3
   },
   "file_extension": ".py",
   "mimetype": "text/x-python",
   "name": "python",
   "nbconvert_exporter": "python",
   "pygments_lexer": "ipython3",
   "version": "3.11.5"
  }
 },
 "nbformat": 4,
 "nbformat_minor": 2
}
