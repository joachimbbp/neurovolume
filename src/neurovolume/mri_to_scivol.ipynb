{
 "cells": [
  {
   "cell_type": "markdown",
   "metadata": {},
   "source": [
    "# Gathering Data"
   ]
  },
  {
   "cell_type": "code",
   "execution_count": 1,
   "metadata": {},
   "outputs": [],
   "source": [
    "from functions import *\n",
    "from scivol import *\n",
    "from helpers import *\n",
    "import ipyvolume as ipv\n",
    "import numpy as np\n",
    "import json\n",
    "import ants\n",
    "import gzip\n",
    "import ast"
   ]
  },
  {
   "cell_type": "code",
   "execution_count": 2,
   "metadata": {},
   "outputs": [
    {
     "name": "stdout",
     "output_type": "stream",
     "text": [
      "/Users/joachimpfefferkorn/repos/neurovolume\n"
     ]
    }
   ],
   "source": [
    "proj_root = parent_directory()\n",
    "print(proj_root)\n",
    "mri_input_filepath = os.path.join(proj_root, \"media/sub-01/anat/sub-01_T1w.nii.gz\")\n",
    "template_folder = \"/Users/joachimpfefferkorn/repos/neurovolume/templates\"\n",
    "output_folder = os.path.join(proj_root, \"output/\")\n",
    "\n",
    "default_cmap = 'nipy_spectral'"
   ]
  },
  {
   "cell_type": "code",
   "execution_count": 3,
   "metadata": {},
   "outputs": [],
   "source": [
    "raw_anat_img = ants.image_read(mri_input_filepath)"
   ]
  },
  {
   "cell_type": "code",
   "execution_count": 4,
   "metadata": {},
   "outputs": [
    {
     "name": "stdout",
     "output_type": "stream",
     "text": [
      "ANTsImage (LPI)\n",
      "\t Pixel Type : float (float32)\n",
      "\t Components : 1\n",
      "\t Dimensions : (512, 512, 296)\n",
      "\t Spacing    : (0.4785, 0.4785, 0.5)\n",
      "\t Origin     : (119.989, 104.52, -84.2457)\n",
      "\t Direction  : [-1.      0.0025  0.     -0.0025 -1.      0.      0.      0.      1.    ]\n",
      "\n"
     ]
    },
    {
     "data": {
      "application/vnd.jupyter.widget-view+json": {
       "model_id": "a562f66177a04c3b82fc46f78940dc37",
       "version_major": 2,
       "version_minor": 0
      },
      "text/plain": [
       "interactive(children=(IntSlider(value=255, description='SLICE', max=511), Output()), _dom_classes=('widget-int…"
      ]
     },
     "metadata": {},
     "output_type": "display_data"
    }
   ],
   "source": [
    "print(raw_anat_img)\n",
    "explore_3D_array(raw_anat_img.numpy(), cmap=default_cmap)"
   ]
  },
  {
   "cell_type": "markdown",
   "metadata": {},
   "source": [
    "# Skull Stripping\n",
    "Using ANTs\n",
    "\n",
    "[this notebook](https://github.com/Angeluz-07/MRI-preprocessing-techniques/blob/main/notebooks/09_brain_extraction_with_template.ipynb) is what we're basing this on"
   ]
  },
  {
   "cell_type": "markdown",
   "metadata": {},
   "source": [
    "## Load Template and Mask"
   ]
  },
  {
   "cell_type": "code",
   "execution_count": 5,
   "metadata": {},
   "outputs": [],
   "source": [
    "mni_template_img = ants.image_read(f\"{template_folder}/mni_icbm152_t1_tal_nlin_sym_09a.nii\")\n",
    "mni_template_mask = ants.image_read(f\"{template_folder}/mni_icbm152_t1_tal_nlin_sym_09a_mask.nii\")"
   ]
  },
  {
   "cell_type": "code",
   "execution_count": 6,
   "metadata": {},
   "outputs": [
    {
     "name": "stdout",
     "output_type": "stream",
     "text": [
      "ANTsImage (LPI)\n",
      "\t Pixel Type : float (float32)\n",
      "\t Components : 1\n",
      "\t Dimensions : (197, 233, 189)\n",
      "\t Spacing    : (1.0, 1.0, 1.0)\n",
      "\t Origin     : (98.0, 134.0, -72.0)\n",
      "\t Direction  : [-1.  0.  0.  0. -1.  0.  0.  0.  1.]\n",
      "\n"
     ]
    },
    {
     "data": {
      "application/vnd.jupyter.widget-view+json": {
       "model_id": "8e055a00dd9e40cda33834bd5cf4a274",
       "version_major": 2,
       "version_minor": 0
      },
      "text/plain": [
       "interactive(children=(IntSlider(value=98, description='SLICE', max=196), Output()), _dom_classes=('widget-inte…"
      ]
     },
     "metadata": {},
     "output_type": "display_data"
    }
   ],
   "source": [
    "print(mni_template_img)\n",
    "explore_3D_array(mni_template_img.numpy(), cmap=default_cmap)"
   ]
  },
  {
   "cell_type": "code",
   "execution_count": 7,
   "metadata": {},
   "outputs": [
    {
     "name": "stdout",
     "output_type": "stream",
     "text": [
      "ANTsImage (LPI)\n",
      "\t Pixel Type : float (float32)\n",
      "\t Components : 1\n",
      "\t Dimensions : (197, 233, 189)\n",
      "\t Spacing    : (1.0, 1.0, 1.0)\n",
      "\t Origin     : (98.0, 134.0, -72.0)\n",
      "\t Direction  : [-1.  0.  0.  0. -1.  0.  0.  0.  1.]\n",
      "\n"
     ]
    },
    {
     "data": {
      "application/vnd.jupyter.widget-view+json": {
       "model_id": "591e4f7db7ba4a319be7a81858f22ac3",
       "version_major": 2,
       "version_minor": 0
      },
      "text/plain": [
       "interactive(children=(IntSlider(value=98, description='SLICE', max=196), Output()), _dom_classes=('widget-inte…"
      ]
     },
     "metadata": {},
     "output_type": "display_data"
    }
   ],
   "source": [
    "print(mni_template_mask)\n",
    "explore_3D_array(mni_template_mask.numpy(), cmap=default_cmap)"
   ]
  },
  {
   "cell_type": "markdown",
   "metadata": {},
   "source": [
    "## Register Template and Masks to Raw image\n",
    "Here we warp the MNI template"
   ]
  },
  {
   "cell_type": "code",
   "execution_count": 8,
   "metadata": {},
   "outputs": [
    {
     "name": "stdout",
     "output_type": "stream",
     "text": [
      "antsRegistration -d 3 -r [0x1058d3468,0x1058d2aa8,1] -m mattes[0x1058d3468,0x1058d2aa8,1,32,regular,0.2] -t Affine[0.25] -c 2100x1200x1200x0 -s 3x2x1x0 -f 4x2x2x1 -x [NA,NA] -m mattes[0x1058d3468,0x1058d2aa8,1,32] -t SyN[0.200000,3.000000,0.000000] -c [40x20x0,1e-7,8] -s 2x1x0 -f 4x2x1 -u 1 -z 1 -o [/var/folders/m4/rtcmkx_17lv03n9tvdf76ycr0000gn/T/tmpct56qxgj,0x13b6011c8,0x13b6037e8] -x [NA,NA] --float 1 --write-composite-transform 0 -v 1\n",
      "All_Command_lines_OK\n",
      "Using single precision for computations.\n",
      "=============================================================================\n",
      "The composite transform comprises the following transforms (in order): \n",
      "  1. Center of mass alignment using fixed image: 0x1058d3468 and moving image: 0x1058d2aa8 (type = Euler3DTransform)\n",
      "=============================================================================\n",
      "  Reading mask(s).\n",
      "    Registration stage 0\n",
      "      No fixed mask\n",
      "      No moving mask\n",
      "    Registration stage 1\n",
      "      No fixed mask\n",
      "      No moving mask\n",
      "  number of levels = 4\n",
      "  number of levels = 3\n",
      "  fixed image: 0x1058d3468\n",
      "  moving image: 0x1058d2aa8\n",
      "  fixed image: 0x1058d3468\n",
      "  moving image: 0x1058d2aa8\n",
      "Dimension = 3\n",
      "Number of stages = 2\n",
      "Use histogram matching = true\n",
      "Winsorize image intensities = false\n",
      "  Lower quantile = 0\n",
      "  Upper quantile = 1\n",
      "\n",
      "\n",
      "Stage 1 State\n",
      "   Image metric = MattesMI\n",
      "     Fixed image = Image (0x11ce91570)\n",
      "  RTTI typeinfo:   itk::Image<float, 3u>\n",
      "  Reference Count: 2\n",
      "  Modified Time: 2192\n",
      "  Debug: Off\n",
      "  Object Name: \n",
      "  Observers: \n",
      "    none\n",
      "  Source: (none)\n",
      "  Source output name: (none)\n",
      "  Release Data: Off\n",
      "  Data Released: False\n",
      "  Global Release Data: Off\n",
      "  PipelineMTime: 0\n",
      "  UpdateMTime: 2166\n",
      "  RealTimeStamp: 0 seconds \n",
      "  LargestPossibleRegion: \n",
      "    Dimension: 3\n",
      "    Index: [0, 0, 0]\n",
      "    Size: [512, 512, 296]\n",
      "  BufferedRegion: \n",
      "    Dimension: 3\n",
      "    Index: [0, 0, 0]\n",
      "    Size: [512, 512, 296]\n",
      "  RequestedRegion: \n",
      "    Dimension: 3\n",
      "    Index: [0, 0, 0]\n",
      "    Size: [512, 512, 296]\n",
      "  Spacing: [0.4785, 0.4785, 0.5]\n",
      "  Origin: [119.989, 104.52, -84.2457]\n",
      "  Direction: \n",
      "-0.999997 0.00254 0\n",
      "-0.00254 -0.999997 0\n",
      "0 0 1\n",
      "\n",
      "  IndexToPointMatrix: \n",
      "-0.478498 0.00121539 0\n",
      "-0.00121539 -0.478498 0\n",
      "0 0 0.5\n",
      "\n",
      "  PointToIndexMatrix: \n",
      "-2.08986 -0.00530826 0\n",
      "0.00530826 -2.08986 0\n",
      "0 0 2\n",
      "\n",
      "  Inverse Direction: \n",
      "-0.999997 -0.00254 0\n",
      "0.00254 -0.999997 0\n",
      "0 0 1\n",
      "\n",
      "  PixelContainer: \n",
      "    ImportImageContainer (0x11ce86ed0)\n",
      "      RTTI typeinfo:   itk::ImportImageContainer<unsigned long, float>\n",
      "      Reference Count: 1\n",
      "      Modified Time: 2164\n",
      "      Debug: Off\n",
      "      Object Name: \n",
      "      Observers: \n",
      "        none\n",
      "      Pointer: 0x3632ac000\n",
      "      Container manages memory: true\n",
      "      Size: 77594624\n",
      "      Capacity: 77594624\n",
      "\n",
      "     Moving image = Image (0x12c43c350)\n",
      "  RTTI typeinfo:   itk::Image<float, 3u>\n",
      "  Reference Count: 2\n",
      "  Modified Time: 2193\n",
      "  Debug: Off\n",
      "  Object Name: \n",
      "  Observers: \n",
      "    none\n",
      "  Source: (none)\n",
      "  Source output name: (none)\n",
      "  Release Data: Off\n",
      "  Data Released: False\n",
      "  Global Release Data: Off\n",
      "  PipelineMTime: 0\n",
      "  UpdateMTime: 2190\n",
      "  RealTimeStamp: 0 seconds \n",
      "  LargestPossibleRegion: \n",
      "    Dimension: 3\n",
      "    Index: [0, 0, 0]\n",
      "    Size: [197, 233, 189]\n",
      "  BufferedRegion: \n",
      "    Dimension: 3\n",
      "    Index: [0, 0, 0]\n",
      "    Size: [197, 233, 189]\n",
      "  RequestedRegion: \n",
      "    Dimension: 3\n",
      "    Index: [0, 0, 0]\n",
      "    Size: [197, 233, 189]\n",
      "  Spacing: [1, 1, 1]\n",
      "  Origin: [98, 134, -72]\n",
      "  Direction: \n",
      "-1 0 0\n",
      "0 -1 0\n",
      "0 0 1\n",
      "\n",
      "  IndexToPointMatrix: \n",
      "-1 0 0\n",
      "0 -1 0\n",
      "0 0 1\n",
      "\n",
      "  PointToIndexMatrix: \n",
      "-1 0 0\n",
      "0 -1 0\n",
      "0 0 1\n",
      "\n",
      "  Inverse Direction: \n",
      "-1 0 0\n",
      "0 -1 0\n",
      "0 0 1\n",
      "\n",
      "  PixelContainer: \n",
      "    ImportImageContainer (0x12c43c600)\n",
      "      RTTI typeinfo:   itk::ImportImageContainer<unsigned long, float>\n",
      "      Reference Count: 1\n",
      "      Modified Time: 2188\n",
      "      Debug: Off\n",
      "      Object Name: \n",
      "      Observers: \n",
      "        none\n",
      "      Pointer: 0x375aac000\n",
      "      Container manages memory: true\n",
      "      Size: 8675289\n",
      "      Capacity: 8675289\n",
      "\n",
      "     Weighting = 1\n",
      "     Sampling strategy = regular\n",
      "     Number of bins = 32\n",
      "     Radius = 4\n",
      "     Sampling percentage  = 0.2\n",
      "   Transform = Affine\n",
      "     Gradient step = 0.25\n",
      "     Update field sigma (voxel space) = 0\n",
      "     Total field sigma (voxel space) = 0\n",
      "     Update field time sigma = 0\n",
      "     Total field time sigma  = 0\n",
      "     Number of time indices = 0\n",
      "     Number of time point samples = 0\n",
      "Stage 2 State\n",
      "   Image metric = MattesMI\n",
      "     Fixed image = Image (0x12edba440)\n",
      "  RTTI typeinfo:   itk::Image<float, 3u>\n",
      "  Reference Count: 2\n",
      "  Modified Time: 2244\n",
      "  Debug: Off\n",
      "  Object Name: \n",
      "  Observers: \n",
      "    none\n",
      "  Source: (none)\n",
      "  Source output name: (none)\n",
      "  Release Data: Off\n",
      "  Data Released: False\n",
      "  Global Release Data: Off\n",
      "  PipelineMTime: 0\n",
      "  UpdateMTime: 2218\n",
      "  RealTimeStamp: 0 seconds \n",
      "  LargestPossibleRegion: \n",
      "    Dimension: 3\n",
      "    Index: [0, 0, 0]\n",
      "    Size: [512, 512, 296]\n",
      "  BufferedRegion: \n",
      "    Dimension: 3\n",
      "    Index: [0, 0, 0]\n",
      "    Size: [512, 512, 296]\n",
      "  RequestedRegion: \n",
      "    Dimension: 3\n",
      "    Index: [0, 0, 0]\n",
      "    Size: [512, 512, 296]\n",
      "  Spacing: [0.4785, 0.4785, 0.5]\n",
      "  Origin: [119.989, 104.52, -84.2457]\n",
      "  Direction: \n",
      "-0.999997 0.00254 0\n",
      "-0.00254 -0.999997 0\n",
      "0 0 1\n",
      "\n",
      "  IndexToPointMatrix: \n",
      "-0.478498 0.00121539 0\n",
      "-0.00121539 -0.478498 0\n",
      "0 0 0.5\n",
      "\n",
      "  PointToIndexMatrix: \n",
      "-2.08986 -0.00530826 0\n",
      "0.00530826 -2.08986 0\n",
      "0 0 2\n",
      "\n",
      "  Inverse Direction: \n",
      "-0.999997 -0.00254 0\n",
      "0.00254 -0.999997 0\n",
      "0 0 1\n",
      "\n",
      "  PixelContainer: \n",
      "    ImportImageContainer (0x129a72500)\n",
      "      RTTI typeinfo:   itk::ImportImageContainer<unsigned long, float>\n",
      "      Reference Count: 1\n",
      "      Modified Time: 2216\n",
      "      Debug: Off\n",
      "      Object Name: \n",
      "      Observers: \n",
      "        none\n",
      "      Pointer: 0x377bc4000\n",
      "      Container manages memory: true\n",
      "      Size: 77594624\n",
      "      Capacity: 77594624\n",
      "\n",
      "     Moving image = Image (0x11ce91820)\n",
      "  RTTI typeinfo:   itk::Image<float, 3u>\n",
      "  Reference Count: 2\n",
      "  Modified Time: 2245\n",
      "  Debug: Off\n",
      "  Object Name: \n",
      "  Observers: \n",
      "    none\n",
      "  Source: (none)\n",
      "  Source output name: (none)\n",
      "  Release Data: Off\n",
      "  Data Released: False\n",
      "  Global Release Data: Off\n",
      "  PipelineMTime: 0\n",
      "  UpdateMTime: 2242\n",
      "  RealTimeStamp: 0 seconds \n",
      "  LargestPossibleRegion: \n",
      "    Dimension: 3\n",
      "    Index: [0, 0, 0]\n",
      "    Size: [197, 233, 189]\n",
      "  BufferedRegion: \n",
      "    Dimension: 3\n",
      "    Index: [0, 0, 0]\n",
      "    Size: [197, 233, 189]\n",
      "  RequestedRegion: \n",
      "    Dimension: 3\n",
      "    Index: [0, 0, 0]\n",
      "    Size: [197, 233, 189]\n",
      "  Spacing: [1, 1, 1]\n",
      "  Origin: [98, 134, -72]\n",
      "  Direction: \n",
      "-1 0 0\n",
      "0 -1 0\n",
      "0 0 1\n",
      "\n",
      "  IndexToPointMatrix: \n",
      "-1 0 0\n",
      "0 -1 0\n",
      "0 0 1\n",
      "\n",
      "  PointToIndexMatrix: \n",
      "-1 0 0\n",
      "0 -1 0\n",
      "0 0 1\n",
      "\n",
      "  Inverse Direction: \n",
      "-1 0 0\n",
      "0 -1 0\n",
      "0 0 1\n",
      "\n",
      "  PixelContainer: \n",
      "    ImportImageContainer (0x11ce8f9b0)\n",
      "      RTTI typeinfo:   itk::ImportImageContainer<unsigned long, float>\n",
      "      Reference Count: 1\n",
      "      Modified Time: 2240\n",
      "      Debug: Off\n",
      "      Object Name: \n",
      "      Observers: \n",
      "        none\n",
      "      Pointer: 0x38a3c4000\n",
      "      Container manages memory: true\n",
      "      Size: 8675289\n",
      "      Capacity: 8675289\n",
      "\n",
      "     Weighting = 1\n",
      "     Sampling strategy = none\n",
      "     Number of bins = 32\n",
      "     Radius = 4\n",
      "     Sampling percentage  = 1\n",
      "   Transform = SyN\n",
      "     Gradient step = 0.2\n",
      "     Update field sigma (voxel space) = 3\n",
      "     Total field sigma (voxel space) = 0\n",
      "     Update field time sigma = 0\n",
      "     Total field time sigma  = 0\n",
      "     Number of time indices = 0\n",
      "     Number of time point samples = 0\n",
      "Registration using 2 total stages.\n",
      "\n",
      "Stage 0\n",
      "  iterations = 2100x1200x1200x0\n",
      "  convergence threshold = 1e-06\n",
      "  convergence window size = 10\n",
      "  number of levels = 4\n",
      "  using the Mattes MI metric (number of bins = 32, weight = 1, use gradient filter = 0)\n",
      "  preprocessing:  histogram matching the images\n",
      "  Shrink factors (level 1 out of 4): [4, 4, 4]\n",
      "  Shrink factors (level 2 out of 4): [2, 2, 2]\n",
      "  Shrink factors (level 3 out of 4): [2, 2, 2]\n",
      "  Shrink factors (level 4 out of 4): [1, 1, 1]\n",
      "  smoothing sigmas per level: [3, 2, 1, 0]\n",
      "  regular sampling (percentage = 0.2)\n",
      "\n",
      "*** Running AffineTransform registration ***\n",
      "\n",
      "DIAGNOSTIC,Iteration,metricValue,convergenceValue,ITERATION_TIME_INDEX,SINCE_LAST\n",
      " 2DIAGNOSTIC,     1, -4.804430305958e-01, inf, 6.6555e-01, 6.6555e-01, \n",
      " 2DIAGNOSTIC,     2, -4.838286042213e-01, inf, 7.0669e-01, 4.1140e-02, \n",
      " 2DIAGNOSTIC,     3, -4.896370470524e-01, inf, 7.4530e-01, 3.8611e-02, \n",
      " 2DIAGNOSTIC,     4, -4.994906485081e-01, inf, 7.8361e-01, 3.8304e-02, \n",
      " 2DIAGNOSTIC,     5, -5.163773298264e-01, inf, 8.2350e-01, 3.9891e-02, \n",
      " 2DIAGNOSTIC,     6, -5.443968176842e-01, inf, 8.6111e-01, 3.7614e-02, \n",
      " 2DIAGNOSTIC,     7, -5.784755349159e-01, inf, 9.2819e-01, 6.7077e-02, \n",
      " 2DIAGNOSTIC,     8, -5.849872827530e-01, inf, 1.0115e+00, 8.3273e-02, \n",
      " 2DIAGNOSTIC,     9, -5.851559042931e-01, inf, 1.0489e+00, 3.7396e-02, \n",
      " 2DIAGNOSTIC,    10, -5.856282711029e-01, 1.605944335461e-02, 1.0867e+00, 3.7797e-02, \n",
      " 2DIAGNOSTIC,    11, -5.863757729530e-01, 1.361360773444e-02, 1.1260e+00, 3.9380e-02, \n",
      " 2DIAGNOSTIC,    12, -5.875349640846e-01, 1.057086512446e-02, 1.1645e+00, 3.8488e-02, \n",
      " 2DIAGNOSTIC,    13, -5.891246795654e-01, 7.381713483483e-03, 1.2032e+00, 3.8710e-02, \n",
      " 2DIAGNOSTIC,    14, -5.912116169930e-01, 4.466766025871e-03, 1.2410e+00, 3.7724e-02, \n",
      " 2DIAGNOSTIC,    15, -5.936663150787e-01, 2.213010098785e-03, 1.2793e+00, 3.8352e-02, \n",
      " 2DIAGNOSTIC,    16, -5.968893766403e-01, 1.027034828439e-03, 1.3180e+00, 3.8640e-02, \n",
      " 2DIAGNOSTIC,    17, -6.032254099846e-01, 1.098893699236e-03, 1.3563e+00, 3.8307e-02, \n",
      " 2DIAGNOSTIC,    18, -6.147505044937e-01, 1.563441124745e-03, 1.3943e+00, 3.8007e-02, \n",
      " 2DIAGNOSTIC,    19, -6.243742108345e-01, 2.082068473101e-03, 1.4442e+00, 4.9887e-02, \n",
      " 2DIAGNOSTIC,    20, -6.255196332932e-01, 2.389718778431e-03, 1.4996e+00, 5.5411e-02, \n",
      " 2DIAGNOSTIC,    21, -6.266707181931e-01, 2.493468578905e-03, 1.5382e+00, 3.8619e-02, \n",
      " 2DIAGNOSTIC,    22, -6.277233958244e-01, 2.404799917713e-03, 1.5752e+00, 3.7045e-02, \n",
      " 2DIAGNOSTIC,    23, -6.308227181435e-01, 2.195791574195e-03, 1.6317e+00, 5.6479e-02, \n",
      " 2DIAGNOSTIC,    24, -6.319995522499e-01, 1.863591722213e-03, 1.6692e+00, 3.7458e-02, \n",
      " 2DIAGNOSTIC,    25, -6.324964761734e-01, 1.446483074687e-03, 1.7064e+00, 3.7211e-02, \n",
      " 2DIAGNOSTIC,    26, -6.331918239594e-01, 1.004834193736e-03, 1.7500e+00, 4.3580e-02, \n",
      " 2DIAGNOSTIC,    27, -6.338693499565e-01, 6.266903365031e-04, 1.8064e+00, 5.6441e-02, \n",
      " 2DIAGNOSTIC,    28, -6.345258355141e-01, 4.245650197845e-04, 1.8449e+00, 3.8484e-02, \n",
      " 2DIAGNOSTIC,    29, -6.351678967476e-01, 3.681837406475e-04, 1.8830e+00, 3.8167e-02, \n",
      " 2DIAGNOSTIC,    30, -6.365882158279e-01, 3.227030392736e-04, 1.9385e+00, 5.5404e-02, \n",
      " 2DIAGNOSTIC,    31, -6.371451020241e-01, 2.763236989267e-04, 1.9764e+00, 3.7999e-02, \n",
      " 2DIAGNOSTIC,    32, -6.376293301582e-01, 2.290082193213e-04, 2.0149e+00, 3.8473e-02, \n",
      " 2DIAGNOSTIC,    33, -6.384288072586e-01, 2.194976841565e-04, 2.0706e+00, 5.5644e-02, \n",
      " 2DIAGNOSTIC,    34, -6.388369798660e-01, 2.118481934303e-04, 2.1081e+00, 3.7541e-02, \n",
      " 2DIAGNOSTIC,    35, -6.392064690590e-01, 1.961439120350e-04, 2.1459e+00, 3.7821e-02, \n",
      " 2DIAGNOSTIC,    36, -6.401060819626e-01, 1.837754825829e-04, 2.1962e+00, 5.0248e-02, \n",
      " 2DIAGNOSTIC,    37, -6.403918862343e-01, 1.669069315540e-04, 2.2352e+00, 3.8988e-02, \n",
      " 2DIAGNOSTIC,    38, -6.409224867821e-01, 1.499973877799e-04, 2.2716e+00, 3.6393e-02, \n",
      " 2DIAGNOSTIC,    39, -6.466241478920e-01, 1.962830574485e-04, 2.3097e+00, 3.8149e-02, \n",
      " 2DIAGNOSTIC,    40, -6.473383307457e-01, 2.447669394314e-04, 2.3724e+00, 6.2651e-02, \n",
      " 2DIAGNOSTIC,    41, -6.478102207184e-01, 2.797713677865e-04, 2.4106e+00, 3.8279e-02, \n",
      " 2DIAGNOSTIC,    42, -6.480701565742e-01, 2.954660740215e-04, 2.4477e+00, 3.7103e-02, \n",
      " 2DIAGNOSTIC,    43, -6.487861871719e-01, 2.986555628013e-04, 2.4981e+00, 5.0402e-02, \n",
      " 2DIAGNOSTIC,    44, -6.491283178329e-01, 2.801256487146e-04, 2.5361e+00, 3.7985e-02, \n",
      " 2DIAGNOSTIC,    45, -6.494411826134e-01, 2.424145932309e-04, 2.5760e+00, 3.9905e-02, \n",
      " 2DIAGNOSTIC,    46, -6.508636474609e-01, 2.078147808788e-04, 2.6266e+00, 5.0600e-02, \n",
      " 2DIAGNOSTIC,    47, -6.518545150757e-01, 1.679056440480e-04, 2.6708e+00, 4.4131e-02, \n",
      " 2DIAGNOSTIC,    48, -6.546235084534e-01, 1.441605272703e-04, 2.7155e+00, 4.4777e-02, \n",
      " 2DIAGNOSTIC,    49, -6.551783680916e-01, 1.664943556534e-04, 2.7542e+00, 3.8700e-02, \n",
      " 2DIAGNOSTIC,    50, -6.555222272873e-01, 1.820389152272e-04, 2.7982e+00, 4.3971e-02, \n",
      " 2DIAGNOSTIC,    51, -6.556499600410e-01, 1.851954148151e-04, 2.8547e+00, 5.6510e-02, \n",
      " 2DIAGNOSTIC,    52, -6.556299328804e-01, 1.723746390780e-04, 2.8928e+00, 3.8096e-02, \n",
      " 2DIAGNOSTIC,    53, -6.559054255486e-01, 1.520209480077e-04, 2.9366e+00, 4.3832e-02, \n",
      " 2DIAGNOSTIC,    54, -6.560189127922e-01, 1.218289908138e-04, 2.9743e+00, 3.7662e-02, \n",
      " 2DIAGNOSTIC,    55, -6.560184359550e-01, 8.386527042603e-05, 3.0119e+00, 3.7543e-02, \n",
      " 2DIAGNOSTIC,    56, -6.559959053993e-01, 5.101137503516e-05, 3.0556e+00, 4.3764e-02, \n",
      " 2DIAGNOSTIC,    57, -6.559845209122e-01, 2.192198371631e-05, 3.0986e+00, 4.3020e-02, \n",
      " 2DIAGNOSTIC,    58, -6.559852361679e-01, 1.369092569803e-05, 3.1485e+00, 4.9860e-02, \n",
      " 2DIAGNOSTIC,    59, -6.559860110283e-01, 8.727834028832e-06, 3.1926e+00, 4.4132e-02, \n",
      " 2DIAGNOSTIC,    60, -6.559837460518e-01, 5.769045856141e-06, 3.2365e+00, 4.3876e-02, \n",
      " 2DIAGNOSTIC,    61, -6.559756994247e-01, 3.358735739312e-06, 3.2803e+00, 4.3806e-02, \n",
      "DIAGNOSTIC,Iteration,metricValue,convergenceValue,ITERATION_TIME_INDEX,SINCE_LAST\n",
      " 2DIAGNOSTIC,     1, -5.758795738220e-01, inf, 4.2773e+00, 9.9698e-01, \n",
      " 2DIAGNOSTIC,     2, -5.766182541847e-01, inf, 4.4741e+00, 1.9677e-01, \n",
      " 2DIAGNOSTIC,     3, -5.766689181328e-01, inf, 4.7688e+00, 2.9471e-01, \n",
      " 2DIAGNOSTIC,     4, -5.766707062721e-01, inf, 4.9969e+00, 2.2813e-01, \n",
      " 2DIAGNOSTIC,     5, -5.766695737839e-01, inf, 5.1979e+00, 2.0098e-01, \n",
      " 2DIAGNOSTIC,     6, -5.766693353653e-01, inf, 5.4382e+00, 2.4036e-01, \n",
      " 2DIAGNOSTIC,     7, -5.766690373421e-01, inf, 5.6328e+00, 1.9452e-01, \n",
      " 2DIAGNOSTIC,     8, -5.766690373421e-01, inf, 5.8294e+00, 1.9661e-01, \n",
      " 2DIAGNOSTIC,     9, -5.766682028770e-01, inf, 6.0343e+00, 2.0489e-01, \n",
      " 2DIAGNOSTIC,    10, -5.766684412956e-01, 4.417194577400e-05, 6.2281e+00, 1.9386e-01, \n",
      " 2DIAGNOSTIC,    11, -5.766658186913e-01, 4.904693923891e-06, 6.4236e+00, 1.9552e-01, \n",
      " 2DIAGNOSTIC,    12, -5.766670703888e-01, 2.338157173654e-06, 6.6170e+00, 1.9339e-01, \n",
      " 2DIAGNOSTIC,    13, -5.766663551331e-01, 2.083098024741e-06, 6.7867e+00, 1.6962e-01, \n",
      " 2DIAGNOSTIC,    14, -5.766673684120e-01, 1.996641685764e-06, 6.9619e+00, 1.7520e-01, \n",
      " 2DIAGNOSTIC,    15, -5.766677856445e-01, 1.922644969454e-06, 7.1794e+00, 2.1752e-01, \n",
      " 2DIAGNOSTIC,    16, -5.766686201096e-01, 1.894579554573e-06, 7.3515e+00, 1.7210e-01, \n",
      " 2DIAGNOSTIC,    17, -5.766690373421e-01, 1.880898594209e-06, 7.5464e+00, 1.9495e-01, \n",
      " 2DIAGNOSTIC,    18, -5.766676664352e-01, 1.829631855799e-06, 7.7397e+00, 1.9330e-01, \n",
      " 2DIAGNOSTIC,    19, -5.766680836678e-01, 1.767331355040e-06, 7.9350e+00, 1.9524e-01, \n",
      " 2DIAGNOSTIC,    20, -5.766692161560e-01, 1.737031993798e-06, 8.1300e+00, 1.9501e-01, \n",
      " 2DIAGNOSTIC,    21, -5.766683220863e-01, 1.610802769392e-06, 8.3021e+00, 1.7215e-01, \n",
      " 2DIAGNOSTIC,    22, -5.766676068306e-01, 1.500523239883e-06, 8.4972e+00, 1.9508e-01, \n",
      " 2DIAGNOSTIC,    23, -5.766671299934e-01, 1.369620008518e-06, 8.6678e+00, 1.7062e-01, \n",
      " 2DIAGNOSTIC,    24, -5.766654610634e-01, 1.236847879227e-06, 8.8619e+00, 1.9405e-01, \n",
      " 2DIAGNOSTIC,    25, -5.766639113426e-01, 1.099794531001e-06, 9.0807e+00, 2.1885e-01, \n",
      " 2DIAGNOSTIC,    26, -5.766642093658e-01, 1.010817527458e-06, 9.2972e+00, 2.1649e-01, \n",
      "DIAGNOSTIC,Iteration,metricValue,convergenceValue,ITERATION_TIME_INDEX,SINCE_LAST\n",
      " 2DIAGNOSTIC,     1, -4.864852130413e-01, inf, 1.0339e+01, 1.0417e+00, \n",
      " 2DIAGNOSTIC,     2, -4.873130321503e-01, inf, 1.0510e+01, 1.7140e-01, \n",
      " 2DIAGNOSTIC,     3, -4.875672459602e-01, inf, 1.0682e+01, 1.7161e-01, \n",
      " 2DIAGNOSTIC,     4, -4.877906441689e-01, inf, 1.0876e+01, 1.9429e-01, \n",
      " 2DIAGNOSTIC,     5, -4.878674745560e-01, inf, 1.1146e+01, 2.6937e-01, \n",
      " 2DIAGNOSTIC,     6, -4.878749549389e-01, inf, 1.1328e+01, 1.8256e-01, \n",
      " 2DIAGNOSTIC,     7, -4.878796339035e-01, inf, 1.1524e+01, 1.9561e-01, \n",
      " 2DIAGNOSTIC,     8, -4.878840148449e-01, inf, 1.1721e+01, 1.9728e-01, \n",
      " 2DIAGNOSTIC,     9, -4.878875315189e-01, inf, 1.1917e+01, 1.9642e-01, \n",
      " 2DIAGNOSTIC,    10, -4.878877401352e-01, 1.296225236729e-04, 1.2090e+01, 1.7268e-01, \n",
      " 2DIAGNOSTIC,    11, -4.878923296928e-01, 5.246453656582e-05, 1.2291e+01, 2.0061e-01, \n",
      " 2DIAGNOSTIC,    12, -4.878940284252e-01, 2.383964056207e-05, 1.2464e+01, 1.7333e-01, \n",
      " 2DIAGNOSTIC,    13, -4.879011809826e-01, 9.178525033349e-06, 1.2637e+01, 1.7283e-01, \n",
      " 2DIAGNOSTIC,    14, -4.879100918770e-01, 5.577831416304e-06, 1.2832e+01, 1.9468e-01, \n",
      " 2DIAGNOSTIC,    15, -4.879136681557e-01, 5.268599124975e-06, 1.3002e+01, 1.7024e-01, \n",
      " 2DIAGNOSTIC,    16, -4.879145920277e-01, 5.015451279178e-06, 1.3173e+01, 1.7129e-01, \n",
      " 2DIAGNOSTIC,    17, -4.879265129566e-01, 5.082227744424e-06, 1.3419e+01, 2.4619e-01, \n",
      " 2DIAGNOSTIC,    18, -4.879352152348e-01, 5.253283688944e-06, 1.3616e+01, 1.9677e-01, \n",
      " 2DIAGNOSTIC,    19, -4.879397153854e-01, 5.322483502823e-06, 1.3812e+01, 1.9551e-01, \n",
      " 2DIAGNOSTIC,    20, -4.879404902458e-01, 5.076313755126e-06, 1.4009e+01, 1.9764e-01, \n",
      " 2DIAGNOSTIC,    21, -4.879402220249e-01, 4.656252258428e-06, 1.4181e+01, 1.7222e-01, \n",
      " 2DIAGNOSTIC,    22, -4.879420399666e-01, 4.068924681633e-06, 1.4355e+01, 1.7383e-01, \n",
      " 2DIAGNOSTIC,    23, -4.879489839077e-01, 3.632657808339e-06, 1.4550e+01, 1.9419e-01, \n",
      " 2DIAGNOSTIC,    24, -4.879541695118e-01, 3.359160018590e-06, 1.4746e+01, 1.9684e-01, \n",
      " 2DIAGNOSTIC,    25, -4.879588484764e-01, 3.113197180937e-06, 1.4921e+01, 1.7482e-01, \n",
      " 2DIAGNOSTIC,    26, -4.879630804062e-01, 2.825413503160e-06, 1.5093e+01, 1.7198e-01, \n",
      " 2DIAGNOSTIC,    27, -4.879701435566e-01, 2.812689444909e-06, 1.5289e+01, 1.9606e-01, \n",
      " 2DIAGNOSTIC,    28, -4.879776239395e-01, 2.976010819111e-06, 1.5463e+01, 1.7350e-01, \n",
      " 2DIAGNOSTIC,    29, -4.879875779152e-01, 3.240642627134e-06, 1.5707e+01, 2.4388e-01, \n",
      " 2DIAGNOSTIC,    30, -4.879897832870e-01, 3.341554247527e-06, 1.5879e+01, 1.7268e-01, \n",
      " 2DIAGNOSTIC,    31, -4.879921078682e-01, 3.261779056629e-06, 1.6075e+01, 1.9552e-01, \n",
      " 2DIAGNOSTIC,    32, -4.879967272282e-01, 3.090252675975e-06, 1.6274e+01, 1.9962e-01, \n",
      " 2DIAGNOSTIC,    33, -4.879970252514e-01, 2.852941179299e-06, 1.6469e+01, 1.9453e-01, \n",
      " 2DIAGNOSTIC,    34, -4.879986941814e-01, 2.565979457358e-06, 1.6648e+01, 1.7953e-01, \n",
      " 2DIAGNOSTIC,    35, -4.879995286465e-01, 2.232605993413e-06, 1.6821e+01, 1.7219e-01, \n",
      " 2DIAGNOSTIC,    36, -4.880053699017e-01, 1.954434537765e-06, 1.6992e+01, 1.7109e-01, \n",
      " 2DIAGNOSTIC,    37, -4.880089163780e-01, 1.751877562128e-06, 1.7235e+01, 2.4303e-01, \n",
      " 2DIAGNOSTIC,    38, -4.880101680756e-01, 1.604579438208e-06, 1.7434e+01, 1.9907e-01, \n",
      " 2DIAGNOSTIC,    39, -4.880107641220e-01, 1.550718366161e-06, 1.7633e+01, 1.9889e-01, \n",
      " 2DIAGNOSTIC,    40, -4.880109429359e-01, 1.464081606173e-06, 1.7809e+01, 1.7587e-01, \n",
      " 2DIAGNOSTIC,    41, -4.880114197731e-01, 1.354699065814e-06, 1.8005e+01, 1.9620e-01, \n",
      " 2DIAGNOSTIC,    42, -4.880141913891e-01, 1.296703544540e-06, 1.8294e+01, 2.8875e-01, \n",
      " 2DIAGNOSTIC,    43, -4.880141615868e-01, 1.192655872728e-06, 1.8489e+01, 1.9508e-01, \n",
      " 2DIAGNOSTIC,    44, -4.880140423775e-01, 1.072118379852e-06, 1.8684e+01, 1.9523e-01, \n",
      "DIAGNOSTIC,Iteration,metricValue,convergenceValue,ITERATION_TIME_INDEX,SINCE_LAST\n",
      " 2DIAGNOSTIC,     1, -4.297578930855e-01, inf, 2.1660e+01, 2.9760e+00, \n",
      "  Elapsed time (stage 0): 2.2943e+01\n",
      "\n",
      "\n",
      "Stage 1\n",
      "  iterations = 40x20x0\n",
      "  convergence threshold = 1.0000e-07\n",
      "  convergence window size = 8\n",
      "  number of levels = 3\n",
      "  using the Mattes MI metric (number of bins = 32, weight = 1.0000e+00, use gradient filter = 0)\n",
      "  preprocessing:  histogram matching the images\n",
      "  Shrink factors (level 1 out of 3): [4, 4, 4]\n",
      "  Shrink factors (level 2 out of 3): [2, 2, 2]\n",
      "  Shrink factors (level 3 out of 3): [1, 1, 1]\n",
      "  smoothing sigmas per level: [2, 1, 0]\n",
      "  Using default NONE metricSamplingStrategy \n",
      "\n",
      "*** Running SyN registration (varianceForUpdateField = 3.0000e+00, varianceForTotalField = 0.0000e+00) ***\n",
      "\n",
      "XXDIAGNOSTIC,Iteration,metricValue,convergenceValue,ITERATION_TIME_INDEX,SINCE_LAST\n",
      " 1DIAGNOSTIC,     1, -5.478261709213e-01, inf, 8.7577e-01, 8.7577e-01, \n",
      " 1DIAGNOSTIC,     2, -5.532903671265e-01, inf, 1.1644e+00, 2.8865e-01, \n",
      " 1DIAGNOSTIC,     3, -5.589417815208e-01, inf, 1.4463e+00, 2.8184e-01, \n",
      " 1DIAGNOSTIC,     4, -5.641788840294e-01, inf, 1.7396e+00, 2.9330e-01, \n",
      " 1DIAGNOSTIC,     5, -5.693035125732e-01, inf, 2.0428e+00, 3.0322e-01, \n",
      " 1DIAGNOSTIC,     6, -5.738853812218e-01, inf, 2.3397e+00, 2.9693e-01, \n",
      " 1DIAGNOSTIC,     7, -5.780927538872e-01, inf, 2.6246e+00, 2.8487e-01, \n",
      " 1DIAGNOSTIC,     8, -5.816151499748e-01, 4.958572331816e-03, 2.9208e+00, 2.9618e-01, \n",
      " 1DIAGNOSTIC,     9, -5.844085216522e-01, 4.039299674332e-03, 3.2249e+00, 3.0416e-01, \n",
      " 1DIAGNOSTIC,    10, -5.869657993317e-01, 3.247046843171e-03, 3.5218e+00, 2.9688e-01, \n",
      " 1DIAGNOSTIC,    11, -5.891966819763e-01, 2.591387368739e-03, 3.8343e+00, 3.1246e-01, \n",
      " 1DIAGNOSTIC,    12, -5.913431644440e-01, 2.061587991193e-03, 4.1410e+00, 3.0671e-01, \n",
      " 1DIAGNOSTIC,    13, -5.933610200882e-01, 1.660465844907e-03, 4.4524e+00, 3.1144e-01, \n",
      " 1DIAGNOSTIC,    14, -5.953546762466e-01, 1.368556171656e-03, 4.7574e+00, 3.0501e-01, \n",
      " 1DIAGNOSTIC,    15, -5.971449017525e-01, 1.164190121926e-03, 5.0690e+00, 3.1159e-01, \n",
      " 1DIAGNOSTIC,    16, -5.987920761108e-01, 1.015390851535e-03, 5.3717e+00, 3.0268e-01, \n",
      " 1DIAGNOSTIC,    17, -6.002278327942e-01, 8.891559555195e-04, 5.6749e+00, 3.0319e-01, \n",
      " 1DIAGNOSTIC,    18, -6.011656522751e-01, 7.665238808841e-04, 5.9740e+00, 2.9911e-01, \n",
      " 1DIAGNOSTIC,    19, -6.017837524414e-01, 6.370312767103e-04, 6.2915e+00, 3.1749e-01, \n",
      " 1DIAGNOSTIC,    20, -6.026811003685e-01, 5.202044849284e-04, 6.6020e+00, 3.1047e-01, \n",
      " 1DIAGNOSTIC,    21, -6.035273075104e-01, 4.208501777612e-04, 6.9131e+00, 3.1111e-01, \n",
      " 1DIAGNOSTIC,    22, -6.044701933861e-01, 3.497255383991e-04, 7.2248e+00, 3.1178e-01, \n",
      " 1DIAGNOSTIC,    23, -6.053103208542e-01, 3.026183985639e-04, 7.5430e+00, 3.1811e-01, \n",
      " 1DIAGNOSTIC,    24, -6.049947738647e-01, 2.484836149961e-04, 7.8520e+00, 3.0905e-01, \n",
      " 1DIAGNOSTIC,    25, -6.043846607208e-01, 1.826270017773e-04, 8.1653e+00, 3.1327e-01, \n",
      " 1DIAGNOSTIC,    26, -6.038150787354e-01, 1.037898764480e-04, 8.4720e+00, 3.0672e-01, \n",
      " 1DIAGNOSTIC,    27, -6.033452749252e-01, 1.880052150227e-05, 8.7821e+00, 3.1012e-01, \n",
      " 1DIAGNOSTIC,    28, -6.028562784195e-01, -5.363125092117e-05, 9.0804e+00, 2.9823e-01, \n",
      "XXDIAGNOSTIC,Iteration,metricValue,convergenceValue,ITERATION_TIME_INDEX,SINCE_LAST\n",
      " 1DIAGNOSTIC,     1, -5.003385543823e-01, inf, 1.2568e+01, 3.4876e+00, \n",
      " 1DIAGNOSTIC,     2, -5.011322498322e-01, inf, 1.5007e+01, 2.4390e+00, \n",
      " 1DIAGNOSTIC,     3, -5.021352767944e-01, inf, 1.7444e+01, 2.4374e+00, \n",
      " 1DIAGNOSTIC,     4, -5.031135678291e-01, inf, 1.9858e+01, 2.4133e+00, \n",
      " 1DIAGNOSTIC,     5, -5.040210485458e-01, inf, 2.2249e+01, 2.3915e+00, \n",
      " 1DIAGNOSTIC,     6, -5.051294565201e-01, inf, 2.4659e+01, 2.4102e+00, \n",
      " 1DIAGNOSTIC,     7, -5.062561035156e-01, inf, 2.7035e+01, 2.3760e+00, \n",
      " 1DIAGNOSTIC,     8, -5.071929693222e-01, 1.136285834946e-03, 2.9488e+01, 2.4524e+00, \n",
      " 1DIAGNOSTIC,     9, -5.079588890076e-01, 1.012578955851e-03, 3.1905e+01, 2.4168e+00, \n",
      " 1DIAGNOSTIC,    10, -5.086694955826e-01, 8.794418536127e-04, 3.4287e+01, 2.3826e+00, \n",
      " 1DIAGNOSTIC,    11, -5.093128681183e-01, 7.524574757554e-04, 3.6874e+01, 2.5869e+00, \n",
      " 1DIAGNOSTIC,    12, -5.099101066589e-01, 6.330991745926e-04, 3.9463e+01, 2.5888e+00, \n",
      " 1DIAGNOSTIC,    13, -5.104618072510e-01, 5.213066469878e-04, 4.2019e+01, 2.5563e+00, \n",
      " 1DIAGNOSTIC,    14, -5.109649896622e-01, 4.316350677982e-04, 4.4551e+01, 2.5316e+00, \n",
      " 1DIAGNOSTIC,    15, -5.114513635635e-01, 3.671164740808e-04, 4.7130e+01, 2.5790e+00, \n",
      " 1DIAGNOSTIC,    16, -5.119045376778e-01, 3.185136010870e-04, 4.9719e+01, 2.5892e+00, \n",
      " 1DIAGNOSTIC,    17, -5.118401050568e-01, 2.587253402453e-04, 5.2247e+01, 2.5278e+00, \n",
      " 1DIAGNOSTIC,    18, -5.115084648132e-01, 1.835126458900e-04, 5.4850e+01, 2.6036e+00, \n",
      " 1DIAGNOSTIC,    19, -5.110398530960e-01, 9.637025505072e-05, 5.7434e+01, 2.5839e+00, \n",
      " 1DIAGNOSTIC,    20, -5.107107162476e-01, 1.333950694971e-05, 6.0003e+01, 2.5688e+00, \n",
      "  Elapsed time (stage 1): 65.08\n",
      "\n",
      "\n",
      "Total elapsed time: 88.05\n"
     ]
    }
   ],
   "source": [
    "template_warp_to_raw_anat = ants.registration(\n",
    "    fixed=raw_anat_img,\n",
    "    moving=mni_template_img, \n",
    "    type_of_transform='SyN',\n",
    "    verbose=True\n",
    ")"
   ]
  },
  {
   "cell_type": "code",
   "execution_count": 9,
   "metadata": {},
   "outputs": [],
   "source": [
    "registered_template_img = template_warp_to_raw_anat['warpedmovout']"
   ]
  },
  {
   "cell_type": "markdown",
   "metadata": {},
   "source": [
    "The following comparison function asserts that the new `registered_template_img` image has been transformed to the size and shape of the `raw_anat_img`"
   ]
  },
  {
   "cell_type": "code",
   "execution_count": 10,
   "metadata": {},
   "outputs": [
    {
     "data": {
      "application/vnd.jupyter.widget-view+json": {
       "model_id": "decdc0792fff4984b8ed549919847382",
       "version_major": 2,
       "version_minor": 0
      },
      "text/plain": [
       "interactive(children=(IntSlider(value=255, description='SLICE', max=511), Output()), _dom_classes=('widget-int…"
      ]
     },
     "metadata": {},
     "output_type": "display_data"
    }
   ],
   "source": [
    "explore_3D_array_comparison(\n",
    "    arr_before=raw_anat_img.numpy(),\n",
    "    arr_after=registered_template_img.numpy()\n",
    ")\n",
    "#I don't love \"before\" and \"after\" as the names here as we are really only changing the template\n",
    "# This is pretty confusing, so just ignore the names for now\n",
    "# Maybe I'll change this and write my own helper functions"
   ]
  },
  {
   "cell_type": "markdown",
   "metadata": {},
   "source": [
    "Next, we apply this to the mask so that it fits over the brain in the data we wish to visualize"
   ]
  },
  {
   "cell_type": "code",
   "execution_count": 11,
   "metadata": {},
   "outputs": [
    {
     "name": "stdout",
     "output_type": "stream",
     "text": [
      "['-d', '3', '-i', '0x13b6bda88', '-o', '0x13b6be4a8', '-r', '0x13b603988', '-n', 'nearestNeighbor', '-t', '/var/folders/m4/rtcmkx_17lv03n9tvdf76ycr0000gn/T/tmpct56qxgj1Warp.nii.gz', '-t', '/var/folders/m4/rtcmkx_17lv03n9tvdf76ycr0000gn/T/tmpct56qxgj0GenericAffine.mat']\n",
      "Using double precision for computations.\n",
      "Input scalar image: 0x13b6bda88\n",
      "Could not create ImageIO for the input file, assuming dimension = 3 and scalar pixel type\n",
      "Reference image: 0x13b603988\n",
      "=============================================================================\n",
      "The composite transform comprises the following transforms (in order): \n",
      "  1. /var/folders/m4/rtcmkx_17lv03n9tvdf76ycr0000gn/T/tmpct56qxgj0GenericAffine.mat (type = AffineTransform)\n",
      "  2. /var/folders/m4/rtcmkx_17lv03n9tvdf76ycr0000gn/T/tmpct56qxgj1Warp.nii.gz (type = DisplacementFieldTransform)\n",
      "=============================================================================\n",
      "Default pixel value: 0\n",
      "Interpolation type: NearestNeighborInterpolateImageFunction\n",
      "Output warped image: 0x13b6be4a8\n"
     ]
    }
   ],
   "source": [
    "brain_mask = ants.apply_transforms(\n",
    "    fixed=template_warp_to_raw_anat['warpedmovout'],\n",
    "    moving=mni_template_mask,\n",
    "    transformlist=template_warp_to_raw_anat['fwdtransforms'],\n",
    "    interpolator='nearestNeighbor',\n",
    "    verbose=True\n",
    ")"
   ]
  },
  {
   "cell_type": "code",
   "execution_count": 12,
   "metadata": {},
   "outputs": [
    {
     "data": {
      "application/vnd.jupyter.widget-view+json": {
       "model_id": "5cf0315319a0492ea84bb3b4d0195c49",
       "version_major": 2,
       "version_minor": 0
      },
      "text/plain": [
       "interactive(children=(IntSlider(value=255, description='SLICE', max=511), Output()), _dom_classes=('widget-int…"
      ]
     },
     "metadata": {},
     "output_type": "display_data"
    }
   ],
   "source": [
    "explore_3D_array_with_mask_contour(raw_anat_img.numpy(), brain_mask.numpy())"
   ]
  },
  {
   "cell_type": "markdown",
   "metadata": {},
   "source": [
    "Let's fine tune the mask a bit"
   ]
  },
  {
   "cell_type": "code",
   "execution_count": 13,
   "metadata": {},
   "outputs": [],
   "source": [
    "brain_mask_dilated = ants.morphology(brain_mask, radius=4, operation='dilate', mtype='binary')"
   ]
  },
  {
   "cell_type": "code",
   "execution_count": 14,
   "metadata": {},
   "outputs": [
    {
     "data": {
      "application/vnd.jupyter.widget-view+json": {
       "model_id": "4c3d76200da2418fb847ba01fcde227a",
       "version_major": 2,
       "version_minor": 0
      },
      "text/plain": [
       "interactive(children=(IntSlider(value=255, description='SLICE', max=511), Output()), _dom_classes=('widget-int…"
      ]
     },
     "metadata": {},
     "output_type": "display_data"
    }
   ],
   "source": [
    "explore_3D_array_with_mask_contour(raw_anat_img.numpy(), brain_mask_dilated.numpy())"
   ]
  },
  {
   "cell_type": "markdown",
   "metadata": {},
   "source": [
    "# Mask the Image and Create Sections"
   ]
  },
  {
   "cell_type": "code",
   "execution_count": 15,
   "metadata": {},
   "outputs": [],
   "source": [
    "brain_anat = ants.mask_image(raw_anat_img, brain_mask_dilated)"
   ]
  },
  {
   "cell_type": "code",
   "execution_count": 16,
   "metadata": {},
   "outputs": [
    {
     "name": "stdout",
     "output_type": "stream",
     "text": [
      "ANTsImage (LPI)\n",
      "\t Pixel Type : float (float32)\n",
      "\t Components : 1\n",
      "\t Dimensions : (512, 512, 296)\n",
      "\t Spacing    : (0.4785, 0.4785, 0.5)\n",
      "\t Origin     : (119.989, 104.52, -84.2457)\n",
      "\t Direction  : [-1.      0.0025  0.     -0.0025 -1.      0.      0.      0.      1.    ]\n",
      "\n"
     ]
    },
    {
     "data": {
      "application/vnd.jupyter.widget-view+json": {
       "model_id": "b996a7198cac4dd4b62fb67e8d755c45",
       "version_major": 2,
       "version_minor": 0
      },
      "text/plain": [
       "interactive(children=(IntSlider(value=255, description='SLICE', max=511), Output()), _dom_classes=('widget-int…"
      ]
     },
     "metadata": {},
     "output_type": "display_data"
    }
   ],
   "source": [
    "print(brain_anat)\n",
    "explore_3D_array(brain_anat.numpy(), cmap=default_cmap)"
   ]
  },
  {
   "cell_type": "markdown",
   "metadata": {},
   "source": [
    "# Building Scivol"
   ]
  },
  {
   "cell_type": "markdown",
   "metadata": {},
   "source": [
    "It looks like ANTS already applies the affine (double check this), so I think you can just 86 that from your workflow"
   ]
  },
  {
   "cell_type": "markdown",
   "metadata": {},
   "source": [
    "Initialize the scivol object"
   ]
  },
  {
   "cell_type": "code",
   "execution_count": 17,
   "metadata": {},
   "outputs": [],
   "source": [
    "skullstrip = Scivol(\"skullstrip\")"
   ]
  },
  {
   "cell_type": "markdown",
   "metadata": {},
   "source": [
    "Create the volumes:"
   ]
  },
  {
   "cell_type": "code",
   "execution_count": 18,
   "metadata": {},
   "outputs": [],
   "source": [
    "full_anat_vol = create_normalized_volume(raw_anat_img.numpy())\n",
    "brain_anat_vol = create_normalized_volume(brain_anat.numpy())"
   ]
  },
  {
   "cell_type": "markdown",
   "metadata": {},
   "source": [
    "Create the grids:"
   ]
  },
  {
   "cell_type": "code",
   "execution_count": 19,
   "metadata": {},
   "outputs": [
    {
     "data": {
      "application/vnd.jupyter.widget-view+json": {
       "model_id": "afd0218b4c9748f48f5480a8553a1b8f",
       "version_major": 2,
       "version_minor": 0
      },
      "text/plain": [
       "interactive(children=(IntSlider(value=255, description='SLICE', max=511), Output()), _dom_classes=('widget-int…"
      ]
     },
     "metadata": {},
     "output_type": "display_data"
    },
    {
     "data": {
      "application/vnd.jupyter.widget-view+json": {
       "model_id": "919893626bfe4f7a97f9c4df523f6649",
       "version_major": 2,
       "version_minor": 0
      },
      "text/plain": [
       "interactive(children=(IntSlider(value=255, description='SLICE', max=511), Output()), _dom_classes=('widget-int…"
      ]
     },
     "metadata": {},
     "output_type": "display_data"
    }
   ],
   "source": [
    "explore_3D_array(full_anat_vol)\n",
    "explore_3D_array(brain_anat_vol)"
   ]
  },
  {
   "cell_type": "code",
   "execution_count": 20,
   "metadata": {},
   "outputs": [
    {
     "name": "stdout",
     "output_type": "stream",
     "text": [
      "writing full_anat to grid\n",
      "writing brain_anat to grid\n"
     ]
    }
   ],
   "source": [
    "skullstrip.add_grids([Grid(\"full_anat\",[full_anat_vol]), Grid(\"brain_anat\", [brain_anat_vol])])"
   ]
  },
  {
   "cell_type": "code",
   "execution_count": 21,
   "metadata": {},
   "outputs": [
    {
     "name": "stdout",
     "output_type": "stream",
     "text": [
      "skullstrip\n",
      "tolerance: 0.0\n",
      "affine: [[1. 0. 0. 0.]\n",
      " [0. 1. 0. 0.]\n",
      " [0. 0. 1. 0.]\n",
      " [0. 0. 0. 1.]]\n",
      "grids:\n",
      "    - full_anat\n",
      "    - brain_anat\n",
      "\n"
     ]
    }
   ],
   "source": [
    "print(skullstrip)"
   ]
  },
  {
   "cell_type": "code",
   "execution_count": null,
   "metadata": {},
   "outputs": [
    {
     "name": "stdout",
     "output_type": "stream",
     "text": [
      "writing skullstrip.scivol\n",
      "<class 'bytes'>\n"
     ]
    }
   ],
   "source": [
    "# [x] Test gzip here\n",
    "# [x] Move gzip import to top\n",
    "# [ ] Integrate this into Scivol.save_scivol\n",
    "json_str = json.dumps(skullstrip.write_scivol()) # + \"\\n\"\n",
    "json_bytes = json_str.encode('utf-8')\n",
    "\n",
    "print(type(json_bytes))\n",
    "\n",
    "\n",
    "with gzip.open(f\"{output_folder}/compression_test.gz\", \"wb\") as svgz:\n",
    "     svgz.write(json_bytes)"
   ]
  },
  {
   "cell_type": "markdown",
   "metadata": {},
   "source": [
    "Lets' quickly test this in our notebook"
   ]
  },
  {
   "cell_type": "code",
   "execution_count": 23,
   "metadata": {},
   "outputs": [],
   "source": [
    "test_compressed_file_path = \"/Users/joachimpfefferkorn/repos/neurovolume/output/compression_test.gz\"\n",
    "with gzip.open(test_compressed_file_path, 'r') as svin:\n",
    "    scivol_bytes = svin.read()\n",
    "scivol_str = scivol_bytes.decode('utf-8')"
   ]
  },
  {
   "cell_type": "code",
   "execution_count": 30,
   "metadata": {},
   "outputs": [],
   "source": [
    "scivol_dict = json.loads(scivol_str)"
   ]
  },
  {
   "cell_type": "code",
   "execution_count": null,
   "metadata": {},
   "outputs": [
    {
     "name": "stdout",
     "output_type": "stream",
     "text": [
      "<class 'dict'>\n",
      "skullstrip\n",
      "['full_anat', 'brain_anat']\n",
      "<class 'numpy.ndarray'>\n"
     ]
    },
    {
     "data": {
      "application/vnd.jupyter.widget-view+json": {
       "model_id": "a9b8def5356c47c787f147ef335c3114",
       "version_major": 2,
       "version_minor": 0
      },
      "text/plain": [
       "interactive(children=(IntSlider(value=255, description='SLICE', max=511), Output()), _dom_classes=('widget-int…"
      ]
     },
     "metadata": {},
     "output_type": "display_data"
    }
   ],
   "source": [
    "print(type(scivol_dict))\n",
    "print(scivol_dict['name'])\n",
    "print([grid for grid in scivol_dict['grids']])\n",
    "brain_anat_test_vol = np.asanyarray(scivol_dict['grids']['brain_anat']['frames'][0])\n",
    "print(type(brain_anat_test_vol))\n",
    "explore_3D_array(brain_anat_test_vol)"
   ]
  },
  {
   "cell_type": "markdown",
   "metadata": {},
   "source": [
    "Before moving to blender to render these images, let's make sure that we can parse these scivol files here"
   ]
  }
 ],
 "metadata": {
  "kernelspec": {
   "display_name": ".venv",
   "language": "python",
   "name": "python3"
  },
  "language_info": {
   "codemirror_mode": {
    "name": "ipython",
    "version": 3
   },
   "file_extension": ".py",
   "mimetype": "text/x-python",
   "name": "python",
   "nbconvert_exporter": "python",
   "pygments_lexer": "ipython3",
   "version": "3.11.5"
  }
 },
 "nbformat": 4,
 "nbformat_minor": 2
}
