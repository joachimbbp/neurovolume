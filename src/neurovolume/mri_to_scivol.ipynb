{
 "cells": [
  {
   "cell_type": "markdown",
   "metadata": {},
   "source": [
    "# Gathering Data"
   ]
  },
  {
   "cell_type": "code",
   "execution_count": 15,
   "metadata": {},
   "outputs": [],
   "source": [
    "from notebook_viewer_functions import *\n",
    "from functions import *\n",
    "from scivol import *\n",
    "from helpers import *\n",
    "import ipyvolume as ipv\n",
    "import numpy as np\n",
    "import json\n",
    "import ants\n",
    "import gzip"
   ]
  },
  {
   "cell_type": "code",
   "execution_count": 2,
   "metadata": {},
   "outputs": [
    {
     "name": "stdout",
     "output_type": "stream",
     "text": [
      "/Users/joachimpfefferkorn/repos/neurovolume\n"
     ]
    }
   ],
   "source": [
    "proj_root = parent_directory()\n",
    "print(proj_root)\n",
    "mri_input_filepath = os.path.join(proj_root, \"media/sub-01/anat/sub-01_T1w.nii.gz\")\n",
    "template_folder = \"/Users/joachimpfefferkorn/repos/neurovolume/templates\"\n",
    "output_folder = os.path.join(proj_root, \"output/\")\n",
    "\n",
    "default_cmap = 'nipy_spectral'"
   ]
  },
  {
   "cell_type": "code",
   "execution_count": null,
   "metadata": {},
   "outputs": [],
   "source": [
    "raw_anat_img = ants.image_read(mri_input_filepath)"
   ]
  },
  {
   "cell_type": "code",
   "execution_count": 5,
   "metadata": {},
   "outputs": [
    {
     "name": "stdout",
     "output_type": "stream",
     "text": [
      "ANTsImage (LPI)\n",
      "\t Pixel Type : float (float32)\n",
      "\t Components : 1\n",
      "\t Dimensions : (512, 512, 296)\n",
      "\t Spacing    : (0.4785, 0.4785, 0.5)\n",
      "\t Origin     : (119.989, 104.52, -84.2457)\n",
      "\t Direction  : [-1.      0.0025  0.     -0.0025 -1.      0.      0.      0.      1.    ]\n",
      "\n"
     ]
    },
    {
     "data": {
      "application/vnd.jupyter.widget-view+json": {
       "model_id": "175164a0b8d348fe93633ae13f11c053",
       "version_major": 2,
       "version_minor": 0
      },
      "text/plain": [
       "interactive(children=(IntSlider(value=255, description='slice', max=511), Output()), _dom_classes=('widget-int…"
      ]
     },
     "metadata": {},
     "output_type": "display_data"
    },
    {
     "data": {
      "application/vnd.jupyter.widget-view+json": {
       "model_id": "e9fba7e5b4b343d6b77fe1ce2cc75955",
       "version_major": 2,
       "version_minor": 0
      },
      "text/plain": [
       "interactive(children=(IntSlider(value=255, description='slice', max=511), Output()), _dom_classes=('widget-int…"
      ]
     },
     "metadata": {},
     "output_type": "display_data"
    },
    {
     "data": {
      "application/vnd.jupyter.widget-view+json": {
       "model_id": "b31071300e824886963dc7ffec1c52e8",
       "version_major": 2,
       "version_minor": 0
      },
      "text/plain": [
       "interactive(children=(IntSlider(value=147, description='slice', max=295), Output()), _dom_classes=('widget-int…"
      ]
     },
     "metadata": {},
     "output_type": "display_data"
    }
   ],
   "source": [
    "print(raw_anat_img)\n",
    "explore_3D_vol(raw_anat_img.numpy(), dim=\"x\")\n",
    "explore_3D_vol(raw_anat_img.numpy(), dim=\"y\")\n",
    "explore_3D_vol(raw_anat_img.numpy(), dim=\"z\")"
   ]
  },
  {
   "cell_type": "markdown",
   "metadata": {},
   "source": [
    "# Skull Stripping\n",
    "Using ANTs\n",
    "\n",
    "[this notebook](https://github.com/Angeluz-07/MRI-preprocessing-techniques/blob/main/notebooks/09_brain_extraction_with_template.ipynb) is what we're basing this on"
   ]
  },
  {
   "cell_type": "markdown",
   "metadata": {},
   "source": [
    "## Load Template and Mask"
   ]
  },
  {
   "cell_type": "code",
   "execution_count": 6,
   "metadata": {},
   "outputs": [],
   "source": [
    "mni_template_img = ants.image_read(f\"{template_folder}/mni_icbm152_t1_tal_nlin_sym_09a.nii\")\n",
    "mni_template_mask = ants.image_read(f\"{template_folder}/mni_icbm152_t1_tal_nlin_sym_09a_mask.nii\")"
   ]
  },
  {
   "cell_type": "code",
   "execution_count": 8,
   "metadata": {},
   "outputs": [
    {
     "name": "stdout",
     "output_type": "stream",
     "text": [
      "ANTsImage (LPI)\n",
      "\t Pixel Type : float (float32)\n",
      "\t Components : 1\n",
      "\t Dimensions : (197, 233, 189)\n",
      "\t Spacing    : (1.0, 1.0, 1.0)\n",
      "\t Origin     : (98.0, 134.0, -72.0)\n",
      "\t Direction  : [-1.  0.  0.  0. -1.  0.  0.  0.  1.]\n",
      "\n"
     ]
    },
    {
     "data": {
      "application/vnd.jupyter.widget-view+json": {
       "model_id": "9ea5ce69dbdc42828c54cf2b47394085",
       "version_major": 2,
       "version_minor": 0
      },
      "text/plain": [
       "interactive(children=(IntSlider(value=98, description='slice', max=196), Output()), _dom_classes=('widget-inte…"
      ]
     },
     "metadata": {},
     "output_type": "display_data"
    }
   ],
   "source": [
    "print(mni_template_img)\n",
    "explore_3D_vol(mni_template_img.numpy())"
   ]
  },
  {
   "cell_type": "code",
   "execution_count": 9,
   "metadata": {},
   "outputs": [
    {
     "name": "stdout",
     "output_type": "stream",
     "text": [
      "ANTsImage (LPI)\n",
      "\t Pixel Type : float (float32)\n",
      "\t Components : 1\n",
      "\t Dimensions : (197, 233, 189)\n",
      "\t Spacing    : (1.0, 1.0, 1.0)\n",
      "\t Origin     : (98.0, 134.0, -72.0)\n",
      "\t Direction  : [-1.  0.  0.  0. -1.  0.  0.  0.  1.]\n",
      "\n"
     ]
    },
    {
     "data": {
      "application/vnd.jupyter.widget-view+json": {
       "model_id": "0c1ca6036421488b8b5a8bc3354d34d7",
       "version_major": 2,
       "version_minor": 0
      },
      "text/plain": [
       "interactive(children=(IntSlider(value=98, description='slice', max=196), Output()), _dom_classes=('widget-inte…"
      ]
     },
     "metadata": {},
     "output_type": "display_data"
    }
   ],
   "source": [
    "print(mni_template_mask)\n",
    "explore_3D_vol(mni_template_mask.numpy())"
   ]
  },
  {
   "cell_type": "markdown",
   "metadata": {},
   "source": [
    "## Register Template and Masks to Raw image\n",
    "Here we warp the MNI template"
   ]
  },
  {
   "cell_type": "code",
   "execution_count": 10,
   "metadata": {},
   "outputs": [
    {
     "name": "stdout",
     "output_type": "stream",
     "text": [
      "antsRegistration -d 3 -r [0x15f9d1c68,0x15f940dc8,1] -m mattes[0x15f9d1c68,0x15f940dc8,1,32,regular,0.2] -t Affine[0.25] -c 2100x1200x1200x0 -s 3x2x1x0 -f 4x2x2x1 -x [NA,NA] -m mattes[0x15f9d1c68,0x15f940dc8,1,32] -t SyN[0.200000,3.000000,0.000000] -c [40x20x0,1e-7,8] -s 2x1x0 -f 4x2x1 -u 1 -z 1 -o [/var/folders/m4/rtcmkx_17lv03n9tvdf76ycr0000gn/T/tmpw4h2qr43,0x15f9d2d88,0x15f9d1f28] -x [NA,NA] --float 1 --write-composite-transform 0 -v 1\n",
      "All_Command_lines_OK\n",
      "Using single precision for computations.\n",
      "=============================================================================\n",
      "The composite transform comprises the following transforms (in order): \n",
      "  1. Center of mass alignment using fixed image: 0x15f9d1c68 and moving image: 0x15f940dc8 (type = Euler3DTransform)\n",
      "=============================================================================\n",
      "  Reading mask(s).\n",
      "    Registration stage 0\n",
      "      No fixed mask\n",
      "      No moving mask\n",
      "    Registration stage 1\n",
      "      No fixed mask\n",
      "      No moving mask\n",
      "  number of levels = 4\n",
      "  number of levels = 3\n",
      "  fixed image: 0x15f9d1c68\n",
      "  moving image: 0x15f940dc8\n",
      "  fixed image: 0x15f9d1c68\n",
      "  moving image: 0x15f940dc8\n",
      "Dimension = 3\n",
      "Number of stages = 2\n",
      "Use histogram matching = true\n",
      "Winsorize image intensities = false\n",
      "  Lower quantile = 0\n",
      "  Upper quantile = 1\n",
      "\n",
      "\n",
      "Stage 1 State\n",
      "   Image metric = MattesMI\n",
      "     Fixed image = Image (0x15fc0a1e0)\n",
      "  RTTI typeinfo:   itk::Image<float, 3u>\n",
      "  Reference Count: 2\n",
      "  Modified Time: 2192\n",
      "  Debug: Off\n",
      "  Object Name: \n",
      "  Observers: \n",
      "    none\n",
      "  Source: (none)\n",
      "  Source output name: (none)\n",
      "  Release Data: Off\n",
      "  Data Released: False\n",
      "  Global Release Data: Off\n",
      "  PipelineMTime: 0\n",
      "  UpdateMTime: 2166\n",
      "  RealTimeStamp: 0 seconds \n",
      "  LargestPossibleRegion: \n",
      "    Dimension: 3\n",
      "    Index: [0, 0, 0]\n",
      "    Size: [512, 512, 296]\n",
      "  BufferedRegion: \n",
      "    Dimension: 3\n",
      "    Index: [0, 0, 0]\n",
      "    Size: [512, 512, 296]\n",
      "  RequestedRegion: \n",
      "    Dimension: 3\n",
      "    Index: [0, 0, 0]\n",
      "    Size: [512, 512, 296]\n",
      "  Spacing: [0.4785, 0.4785, 0.5]\n",
      "  Origin: [119.989, 104.52, -84.2457]\n",
      "  Direction: \n",
      "-0.999997 0.00254 0\n",
      "-0.00254 -0.999997 0\n",
      "0 0 1\n",
      "\n",
      "  IndexToPointMatrix: \n",
      "-0.478498 0.00121539 0\n",
      "-0.00121539 -0.478498 0\n",
      "0 0 0.5\n",
      "\n",
      "  PointToIndexMatrix: \n",
      "-2.08986 -0.00530826 0\n",
      "0.00530826 -2.08986 0\n",
      "0 0 2\n",
      "\n",
      "  Inverse Direction: \n",
      "-0.999997 -0.00254 0\n",
      "0.00254 -0.999997 0\n",
      "0 0 1\n",
      "\n",
      "  PixelContainer: \n",
      "    ImportImageContainer (0x1511fc8a0)\n",
      "      RTTI typeinfo:   itk::ImportImageContainer<unsigned long, float>\n",
      "      Reference Count: 1\n",
      "      Modified Time: 2164\n",
      "      Debug: Off\n",
      "      Object Name: \n",
      "      Observers: \n",
      "        none\n",
      "      Pointer: 0x386200000\n",
      "      Container manages memory: true\n",
      "      Size: 77594624\n",
      "      Capacity: 77594624\n",
      "\n",
      "     Moving image = Image (0x150e4d8c0)\n",
      "  RTTI typeinfo:   itk::Image<float, 3u>\n",
      "  Reference Count: 2\n",
      "  Modified Time: 2193\n",
      "  Debug: Off\n",
      "  Object Name: \n",
      "  Observers: \n",
      "    none\n",
      "  Source: (none)\n",
      "  Source output name: (none)\n",
      "  Release Data: Off\n",
      "  Data Released: False\n",
      "  Global Release Data: Off\n",
      "  PipelineMTime: 0\n",
      "  UpdateMTime: 2190\n",
      "  RealTimeStamp: 0 seconds \n",
      "  LargestPossibleRegion: \n",
      "    Dimension: 3\n",
      "    Index: [0, 0, 0]\n",
      "    Size: [197, 233, 189]\n",
      "  BufferedRegion: \n",
      "    Dimension: 3\n",
      "    Index: [0, 0, 0]\n",
      "    Size: [197, 233, 189]\n",
      "  RequestedRegion: \n",
      "    Dimension: 3\n",
      "    Index: [0, 0, 0]\n",
      "    Size: [197, 233, 189]\n",
      "  Spacing: [1, 1, 1]\n",
      "  Origin: [98, 134, -72]\n",
      "  Direction: \n",
      "-1 0 0\n",
      "0 -1 0\n",
      "0 0 1\n",
      "\n",
      "  IndexToPointMatrix: \n",
      "-1 0 0\n",
      "0 -1 0\n",
      "0 0 1\n",
      "\n",
      "  PointToIndexMatrix: \n",
      "-1 0 0\n",
      "0 -1 0\n",
      "0 0 1\n",
      "\n",
      "  Inverse Direction: \n",
      "-1 0 0\n",
      "0 -1 0\n",
      "0 0 1\n",
      "\n",
      "  PixelContainer: \n",
      "    ImportImageContainer (0x150e4db70)\n",
      "      RTTI typeinfo:   itk::ImportImageContainer<unsigned long, float>\n",
      "      Reference Count: 1\n",
      "      Modified Time: 2188\n",
      "      Debug: Off\n",
      "      Object Name: \n",
      "      Observers: \n",
      "        none\n",
      "      Pointer: 0x34e230000\n",
      "      Container manages memory: true\n",
      "      Size: 8675289\n",
      "      Capacity: 8675289\n",
      "\n",
      "     Weighting = 1\n",
      "     Sampling strategy = regular\n",
      "     Number of bins = 32\n",
      "     Radius = 4\n",
      "     Sampling percentage  = 0.2\n",
      "   Transform = Affine\n",
      "     Gradient step = 0.25\n",
      "     Update field sigma (voxel space) = 0\n",
      "     Total field sigma (voxel space) = 0\n",
      "     Update field time sigma = 0\n",
      "     Total field time sigma  = 0\n",
      "     Number of time indices = 0\n",
      "     Number of time point samples = 0\n",
      "Stage 2 State\n",
      "   Image metric = MattesMI\n",
      "     Fixed image = Image (0x150e4ecf0)\n",
      "  RTTI typeinfo:   itk::Image<float, 3u>\n",
      "  Reference Count: 2\n",
      "  Modified Time: 2244\n",
      "  Debug: Off\n",
      "  Object Name: \n",
      "  Observers: \n",
      "    none\n",
      "  Source: (none)\n",
      "  Source output name: (none)\n",
      "  Release Data: Off\n",
      "  Data Released: False\n",
      "  Global Release Data: Off\n",
      "  PipelineMTime: 0\n",
      "  UpdateMTime: 2218\n",
      "  RealTimeStamp: 0 seconds \n",
      "  LargestPossibleRegion: \n",
      "    Dimension: 3\n",
      "    Index: [0, 0, 0]\n",
      "    Size: [512, 512, 296]\n",
      "  BufferedRegion: \n",
      "    Dimension: 3\n",
      "    Index: [0, 0, 0]\n",
      "    Size: [512, 512, 296]\n",
      "  RequestedRegion: \n",
      "    Dimension: 3\n",
      "    Index: [0, 0, 0]\n",
      "    Size: [512, 512, 296]\n",
      "  Spacing: [0.4785, 0.4785, 0.5]\n",
      "  Origin: [119.989, 104.52, -84.2457]\n",
      "  Direction: \n",
      "-0.999997 0.00254 0\n",
      "-0.00254 -0.999997 0\n",
      "0 0 1\n",
      "\n",
      "  IndexToPointMatrix: \n",
      "-0.478498 0.00121539 0\n",
      "-0.00121539 -0.478498 0\n",
      "0 0 0.5\n",
      "\n",
      "  PointToIndexMatrix: \n",
      "-2.08986 -0.00530826 0\n",
      "0.00530826 -2.08986 0\n",
      "0 0 2\n",
      "\n",
      "  Inverse Direction: \n",
      "-0.999997 -0.00254 0\n",
      "0.00254 -0.999997 0\n",
      "0 0 1\n",
      "\n",
      "  PixelContainer: \n",
      "    ImportImageContainer (0x150e4ba50)\n",
      "      RTTI typeinfo:   itk::ImportImageContainer<unsigned long, float>\n",
      "      Reference Count: 1\n",
      "      Modified Time: 2216\n",
      "      Debug: Off\n",
      "      Object Name: \n",
      "      Observers: \n",
      "        none\n",
      "      Pointer: 0x398a00000\n",
      "      Container manages memory: true\n",
      "      Size: 77594624\n",
      "      Capacity: 77594624\n",
      "\n",
      "     Moving image = Image (0x154d3c8e0)\n",
      "  RTTI typeinfo:   itk::Image<float, 3u>\n",
      "  Reference Count: 2\n",
      "  Modified Time: 2245\n",
      "  Debug: Off\n",
      "  Object Name: \n",
      "  Observers: \n",
      "    none\n",
      "  Source: (none)\n",
      "  Source output name: (none)\n",
      "  Release Data: Off\n",
      "  Data Released: False\n",
      "  Global Release Data: Off\n",
      "  PipelineMTime: 0\n",
      "  UpdateMTime: 2242\n",
      "  RealTimeStamp: 0 seconds \n",
      "  LargestPossibleRegion: \n",
      "    Dimension: 3\n",
      "    Index: [0, 0, 0]\n",
      "    Size: [197, 233, 189]\n",
      "  BufferedRegion: \n",
      "    Dimension: 3\n",
      "    Index: [0, 0, 0]\n",
      "    Size: [197, 233, 189]\n",
      "  RequestedRegion: \n",
      "    Dimension: 3\n",
      "    Index: [0, 0, 0]\n",
      "    Size: [197, 233, 189]\n",
      "  Spacing: [1, 1, 1]\n",
      "  Origin: [98, 134, -72]\n",
      "  Direction: \n",
      "-1 0 0\n",
      "0 -1 0\n",
      "0 0 1\n",
      "\n",
      "  IndexToPointMatrix: \n",
      "-1 0 0\n",
      "0 -1 0\n",
      "0 0 1\n",
      "\n",
      "  PointToIndexMatrix: \n",
      "-1 0 0\n",
      "0 -1 0\n",
      "0 0 1\n",
      "\n",
      "  Inverse Direction: \n",
      "-1 0 0\n",
      "0 -1 0\n",
      "0 0 1\n",
      "\n",
      "  PixelContainer: \n",
      "    ImportImageContainer (0x154d41df0)\n",
      "      RTTI typeinfo:   itk::ImportImageContainer<unsigned long, float>\n",
      "      Reference Count: 1\n",
      "      Modified Time: 2240\n",
      "      Debug: Off\n",
      "      Object Name: \n",
      "      Observers: \n",
      "        none\n",
      "      Pointer: 0x350348000\n",
      "      Container manages memory: true\n",
      "      Size: 8675289\n",
      "      Capacity: 8675289\n",
      "\n",
      "     Weighting = 1\n",
      "     Sampling strategy = none\n",
      "     Number of bins = 32\n",
      "     Radius = 4\n",
      "     Sampling percentage  = 1\n",
      "   Transform = SyN\n",
      "     Gradient step = 0.2\n",
      "     Update field sigma (voxel space) = 3\n",
      "     Total field sigma (voxel space) = 0\n",
      "     Update field time sigma = 0\n",
      "     Total field time sigma  = 0\n",
      "     Number of time indices = 0\n",
      "     Number of time point samples = 0\n",
      "Registration using 2 total stages.\n",
      "\n",
      "Stage 0\n",
      "  iterations = 2100x1200x1200x0\n",
      "  convergence threshold = 1e-06\n",
      "  convergence window size = 10\n",
      "  number of levels = 4\n",
      "  using the Mattes MI metric (number of bins = 32, weight = 1, use gradient filter = 0)\n",
      "  preprocessing:  histogram matching the images\n",
      "  Shrink factors (level 1 out of 4): [4, 4, 4]\n",
      "  Shrink factors (level 2 out of 4): [2, 2, 2]\n",
      "  Shrink factors (level 3 out of 4): [2, 2, 2]\n",
      "  Shrink factors (level 4 out of 4): [1, 1, 1]\n",
      "  smoothing sigmas per level: [3, 2, 1, 0]\n",
      "  regular sampling (percentage = 0.2)\n",
      "\n",
      "*** Running AffineTransform registration ***\n",
      "\n",
      "DIAGNOSTIC,Iteration,metricValue,convergenceValue,ITERATION_TIME_INDEX,SINCE_LAST\n",
      " 2DIAGNOSTIC,     1, -4.692847728729e-01, inf, 7.7748e-01, 7.7748e-01, \n",
      " 2DIAGNOSTIC,     2, -4.729790687561e-01, inf, 8.3016e-01, 5.2682e-02, \n",
      " 2DIAGNOSTIC,     3, -4.793462157249e-01, inf, 8.7694e-01, 4.6781e-02, \n",
      " 2DIAGNOSTIC,     4, -4.904093742371e-01, inf, 9.1587e-01, 3.8925e-02, \n",
      " 2DIAGNOSTIC,     5, -5.093707442284e-01, inf, 9.5806e-01, 4.2192e-02, \n",
      " 2DIAGNOSTIC,     6, -5.404477119446e-01, inf, 9.9814e-01, 4.0081e-02, \n",
      " 2DIAGNOSTIC,     7, -5.772576332092e-01, inf, 1.0615e+00, 6.3408e-02, \n",
      " 2DIAGNOSTIC,     8, -5.834535956383e-01, inf, 1.1613e+00, 9.9726e-02, \n",
      " 2DIAGNOSTIC,     9, -5.834723711014e-01, inf, 1.1986e+00, 3.7346e-02, \n",
      " 2DIAGNOSTIC,    10, -5.835326313972e-01, 1.771006360650e-02, 1.2397e+00, 4.1074e-02, \n",
      " 2DIAGNOSTIC,    11, -5.836369991302e-01, 1.489214878529e-02, 1.2786e+00, 3.8870e-02, \n",
      " 2DIAGNOSTIC,    12, -5.838063955307e-01, 1.140656601638e-02, 1.3169e+00, 3.8378e-02, \n",
      " 2DIAGNOSTIC,    13, -5.840874910355e-01, 7.751074153930e-03, 1.3548e+00, 3.7900e-02, \n",
      " 2DIAGNOSTIC,    14, -5.845521688461e-01, 4.400175064802e-03, 1.3923e+00, 3.7482e-02, \n",
      " 2DIAGNOSTIC,    15, -5.852846503258e-01, 1.796182128601e-03, 1.4304e+00, 3.8059e-02, \n",
      " 2DIAGNOSTIC,    16, -5.863722562790e-01, 3.820093115792e-04, 1.4682e+00, 3.7770e-02, \n",
      " 2DIAGNOSTIC,    17, -5.879579782486e-01, 2.666886721272e-04, 1.5078e+00, 3.9654e-02, \n",
      " 2DIAGNOSTIC,    18, -5.902081131935e-01, 3.804745210800e-04, 1.5478e+00, 3.9967e-02, \n",
      " 2DIAGNOSTIC,    19, -5.933569669724e-01, 5.306370439939e-04, 1.5886e+00, 4.0795e-02, \n",
      " 2DIAGNOSTIC,    20, -5.982404947281e-01, 7.400875329040e-04, 1.6268e+00, 3.8248e-02, \n",
      " 2DIAGNOSTIC,    21, -6.079695224762e-01, 1.094233011827e-03, 1.6672e+00, 4.0402e-02, \n",
      " 2DIAGNOSTIC,    22, -6.183099150658e-01, 1.547348918393e-03, 1.7168e+00, 4.9535e-02, \n",
      " 2DIAGNOSTIC,    23, -6.237174272537e-01, 1.933740335517e-03, 1.7844e+00, 6.7652e-02, \n",
      " 2DIAGNOSTIC,    24, -6.239272356033e-01, 2.119841752574e-03, 1.8207e+00, 3.6312e-02, \n",
      " 2DIAGNOSTIC,    25, -6.244336366653e-01, 2.118541626260e-03, 1.8592e+00, 3.8459e-02, \n",
      " 2DIAGNOSTIC,    26, -6.251674294472e-01, 1.951472833753e-03, 1.8972e+00, 3.8006e-02, \n",
      " 2DIAGNOSTIC,    27, -6.260482668877e-01, 1.656410982832e-03, 1.9409e+00, 4.3721e-02, \n",
      " 2DIAGNOSTIC,    28, -6.273147463799e-01, 1.290222746320e-03, 1.9803e+00, 3.9377e-02, \n",
      " 2DIAGNOSTIC,    29, -6.288369297981e-01, 9.109387756325e-04, 2.0193e+00, 3.8968e-02, \n",
      " 2DIAGNOSTIC,    30, -6.306379437447e-01, 5.809032008983e-04, 2.0589e+00, 3.9668e-02, \n",
      " 2DIAGNOSTIC,    31, -6.328427791595e-01, 4.031795833725e-04, 2.1387e+00, 7.9762e-02, \n",
      " 2DIAGNOSTIC,    32, -6.336295604706e-01, 3.660992952064e-04, 2.1769e+00, 3.8226e-02, \n",
      " 2DIAGNOSTIC,    33, -6.340112686157e-01, 3.823703445960e-04, 2.2154e+00, 3.8489e-02, \n",
      " 2DIAGNOSTIC,    34, -6.350116133690e-01, 3.788087342400e-04, 2.2585e+00, 4.3110e-02, \n",
      " 2DIAGNOSTIC,    35, -6.353767514229e-01, 3.510595124681e-04, 2.3083e+00, 4.9767e-02, \n",
      " 2DIAGNOSTIC,    36, -6.356567740440e-01, 3.050114028156e-04, 2.3460e+00, 3.7762e-02, \n",
      " 2DIAGNOSTIC,    37, -6.383596062660e-01, 2.793683379423e-04, 2.3961e+00, 5.0093e-02, \n",
      " 2DIAGNOSTIC,    38, -6.408924460411e-01, 2.758575428743e-04, 2.4339e+00, 3.7735e-02, \n",
      " 2DIAGNOSTIC,    39, -6.424472332001e-01, 2.833537582774e-04, 2.4818e+00, 4.7967e-02, \n",
      " 2DIAGNOSTIC,    40, -6.473373174667e-01, 3.431380609982e-04, 2.5277e+00, 4.5856e-02, \n",
      " 2DIAGNOSTIC,    41, -6.517244577408e-01, 4.426419327501e-04, 2.5709e+00, 4.3245e-02, \n",
      " 2DIAGNOSTIC,    42, -6.524564623833e-01, 5.110536003485e-04, 2.6143e+00, 4.3369e-02, \n",
      " 2DIAGNOSTIC,    43, -6.527414917946e-01, 5.350764258765e-04, 2.6645e+00, 5.0196e-02, \n",
      " 2DIAGNOSTIC,    44, -6.528051495552e-01, 5.189938237891e-04, 2.7073e+00, 4.2823e-02, \n",
      " 2DIAGNOSTIC,    45, -6.527880430222e-01, 4.576135834213e-04, 2.7509e+00, 4.3566e-02, \n",
      " 2DIAGNOSTIC,    46, -6.527873873711e-01, 3.572229761630e-04, 2.7941e+00, 4.3257e-02, \n",
      " 2DIAGNOSTIC,    47, -6.527908444405e-01, 2.544917224441e-04, 2.8383e+00, 4.4179e-02, \n",
      " 2DIAGNOSTIC,    48, -6.527765989304e-01, 1.575677451910e-04, 2.8835e+00, 4.5138e-02, \n",
      " 2DIAGNOSTIC,    49, -6.527776718140e-01, 6.408011540771e-05, 2.9271e+00, 4.3684e-02, \n",
      " 2DIAGNOSTIC,    50, -6.527770161629e-01, 1.335333126917e-05, 2.9713e+00, 4.4163e-02, \n",
      " 2DIAGNOSTIC,    51, -6.527770161629e-01, 3.675645302792e-06, 3.0153e+00, 4.3964e-02, \n",
      "DIAGNOSTIC,Iteration,metricValue,convergenceValue,ITERATION_TIME_INDEX,SINCE_LAST\n",
      " 2DIAGNOSTIC,     1, -5.723902583122e-01, inf, 4.0631e+00, 1.0479e+00, \n",
      " 2DIAGNOSTIC,     2, -5.731382369995e-01, inf, 4.2591e+00, 1.9593e-01, \n",
      " 2DIAGNOSTIC,     3, -5.731995701790e-01, inf, 4.4544e+00, 1.9529e-01, \n",
      " 2DIAGNOSTIC,     4, -5.732300877571e-01, inf, 4.6518e+00, 1.9746e-01, \n",
      " 2DIAGNOSTIC,     5, -5.732527375221e-01, inf, 4.8705e+00, 2.1868e-01, \n",
      " 2DIAGNOSTIC,     6, -5.732576847076e-01, inf, 5.0694e+00, 1.9894e-01, \n",
      " 2DIAGNOSTIC,     7, -5.732637643814e-01, inf, 5.2669e+00, 1.9747e-01, \n",
      " 2DIAGNOSTIC,     8, -5.732675790787e-01, inf, 5.4638e+00, 1.9694e-01, \n",
      " 2DIAGNOSTIC,     9, -5.732634067535e-01, inf, 5.6608e+00, 1.9698e-01, \n",
      " 2DIAGNOSTIC,    10, -5.732727050781e-01, 5.554073504754e-05, 5.9497e+00, 2.8888e-01, \n",
      " 2DIAGNOSTIC,    11, -5.732722878456e-01, 1.321922627540e-05, 6.1237e+00, 1.7400e-01, \n",
      " 2DIAGNOSTIC,    12, -5.732719302177e-01, 7.872959031374e-06, 6.3206e+00, 1.9691e-01, \n",
      " 2DIAGNOSTIC,    13, -5.732713937759e-01, 5.179480012885e-06, 6.5397e+00, 2.1907e-01, \n",
      " 2DIAGNOSTIC,    14, -5.732722878456e-01, 3.718092330018e-06, 6.7590e+00, 2.1932e-01, \n",
      " 2DIAGNOSTIC,    15, -5.732709765434e-01, 3.018321649506e-06, 6.9313e+00, 1.7226e-01, \n",
      " 2DIAGNOSTIC,    16, -5.732712149620e-01, 2.478217766111e-06, 7.1530e+00, 2.2173e-01, \n",
      " 2DIAGNOSTIC,    17, -5.732708573341e-01, 2.122764044543e-06, 7.4047e+00, 2.5177e-01, \n",
      " 2DIAGNOSTIC,    18, -5.732710957527e-01, 1.900918505271e-06, 7.6041e+00, 1.9930e-01, \n",
      " 2DIAGNOSTIC,    19, -5.732709169388e-01, 1.568412130837e-06, 7.7989e+00, 1.9488e-01, \n",
      " 2DIAGNOSTIC,    20, -5.732706189156e-01, 1.502172153778e-06, 7.9928e+00, 1.9388e-01, \n",
      " 2DIAGNOSTIC,    21, -5.732704997063e-01, 1.438137473997e-06, 8.1890e+00, 1.9623e-01, \n",
      " 2DIAGNOSTIC,    22, -5.732705593109e-01, 1.380117168992e-06, 8.3609e+00, 1.7186e-01, \n",
      " 2DIAGNOSTIC,    23, -5.732696652412e-01, 1.301073098148e-06, 8.5800e+00, 2.1907e-01, \n",
      " 2DIAGNOSTIC,    24, -5.732697844505e-01, 1.258170982510e-06, 8.7739e+00, 1.9397e-01, \n",
      " 2DIAGNOSTIC,    25, -5.732696056366e-01, 1.194844458041e-06, 8.9679e+00, 1.9397e-01, \n",
      " 2DIAGNOSTIC,    26, -5.732695460320e-01, 1.146868726210e-06, 9.1629e+00, 1.9499e-01, \n",
      " 2DIAGNOSTIC,    27, -5.732697844505e-01, 1.106986019295e-06, 9.3587e+00, 1.9585e-01, \n",
      " 2DIAGNOSTIC,    28, -5.732698440552e-01, 1.081704226635e-06, 9.5561e+00, 1.9735e-01, \n",
      " 2DIAGNOSTIC,    29, -5.732697248459e-01, 1.058091811501e-06, 9.7530e+00, 1.9688e-01, \n",
      " 2DIAGNOSTIC,    30, -5.732696056366e-01, 1.032552631841e-06, 9.9470e+00, 1.9401e-01, \n",
      " 2DIAGNOSTIC,    31, -5.732696652412e-01, 1.009956918097e-06, 1.0143e+01, 1.9593e-01, \n",
      "DIAGNOSTIC,Iteration,metricValue,convergenceValue,ITERATION_TIME_INDEX,SINCE_LAST\n",
      " 2DIAGNOSTIC,     1, -4.948306083679e-01, inf, 1.1186e+01, 1.0428e+00, \n",
      " 2DIAGNOSTIC,     2, -4.954416453838e-01, inf, 1.1383e+01, 1.9686e-01, \n",
      " 2DIAGNOSTIC,     3, -4.955498278141e-01, inf, 1.1618e+01, 2.3527e-01, \n",
      " 2DIAGNOSTIC,     4, -4.956350326538e-01, inf, 1.1822e+01, 2.0447e-01, \n",
      " 2DIAGNOSTIC,     5, -4.956596791744e-01, inf, 1.2124e+01, 3.0156e-01, \n",
      " 2DIAGNOSTIC,     6, -4.956592023373e-01, inf, 1.2324e+01, 2.0035e-01, \n",
      " 2DIAGNOSTIC,     7, -4.956601262093e-01, inf, 1.2682e+01, 3.5764e-01, \n",
      " 2DIAGNOSTIC,     8, -4.956602156162e-01, inf, 1.2878e+01, 1.9592e-01, \n",
      " 2DIAGNOSTIC,     9, -4.956601858139e-01, inf, 1.3050e+01, 1.7188e-01, \n",
      " 2DIAGNOSTIC,    10, -4.956603050232e-01, 6.682098319288e-05, 1.3245e+01, 1.9529e-01, \n",
      " 2DIAGNOSTIC,    11, -4.956601262093e-01, 2.024919740506e-05, 1.3467e+01, 2.2251e-01, \n",
      " 2DIAGNOSTIC,    12, -4.956593215466e-01, 8.968240763352e-06, 1.3665e+01, 1.9706e-01, \n",
      " 2DIAGNOSTIC,    13, -4.956593215466e-01, 3.530412641339e-06, 1.3836e+01, 1.7192e-01, \n",
      " 2DIAGNOSTIC,    14, -4.956592917442e-01, 2.230570316897e-06, 1.4031e+01, 1.9478e-01, \n",
      " 2DIAGNOSTIC,    15, -4.956592321396e-01, 2.047834414043e-06, 1.4205e+01, 1.7331e-01, \n",
      " 2DIAGNOSTIC,    16, -4.956592023373e-01, 1.875275302154e-06, 1.4464e+01, 2.5969e-01, \n",
      " 2DIAGNOSTIC,    17, -4.956591725349e-01, 1.763524551279e-06, 1.4678e+01, 2.1355e-01, \n",
      " 2DIAGNOSTIC,    18, -4.956592321396e-01, 1.678493845247e-06, 1.4880e+01, 2.0176e-01, \n",
      " 2DIAGNOSTIC,    19, -4.956592321396e-01, 1.608685352039e-06, 1.5078e+01, 1.9852e-01, \n",
      " 2DIAGNOSTIC,    20, -4.956592917442e-01, 1.556573124617e-06, 1.5250e+01, 1.7219e-01, \n",
      " 2DIAGNOSTIC,    21, -4.956593811512e-01, 1.510369770585e-06, 1.5445e+01, 1.9500e-01, \n",
      " 2DIAGNOSTIC,    22, -4.956593215466e-01, 1.445800194233e-06, 1.5641e+01, 1.9580e-01, \n",
      " 2DIAGNOSTIC,    23, -4.956593513489e-01, 1.387301040268e-06, 1.5839e+01, 1.9819e-01, \n",
      " 2DIAGNOSTIC,    24, -4.956592917442e-01, 1.330802888333e-06, 1.6038e+01, 1.9926e-01, \n",
      " 2DIAGNOSTIC,    25, -4.956593215466e-01, 1.277330625271e-06, 1.6237e+01, 1.9882e-01, \n",
      " 2DIAGNOSTIC,    26, -4.956592917442e-01, 1.225850610354e-06, 1.6434e+01, 1.9709e-01, \n",
      " 2DIAGNOSTIC,    27, -4.956593513489e-01, 1.178284151138e-06, 1.6632e+01, 1.9763e-01, \n",
      " 2DIAGNOSTIC,    28, -4.956593811512e-01, 1.135646584771e-06, 1.6830e+01, 1.9835e-01, \n",
      " 2DIAGNOSTIC,    29, -4.956594109535e-01, 1.096262053579e-06, 1.7028e+01, 1.9739e-01, \n",
      " 2DIAGNOSTIC,    30, -4.956593215466e-01, 1.058667066900e-06, 1.7230e+01, 2.0226e-01, \n",
      " 2DIAGNOSTIC,    31, -4.956593215466e-01, 1.025125243359e-06, 1.7452e+01, 2.2208e-01, \n",
      "DIAGNOSTIC,Iteration,metricValue,convergenceValue,ITERATION_TIME_INDEX,SINCE_LAST\n",
      " 2DIAGNOSTIC,     1, -4.282169342041e-01, inf, 2.0369e+01, 2.9173e+00, \n",
      "  Elapsed time (stage 0): 2.1788e+01\n",
      "\n",
      "\n",
      "Stage 1\n",
      "  iterations = 40x20x0\n",
      "  convergence threshold = 1.0000e-07\n",
      "  convergence window size = 8\n",
      "  number of levels = 3\n",
      "  using the Mattes MI metric (number of bins = 32, weight = 1.0000e+00, use gradient filter = 0)\n",
      "  preprocessing:  histogram matching the images\n",
      "  Shrink factors (level 1 out of 3): [4, 4, 4]\n",
      "  Shrink factors (level 2 out of 3): [2, 2, 2]\n",
      "  Shrink factors (level 3 out of 3): [1, 1, 1]\n",
      "  smoothing sigmas per level: [2, 1, 0]\n",
      "  Using default NONE metricSamplingStrategy \n",
      "\n",
      "*** Running SyN registration (varianceForUpdateField = 3.0000e+00, varianceForTotalField = 0.0000e+00) ***\n",
      "\n",
      "XXDIAGNOSTIC,Iteration,metricValue,convergenceValue,ITERATION_TIME_INDEX,SINCE_LAST\n",
      " 1DIAGNOSTIC,     1, -5.481995344162e-01, inf, 1.0877e+00, 1.0877e+00, \n",
      " 1DIAGNOSTIC,     2, -5.535849928856e-01, inf, 1.3833e+00, 2.9556e-01, \n",
      " 1DIAGNOSTIC,     3, -5.587513446808e-01, inf, 1.6822e+00, 2.9895e-01, \n",
      " 1DIAGNOSTIC,     4, -5.637483000755e-01, inf, 1.9889e+00, 3.0671e-01, \n",
      " 1DIAGNOSTIC,     5, -5.687652826309e-01, inf, 2.3043e+00, 3.1539e-01, \n",
      " 1DIAGNOSTIC,     6, -5.733137130737e-01, inf, 2.6199e+00, 3.1558e-01, \n",
      " 1DIAGNOSTIC,     7, -5.775992870331e-01, inf, 2.9274e+00, 3.0750e-01, \n",
      " 1DIAGNOSTIC,     8, -5.811706781387e-01, 4.828148521483e-03, 3.2383e+00, 3.1093e-01, \n",
      " 1DIAGNOSTIC,     9, -5.841519832611e-01, 3.985911142081e-03, 3.5572e+00, 3.1889e-01, \n",
      " 1DIAGNOSTIC,    10, -5.868421196938e-01, 3.265716833994e-03, 3.8632e+00, 3.0600e-01, \n",
      " 1DIAGNOSTIC,    11, -5.892459154129e-01, 2.648918423802e-03, 4.1683e+00, 3.0504e-01, \n",
      " 1DIAGNOSTIC,    12, -5.913531780243e-01, 2.129289787263e-03, 4.4672e+00, 2.9897e-01, \n",
      " 1DIAGNOSTIC,    13, -5.933958888054e-01, 1.723622553982e-03, 4.7814e+00, 3.1417e-01, \n",
      " 1DIAGNOSTIC,    14, -5.953537225723e-01, 1.415837323293e-03, 5.0891e+00, 3.0767e-01, \n",
      " 1DIAGNOSTIC,    15, -5.972592830658e-01, 1.198990503326e-03, 5.3969e+00, 3.0781e-01, \n",
      " 1DIAGNOSTIC,    16, -5.988675355911e-01, 1.034741057083e-03, 5.7017e+00, 3.0483e-01, \n",
      " 1DIAGNOSTIC,    17, -6.003261208534e-01, 8.998527773656e-04, 6.0059e+00, 3.0424e-01, \n",
      " 1DIAGNOSTIC,    18, -6.008774638176e-01, 7.594544440508e-04, 6.3158e+00, 3.0988e-01, \n",
      " 1DIAGNOSTIC,    19, -6.014783978462e-01, 6.202702061273e-04, 6.6252e+00, 3.0933e-01, \n",
      " 1DIAGNOSTIC,    20, -6.024079918861e-01, 4.966959822923e-04, 6.9322e+00, 3.0699e-01, \n",
      " 1DIAGNOSTIC,    21, -6.033395528793e-01, 3.978587628808e-04, 7.2596e+00, 3.2743e-01, \n",
      " 1DIAGNOSTIC,    22, -6.042117476463e-01, 3.278210060671e-04, 7.5791e+00, 3.1953e-01, \n",
      " 1DIAGNOSTIC,    23, -6.050385236740e-01, 2.876722137444e-04, 7.8908e+00, 3.1169e-01, \n",
      " 1DIAGNOSTIC,    24, -6.047108173370e-01, 2.405105478829e-04, 8.2040e+00, 3.1317e-01, \n",
      " 1DIAGNOSTIC,    25, -6.038440465927e-01, 1.767513313098e-04, 8.5180e+00, 3.1404e-01, \n",
      " 1DIAGNOSTIC,    26, -6.032027006149e-01, 9.037907875609e-05, 8.8282e+00, 3.1016e-01, \n",
      " 1DIAGNOSTIC,    27, -6.028717160225e-01, 2.991689825649e-06, 9.1376e+00, 3.0942e-01, \n",
      " 1DIAGNOSTIC,    28, -6.027427911758e-01, -6.117983139120e-05, 9.4536e+00, 3.1605e-01, \n",
      "XXDIAGNOSTIC,Iteration,metricValue,convergenceValue,ITERATION_TIME_INDEX,SINCE_LAST\n",
      " 1DIAGNOSTIC,     1, -5.009688138962e-01, inf, 1.3357e+01, 3.9032e+00, \n",
      " 1DIAGNOSTIC,     2, -5.019946098328e-01, inf, 1.6268e+01, 2.9114e+00, \n",
      " 1DIAGNOSTIC,     3, -5.031714439392e-01, inf, 1.8758e+01, 2.4894e+00, \n",
      " 1DIAGNOSTIC,     4, -5.043647289276e-01, inf, 2.1336e+01, 2.5782e+00, \n",
      " 1DIAGNOSTIC,     5, -5.054985880852e-01, inf, 2.4044e+01, 2.7086e+00, \n",
      " 1DIAGNOSTIC,     6, -5.065877437592e-01, inf, 2.6646e+01, 2.6015e+00, \n",
      " 1DIAGNOSTIC,     7, -5.075052976608e-01, inf, 2.9259e+01, 2.6134e+00, \n",
      " 1DIAGNOSTIC,     8, -5.084123611450e-01, 1.237835502252e-03, 3.1780e+01, 2.5211e+00, \n",
      " 1DIAGNOSTIC,     9, -5.091780424118e-01, 1.049038604833e-03, 3.4384e+01, 2.6036e+00, \n",
      " 1DIAGNOSTIC,    10, -5.099257230759e-01, 8.774583693594e-04, 3.6966e+01, 2.5821e+00, \n",
      " 1DIAGNOSTIC,    11, -5.106241703033e-01, 7.338864379562e-04, 3.9703e+01, 2.7371e+00, \n",
      " 1DIAGNOSTIC,    12, -5.112533569336e-01, 6.170913693495e-04, 4.2538e+01, 2.8346e+00, \n",
      " 1DIAGNOSTIC,    13, -5.117932558060e-01, 5.207167123444e-04, 4.5310e+01, 2.7724e+00, \n",
      " 1DIAGNOSTIC,    14, -5.123289823532e-01, 4.449458210729e-04, 4.8019e+01, 2.7086e+00, \n",
      " 1DIAGNOSTIC,    15, -5.125966072083e-01, 3.706690622494e-04, 5.0691e+01, 2.6720e+00, \n",
      " 1DIAGNOSTIC,    16, -5.127138495445e-01, 2.973643131554e-04, 5.3291e+01, 2.6006e+00, \n",
      " 1DIAGNOSTIC,    17, -5.123562812805e-01, 2.069512556773e-04, 5.6048e+01, 2.7565e+00, \n",
      " 1DIAGNOSTIC,    18, -5.119804143906e-01, 1.114930346375e-04, 5.8738e+01, 2.6896e+00, \n",
      " 1DIAGNOSTIC,    19, -5.115777254105e-01, 2.089708868880e-05, 6.1448e+01, 2.7101e+00, \n",
      " 1DIAGNOSTIC,    20, -5.111657381058e-01, -5.589593638433e-05, 6.4056e+01, 2.6088e+00, \n",
      "  Elapsed time (stage 1): 69.45\n",
      "\n",
      "\n",
      "Total elapsed time: 91.3\n"
     ]
    }
   ],
   "source": [
    "template_warp_to_raw_anat = ants.registration(\n",
    "    fixed=raw_anat_img,\n",
    "    moving=mni_template_img, \n",
    "    type_of_transform='SyN',\n",
    "    verbose=True\n",
    ")"
   ]
  },
  {
   "cell_type": "code",
   "execution_count": 11,
   "metadata": {},
   "outputs": [],
   "source": [
    "registered_template_img = template_warp_to_raw_anat['warpedmovout']"
   ]
  },
  {
   "cell_type": "markdown",
   "metadata": {},
   "source": [
    "The following comparison function asserts that the new `registered_template_img` image has been transformed to the size and shape of the `raw_anat_img`"
   ]
  },
  {
   "cell_type": "code",
   "execution_count": 12,
   "metadata": {},
   "outputs": [],
   "source": [
    "# explore_3D_array_comparison(\n",
    "#     arr_before=raw_anat_img.numpy(),\n",
    "#     arr_after=registered_template_img.numpy()\n",
    "# )\n",
    "#I don't love \"before\" and \"after\" as the names here as we are really only changing the template\n",
    "# This is pretty confusing, so just ignore the names for now\n",
    "# Maybe I'll change this and write my own helper functions"
   ]
  },
  {
   "cell_type": "markdown",
   "metadata": {},
   "source": [
    "Next, we apply this to the mask so that it fits over the brain in the data we wish to visualize"
   ]
  },
  {
   "cell_type": "code",
   "execution_count": null,
   "metadata": {},
   "outputs": [
    {
     "name": "stdout",
     "output_type": "stream",
     "text": [
      "['-d', '3', '-i', '0x15f9d1a68', '-o', '0x15f65a308', '-r', '0x15f9d19e8', '-n', 'nearestNeighbor', '-t', '/var/folders/m4/rtcmkx_17lv03n9tvdf76ycr0000gn/T/tmpw4h2qr431Warp.nii.gz', '-t', '/var/folders/m4/rtcmkx_17lv03n9tvdf76ycr0000gn/T/tmpw4h2qr430GenericAffine.mat']\n",
      "Using double precision for computations.\n",
      "Input scalar image: 0x15f9d1a68\n",
      "Could not create ImageIO for the input file, assuming dimension = 3 and scalar pixel type\n",
      "Reference image: 0x15f9d19e8\n",
      "=============================================================================\n",
      "The composite transform comprises the following transforms (in order): \n",
      "  1. /var/folders/m4/rtcmkx_17lv03n9tvdf76ycr0000gn/T/tmpw4h2qr430GenericAffine.mat (type = AffineTransform)\n",
      "  2. /var/folders/m4/rtcmkx_17lv03n9tvdf76ycr0000gn/T/tmpw4h2qr431Warp.nii.gz (type = DisplacementFieldTransform)\n",
      "=============================================================================\n",
      "Default pixel value: 0\n",
      "Interpolation type: NearestNeighborInterpolateImageFunction\n",
      "Output warped image: 0x15f65a308\n"
     ]
    }
   ],
   "source": [
    "brain_mask = ants.apply_transforms(\n",
    "    fixed=template_warp_to_raw_anat['warpedmovout'],\n",
    "    moving=mni_template_mask,\n",
    "    transformlist=template_warp_to_raw_anat['fwdtransforms'],\n",
    "    interpolator='nearestNeighbor',\n",
    "    verbose=True\n",
    ")"
   ]
  },
  {
   "cell_type": "code",
   "execution_count": 14,
   "metadata": {},
   "outputs": [
    {
     "ename": "ValueError",
     "evalue": "The truth value of an array with more than one element is ambiguous. Use a.any() or a.all()",
     "output_type": "error",
     "traceback": [
      "\u001b[0;31m---------------------------------------------------------------------------\u001b[0m",
      "\u001b[0;31mValueError\u001b[0m                                Traceback (most recent call last)",
      "Cell \u001b[0;32mIn[14], line 2\u001b[0m\n\u001b[1;32m      1\u001b[0m \u001b[38;5;66;03m#explore(raw_anat_img.numpy(), brain_mask.numpy())\u001b[39;00m\n\u001b[0;32m----> 2\u001b[0m \u001b[43mexplore_3D_vol\u001b[49m\u001b[43m(\u001b[49m\u001b[43mraw_anat_img\u001b[49m\u001b[38;5;241;43m.\u001b[39;49m\u001b[43mnumpy\u001b[49m\u001b[43m(\u001b[49m\u001b[43m)\u001b[49m\u001b[43m,\u001b[49m\u001b[43m \u001b[49m\u001b[43mmask\u001b[49m\u001b[38;5;241;43m=\u001b[39;49m\u001b[43mbrain_mask\u001b[49m\u001b[38;5;241;43m.\u001b[39;49m\u001b[43mnumpy\u001b[49m\u001b[43m(\u001b[49m\u001b[43m)\u001b[49m\u001b[43m)\u001b[49m\n",
      "File \u001b[0;32m~/repos/neurovolume/src/neurovolume/notebook_viewer_functions.py:19\u001b[0m, in \u001b[0;36mexplore_3D_vol\u001b[0;34m(vol, cmap, dim, mask)\u001b[0m\n\u001b[1;32m     15\u001b[0m \u001b[38;5;28;01mdef\u001b[39;00m \u001b[38;5;21mexplore_3D_vol\u001b[39m(vol: np\u001b[38;5;241m.\u001b[39mndarray, cmap\u001b[38;5;241m=\u001b[39mdefault_cmap, dim\u001b[38;5;241m=\u001b[39m\u001b[38;5;124m\"\u001b[39m\u001b[38;5;124mx\u001b[39m\u001b[38;5;124m\"\u001b[39m, mask\u001b[38;5;241m=\u001b[39mempty_mask):\n\u001b[1;32m     16\u001b[0m     \u001b[38;5;66;03m#TODO rename dims to saggital, etc\u001b[39;00m\n\u001b[1;32m     17\u001b[0m     \u001b[38;5;66;03m#TODO shot all 3D at the same time with https://matplotlib.org/stable/users/explain/axes/axes_intro.html\u001b[39;00m\n\u001b[1;32m     18\u001b[0m     masking \u001b[38;5;241m=\u001b[39m \u001b[38;5;28;01mFalse\u001b[39;00m\n\u001b[0;32m---> 19\u001b[0m     \u001b[38;5;28;01mif\u001b[39;00m mask \u001b[38;5;241m!=\u001b[39m empty_mask:\n\u001b[1;32m     20\u001b[0m         masking \u001b[38;5;241m=\u001b[39m \u001b[38;5;28;01mTrue\u001b[39;00m\n\u001b[1;32m     22\u001b[0m     \u001b[38;5;28;01mdef\u001b[39;00m \u001b[38;5;21mx_coord\u001b[39m(\u001b[38;5;28mslice\u001b[39m):\n",
      "\u001b[0;31mValueError\u001b[0m: The truth value of an array with more than one element is ambiguous. Use a.any() or a.all()"
     ]
    }
   ],
   "source": [
    "#explore(raw_anat_img.numpy(), brain_mask.numpy())\n",
    "explore_3D_vol(raw_anat_img.numpy(), mask=brain_mask.numpy())"
   ]
  },
  {
   "cell_type": "markdown",
   "metadata": {},
   "source": [
    "Let's fine tune the mask a bit"
   ]
  },
  {
   "cell_type": "code",
   "execution_count": null,
   "metadata": {},
   "outputs": [],
   "source": [
    "brain_mask_dilated = ants.morphology(brain_mask, radius=4, operation='dilate', mtype='binary')"
   ]
  },
  {
   "cell_type": "code",
   "execution_count": null,
   "metadata": {},
   "outputs": [],
   "source": [
    "explore_3D_array_with_mask_contour(raw_anat_img.numpy(), brain_mask_dilated.numpy())"
   ]
  },
  {
   "cell_type": "markdown",
   "metadata": {},
   "source": [
    "# Mask the Image and Create Sections"
   ]
  },
  {
   "cell_type": "code",
   "execution_count": null,
   "metadata": {},
   "outputs": [],
   "source": [
    "brain_anat = ants.mask_image(raw_anat_img, brain_mask_dilated)"
   ]
  },
  {
   "cell_type": "code",
   "execution_count": null,
   "metadata": {},
   "outputs": [],
   "source": [
    "print(brain_anat)\n",
    "explore_3D_array(brain_anat.numpy(), cmap=default_cmap)"
   ]
  },
  {
   "cell_type": "markdown",
   "metadata": {},
   "source": [
    "# Building Scivol"
   ]
  },
  {
   "cell_type": "markdown",
   "metadata": {},
   "source": [
    "It looks like ANTS already applies the affine (double check this), so I think you can just 86 that from your workflow"
   ]
  },
  {
   "cell_type": "markdown",
   "metadata": {},
   "source": [
    "Initialize the scivol object"
   ]
  },
  {
   "cell_type": "code",
   "execution_count": null,
   "metadata": {},
   "outputs": [],
   "source": [
    "skullstrip = Scivol(\"skullstrip\")"
   ]
  },
  {
   "cell_type": "markdown",
   "metadata": {},
   "source": [
    "Create the volumes:"
   ]
  },
  {
   "cell_type": "code",
   "execution_count": null,
   "metadata": {},
   "outputs": [],
   "source": [
    "full_anat_vol = create_normalized_volume(raw_anat_img.numpy())\n",
    "brain_anat_vol = create_normalized_volume(brain_anat.numpy())"
   ]
  },
  {
   "cell_type": "markdown",
   "metadata": {},
   "source": [
    "Create the grids:"
   ]
  },
  {
   "cell_type": "code",
   "execution_count": null,
   "metadata": {},
   "outputs": [],
   "source": [
    "explore_3D_array(full_anat_vol)\n",
    "explore_3D_array(brain_anat_vol)"
   ]
  },
  {
   "cell_type": "code",
   "execution_count": null,
   "metadata": {},
   "outputs": [],
   "source": [
    "skullstrip.add_grids([Grid(\"full_anat\",[full_anat_vol]), Grid(\"brain_anat\", [brain_anat_vol])])"
   ]
  },
  {
   "cell_type": "code",
   "execution_count": null,
   "metadata": {},
   "outputs": [],
   "source": [
    "print(skullstrip)\n",
    "skullstrip.save_scivol(output_folder)"
   ]
  },
  {
   "cell_type": "markdown",
   "metadata": {},
   "source": [
    "Lets' quickly test this in our notebook"
   ]
  },
  {
   "cell_type": "code",
   "execution_count": null,
   "metadata": {},
   "outputs": [],
   "source": [
    "test_compressed_file_path = \"/Users/joachimpfefferkorn/repos/neurovolume/output/skullstrip.scivol\"\n",
    "with gzip.open(test_compressed_file_path, 'r') as svin:\n",
    "    scivol_bytes = svin.read()\n",
    "scivol_str = scivol_bytes.decode('utf-8')"
   ]
  },
  {
   "cell_type": "code",
   "execution_count": null,
   "metadata": {},
   "outputs": [],
   "source": [
    "scivol_dict = json.loads(scivol_str)"
   ]
  },
  {
   "cell_type": "code",
   "execution_count": null,
   "metadata": {},
   "outputs": [],
   "source": [
    "print(type(scivol_dict))\n",
    "print(scivol_dict['name'])\n",
    "print([grid for grid in scivol_dict['grids']])\n",
    "brain_anat_test_vol = np.asanyarray(scivol_dict['grids']['brain_anat']['frames'][0])\n",
    "print(type(brain_anat_test_vol))\n",
    "explore_3D_array(brain_anat_test_vol)"
   ]
  },
  {
   "cell_type": "code",
   "execution_count": null,
   "metadata": {},
   "outputs": [],
   "source": [
    "explore_3D_array(np.asanyarray(scivol_dict['grids']['full_anat']['frames'][0]))"
   ]
  },
  {
   "cell_type": "markdown",
   "metadata": {},
   "source": [
    "Before moving to blender to render these images, let's make sure that we can parse these scivol files here"
   ]
  }
 ],
 "metadata": {
  "kernelspec": {
   "display_name": ".venv",
   "language": "python",
   "name": "python3"
  },
  "language_info": {
   "codemirror_mode": {
    "name": "ipython",
    "version": 3
   },
   "file_extension": ".py",
   "mimetype": "text/x-python",
   "name": "python",
   "nbconvert_exporter": "python",
   "pygments_lexer": "ipython3",
   "version": "3.11.5"
  }
 },
 "nbformat": 4,
 "nbformat_minor": 2
}
