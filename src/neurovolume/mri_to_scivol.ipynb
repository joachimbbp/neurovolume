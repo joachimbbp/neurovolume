{
 "cells": [
  {
   "cell_type": "markdown",
   "metadata": {},
   "source": [
    "# Gathering Data"
   ]
  },
  {
   "cell_type": "code",
   "execution_count": 24,
   "metadata": {},
   "outputs": [],
   "source": [
    "from functions import *\n",
    "from scivol import *\n",
    "from helpers import *\n",
    "import nibabel as nib\n",
    "import ipyvolume as ipv\n",
    "import numpy as np\n",
    "import json\n",
    "#import nilearn\n",
    "import ants"
   ]
  },
  {
   "cell_type": "code",
   "execution_count": 25,
   "metadata": {},
   "outputs": [
    {
     "name": "stdout",
     "output_type": "stream",
     "text": [
      "/Users/joachimpfefferkorn/repos/neurovolume\n"
     ]
    }
   ],
   "source": [
    "proj_root = parent_directory()\n",
    "print(proj_root)\n",
    "mri_input_filepath = os.path.join(proj_root, \"media/sub-01/anat/sub-01_T1w.nii.gz\")\n",
    "template_folder = \"/Users/joachimpfefferkorn/repos/neurovolume/templates\"\n",
    "output_folder = os.path.join(proj_root, \"output/\")\n",
    "\n",
    "default_cmap = 'nipy_spectral'"
   ]
  },
  {
   "cell_type": "code",
   "execution_count": 26,
   "metadata": {},
   "outputs": [],
   "source": [
    "#anat_img = nib.load(mri_input_filepath)\n",
    "raw_anat_img = ants.image_read(mri_input_filepath)"
   ]
  },
  {
   "cell_type": "code",
   "execution_count": 34,
   "metadata": {},
   "outputs": [
    {
     "name": "stdout",
     "output_type": "stream",
     "text": [
      "ANTsImage (LPI)\n",
      "\t Pixel Type : float (float32)\n",
      "\t Components : 1\n",
      "\t Dimensions : (512, 512, 296)\n",
      "\t Spacing    : (0.4785, 0.4785, 0.5)\n",
      "\t Origin     : (119.989, 104.52, -84.2457)\n",
      "\t Direction  : [-1.      0.0025  0.     -0.0025 -1.      0.      0.      0.      1.    ]\n",
      "\n"
     ]
    },
    {
     "data": {
      "application/vnd.jupyter.widget-view+json": {
       "model_id": "3c43ffe10a0b4ad492ccc5ec452fccc1",
       "version_major": 2,
       "version_minor": 0
      },
      "text/plain": [
       "interactive(children=(IntSlider(value=255, description='SLICE', max=511), Output()), _dom_classes=('widget-int…"
      ]
     },
     "metadata": {},
     "output_type": "display_data"
    }
   ],
   "source": [
    "print(raw_anat_img)\n",
    "explore_3D_array(raw_anat_img.numpy(), cmap=default_cmap)"
   ]
  },
  {
   "cell_type": "markdown",
   "metadata": {},
   "source": [
    "# Skull Stripping\n",
    "Using ANTs\n",
    "\n",
    "[this notebook](https://github.com/Angeluz-07/MRI-preprocessing-techniques/blob/main/notebooks/09_brain_extraction_with_template.ipynb) is what we're basing this on"
   ]
  },
  {
   "cell_type": "markdown",
   "metadata": {},
   "source": [
    "## Load Template and Mask"
   ]
  },
  {
   "cell_type": "code",
   "execution_count": 28,
   "metadata": {},
   "outputs": [],
   "source": [
    "mni_template_img = ants.image_read(f\"{template_folder}/mni_icbm152_t1_tal_nlin_sym_09a.nii\")\n",
    "mni_template_mask = ants.image_read(f\"{template_folder}/mni_icbm152_t1_tal_nlin_sym_09a_mask.nii\")"
   ]
  },
  {
   "cell_type": "code",
   "execution_count": null,
   "metadata": {},
   "outputs": [
    {
     "name": "stdout",
     "output_type": "stream",
     "text": [
      "ANTsImage (LPI)\n",
      "\t Pixel Type : float (float32)\n",
      "\t Components : 1\n",
      "\t Dimensions : (197, 233, 189)\n",
      "\t Spacing    : (1.0, 1.0, 1.0)\n",
      "\t Origin     : (98.0, 134.0, -72.0)\n",
      "\t Direction  : [-1.  0.  0.  0. -1.  0.  0.  0.  1.]\n",
      "\n"
     ]
    },
    {
     "data": {
      "application/vnd.jupyter.widget-view+json": {
       "model_id": "8a69680216c3405ab9c8afb8a5626aaf",
       "version_major": 2,
       "version_minor": 0
      },
      "text/plain": [
       "interactive(children=(IntSlider(value=98, description='SLICE', max=196), Output()), _dom_classes=('widget-inte…"
      ]
     },
     "metadata": {},
     "output_type": "display_data"
    }
   ],
   "source": [
    "print(mni_template_img)\n",
    "explore_3D_array(mni_template_img.numpy(), cmap=default_cmap)"
   ]
  },
  {
   "cell_type": "code",
   "execution_count": 30,
   "metadata": {},
   "outputs": [
    {
     "name": "stdout",
     "output_type": "stream",
     "text": [
      "ANTsImage (LPI)\n",
      "\t Pixel Type : float (float32)\n",
      "\t Components : 1\n",
      "\t Dimensions : (197, 233, 189)\n",
      "\t Spacing    : (1.0, 1.0, 1.0)\n",
      "\t Origin     : (98.0, 134.0, -72.0)\n",
      "\t Direction  : [-1.  0.  0.  0. -1.  0.  0.  0.  1.]\n",
      "\n"
     ]
    },
    {
     "data": {
      "application/vnd.jupyter.widget-view+json": {
       "model_id": "d2ca09cc683a4cf8a3aa8d5660a0abef",
       "version_major": 2,
       "version_minor": 0
      },
      "text/plain": [
       "interactive(children=(IntSlider(value=98, description='SLICE', max=196), Output()), _dom_classes=('widget-inte…"
      ]
     },
     "metadata": {},
     "output_type": "display_data"
    }
   ],
   "source": [
    "print(mni_template_mask)\n",
    "explore_3D_array(mni_template_mask.numpy(), cmap=default_cmap)"
   ]
  },
  {
   "cell_type": "markdown",
   "metadata": {},
   "source": [
    "## Register Template and Masks to Raw image\n",
    "Here we warp the MNI template"
   ]
  },
  {
   "cell_type": "code",
   "execution_count": 50,
   "metadata": {},
   "outputs": [
    {
     "name": "stdout",
     "output_type": "stream",
     "text": [
      "antsRegistration -d 3 -r [0x15b777ca8,0x15b777e88,1] -m mattes[0x15b777ca8,0x15b777e88,1,32,regular,0.2] -t Affine[0.25] -c 2100x1200x1200x0 -s 3x2x1x0 -f 4x2x2x1 -x [NA,NA] -m mattes[0x15b777ca8,0x15b777e88,1,32] -t SyN[0.200000,3.000000,0.000000] -c [40x20x0,1e-7,8] -s 2x1x0 -f 4x2x1 -u 1 -z 1 -o [/var/folders/m4/rtcmkx_17lv03n9tvdf76ycr0000gn/T/tmpcii1r2fv,0x15b502ec8,0x15bcc3c68] -x [NA,NA] --float 1 --write-composite-transform 0 -v 1\n",
      "All_Command_lines_OK\n",
      "Using single precision for computations.\n",
      "=============================================================================\n",
      "The composite transform comprises the following transforms (in order): \n",
      "  1. Center of mass alignment using fixed image: 0x15b777ca8 and moving image: 0x15b777e88 (type = Euler3DTransform)\n",
      "=============================================================================\n",
      "  Reading mask(s).\n",
      "    Registration stage 0\n",
      "      No fixed mask\n",
      "      No moving mask\n",
      "    Registration stage 1\n",
      "      No fixed mask\n",
      "      No moving mask\n",
      "  number of levels = 4\n",
      "  number of levels = 3\n",
      "  fixed image: 0x15b777ca8\n",
      "  moving image: 0x15b777e88\n",
      "  fixed image: 0x15b777ca8\n",
      "  moving image: 0x15b777e88\n",
      "Dimension = 3\n",
      "Number of stages = 2\n",
      "Use histogram matching = true\n",
      "Winsorize image intensities = false\n",
      "  Lower quantile = 0\n",
      "  Upper quantile = 1\n",
      "\n",
      "\n",
      "Stage 1 State\n",
      "   Image metric = MattesMI\n",
      "     Fixed image = Image (0x106e764f0)\n",
      "  RTTI typeinfo:   itk::Image<float, 3u>\n",
      "  Reference Count: 2\n",
      "  Modified Time: 43801260\n",
      "  Debug: Off\n",
      "  Object Name: \n",
      "  Observers: \n",
      "    none\n",
      "  Source: (none)\n",
      "  Source output name: (none)\n",
      "  Release Data: Off\n",
      "  Data Released: False\n",
      "  Global Release Data: Off\n",
      "  PipelineMTime: 0\n",
      "  UpdateMTime: 43801234\n",
      "  RealTimeStamp: 0 seconds \n",
      "  LargestPossibleRegion: \n",
      "    Dimension: 3\n",
      "    Index: [0, 0, 0]\n",
      "    Size: [512, 512, 296]\n",
      "  BufferedRegion: \n",
      "    Dimension: 3\n",
      "    Index: [0, 0, 0]\n",
      "    Size: [512, 512, 296]\n",
      "  RequestedRegion: \n",
      "    Dimension: 3\n",
      "    Index: [0, 0, 0]\n",
      "    Size: [512, 512, 296]\n",
      "  Spacing: [0.4785, 0.4785, 0.5]\n",
      "  Origin: [120, 104.5, -84.25]\n",
      "  Direction: \n",
      "-1 0.00254 0\n",
      "-0.00254 -1 0\n",
      "0 0 1\n",
      "\n",
      "  IndexToPointMatrix: \n",
      "-0.4785 0.001215 0\n",
      "-0.001215 -0.4785 0\n",
      "0 0 0.5\n",
      "\n",
      "  PointToIndexMatrix: \n",
      "-2.09 -0.005308 0\n",
      "0.005308 -2.09 0\n",
      "0 0 2\n",
      "\n",
      "  Inverse Direction: \n",
      "-1 -0.00254 0\n",
      "0.00254 -1 0\n",
      "0 0 1\n",
      "\n",
      "  PixelContainer: \n",
      "    ImportImageContainer (0x106e73530)\n",
      "      RTTI typeinfo:   itk::ImportImageContainer<unsigned long, float>\n",
      "      Reference Count: 1\n",
      "      Modified Time: 43801232\n",
      "      Debug: Off\n",
      "      Object Name: \n",
      "      Observers: \n",
      "        none\n",
      "      Pointer: 0x4b4ca4000\n",
      "      Container manages memory: true\n",
      "      Size: 77594624\n",
      "      Capacity: 77594624\n",
      "\n",
      "     Moving image = Image (0x106e767a0)\n",
      "  RTTI typeinfo:   itk::Image<float, 3u>\n",
      "  Reference Count: 2\n",
      "  Modified Time: 43801261\n",
      "  Debug: Off\n",
      "  Object Name: \n",
      "  Observers: \n",
      "    none\n",
      "  Source: (none)\n",
      "  Source output name: (none)\n",
      "  Release Data: Off\n",
      "  Data Released: False\n",
      "  Global Release Data: Off\n",
      "  PipelineMTime: 0\n",
      "  UpdateMTime: 43801258\n",
      "  RealTimeStamp: 0 seconds \n",
      "  LargestPossibleRegion: \n",
      "    Dimension: 3\n",
      "    Index: [0, 0, 0]\n",
      "    Size: [197, 233, 189]\n",
      "  BufferedRegion: \n",
      "    Dimension: 3\n",
      "    Index: [0, 0, 0]\n",
      "    Size: [197, 233, 189]\n",
      "  RequestedRegion: \n",
      "    Dimension: 3\n",
      "    Index: [0, 0, 0]\n",
      "    Size: [197, 233, 189]\n",
      "  Spacing: [1, 1, 1]\n",
      "  Origin: [98, 134, -72]\n",
      "  Direction: \n",
      "-1 0 0\n",
      "0 -1 0\n",
      "0 0 1\n",
      "\n",
      "  IndexToPointMatrix: \n",
      "-1 0 0\n",
      "0 -1 0\n",
      "0 0 1\n",
      "\n",
      "  PointToIndexMatrix: \n",
      "-1 0 0\n",
      "0 -1 0\n",
      "0 0 1\n",
      "\n",
      "  Inverse Direction: \n",
      "-1 0 0\n",
      "0 -1 0\n",
      "0 0 1\n",
      "\n",
      "  PixelContainer: \n",
      "    ImportImageContainer (0x106e73010)\n",
      "      RTTI typeinfo:   itk::ImportImageContainer<unsigned long, float>\n",
      "      Reference Count: 1\n",
      "      Modified Time: 43801256\n",
      "      Debug: Off\n",
      "      Object Name: \n",
      "      Observers: \n",
      "        none\n",
      "      Pointer: 0x354e3c000\n",
      "      Container manages memory: true\n",
      "      Size: 8675289\n",
      "      Capacity: 8675289\n",
      "\n",
      "     Weighting = 1\n",
      "     Sampling strategy = regular\n",
      "     Number of bins = 32\n",
      "     Radius = 4\n",
      "     Sampling percentage  = 0.2\n",
      "   Transform = Affine\n",
      "     Gradient step = 0.25\n",
      "     Update field sigma (voxel space) = 0\n",
      "     Total field sigma (voxel space) = 0\n",
      "     Update field time sigma = 0\n",
      "     Total field time sigma  = 0\n",
      "     Number of time indices = 0\n",
      "     Number of time point samples = 0\n",
      "Stage 2 State\n",
      "   Image metric = MattesMI\n",
      "     Fixed image = Image (0x15f10ed80)\n",
      "  RTTI typeinfo:   itk::Image<float, 3u>\n",
      "  Reference Count: 2\n",
      "  Modified Time: 43801312\n",
      "  Debug: Off\n",
      "  Object Name: \n",
      "  Observers: \n",
      "    none\n",
      "  Source: (none)\n",
      "  Source output name: (none)\n",
      "  Release Data: Off\n",
      "  Data Released: False\n",
      "  Global Release Data: Off\n",
      "  PipelineMTime: 0\n",
      "  UpdateMTime: 43801286\n",
      "  RealTimeStamp: 0 seconds \n",
      "  LargestPossibleRegion: \n",
      "    Dimension: 3\n",
      "    Index: [0, 0, 0]\n",
      "    Size: [512, 512, 296]\n",
      "  BufferedRegion: \n",
      "    Dimension: 3\n",
      "    Index: [0, 0, 0]\n",
      "    Size: [512, 512, 296]\n",
      "  RequestedRegion: \n",
      "    Dimension: 3\n",
      "    Index: [0, 0, 0]\n",
      "    Size: [512, 512, 296]\n",
      "  Spacing: [0.4785, 0.4785, 0.5]\n",
      "  Origin: [120, 104.5, -84.25]\n",
      "  Direction: \n",
      "-1 0.00254 0\n",
      "-0.00254 -1 0\n",
      "0 0 1\n",
      "\n",
      "  IndexToPointMatrix: \n",
      "-0.4785 0.001215 0\n",
      "-0.001215 -0.4785 0\n",
      "0 0 0.5\n",
      "\n",
      "  PointToIndexMatrix: \n",
      "-2.09 -0.005308 0\n",
      "0.005308 -2.09 0\n",
      "0 0 2\n",
      "\n",
      "  Inverse Direction: \n",
      "-1 -0.00254 0\n",
      "0.00254 -1 0\n",
      "0 0 1\n",
      "\n",
      "  PixelContainer: \n",
      "    ImportImageContainer (0x15f11e4f0)\n",
      "      RTTI typeinfo:   itk::ImportImageContainer<unsigned long, float>\n",
      "      Reference Count: 1\n",
      "      Modified Time: 43801284\n",
      "      Debug: Off\n",
      "      Object Name: \n",
      "      Observers: \n",
      "        none\n",
      "      Pointer: 0x4c74a4000\n",
      "      Container manages memory: true\n",
      "      Size: 77594624\n",
      "      Capacity: 77594624\n",
      "\n",
      "     Moving image = Image (0x106e76a50)\n",
      "  RTTI typeinfo:   itk::Image<float, 3u>\n",
      "  Reference Count: 2\n",
      "  Modified Time: 43801313\n",
      "  Debug: Off\n",
      "  Object Name: \n",
      "  Observers: \n",
      "    none\n",
      "  Source: (none)\n",
      "  Source output name: (none)\n",
      "  Release Data: Off\n",
      "  Data Released: False\n",
      "  Global Release Data: Off\n",
      "  PipelineMTime: 0\n",
      "  UpdateMTime: 43801310\n",
      "  RealTimeStamp: 0 seconds \n",
      "  LargestPossibleRegion: \n",
      "    Dimension: 3\n",
      "    Index: [0, 0, 0]\n",
      "    Size: [197, 233, 189]\n",
      "  BufferedRegion: \n",
      "    Dimension: 3\n",
      "    Index: [0, 0, 0]\n",
      "    Size: [197, 233, 189]\n",
      "  RequestedRegion: \n",
      "    Dimension: 3\n",
      "    Index: [0, 0, 0]\n",
      "    Size: [197, 233, 189]\n",
      "  Spacing: [1, 1, 1]\n",
      "  Origin: [98, 134, -72]\n",
      "  Direction: \n",
      "-1 0 0\n",
      "0 -1 0\n",
      "0 0 1\n",
      "\n",
      "  IndexToPointMatrix: \n",
      "-1 0 0\n",
      "0 -1 0\n",
      "0 0 1\n",
      "\n",
      "  PointToIndexMatrix: \n",
      "-1 0 0\n",
      "0 -1 0\n",
      "0 0 1\n",
      "\n",
      "  Inverse Direction: \n",
      "-1 0 0\n",
      "0 -1 0\n",
      "0 0 1\n",
      "\n",
      "  PixelContainer: \n",
      "    ImportImageContainer (0x106e73070)\n",
      "      RTTI typeinfo:   itk::ImportImageContainer<unsigned long, float>\n",
      "      Reference Count: 1\n",
      "      Modified Time: 43801308\n",
      "      Debug: Off\n",
      "      Object Name: \n",
      "      Observers: \n",
      "        none\n",
      "      Pointer: 0x356f54000\n",
      "      Container manages memory: true\n",
      "      Size: 8675289\n",
      "      Capacity: 8675289\n",
      "\n",
      "     Weighting = 1\n",
      "     Sampling strategy = none\n",
      "     Number of bins = 32\n",
      "     Radius = 4\n",
      "     Sampling percentage  = 1\n",
      "   Transform = SyN\n",
      "     Gradient step = 0.2\n",
      "     Update field sigma (voxel space) = 3\n",
      "     Total field sigma (voxel space) = 0\n",
      "     Update field time sigma = 0\n",
      "     Total field time sigma  = 0\n",
      "     Number of time indices = 0\n",
      "     Number of time point samples = 0\n",
      "Registration using 2 total stages.\n",
      "\n",
      "Stage 0\n",
      "  iterations = 2100x1200x1200x0\n",
      "  convergence threshold = 1e-06\n",
      "  convergence window size = 10\n",
      "  number of levels = 4\n",
      "  using the Mattes MI metric (number of bins = 32, weight = 1, use gradient filter = 0)\n",
      "  preprocessing:  histogram matching the images\n",
      "  Shrink factors (level 1 out of 4): [4, 4, 4]\n",
      "  Shrink factors (level 2 out of 4): [2, 2, 2]\n",
      "  Shrink factors (level 3 out of 4): [2, 2, 2]\n",
      "  Shrink factors (level 4 out of 4): [1, 1, 1]\n",
      "  smoothing sigmas per level: [3, 2, 1, 0]\n",
      "  regular sampling (percentage = 0.2)\n",
      "\n",
      "*** Running AffineTransform registration ***\n",
      "\n",
      "DIAGNOSTIC,Iteration,metricValue,convergenceValue,ITERATION_TIME_INDEX,SINCE_LAST\n",
      " 2DIAGNOSTIC,     1, -4.800459146500e-01, inf, 7.0196e-01, 7.0196e-01, \n",
      " 2DIAGNOSTIC,     2, -4.834618568420e-01, inf, 7.4143e-01, 3.9467e-02, \n",
      " 2DIAGNOSTIC,     3, -4.892283976078e-01, inf, 7.8049e-01, 3.9061e-02, \n",
      " 2DIAGNOSTIC,     4, -4.990001618862e-01, inf, 8.1928e-01, 3.8793e-02, \n",
      " 2DIAGNOSTIC,     5, -5.157741308212e-01, inf, 8.5820e-01, 3.8912e-02, \n",
      " 2DIAGNOSTIC,     6, -5.437509417534e-01, inf, 8.9705e-01, 3.8857e-02, \n",
      " 2DIAGNOSTIC,     7, -5.784029364586e-01, inf, 9.6091e-01, 6.3860e-02, \n",
      " 2DIAGNOSTIC,     8, -5.855446457863e-01, inf, 1.0557e+00, 9.4820e-02, \n",
      " 2DIAGNOSTIC,     9, -5.855666399002e-01, inf, 1.0931e+00, 3.7416e-02, \n",
      " 2DIAGNOSTIC,    10, -5.856959819794e-01, 1.617216505110e-02, 1.1307e+00, 3.7570e-02, \n",
      " 2DIAGNOSTIC,    11, -5.859071016312e-01, 1.369501929730e-02, 1.1693e+00, 3.8620e-02, \n",
      " 2DIAGNOSTIC,    12, -5.862399935722e-01, 1.058565732092e-02, 1.2081e+00, 3.8805e-02, \n",
      " 2DIAGNOSTIC,    13, -5.867950916290e-01, 7.296886760741e-03, 1.2479e+00, 3.9727e-02, \n",
      " 2DIAGNOSTIC,    14, -5.876578688622e-01, 4.257498774678e-03, 1.2875e+00, 3.9594e-02, \n",
      " 2DIAGNOSTIC,    15, -5.888848304749e-01, 1.870639272965e-03, 1.3248e+00, 3.7378e-02, \n",
      " 2DIAGNOSTIC,    16, -5.905972123146e-01, 5.514089134522e-04, 1.3638e+00, 3.8921e-02, \n",
      " 2DIAGNOSTIC,    17, -5.927491188049e-01, 4.447704122867e-04, 1.4017e+00, 3.7979e-02, \n",
      " 2DIAGNOSTIC,    18, -5.954558253288e-01, 5.872080218978e-04, 1.4394e+00, 3.7694e-02, \n",
      " 2DIAGNOSTIC,    19, -5.996046662331e-01, 7.695248350501e-04, 1.4788e+00, 3.9332e-02, \n",
      " 2DIAGNOSTIC,    20, -6.094341874123e-01, 1.109839300625e-03, 1.5173e+00, 3.8559e-02, \n",
      " 2DIAGNOSTIC,    21, -6.210808157921e-01, 1.589328516275e-03, 1.5636e+00, 4.6235e-02, \n",
      " 2DIAGNOSTIC,    22, -6.269281506538e-01, 2.008849522099e-03, 1.6260e+00, 6.2397e-02, \n",
      " 2DIAGNOSTIC,    23, -6.284466981888e-01, 2.247719326988e-03, 1.6640e+00, 3.8052e-02, \n",
      " 2DIAGNOSTIC,    24, -6.293983459473e-01, 2.294860314578e-03, 1.7017e+00, 3.7674e-02, \n",
      " 2DIAGNOSTIC,    25, -6.303981542587e-01, 2.164809498936e-03, 1.7520e+00, 5.0309e-02, \n",
      " 2DIAGNOSTIC,    26, -6.308844089508e-01, 1.880461582914e-03, 1.7908e+00, 3.8798e-02, \n",
      " 2DIAGNOSTIC,    27, -6.317777037621e-01, 1.497727702372e-03, 1.8412e+00, 5.0411e-02, \n",
      " 2DIAGNOSTIC,    28, -6.332697272301e-01, 1.079419977032e-03, 1.8830e+00, 4.1753e-02, \n",
      " 2DIAGNOSTIC,    29, -6.337368488312e-01, 6.667191628367e-04, 1.9263e+00, 4.3311e-02, \n",
      " 2DIAGNOSTIC,    30, -6.351184248924e-01, 3.984502400272e-04, 1.9647e+00, 3.8388e-02, \n",
      " 2DIAGNOSTIC,    31, -6.364866495132e-01, 3.120619512629e-04, 2.0210e+00, 5.6318e-02, \n",
      " 2DIAGNOSTIC,    32, -6.402292251587e-01, 3.458870050963e-04, 2.0596e+00, 3.8630e-02, \n",
      " 2DIAGNOSTIC,    33, -6.405250430107e-01, 3.697842184920e-04, 2.0981e+00, 3.8481e-02, \n",
      " 2DIAGNOSTIC,    34, -6.410313248634e-01, 3.782667627092e-04, 2.1489e+00, 5.0801e-02, \n",
      " 2DIAGNOSTIC,    35, -6.413179039955e-01, 3.686217241921e-04, 2.1863e+00, 3.7380e-02, \n",
      " 2DIAGNOSTIC,    36, -6.418752670288e-01, 3.379874688108e-04, 2.2245e+00, 3.8187e-02, \n",
      " 2DIAGNOSTIC,    37, -6.437530517578e-01, 3.116745792795e-04, 2.2812e+00, 5.6793e-02, \n",
      " 2DIAGNOSTIC,    38, -6.441181898117e-01, 2.800955844577e-04, 2.3188e+00, 3.7600e-02, \n",
      " 2DIAGNOSTIC,    39, -6.444731950760e-01, 2.342983207200e-04, 2.3579e+00, 3.9100e-02, \n",
      " 2DIAGNOSTIC,    40, -6.450623869896e-01, 1.924030511873e-04, 2.4028e+00, 4.4856e-02, \n",
      " 2DIAGNOSTIC,    41, -6.454141139984e-01, 1.529156870674e-04, 2.4471e+00, 4.4266e-02, \n",
      " 2DIAGNOSTIC,    42, -6.455508470535e-01, 1.442219800083e-04, 2.4860e+00, 3.8908e-02, \n",
      " 2DIAGNOSTIC,    43, -6.469719409943e-01, 1.410230761394e-04, 2.5370e+00, 5.1069e-02, \n",
      " 2DIAGNOSTIC,    44, -6.511440277100e-01, 1.744553301251e-04, 2.5817e+00, 4.4680e-02, \n",
      " 2DIAGNOSTIC,    45, -6.545662283897e-01, 2.273430291098e-04, 2.6206e+00, 3.8839e-02, \n",
      " 2DIAGNOSTIC,    46, -6.550472378731e-01, 2.658997836988e-04, 2.6576e+00, 3.7027e-02, \n",
      " 2DIAGNOSTIC,    47, -6.553776264191e-01, 3.002241719514e-04, 2.6969e+00, 3.9299e-02, \n",
      " 2DIAGNOSTIC,    48, -6.555479168892e-01, 3.097215958405e-04, 2.7525e+00, 5.5574e-02, \n",
      " 2DIAGNOSTIC,    49, -6.555644869804e-01, 2.919003309216e-04, 2.7973e+00, 4.4869e-02, \n",
      " 2DIAGNOSTIC,    50, -6.555767655373e-01, 2.520770067349e-04, 2.8481e+00, 5.0741e-02, \n",
      " 2DIAGNOSTIC,    51, -6.555833220482e-01, 1.936855260283e-04, 2.9008e+00, 5.2705e-02, \n",
      " 2DIAGNOSTIC,    52, -6.555840373039e-01, 1.209506735904e-04, 2.9383e+00, 3.7519e-02, \n",
      " 2DIAGNOSTIC,    53, -6.555848121643e-01, 5.141413203091e-05, 2.9832e+00, 4.4950e-02, \n",
      " 2DIAGNOSTIC,    54, -6.555870175362e-01, 1.481449089624e-05, 3.0220e+00, 3.8790e-02, \n",
      " 2DIAGNOSTIC,    55, -6.555924415588e-01, 7.043762707326e-06, 3.0669e+00, 4.4856e-02, \n",
      " 2DIAGNOSTIC,    56, -6.555986404419e-01, 2.910881903517e-06, 3.1053e+00, 3.8405e-02, \n",
      " 2DIAGNOSTIC,    57, -6.556465029716e-01, 1.736469926072e-06, 3.1428e+00, 3.7508e-02, \n",
      " 2DIAGNOSTIC,    58, -6.556667685509e-01, 1.998437028305e-06, 3.1997e+00, 5.6867e-02, \n",
      " 2DIAGNOSTIC,    59, -6.556631326675e-01, 2.214096411990e-06, 3.2738e+00, 7.4137e-02, \n",
      " 2DIAGNOSTIC,    60, -6.556680798531e-01, 2.402774725851e-06, 3.3179e+00, 4.4105e-02, \n",
      " 2DIAGNOSTIC,    61, -6.556685566902e-01, 2.459853476466e-06, 3.3620e+00, 4.4049e-02, \n",
      " 2DIAGNOSTIC,    62, -6.556674242020e-01, 2.322276259292e-06, 3.4181e+00, 5.6184e-02, \n",
      " 2DIAGNOSTIC,    63, -6.556673645973e-01, 2.021228283411e-06, 3.4826e+00, 6.4421e-02, \n",
      " 2DIAGNOSTIC,    64, -6.556674242020e-01, 1.607906597201e-06, 3.5326e+00, 5.0053e-02, \n",
      " 2DIAGNOSTIC,    65, -6.556675434113e-01, 1.147263674284e-06, 3.5706e+00, 3.7970e-02, \n",
      "DIAGNOSTIC,Iteration,metricValue,convergenceValue,ITERATION_TIME_INDEX,SINCE_LAST\n",
      " 2DIAGNOSTIC,     1, -5.730639100075e-01, inf, 4.6242e+00, 1.0536e+00, \n",
      " 2DIAGNOSTIC,     2, -5.738509297371e-01, inf, 4.8337e+00, 2.0958e-01, \n",
      " 2DIAGNOSTIC,     3, -5.739706158638e-01, inf, 5.0813e+00, 2.4754e-01, \n",
      " 2DIAGNOSTIC,     4, -5.739954710007e-01, inf, 5.2919e+00, 2.1058e-01, \n",
      " 2DIAGNOSTIC,     5, -5.740243196487e-01, inf, 5.5212e+00, 2.2938e-01, \n",
      " 2DIAGNOSTIC,     6, -5.740390419960e-01, inf, 5.7506e+00, 2.2933e-01, \n",
      " 2DIAGNOSTIC,     7, -5.740507245064e-01, inf, 6.0299e+00, 2.7937e-01, \n",
      " 2DIAGNOSTIC,     8, -5.740669369698e-01, inf, 6.2517e+00, 2.2171e-01, \n",
      " 2DIAGNOSTIC,     9, -5.740718245506e-01, inf, 6.4456e+00, 1.9397e-01, \n",
      " 2DIAGNOSTIC,    10, -5.740773081779e-01, 6.765972648282e-05, 6.6740e+00, 2.2835e-01, \n",
      " 2DIAGNOSTIC,    11, -5.740854740143e-01, 2.103482984239e-05, 6.9310e+00, 2.5701e-01, \n",
      " 2DIAGNOSTIC,    12, -5.740903019905e-01, 1.310467541771e-05, 7.2192e+00, 2.8822e-01, \n",
      " 2DIAGNOSTIC,    13, -5.740959644318e-01, 1.020924901241e-05, 7.4233e+00, 2.0407e-01, \n",
      " 2DIAGNOSTIC,    14, -5.740953087807e-01, 7.856853699195e-06, 7.6243e+00, 2.0098e-01, \n",
      " 2DIAGNOSTIC,    15, -5.741010308266e-01, 6.449220109062e-06, 7.8344e+00, 2.1011e-01, \n",
      " 2DIAGNOSTIC,    16, -5.741099119186e-01, 5.540817710425e-06, 8.0887e+00, 2.5432e-01, \n",
      " 2DIAGNOSTIC,    17, -5.741193890572e-01, 5.009248525312e-06, 8.3001e+00, 2.1137e-01, \n",
      " 2DIAGNOSTIC,    18, -5.741236209869e-01, 4.805408025277e-06, 8.5004e+00, 2.0029e-01, \n",
      " 2DIAGNOSTIC,    19, -5.741287469864e-01, 4.605296453519e-06, 8.7276e+00, 2.2729e-01, \n",
      " 2DIAGNOSTIC,    20, -5.741282105446e-01, 4.271138550394e-06, 8.9070e+00, 1.7932e-01, \n",
      " 2DIAGNOSTIC,    21, -5.741342902184e-01, 4.051228188473e-06, 9.0845e+00, 1.7757e-01, \n",
      " 2DIAGNOSTIC,    22, -5.741332173347e-01, 3.690016455948e-06, 9.3323e+00, 2.4778e-01, \n",
      " 2DIAGNOSTIC,    23, -5.741473436356e-01, 3.580214524845e-06, 9.5482e+00, 2.1586e-01, \n",
      " 2DIAGNOSTIC,    24, -5.741515159607e-01, 3.339198656249e-06, 9.8018e+00, 2.5358e-01, \n",
      " 2DIAGNOSTIC,    25, -5.741543769836e-01, 3.096615728282e-06, 1.0004e+01, 2.0228e-01, \n",
      " 2DIAGNOSTIC,    26, -5.741533041000e-01, 2.848837766578e-06, 1.0207e+01, 2.0305e-01, \n",
      " 2DIAGNOSTIC,    27, -5.741544961929e-01, 2.661786993485e-06, 1.0438e+01, 2.3048e-01, \n",
      " 2DIAGNOSTIC,    28, -5.741548538208e-01, 2.423638761684e-06, 1.0665e+01, 2.2706e-01, \n",
      " 2DIAGNOSTIC,    29, -5.741546750069e-01, 2.163193130400e-06, 1.0895e+01, 2.3017e-01, \n",
      " 2DIAGNOSTIC,    30, -5.741539001465e-01, 1.797579898266e-06, 1.1097e+01, 2.0217e-01, \n",
      " 2DIAGNOSTIC,    31, -5.741538405418e-01, 1.486409587415e-06, 1.1301e+01, 2.0361e-01, \n",
      " 2DIAGNOSTIC,    32, -5.741535425186e-01, 1.124411028286e-06, 1.1505e+01, 2.0450e-01, \n",
      "DIAGNOSTIC,Iteration,metricValue,convergenceValue,ITERATION_TIME_INDEX,SINCE_LAST\n",
      " 2DIAGNOSTIC,     1, -4.892598390579e-01, inf, 1.2677e+01, 1.1719e+00, \n",
      " 2DIAGNOSTIC,     2, -4.899175465107e-01, inf, 1.2856e+01, 1.7927e-01, \n",
      " 2DIAGNOSTIC,     3, -4.900257885456e-01, inf, 1.3059e+01, 2.0305e-01, \n",
      " 2DIAGNOSTIC,     4, -4.900994896889e-01, inf, 1.3289e+01, 2.2953e-01, \n",
      " 2DIAGNOSTIC,     5, -4.901226162910e-01, inf, 1.3517e+01, 2.2830e-01, \n",
      " 2DIAGNOSTIC,     6, -4.901225566864e-01, inf, 1.3771e+01, 2.5365e-01, \n",
      " 2DIAGNOSTIC,     7, -4.901225864887e-01, inf, 1.4019e+01, 2.4805e-01, \n",
      " 2DIAGNOSTIC,     8, -4.901228547096e-01, inf, 1.4223e+01, 2.0414e-01, \n",
      " 2DIAGNOSTIC,     9, -4.901213943958e-01, inf, 1.4476e+01, 2.5316e-01, \n",
      " 2DIAGNOSTIC,    10, -4.901215732098e-01, 6.806149031036e-05, 1.4682e+01, 2.0583e-01, \n",
      " 2DIAGNOSTIC,    11, -4.901214241982e-01, 1.886334393930e-05, 1.4887e+01, 2.0509e-01, \n",
      " 2DIAGNOSTIC,    12, -4.901213645935e-01, 8.130045898724e-06, 1.5118e+01, 2.3062e-01, \n",
      " 2DIAGNOSTIC,    13, -4.901210963726e-01, 3.288424295533e-06, 1.5321e+01, 2.0356e-01, \n",
      " 2DIAGNOSTIC,    14, -4.901211857796e-01, 2.092143176924e-06, 1.5550e+01, 2.2928e-01, \n",
      " 2DIAGNOSTIC,    15, -4.901213049889e-01, 1.970182211153e-06, 1.5754e+01, 2.0327e-01, \n",
      " 2DIAGNOSTIC,    16, -4.901211261749e-01, 1.867172841230e-06, 1.5958e+01, 2.0469e-01, \n",
      " 2DIAGNOSTIC,    17, -4.901209771633e-01, 1.782469212230e-06, 1.6161e+01, 2.0283e-01, \n",
      " 2DIAGNOSTIC,    18, -4.901210069656e-01, 1.726133518787e-06, 1.6368e+01, 2.0700e-01, \n",
      " 2DIAGNOSTIC,    19, -4.901209175587e-01, 1.631360646570e-06, 1.6573e+01, 2.0450e-01, \n",
      " 2DIAGNOSTIC,    20, -4.901212155819e-01, 1.563404453009e-06, 1.6779e+01, 2.0579e-01, \n",
      " 2DIAGNOSTIC,    21, -4.901207089424e-01, 1.485778739152e-06, 1.6985e+01, 2.0603e-01, \n",
      " 2DIAGNOSTIC,    22, -4.901207089424e-01, 1.416770942342e-06, 1.7188e+01, 2.0355e-01, \n",
      " 2DIAGNOSTIC,    23, -4.901209175587e-01, 1.354503410766e-06, 1.7368e+01, 1.7977e-01, \n",
      " 2DIAGNOSTIC,    24, -4.901205003262e-01, 1.291302965001e-06, 1.7548e+01, 1.7992e-01, \n",
      " 2DIAGNOSTIC,    25, -4.901210665703e-01, 1.252288598153e-06, 1.7755e+01, 2.0737e-01, \n",
      " 2DIAGNOSTIC,    26, -4.901215434074e-01, 1.224332550009e-06, 1.7958e+01, 2.0306e-01, \n",
      " 2DIAGNOSTIC,    27, -4.901214540005e-01, 1.192729882860e-06, 1.8165e+01, 2.0651e-01, \n",
      " 2DIAGNOSTIC,    28, -4.901214241982e-01, 1.161990326182e-06, 1.8372e+01, 2.0705e-01, \n",
      " 2DIAGNOSTIC,    29, -4.901216626167e-01, 1.133554405897e-06, 1.8576e+01, 2.0466e-01, \n",
      " 2DIAGNOSTIC,    30, -4.901216328144e-01, 1.108444962483e-06, 1.8783e+01, 2.0621e-01, \n",
      " 2DIAGNOSTIC,    31, -4.901206195354e-01, 1.051494905369e-06, 1.8987e+01, 2.0416e-01, \n",
      "DIAGNOSTIC,Iteration,metricValue,convergenceValue,ITERATION_TIME_INDEX,SINCE_LAST\n",
      " 2DIAGNOSTIC,     1, -4.296980202198e-01, inf, 2.1978e+01, 2.9914e+00, \n",
      "  Elapsed time (stage 0): 2.3393e+01\n",
      "\n",
      "\n",
      "Stage 1\n",
      "  iterations = 40x20x0\n",
      "  convergence threshold = 1.0000e-07\n",
      "  convergence window size = 8\n",
      "  number of levels = 3\n",
      "  using the Mattes MI metric (number of bins = 32, weight = 1.0000e+00, use gradient filter = 0)\n",
      "  preprocessing:  histogram matching the images\n",
      "  Shrink factors (level 1 out of 3): [4, 4, 4]\n",
      "  Shrink factors (level 2 out of 3): [2, 2, 2]\n",
      "  Shrink factors (level 3 out of 3): [1, 1, 1]\n",
      "  smoothing sigmas per level: [2, 1, 0]\n",
      "  Using default NONE metricSamplingStrategy \n",
      "\n",
      "*** Running SyN registration (varianceForUpdateField = 3.0000e+00, varianceForTotalField = 0.0000e+00) ***\n",
      "\n",
      "XXDIAGNOSTIC,Iteration,metricValue,convergenceValue,ITERATION_TIME_INDEX,SINCE_LAST\n",
      " 1DIAGNOSTIC,     1, -5.480415225029e-01, inf, 1.0945e+00, 1.0945e+00, \n",
      " 1DIAGNOSTIC,     2, -5.533468723297e-01, inf, 1.4138e+00, 3.1933e-01, \n",
      " 1DIAGNOSTIC,     3, -5.587267875671e-01, inf, 1.7468e+00, 3.3293e-01, \n",
      " 1DIAGNOSTIC,     4, -5.638746619225e-01, inf, 2.0614e+00, 3.1460e-01, \n",
      " 1DIAGNOSTIC,     5, -5.687806606293e-01, inf, 2.3692e+00, 3.0786e-01, \n",
      " 1DIAGNOSTIC,     6, -5.732893943787e-01, inf, 2.6841e+00, 3.1486e-01, \n",
      " 1DIAGNOSTIC,     7, -5.773622989655e-01, inf, 2.9870e+00, 3.0291e-01, \n",
      " 1DIAGNOSTIC,     8, -5.810474157333e-01, 4.829812329262e-03, 3.3037e+00, 3.1666e-01, \n",
      " 1DIAGNOSTIC,     9, -5.841817259789e-01, 3.984219860286e-03, 3.6230e+00, 3.1932e-01, \n",
      " 1DIAGNOSTIC,    10, -5.867371559143e-01, 3.248596098274e-03, 4.0202e+00, 3.9725e-01, \n",
      " 1DIAGNOSTIC,    11, -5.890594720840e-01, 2.629397902638e-03, 4.3540e+00, 3.3372e-01, \n",
      " 1DIAGNOSTIC,    12, -5.912066698074e-01, 2.120049670339e-03, 4.6715e+00, 3.1750e-01, \n",
      " 1DIAGNOSTIC,    13, -5.932794809341e-01, 1.720059197396e-03, 4.9841e+00, 3.1263e-01, \n",
      " 1DIAGNOSTIC,    14, -5.952394008636e-01, 1.416479586624e-03, 5.3022e+00, 3.1811e-01, \n",
      " 1DIAGNOSTIC,    15, -5.970821380615e-01, 1.192259485833e-03, 5.6187e+00, 3.1653e-01, \n",
      " 1DIAGNOSTIC,    16, -5.987262725830e-01, 1.028004917316e-03, 5.9295e+00, 3.1078e-01, \n",
      " 1DIAGNOSTIC,    17, -6.001852750778e-01, 8.994594682008e-04, 6.2401e+00, 3.1055e-01, \n",
      " 1DIAGNOSTIC,    18, -6.011078357697e-01, 7.727435440756e-04, 6.5667e+00, 3.2660e-01, \n",
      " 1DIAGNOSTIC,    19, -6.016339063644e-01, 6.387659232132e-04, 6.9485e+00, 3.8184e-01, \n",
      " 1DIAGNOSTIC,    20, -6.025648117065e-01, 5.187157657929e-04, 7.2723e+00, 3.2384e-01, \n",
      " 1DIAGNOSTIC,    21, -6.033909320831e-01, 4.176513466518e-04, 7.6419e+00, 3.6953e-01, \n",
      " 1DIAGNOSTIC,    22, -6.042820215225e-01, 3.431582008488e-04, 8.0123e+00, 3.7042e-01, \n",
      " 1DIAGNOSTIC,    23, -6.051422357559e-01, 2.959343255498e-04, 8.3541e+00, 3.4177e-01, \n",
      " 1DIAGNOSTIC,    24, -6.050437688828e-01, 2.479088434484e-04, 8.6737e+00, 3.1962e-01, \n",
      " 1DIAGNOSTIC,    25, -6.043726205826e-01, 1.867350074463e-04, 9.0251e+00, 3.5139e-01, \n",
      " 1DIAGNOSTIC,    26, -6.039453744888e-01, 1.147548609879e-04, 9.3425e+00, 3.1746e-01, \n",
      " 1DIAGNOSTIC,    27, -6.034862399101e-01, 3.259042568970e-05, 9.6591e+00, 3.1657e-01, \n",
      " 1DIAGNOSTIC,    28, -6.030842065811e-01, -3.674497565953e-05, 9.9821e+00, 3.2297e-01, \n",
      "XXDIAGNOSTIC,Iteration,metricValue,convergenceValue,ITERATION_TIME_INDEX,SINCE_LAST\n",
      " 1DIAGNOSTIC,     1, -5.010544061661e-01, inf, 1.4395e+01, 4.4126e+00, \n",
      " 1DIAGNOSTIC,     2, -5.019246339798e-01, inf, 1.7664e+01, 3.2689e+00, \n",
      " 1DIAGNOSTIC,     3, -5.030496120453e-01, inf, 2.0743e+01, 3.0789e+00, \n",
      " 1DIAGNOSTIC,     4, -5.039933323860e-01, inf, 2.3792e+01, 3.0494e+00, \n",
      " 1DIAGNOSTIC,     5, -5.049154758453e-01, inf, 2.6666e+01, 2.8737e+00, \n",
      " 1DIAGNOSTIC,     6, -5.058937668800e-01, inf, 2.9798e+01, 3.1326e+00, \n",
      " 1DIAGNOSTIC,     7, -5.070163607597e-01, inf, 3.2644e+01, 2.8462e+00, \n",
      " 1DIAGNOSTIC,     8, -5.080140829086e-01, 1.134037273005e-03, 3.5902e+01, 3.2580e+00, \n",
      " 1DIAGNOSTIC,     9, -5.089607238770e-01, 1.013651955873e-03, 3.8976e+01, 3.0734e+00, \n",
      " 1DIAGNOSTIC,    10, -5.098447203636e-01, 9.000270511024e-04, 4.2306e+01, 3.3301e+00, \n",
      " 1DIAGNOSTIC,    11, -5.106315016747e-01, 8.027850417420e-04, 4.5683e+01, 3.3768e+00, \n",
      " 1DIAGNOSTIC,    12, -5.113633871078e-01, 7.065772661008e-04, 4.8739e+01, 3.0557e+00, \n",
      " 1DIAGNOSTIC,    13, -5.120656490326e-01, 6.126142689027e-04, 5.1521e+01, 2.7822e+00, \n",
      " 1DIAGNOSTIC,    14, -5.124385356903e-01, 5.122575093992e-04, 5.4291e+01, 2.7705e+00, \n",
      " 1DIAGNOSTIC,    15, -5.128672719002e-01, 4.243589355610e-04, 5.7102e+01, 2.8105e+00, \n",
      " 1DIAGNOSTIC,    16, -5.131323933601e-01, 3.414002712816e-04, 5.9876e+01, 2.7741e+00, \n",
      " 1DIAGNOSTIC,    17, -5.130854845047e-01, 2.559797430877e-04, 6.3323e+01, 3.4472e+00, \n",
      " 1DIAGNOSTIC,    18, -5.129595994949e-01, 1.728340139380e-04, 6.6435e+01, 3.1116e+00, \n",
      " 1DIAGNOSTIC,    19, -5.123884677887e-01, 8.158176206052e-05, 6.9161e+01, 2.7260e+00, \n",
      " 1DIAGNOSTIC,    20, -5.119102597237e-01, -3.329082119308e-06, 7.1932e+01, 2.7718e+00, \n",
      "  Elapsed time (stage 1): 77.82\n",
      "\n",
      "\n",
      "Total elapsed time: 101.3\n"
     ]
    }
   ],
   "source": [
    "transformation = ants.registration(\n",
    "    fixed=raw_anat_img,\n",
    "    moving=mni_template_img, \n",
    "    type_of_transform='SyN',\n",
    "    verbose=True\n",
    ")"
   ]
  },
  {
   "cell_type": "code",
   "execution_count": 51,
   "metadata": {},
   "outputs": [],
   "source": [
    "registered_template_img = transformation['warpedmovout']"
   ]
  },
  {
   "cell_type": "markdown",
   "metadata": {},
   "source": [
    "The following comparison function asserts that the new `registered_template_img` image has been transformed to the size and shape of the `raw_anat_img`"
   ]
  },
  {
   "cell_type": "code",
   "execution_count": 49,
   "metadata": {},
   "outputs": [
    {
     "data": {
      "application/vnd.jupyter.widget-view+json": {
       "model_id": "09797dcb69a9431bb758342a84597cd9",
       "version_major": 2,
       "version_minor": 0
      },
      "text/plain": [
       "interactive(children=(IntSlider(value=255, description='SLICE', max=511), Output()), _dom_classes=('widget-int…"
      ]
     },
     "metadata": {},
     "output_type": "display_data"
    }
   ],
   "source": [
    "explore_3D_array_comparison(\n",
    "    arr_before=raw_anat_img.numpy(), \n",
    "    arr_after=registered_template_img.numpy()\n",
    ")\n",
    "#I don't love \"before\" and \"after\" as the names here as we are really only changing the template\n",
    "# This is pretty confusing, so just ignore the names for now\n",
    "# Maybe I'll change this and write my own helper functions"
   ]
  },
  {
   "cell_type": "markdown",
   "metadata": {},
   "source": [
    "Next, we apply this to the mask so that it fits over the brain in the data we wish to visualize"
   ]
  },
  {
   "cell_type": "code",
   "execution_count": 52,
   "metadata": {},
   "outputs": [
    {
     "name": "stdout",
     "output_type": "stream",
     "text": [
      "['-d', '3', '-i', '0x15b88f948', '-o', '0x15b49c588', '-r', '0x15b49fae8', '-n', 'nearestNeighbor', '-t', '/var/folders/m4/rtcmkx_17lv03n9tvdf76ycr0000gn/T/tmpcii1r2fv1Warp.nii.gz', '-t', '/var/folders/m4/rtcmkx_17lv03n9tvdf76ycr0000gn/T/tmpcii1r2fv0GenericAffine.mat']\n",
      "Using double precision for computations.\n",
      "Input scalar image: 0x15b88f948\n",
      "Could not create ImageIO for the input file, assuming dimension = 3 and scalar pixel type\n",
      "Reference image: 0x15b49fae8\n",
      "=============================================================================\n",
      "The composite transform comprises the following transforms (in order): \n",
      "  1. /var/folders/m4/rtcmkx_17lv03n9tvdf76ycr0000gn/T/tmpcii1r2fv0GenericAffine.mat (type = AffineTransform)\n",
      "  2. /var/folders/m4/rtcmkx_17lv03n9tvdf76ycr0000gn/T/tmpcii1r2fv1Warp.nii.gz (type = DisplacementFieldTransform)\n",
      "=============================================================================\n",
      "Default pixel value: 0\n",
      "Interpolation type: NearestNeighborInterpolateImageFunction\n",
      "Output warped image: 0x15b49c588\n"
     ]
    }
   ],
   "source": [
    "brain_mask = ants.apply_transforms(\n",
    "    fixed=transformation['warpedmovout'],\n",
    "    moving=mni_template_mask,\n",
    "    transformlist=transformation['fwdtransforms'],\n",
    "    interpolator='nearestNeighbor',\n",
    "    verbose=True\n",
    ")"
   ]
  },
  {
   "cell_type": "code",
   "execution_count": 53,
   "metadata": {},
   "outputs": [
    {
     "data": {
      "application/vnd.jupyter.widget-view+json": {
       "model_id": "7e32f8518057455ba2e4a834ae8087fe",
       "version_major": 2,
       "version_minor": 0
      },
      "text/plain": [
       "interactive(children=(IntSlider(value=255, description='SLICE', max=511), Output()), _dom_classes=('widget-int…"
      ]
     },
     "metadata": {},
     "output_type": "display_data"
    }
   ],
   "source": [
    "explore_3D_array_with_mask_contour(raw_anat_img.numpy(), brain_mask.numpy())"
   ]
  },
  {
   "cell_type": "markdown",
   "metadata": {},
   "source": [
    "Let's fine tune the mask a bit"
   ]
  },
  {
   "cell_type": "code",
   "execution_count": 54,
   "metadata": {},
   "outputs": [],
   "source": [
    "brain_mask_dilated = ants.morphology(brain_mask, radius=4, operation='dilate', mtype='binary')"
   ]
  },
  {
   "cell_type": "code",
   "execution_count": null,
   "metadata": {},
   "outputs": [
    {
     "data": {
      "application/vnd.jupyter.widget-view+json": {
       "model_id": "45081a9a99594834a07e224d6cba452c",
       "version_major": 2,
       "version_minor": 0
      },
      "text/plain": [
       "interactive(children=(IntSlider(value=255, description='SLICE', max=511), Output()), _dom_classes=('widget-int…"
      ]
     },
     "metadata": {},
     "output_type": "display_data"
    }
   ],
   "source": [
    "explore_3D_array_with_mask_contour(raw_anat_img.numpy(), brain_mask_dilated.numpy())"
   ]
  },
  {
   "cell_type": "markdown",
   "metadata": {},
   "source": [
    "# Mask the Image and Create Sections"
   ]
  },
  {
   "cell_type": "code",
   "execution_count": 56,
   "metadata": {},
   "outputs": [],
   "source": [
    "brain_anat = ants.mask_image(raw_anat_img, brain_mask_dilated)"
   ]
  },
  {
   "cell_type": "code",
   "execution_count": 58,
   "metadata": {},
   "outputs": [
    {
     "data": {
      "application/vnd.jupyter.widget-view+json": {
       "model_id": "53c71938fe0f47f78451ccefc76d2132",
       "version_major": 2,
       "version_minor": 0
      },
      "text/plain": [
       "interactive(children=(IntSlider(value=255, description='SLICE', max=511), Output()), _dom_classes=('widget-int…"
      ]
     },
     "metadata": {},
     "output_type": "display_data"
    }
   ],
   "source": [
    "explore_3D_array(brain_anat.numpy())"
   ]
  },
  {
   "cell_type": "code",
   "execution_count": 59,
   "metadata": {},
   "outputs": [
    {
     "name": "stdout",
     "output_type": "stream",
     "text": [
      "ANTsImage (LPI)\n",
      "\t Pixel Type : float (float32)\n",
      "\t Components : 1\n",
      "\t Dimensions : (512, 512, 296)\n",
      "\t Spacing    : (0.4785, 0.4785, 0.5)\n",
      "\t Origin     : (119.989, 104.52, -84.2457)\n",
      "\t Direction  : [-1.      0.0025  0.     -0.0025 -1.      0.      0.      0.      1.    ]\n",
      "\n"
     ]
    }
   ],
   "source": [
    "print(brain_anat)"
   ]
  },
  {
   "cell_type": "markdown",
   "metadata": {},
   "source": [
    "# Building Scivol"
   ]
  },
  {
   "cell_type": "markdown",
   "metadata": {},
   "source": [
    "It looks like ANTS already applies the affine (double check this), so I think you can just 86 that from your workflow"
   ]
  },
  {
   "cell_type": "code",
   "execution_count": 62,
   "metadata": {},
   "outputs": [
    {
     "name": "stderr",
     "output_type": "stream",
     "text": [
      "/Users/joachimpfefferkorn/repos/neurovolume/.venv/lib/python3.11/site-packages/ipyvolume/serialize.py:102: RuntimeWarning: invalid value encountered in cast\n",
      "  subdata[..., i] = ((gradient[i][zindex] / 2.0 + 0.5) * 255).astype(np.uint8)\n"
     ]
    },
    {
     "data": {
      "application/vnd.jupyter.widget-view+json": {
       "model_id": "381cf859b8ef45b385369ab2fae5548a",
       "version_major": 2,
       "version_minor": 0
      },
      "text/plain": [
       "Container(children=[VBox(children=(HBox(children=(Label(value='levels:'), FloatSlider(value=0.1, max=1.0, step…"
      ]
     },
     "execution_count": 62,
     "metadata": {},
     "output_type": "execute_result"
    }
   ],
   "source": [
    "ipv.quickvolshow(brain_anat.numpy())"
   ]
  },
  {
   "cell_type": "code",
   "execution_count": 63,
   "metadata": {},
   "outputs": [],
   "source": [
    "affine = np.eye(4) #TODO get rid of the affines in general as ANTS doesn't need them"
   ]
  },
  {
   "cell_type": "markdown",
   "metadata": {},
   "source": [
    "Initialize the scivol object"
   ]
  },
  {
   "cell_type": "code",
   "execution_count": 65,
   "metadata": {},
   "outputs": [],
   "source": [
    "skullstrip = Scivol(\"skullstrip\", affine, 0.2)"
   ]
  },
  {
   "cell_type": "markdown",
   "metadata": {},
   "source": [
    "Create and add the grids"
   ]
  },
  {
   "cell_type": "code",
   "execution_count": 66,
   "metadata": {},
   "outputs": [
    {
     "name": "stdout",
     "output_type": "stream",
     "text": [
      "writing full_anat to grid\n",
      "writing brain_anat to grid\n"
     ]
    }
   ],
   "source": [
    "skullstrip.add_grids([Grid(\"full_anat\",[raw_anat_img.numpy()]),\n",
    "Grid(\"brain_anat\", [brain_anat.numpy()])])"
   ]
  },
  {
   "cell_type": "code",
   "execution_count": 67,
   "metadata": {},
   "outputs": [
    {
     "name": "stdout",
     "output_type": "stream",
     "text": [
      "saving skullstrip.scivol\n",
      "writing skullstrip.scivol\n"
     ]
    }
   ],
   "source": [
    "skullstrip.save_scivol(output_folder)"
   ]
  },
  {
   "cell_type": "markdown",
   "metadata": {},
   "source": [
    "Before moving to blender to render these images, let's make sure that we can parse these scivol files here"
   ]
  },
  {
   "cell_type": "code",
   "execution_count": 68,
   "metadata": {},
   "outputs": [
    {
     "name": "stdout",
     "output_type": "stream",
     "text": [
      "scivol name:  skullstrip \n",
      "\n",
      "full_anat\n",
      "brain_anat\n"
     ]
    }
   ],
   "source": [
    "scivol_path = \"/Users/joachimpfefferkorn/repos/neurovolume/output/skullstrip.scivol\"\n",
    "with open(scivol_path, 'r') as file:\n",
    "    data = json.load(file)\n",
    "print(\"scivol name: \", data['name'], \"\\n\")\n",
    "for grid_key in data['grids'].keys():\n",
    "    print(grid_key)\n",
    "    vol = np.array(data['grids'][grid_key]['frames'][0])"
   ]
  },
  {
   "cell_type": "code",
   "execution_count": 69,
   "metadata": {},
   "outputs": [
    {
     "name": "stdout",
     "output_type": "stream",
     "text": [
      "0.2\n",
      "[[1. 0. 0. 0.]\n",
      " [0. 1. 0. 0.]\n",
      " [0. 0. 1. 0.]\n",
      " [0. 0. 0. 1.]]\n"
     ]
    }
   ],
   "source": [
    "print(data['tolerance'])\n",
    "print((np.asarray(data['affine'])))"
   ]
  },
  {
   "cell_type": "code",
   "execution_count": 70,
   "metadata": {},
   "outputs": [
    {
     "name": "stdout",
     "output_type": "stream",
     "text": [
      "dict_keys(['full_anat', 'brain_anat'])\n",
      "full_anat\n",
      "brain_anat\n"
     ]
    }
   ],
   "source": [
    "print(data['grids'].keys())\n",
    "for grid in data['grids']:\n",
    "    print(grid)"
   ]
  },
  {
   "cell_type": "markdown",
   "metadata": {},
   "source": [
    "Cool, let's quickly visualize this"
   ]
  },
  {
   "cell_type": "markdown",
   "metadata": {},
   "source": [
    "Wow, that is taking a while to visualize. I wonder what's up?"
   ]
  }
 ],
 "metadata": {
  "kernelspec": {
   "display_name": ".venv",
   "language": "python",
   "name": "python3"
  },
  "language_info": {
   "codemirror_mode": {
    "name": "ipython",
    "version": 3
   },
   "file_extension": ".py",
   "mimetype": "text/x-python",
   "name": "python",
   "nbconvert_exporter": "python",
   "pygments_lexer": "ipython3",
   "version": "3.11.5"
  }
 },
 "nbformat": 4,
 "nbformat_minor": 2
}
