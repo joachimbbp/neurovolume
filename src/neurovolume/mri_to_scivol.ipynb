{
 "cells": [
  {
   "cell_type": "markdown",
   "metadata": {},
   "source": [
    "# Gathering MRI Data"
   ]
  },
  {
   "cell_type": "code",
   "execution_count": 5,
   "metadata": {},
   "outputs": [],
   "source": [
    "from notebook_viewer_functions import *\n",
    "from functions import *\n",
    "from scivol import *\n",
    "import numpy as np\n",
    "import json\n",
    "import ants\n",
    "import gzip"
   ]
  },
  {
   "cell_type": "code",
   "execution_count": 6,
   "metadata": {},
   "outputs": [
    {
     "name": "stdout",
     "output_type": "stream",
     "text": [
      "project root: /Users/joachimpfefferkorn/repos/neurovolume\n"
     ]
    }
   ],
   "source": [
    "proj_root = parent_directory()\n",
    "print(f\"project root: {proj_root}\")\n",
    "t1_input_filepath = os.path.join(proj_root, \"media/sub-01/anat/sub-01_T1w.nii.gz\")\n",
    "template_folder =  os.path.join(proj_root, \"templates/\")\n",
    "output_folder = os.path.join(proj_root, \"output/\")"
   ]
  },
  {
   "cell_type": "code",
   "execution_count": 7,
   "metadata": {},
   "outputs": [],
   "source": [
    "raw_anat_img = ants.image_read(t1_input_filepath)"
   ]
  },
  {
   "cell_type": "code",
   "execution_count": 8,
   "metadata": {},
   "outputs": [
    {
     "name": "stdout",
     "output_type": "stream",
     "text": [
      "ANTsImage (LPI)\n",
      "\t Pixel Type : float (float32)\n",
      "\t Components : 1\n",
      "\t Dimensions : (512, 512, 296)\n",
      "\t Spacing    : (0.4785, 0.4785, 0.5)\n",
      "\t Origin     : (119.989, 104.52, -84.2457)\n",
      "\t Direction  : [-1.      0.0025  0.     -0.0025 -1.      0.      0.      0.      1.    ]\n",
      "\n"
     ]
    },
    {
     "data": {
      "application/vnd.jupyter.widget-view+json": {
       "model_id": "8d2d28f71a48435e8b0cd144da1fec94",
       "version_major": 2,
       "version_minor": 0
      },
      "text/plain": [
       "interactive(children=(IntSlider(value=255, description='slice', max=511), Output()), _dom_classes=('widget-int…"
      ]
     },
     "metadata": {},
     "output_type": "display_data"
    },
    {
     "data": {
      "application/vnd.jupyter.widget-view+json": {
       "model_id": "2fe1423ebf3140d5baf6c3686a3ffd05",
       "version_major": 2,
       "version_minor": 0
      },
      "text/plain": [
       "interactive(children=(IntSlider(value=255, description='slice', max=511), Output()), _dom_classes=('widget-int…"
      ]
     },
     "metadata": {},
     "output_type": "display_data"
    },
    {
     "data": {
      "application/vnd.jupyter.widget-view+json": {
       "model_id": "743d69c059284cc487af01887e667b5e",
       "version_major": 2,
       "version_minor": 0
      },
      "text/plain": [
       "interactive(children=(IntSlider(value=147, description='slice', max=295), Output()), _dom_classes=('widget-int…"
      ]
     },
     "metadata": {},
     "output_type": "display_data"
    }
   ],
   "source": [
    "print(raw_anat_img)\n",
    "explore_3D_vol(raw_anat_img.numpy(), dim=\"x\")\n",
    "explore_3D_vol(raw_anat_img.numpy(), dim=\"y\")\n",
    "explore_3D_vol(raw_anat_img.numpy(), dim=\"z\")"
   ]
  },
  {
   "cell_type": "markdown",
   "metadata": {},
   "source": [
    "# Skull Stripping\n",
    "Using ANTs\n",
    "\n",
    "[this notebook](https://github.com/Angeluz-07/MRI-preprocessing-techniques/blob/main/notebooks/09_brain_extraction_with_template.ipynb) is what we're basing this on"
   ]
  },
  {
   "cell_type": "markdown",
   "metadata": {},
   "source": [
    "## Load Template and Mask"
   ]
  },
  {
   "cell_type": "code",
   "execution_count": 9,
   "metadata": {},
   "outputs": [],
   "source": [
    "mni_template_img = ants.image_read(f\"{template_folder}/mni_icbm152_t1_tal_nlin_sym_09a.nii\")\n",
    "mni_template_mask = ants.image_read(f\"{template_folder}/mni_icbm152_t1_tal_nlin_sym_09a_mask.nii\")"
   ]
  },
  {
   "cell_type": "code",
   "execution_count": 10,
   "metadata": {},
   "outputs": [
    {
     "name": "stdout",
     "output_type": "stream",
     "text": [
      "ANTsImage (LPI)\n",
      "\t Pixel Type : float (float32)\n",
      "\t Components : 1\n",
      "\t Dimensions : (197, 233, 189)\n",
      "\t Spacing    : (1.0, 1.0, 1.0)\n",
      "\t Origin     : (98.0, 134.0, -72.0)\n",
      "\t Direction  : [-1.  0.  0.  0. -1.  0.  0.  0.  1.]\n",
      "\n"
     ]
    },
    {
     "data": {
      "application/vnd.jupyter.widget-view+json": {
       "model_id": "b8d01e9a4889419a92131abf07a28008",
       "version_major": 2,
       "version_minor": 0
      },
      "text/plain": [
       "interactive(children=(IntSlider(value=98, description='slice', max=196), Output()), _dom_classes=('widget-inte…"
      ]
     },
     "metadata": {},
     "output_type": "display_data"
    }
   ],
   "source": [
    "print(mni_template_img)\n",
    "explore_3D_vol(mni_template_img.numpy())"
   ]
  },
  {
   "cell_type": "code",
   "execution_count": 8,
   "metadata": {},
   "outputs": [
    {
     "name": "stdout",
     "output_type": "stream",
     "text": [
      "ANTsImage (LPI)\n",
      "\t Pixel Type : float (float32)\n",
      "\t Components : 1\n",
      "\t Dimensions : (197, 233, 189)\n",
      "\t Spacing    : (1.0, 1.0, 1.0)\n",
      "\t Origin     : (98.0, 134.0, -72.0)\n",
      "\t Direction  : [-1.  0.  0.  0. -1.  0.  0.  0.  1.]\n",
      "\n"
     ]
    },
    {
     "data": {
      "application/vnd.jupyter.widget-view+json": {
       "model_id": "2dacf9cebc4d4caa86bc6ed73c26837b",
       "version_major": 2,
       "version_minor": 0
      },
      "text/plain": [
       "interactive(children=(IntSlider(value=98, description='slice', max=196), Output()), _dom_classes=('widget-inte…"
      ]
     },
     "metadata": {},
     "output_type": "display_data"
    }
   ],
   "source": [
    "print(mni_template_mask)\n",
    "explore_3D_vol(mni_template_mask.numpy())"
   ]
  },
  {
   "cell_type": "markdown",
   "metadata": {},
   "source": [
    "## Register Template and Masks to Raw image\n",
    "Here we warp the MNI template"
   ]
  },
  {
   "cell_type": "code",
   "execution_count": 9,
   "metadata": {},
   "outputs": [
    {
     "name": "stdout",
     "output_type": "stream",
     "text": [
      "antsRegistration -d 3 -r [0x30006aea8,0x17f92f148,1] -m mattes[0x30006aea8,0x17f92f148,1,32,regular,0.2] -t Affine[0.25] -c 2100x1200x1200x0 -s 3x2x1x0 -f 4x2x2x1 -x [NA,NA] -m mattes[0x30006aea8,0x17f92f148,1,32] -t SyN[0.200000,3.000000,0.000000] -c [40x20x0,1e-7,8] -s 2x1x0 -f 4x2x1 -u 1 -z 1 -o [/var/folders/m4/rtcmkx_17lv03n9tvdf76ycr0000gn/T/tmpi3ysy5jm,0x30006be88,0x30006b628] -x [NA,NA] --float 1 --write-composite-transform 0 -v 1\n",
      "All_Command_lines_OK\n",
      "Using single precision for computations.\n",
      "=============================================================================\n",
      "The composite transform comprises the following transforms (in order): \n",
      "  1. Center of mass alignment using fixed image: 0x30006aea8 and moving image: 0x17f92f148 (type = Euler3DTransform)\n",
      "=============================================================================\n",
      "  Reading mask(s).\n",
      "    Registration stage 0\n",
      "      No fixed mask\n",
      "      No moving mask\n",
      "    Registration stage 1\n",
      "      No fixed mask\n",
      "      No moving mask\n",
      "  number of levels = 4\n",
      "  number of levels = 3\n",
      "  fixed image: 0x30006aea8\n",
      "  moving image: 0x17f92f148\n",
      "  fixed image: 0x30006aea8\n",
      "  moving image: 0x17f92f148\n",
      "Dimension = 3\n",
      "Number of stages = 2\n",
      "Use histogram matching = true\n",
      "Winsorize image intensities = false\n",
      "  Lower quantile = 0\n",
      "  Upper quantile = 1\n",
      "\n",
      "\n",
      "Stage 1 State\n",
      "   Image metric = MattesMI\n",
      "     Fixed image = Image (0x17f877900)\n",
      "  RTTI typeinfo:   itk::Image<float, 3u>\n",
      "  Reference Count: 2\n",
      "  Modified Time: 2192\n",
      "  Debug: Off\n",
      "  Object Name: \n",
      "  Observers: \n",
      "    none\n",
      "  Source: (none)\n",
      "  Source output name: (none)\n",
      "  Release Data: Off\n",
      "  Data Released: False\n",
      "  Global Release Data: Off\n",
      "  PipelineMTime: 0\n",
      "  UpdateMTime: 2166\n",
      "  RealTimeStamp: 0 seconds \n",
      "  LargestPossibleRegion: \n",
      "    Dimension: 3\n",
      "    Index: [0, 0, 0]\n",
      "    Size: [512, 512, 296]\n",
      "  BufferedRegion: \n",
      "    Dimension: 3\n",
      "    Index: [0, 0, 0]\n",
      "    Size: [512, 512, 296]\n",
      "  RequestedRegion: \n",
      "    Dimension: 3\n",
      "    Index: [0, 0, 0]\n",
      "    Size: [512, 512, 296]\n",
      "  Spacing: [0.4785, 0.4785, 0.5]\n",
      "  Origin: [119.989, 104.52, -84.2457]\n",
      "  Direction: \n",
      "-0.999997 0.00254 0\n",
      "-0.00254 -0.999997 0\n",
      "0 0 1\n",
      "\n",
      "  IndexToPointMatrix: \n",
      "-0.478498 0.00121539 0\n",
      "-0.00121539 -0.478498 0\n",
      "0 0 0.5\n",
      "\n",
      "  PointToIndexMatrix: \n",
      "-2.08986 -0.00530826 0\n",
      "0.00530826 -2.08986 0\n",
      "0 0 2\n",
      "\n",
      "  Inverse Direction: \n",
      "-0.999997 -0.00254 0\n",
      "0.00254 -0.999997 0\n",
      "0 0 1\n",
      "\n",
      "  PixelContainer: \n",
      "    ImportImageContainer (0x17f871c80)\n",
      "      RTTI typeinfo:   itk::ImportImageContainer<unsigned long, float>\n",
      "      Reference Count: 1\n",
      "      Modified Time: 2164\n",
      "      Debug: Off\n",
      "      Object Name: \n",
      "      Observers: \n",
      "        none\n",
      "      Pointer: 0x3995c4000\n",
      "      Container manages memory: true\n",
      "      Size: 77594624\n",
      "      Capacity: 77594624\n",
      "\n",
      "     Moving image = Image (0x17f877bb0)\n",
      "  RTTI typeinfo:   itk::Image<float, 3u>\n",
      "  Reference Count: 2\n",
      "  Modified Time: 2193\n",
      "  Debug: Off\n",
      "  Object Name: \n",
      "  Observers: \n",
      "    none\n",
      "  Source: (none)\n",
      "  Source output name: (none)\n",
      "  Release Data: Off\n",
      "  Data Released: False\n",
      "  Global Release Data: Off\n",
      "  PipelineMTime: 0\n",
      "  UpdateMTime: 2190\n",
      "  RealTimeStamp: 0 seconds \n",
      "  LargestPossibleRegion: \n",
      "    Dimension: 3\n",
      "    Index: [0, 0, 0]\n",
      "    Size: [197, 233, 189]\n",
      "  BufferedRegion: \n",
      "    Dimension: 3\n",
      "    Index: [0, 0, 0]\n",
      "    Size: [197, 233, 189]\n",
      "  RequestedRegion: \n",
      "    Dimension: 3\n",
      "    Index: [0, 0, 0]\n",
      "    Size: [197, 233, 189]\n",
      "  Spacing: [1, 1, 1]\n",
      "  Origin: [98, 134, -72]\n",
      "  Direction: \n",
      "-1 0 0\n",
      "0 -1 0\n",
      "0 0 1\n",
      "\n",
      "  IndexToPointMatrix: \n",
      "-1 0 0\n",
      "0 -1 0\n",
      "0 0 1\n",
      "\n",
      "  PointToIndexMatrix: \n",
      "-1 0 0\n",
      "0 -1 0\n",
      "0 0 1\n",
      "\n",
      "  Inverse Direction: \n",
      "-1 0 0\n",
      "0 -1 0\n",
      "0 0 1\n",
      "\n",
      "  PixelContainer: \n",
      "    ImportImageContainer (0x17f871ce0)\n",
      "      RTTI typeinfo:   itk::ImportImageContainer<unsigned long, float>\n",
      "      Reference Count: 1\n",
      "      Modified Time: 2188\n",
      "      Debug: Off\n",
      "      Object Name: \n",
      "      Observers: \n",
      "        none\n",
      "      Pointer: 0x3615f4000\n",
      "      Container manages memory: true\n",
      "      Size: 8675289\n",
      "      Capacity: 8675289\n",
      "\n",
      "     Weighting = 1\n",
      "     Sampling strategy = regular\n",
      "     Number of bins = 32\n",
      "     Radius = 4\n",
      "     Sampling percentage  = 0.2\n",
      "   Transform = Affine\n",
      "     Gradient step = 0.25\n",
      "     Update field sigma (voxel space) = 0\n",
      "     Total field sigma (voxel space) = 0\n",
      "     Update field time sigma = 0\n",
      "     Total field time sigma  = 0\n",
      "     Number of time indices = 0\n",
      "     Number of time point samples = 0\n",
      "Stage 2 State\n",
      "   Image metric = MattesMI\n",
      "     Fixed image = Image (0x125e885c0)\n",
      "  RTTI typeinfo:   itk::Image<float, 3u>\n",
      "  Reference Count: 2\n",
      "  Modified Time: 2244\n",
      "  Debug: Off\n",
      "  Object Name: \n",
      "  Observers: \n",
      "    none\n",
      "  Source: (none)\n",
      "  Source output name: (none)\n",
      "  Release Data: Off\n",
      "  Data Released: False\n",
      "  Global Release Data: Off\n",
      "  PipelineMTime: 0\n",
      "  UpdateMTime: 2218\n",
      "  RealTimeStamp: 0 seconds \n",
      "  LargestPossibleRegion: \n",
      "    Dimension: 3\n",
      "    Index: [0, 0, 0]\n",
      "    Size: [512, 512, 296]\n",
      "  BufferedRegion: \n",
      "    Dimension: 3\n",
      "    Index: [0, 0, 0]\n",
      "    Size: [512, 512, 296]\n",
      "  RequestedRegion: \n",
      "    Dimension: 3\n",
      "    Index: [0, 0, 0]\n",
      "    Size: [512, 512, 296]\n",
      "  Spacing: [0.4785, 0.4785, 0.5]\n",
      "  Origin: [119.989, 104.52, -84.2457]\n",
      "  Direction: \n",
      "-0.999997 0.00254 0\n",
      "-0.00254 -0.999997 0\n",
      "0 0 1\n",
      "\n",
      "  IndexToPointMatrix: \n",
      "-0.478498 0.00121539 0\n",
      "-0.00121539 -0.478498 0\n",
      "0 0 0.5\n",
      "\n",
      "  PointToIndexMatrix: \n",
      "-2.08986 -0.00530826 0\n",
      "0.00530826 -2.08986 0\n",
      "0 0 2\n",
      "\n",
      "  Inverse Direction: \n",
      "-0.999997 -0.00254 0\n",
      "0.00254 -0.999997 0\n",
      "0 0 1\n",
      "\n",
      "  PixelContainer: \n",
      "    ImportImageContainer (0x125e8b0b0)\n",
      "      RTTI typeinfo:   itk::ImportImageContainer<unsigned long, float>\n",
      "      Reference Count: 1\n",
      "      Modified Time: 2216\n",
      "      Debug: Off\n",
      "      Object Name: \n",
      "      Observers: \n",
      "        none\n",
      "      Pointer: 0x3abdc4000\n",
      "      Container manages memory: true\n",
      "      Size: 77594624\n",
      "      Capacity: 77594624\n",
      "\n",
      "     Moving image = Image (0x124cfb130)\n",
      "  RTTI typeinfo:   itk::Image<float, 3u>\n",
      "  Reference Count: 2\n",
      "  Modified Time: 2245\n",
      "  Debug: Off\n",
      "  Object Name: \n",
      "  Observers: \n",
      "    none\n",
      "  Source: (none)\n",
      "  Source output name: (none)\n",
      "  Release Data: Off\n",
      "  Data Released: False\n",
      "  Global Release Data: Off\n",
      "  PipelineMTime: 0\n",
      "  UpdateMTime: 2242\n",
      "  RealTimeStamp: 0 seconds \n",
      "  LargestPossibleRegion: \n",
      "    Dimension: 3\n",
      "    Index: [0, 0, 0]\n",
      "    Size: [197, 233, 189]\n",
      "  BufferedRegion: \n",
      "    Dimension: 3\n",
      "    Index: [0, 0, 0]\n",
      "    Size: [197, 233, 189]\n",
      "  RequestedRegion: \n",
      "    Dimension: 3\n",
      "    Index: [0, 0, 0]\n",
      "    Size: [197, 233, 189]\n",
      "  Spacing: [1, 1, 1]\n",
      "  Origin: [98, 134, -72]\n",
      "  Direction: \n",
      "-1 0 0\n",
      "0 -1 0\n",
      "0 0 1\n",
      "\n",
      "  IndexToPointMatrix: \n",
      "-1 0 0\n",
      "0 -1 0\n",
      "0 0 1\n",
      "\n",
      "  PointToIndexMatrix: \n",
      "-1 0 0\n",
      "0 -1 0\n",
      "0 0 1\n",
      "\n",
      "  Inverse Direction: \n",
      "-1 0 0\n",
      "0 -1 0\n",
      "0 0 1\n",
      "\n",
      "  PixelContainer: \n",
      "    ImportImageContainer (0x124cfaba0)\n",
      "      RTTI typeinfo:   itk::ImportImageContainer<unsigned long, float>\n",
      "      Reference Count: 1\n",
      "      Modified Time: 2240\n",
      "      Debug: Off\n",
      "      Object Name: \n",
      "      Observers: \n",
      "        none\n",
      "      Pointer: 0x36370c000\n",
      "      Container manages memory: true\n",
      "      Size: 8675289\n",
      "      Capacity: 8675289\n",
      "\n",
      "     Weighting = 1\n",
      "     Sampling strategy = none\n",
      "     Number of bins = 32\n",
      "     Radius = 4\n",
      "     Sampling percentage  = 1\n",
      "   Transform = SyN\n",
      "     Gradient step = 0.2\n",
      "     Update field sigma (voxel space) = 3\n",
      "     Total field sigma (voxel space) = 0\n",
      "     Update field time sigma = 0\n",
      "     Total field time sigma  = 0\n",
      "     Number of time indices = 0\n",
      "     Number of time point samples = 0\n",
      "Registration using 2 total stages.\n",
      "\n",
      "Stage 0\n",
      "  iterations = 2100x1200x1200x0\n",
      "  convergence threshold = 1e-06\n",
      "  convergence window size = 10\n",
      "  number of levels = 4\n",
      "  using the Mattes MI metric (number of bins = 32, weight = 1, use gradient filter = 0)\n",
      "  preprocessing:  histogram matching the images\n",
      "  Shrink factors (level 1 out of 4): [4, 4, 4]\n",
      "  Shrink factors (level 2 out of 4): [2, 2, 2]\n",
      "  Shrink factors (level 3 out of 4): [2, 2, 2]\n",
      "  Shrink factors (level 4 out of 4): [1, 1, 1]\n",
      "  smoothing sigmas per level: [3, 2, 1, 0]\n",
      "  regular sampling (percentage = 0.2)\n",
      "\n",
      "*** Running AffineTransform registration ***\n",
      "\n",
      "DIAGNOSTIC,Iteration,metricValue,convergenceValue,ITERATION_TIME_INDEX,SINCE_LAST\n",
      " 2DIAGNOSTIC,     1, -4.763111472130e-01, inf, 7.4362e-01, 7.4362e-01, \n",
      " 2DIAGNOSTIC,     2, -4.797661304474e-01, inf, 7.8467e-01, 4.1052e-02, \n",
      " 2DIAGNOSTIC,     3, -4.856234788895e-01, inf, 8.2435e-01, 3.9675e-02, \n",
      " 2DIAGNOSTIC,     4, -4.954416751862e-01, inf, 8.6330e-01, 3.8956e-02, \n",
      " 2DIAGNOSTIC,     5, -5.123077630997e-01, inf, 9.0285e-01, 3.9544e-02, \n",
      " 2DIAGNOSTIC,     6, -5.404012203217e-01, inf, 9.4064e-01, 3.7793e-02, \n",
      " 2DIAGNOSTIC,     7, -5.762548446655e-01, inf, 9.9733e-01, 5.6687e-02, \n",
      " 2DIAGNOSTIC,     8, -5.850783586502e-01, inf, 1.1032e+00, 1.0590e-01, \n",
      " 2DIAGNOSTIC,     9, -5.850834250450e-01, inf, 1.1433e+00, 4.0041e-02, \n",
      " 2DIAGNOSTIC,    10, -5.851550698280e-01, 1.672264188528e-02, 1.1946e+00, 5.1351e-02, \n",
      " 2DIAGNOSTIC,    11, -5.852798819542e-01, 1.421181485057e-02, 1.2353e+00, 4.0637e-02, \n",
      " 2DIAGNOSTIC,    12, -5.854907631874e-01, 1.102652028203e-02, 1.2736e+00, 3.8314e-02, \n",
      " 2DIAGNOSTIC,    13, -5.858343839645e-01, 7.631509564817e-03, 1.3117e+00, 3.8137e-02, \n",
      " 2DIAGNOSTIC,    14, -5.863882303238e-01, 4.465547390282e-03, 1.3511e+00, 3.9436e-02, \n",
      " 2DIAGNOSTIC,    15, -5.872510671616e-01, 1.946307835169e-03, 1.3913e+00, 4.0203e-02, \n",
      " 2DIAGNOSTIC,    16, -5.885963439941e-01, 5.006637657061e-04, 1.4295e+00, 3.8197e-02, \n",
      " 2DIAGNOSTIC,    17, -5.904371738434e-01, 3.176057361998e-04, 1.4672e+00, 3.7706e-02, \n",
      " 2DIAGNOSTIC,    18, -5.927962660789e-01, 4.433063149918e-04, 1.5051e+00, 3.7867e-02, \n",
      " 2DIAGNOSTIC,    19, -5.959219336510e-01, 5.969150224701e-04, 1.5466e+00, 4.1534e-02, \n",
      " 2DIAGNOSTIC,    20, -6.008054614067e-01, 8.030750905164e-04, 1.5867e+00, 4.0100e-02, \n",
      " 2DIAGNOSTIC,    21, -6.107270717621e-01, 1.152294687927e-03, 1.6239e+00, 3.7193e-02, \n",
      " 2DIAGNOSTIC,    22, -6.211010813713e-01, 1.595902373083e-03, 1.6858e+00, 6.1903e-02, \n",
      " 2DIAGNOSTIC,    23, -6.226553916931e-01, 1.886817160994e-03, 1.7232e+00, 3.7338e-02, \n",
      " 2DIAGNOSTIC,    24, -6.246400475502e-01, 2.031441079453e-03, 1.7664e+00, 4.3187e-02, \n",
      " 2DIAGNOSTIC,    25, -6.310790777206e-01, 2.117897616699e-03, 1.8155e+00, 4.9154e-02, \n",
      " 2DIAGNOSTIC,    26, -6.342877745628e-01, 2.078499179333e-03, 1.8530e+00, 3.7436e-02, \n",
      " 2DIAGNOSTIC,    27, -6.372150182724e-01, 1.931158476509e-03, 1.8970e+00, 4.4018e-02, \n",
      " 2DIAGNOSTIC,    28, -6.393289566040e-01, 1.694149919786e-03, 1.9462e+00, 4.9227e-02, \n",
      " 2DIAGNOSTIC,    29, -6.402911543846e-01, 1.386410207488e-03, 1.9902e+00, 4.3952e-02, \n",
      " 2DIAGNOSTIC,    30, -6.415534019470e-01, 1.066713943146e-03, 2.0339e+00, 4.3791e-02, \n",
      " 2DIAGNOSTIC,    31, -6.417188644409e-01, 8.217740687542e-04, 2.0712e+00, 3.7266e-02, \n",
      " 2DIAGNOSTIC,    32, -6.419679522514e-01, 6.771686603315e-04, 2.1090e+00, 3.7829e-02, \n",
      " 2DIAGNOSTIC,    33, -6.427691578865e-01, 5.131196230650e-04, 2.1588e+00, 4.9721e-02, \n",
      " 2DIAGNOSTIC,    34, -6.432843208313e-01, 3.443895839155e-04, 2.2088e+00, 5.0008e-02, \n",
      " 2DIAGNOSTIC,    35, -6.436403989792e-01, 2.460438699927e-04, 2.2518e+00, 4.3059e-02, \n",
      " 2DIAGNOSTIC,    36, -6.447579860687e-01, 1.873097353382e-04, 2.2906e+00, 3.8816e-02, \n",
      " 2DIAGNOSTIC,    37, -6.489748954773e-01, 2.057448728010e-04, 2.3348e+00, 4.4204e-02, \n",
      " 2DIAGNOSTIC,    38, -6.539536714554e-01, 2.908855385613e-04, 2.3867e+00, 5.1852e-02, \n",
      " 2DIAGNOSTIC,    39, -6.559258103371e-01, 3.779671678785e-04, 2.4731e+00, 8.6355e-02, \n",
      " 2DIAGNOSTIC,    40, -6.560751199722e-01, 4.419743199833e-04, 2.5172e+00, 4.4118e-02, \n",
      " 2DIAGNOSTIC,    41, -6.561958789825e-01, 4.647432651836e-04, 2.5673e+00, 5.0143e-02, \n",
      " 2DIAGNOSTIC,    42, -6.562612652779e-01, 4.448247491382e-04, 2.6118e+00, 4.4465e-02, \n",
      " 2DIAGNOSTIC,    43, -6.562626957893e-01, 3.912991087418e-04, 2.6560e+00, 4.4178e-02, \n",
      " 2DIAGNOSTIC,    44, -6.563018560410e-01, 3.093122504652e-04, 2.7009e+00, 4.4948e-02, \n",
      " 2DIAGNOSTIC,    45, -6.563190817833e-01, 2.066404995276e-04, 2.7385e+00, 3.7549e-02, \n",
      " 2DIAGNOSTIC,    46, -6.563518047333e-01, 1.005108933896e-04, 2.7775e+00, 3.9061e-02, \n",
      " 2DIAGNOSTIC,    47, -6.564515233040e-01, 3.145501977997e-05, 2.8154e+00, 3.7845e-02, \n",
      " 2DIAGNOSTIC,    48, -6.565067172050e-01, 1.094122217182e-05, 2.8707e+00, 5.5352e-02, \n",
      " 2DIAGNOSTIC,    49, -6.565290093422e-01, 9.283037798014e-06, 2.9141e+00, 4.3409e-02, \n",
      " 2DIAGNOSTIC,    50, -6.565598249435e-01, 8.534895641787e-06, 2.9580e+00, 4.3910e-02, \n",
      " 2DIAGNOSTIC,    51, -6.565902233124e-01, 8.424864972767e-06, 3.0039e+00, 4.5879e-02, \n",
      " 2DIAGNOSTIC,    52, -6.565896868706e-01, 8.141644684656e-06, 3.0430e+00, 3.9083e-02, \n",
      " 2DIAGNOSTIC,    53, -6.565904021263e-01, 7.163173449953e-06, 3.0819e+00, 3.8908e-02, \n",
      " 2DIAGNOSTIC,    54, -6.566020846367e-01, 6.044519977877e-06, 3.1253e+00, 4.3386e-02, \n",
      " 2DIAGNOSTIC,    55, -6.565944552422e-01, 4.531231297733e-06, 3.1691e+00, 4.3851e-02, \n",
      " 2DIAGNOSTIC,    56, -6.565805673599e-01, 2.837790589183e-06, 3.2134e+00, 4.4268e-02, \n",
      " 2DIAGNOSTIC,    57, -6.565861105919e-01, 1.840694494604e-06, 3.2625e+00, 4.9117e-02, \n",
      " 2DIAGNOSTIC,    58, -6.565924882889e-01, 1.246741703653e-06, 3.3063e+00, 4.3766e-02, \n",
      "DIAGNOSTIC,Iteration,metricValue,convergenceValue,ITERATION_TIME_INDEX,SINCE_LAST\n",
      " 2DIAGNOSTIC,     1, -5.715064406395e-01, inf, 4.3297e+00, 1.0234e+00, \n",
      " 2DIAGNOSTIC,     2, -5.722694993019e-01, inf, 4.5323e+00, 2.0258e-01, \n",
      " 2DIAGNOSTIC,     3, -5.723572969437e-01, inf, 4.7354e+00, 2.0315e-01, \n",
      " 2DIAGNOSTIC,     4, -5.723780989647e-01, inf, 4.9414e+00, 2.0595e-01, \n",
      " 2DIAGNOSTIC,     5, -5.724165439606e-01, inf, 5.2172e+00, 2.7588e-01, \n",
      " 2DIAGNOSTIC,     6, -5.724174976349e-01, inf, 5.4376e+00, 2.2038e-01, \n",
      " 2DIAGNOSTIC,     7, -5.724172592163e-01, inf, 5.6397e+00, 2.0213e-01, \n",
      " 2DIAGNOSTIC,     8, -5.724192857742e-01, inf, 5.8405e+00, 2.0080e-01, \n",
      " 2DIAGNOSTIC,     9, -5.724195837975e-01, inf, 6.0361e+00, 1.9551e-01, \n",
      " 2DIAGNOSTIC,    10, -5.724235177040e-01, 5.830354348291e-05, 6.2335e+00, 1.9745e-01, \n",
      " 2DIAGNOSTIC,    11, -5.724219083786e-01, 1.374759631290e-05, 6.4335e+00, 2.0001e-01, \n",
      " 2DIAGNOSTIC,    12, -5.724171400070e-01, 6.960862265259e-06, 6.6076e+00, 1.7407e-01, \n",
      " 2DIAGNOSTIC,    13, -5.724211335182e-01, 4.336054644227e-06, 6.8156e+00, 2.0801e-01, \n",
      " 2DIAGNOSTIC,    14, -5.724259614944e-01, 2.776362862278e-06, 7.0373e+00, 2.2168e-01, \n",
      " 2DIAGNOSTIC,    15, -5.724256038666e-01, 2.631475126691e-06, 7.2345e+00, 1.9720e-01, \n",
      " 2DIAGNOSTIC,    16, -5.724266767502e-01, 2.526445314288e-06, 7.4325e+00, 1.9806e-01, \n",
      " 2DIAGNOSTIC,    17, -5.724223256111e-01, 2.253323373225e-06, 7.6303e+00, 1.9774e-01, \n",
      " 2DIAGNOSTIC,    18, -5.724256038666e-01, 2.123241301888e-06, 7.8268e+00, 1.9654e-01, \n",
      " 2DIAGNOSTIC,    19, -5.724234580994e-01, 1.913804453579e-06, 8.0261e+00, 1.9928e-01, \n",
      " 2DIAGNOSTIC,    20, -5.724251866341e-01, 1.844896587500e-06, 8.2795e+00, 2.5337e-01, \n",
      " 2DIAGNOSTIC,    21, -5.724252462387e-01, 1.727524022499e-06, 8.4823e+00, 2.0288e-01, \n",
      " 2DIAGNOSTIC,    22, -5.724249482155e-01, 1.485754182795e-06, 8.7310e+00, 2.4862e-01, \n",
      " 2DIAGNOSTIC,    23, -5.724234580994e-01, 1.312404720011e-06, 8.9578e+00, 2.2679e-01, \n",
      " 2DIAGNOSTIC,    24, -5.724233984947e-01, 1.258629481526e-06, 9.2021e+00, 2.4438e-01, \n",
      " 2DIAGNOSTIC,    25, -5.724234580994e-01, 1.207740979225e-06, 9.3989e+00, 1.9682e-01, \n",
      " 2DIAGNOSTIC,    26, -5.724232196808e-01, 1.184301481771e-06, 9.5984e+00, 1.9950e-01, \n",
      " 2DIAGNOSTIC,    27, -5.724226236343e-01, 1.073621774594e-06, 9.8286e+00, 2.3017e-01, \n",
      " 2DIAGNOSTIC,    28, -5.724226832390e-01, 1.041816403813e-06, 1.0047e+01, 2.1825e-01, \n",
      "DIAGNOSTIC,Iteration,metricValue,convergenceValue,ITERATION_TIME_INDEX,SINCE_LAST\n",
      " 2DIAGNOSTIC,     1, -4.880093634129e-01, inf, 1.1151e+01, 1.1038e+00, \n",
      " 2DIAGNOSTIC,     2, -4.886905550957e-01, inf, 1.1327e+01, 1.7603e-01, \n",
      " 2DIAGNOSTIC,     3, -4.888489246368e-01, inf, 1.1538e+01, 2.1103e-01, \n",
      " 2DIAGNOSTIC,     4, -4.889511168003e-01, inf, 1.1787e+01, 2.4922e-01, \n",
      " 2DIAGNOSTIC,     5, -4.889716506004e-01, inf, 1.1962e+01, 1.7467e-01, \n",
      " 2DIAGNOSTIC,     6, -4.889865815639e-01, inf, 1.2161e+01, 1.9900e-01, \n",
      " 2DIAGNOSTIC,     7, -4.889940321445e-01, inf, 1.2424e+01, 2.6334e-01, \n",
      " 2DIAGNOSTIC,     8, -4.889972507954e-01, inf, 1.2624e+01, 1.9986e-01, \n",
      " 2DIAGNOSTIC,     9, -4.889973402023e-01, inf, 1.2901e+01, 2.7734e-01, \n",
      " 2DIAGNOSTIC,    10, -4.889969825745e-01, 8.353687735507e-05, 1.3140e+01, 2.3891e-01, \n",
      " 2DIAGNOSTIC,    11, -4.889965951443e-01, 2.830716221069e-05, 1.3462e+01, 3.2225e-01, \n",
      " 2DIAGNOSTIC,    12, -4.889967143536e-01, 1.285961479880e-05, 1.3707e+01, 2.4487e-01, \n",
      " 2DIAGNOSTIC,    13, -4.889967739582e-01, 5.838255674462e-06, 1.4182e+01, 4.7478e-01, \n",
      " 2DIAGNOSTIC,    14, -4.889965653419e-01, 3.733670155270e-06, 1.4398e+01, 2.1590e-01, \n",
      " 2DIAGNOSTIC,    15, -4.889965951443e-01, 2.562281906648e-06, 1.4641e+01, 2.4277e-01, \n",
      " 2DIAGNOSTIC,    16, -4.889963567257e-01, 2.024054083449e-06, 1.4888e+01, 2.4689e-01, \n",
      " 2DIAGNOSTIC,    17, -4.889963865280e-01, 1.797955292204e-06, 1.5121e+01, 2.3371e-01, \n",
      " 2DIAGNOSTIC,    18, -4.889964461327e-01, 1.708618469820e-06, 1.5338e+01, 2.1676e-01, \n",
      " 2DIAGNOSTIC,    19, -4.889963567257e-01, 1.633859369576e-06, 1.5574e+01, 2.3602e-01, \n",
      " 2DIAGNOSTIC,    20, -4.889964163303e-01, 1.561795215821e-06, 1.5784e+01, 2.1017e-01, \n",
      " 2DIAGNOSTIC,    21, -4.889963865280e-01, 1.487218128204e-06, 1.5979e+01, 1.9440e-01, \n",
      " 2DIAGNOSTIC,    22, -4.889963269234e-01, 1.423105572940e-06, 1.6198e+01, 2.1908e-01, \n",
      " 2DIAGNOSTIC,    23, -4.889962673187e-01, 1.366447122564e-06, 1.6399e+01, 2.0092e-01, \n",
      " 2DIAGNOSTIC,    24, -4.889962971210e-01, 1.311352662015e-06, 1.6609e+01, 2.1023e-01, \n",
      " 2DIAGNOSTIC,    25, -4.889963567257e-01, 1.263854414901e-06, 1.6820e+01, 2.1130e-01, \n",
      " 2DIAGNOSTIC,    26, -4.889962673187e-01, 1.213091650243e-06, 1.7034e+01, 2.1393e-01, \n",
      " 2DIAGNOSTIC,    27, -4.889962971210e-01, 1.168114295069e-06, 1.7245e+01, 2.1088e-01, \n",
      " 2DIAGNOSTIC,    28, -4.889963567257e-01, 1.129536940425e-06, 1.7568e+01, 3.2282e-01, \n",
      " 2DIAGNOSTIC,    29, -4.889963865280e-01, 1.092629872801e-06, 1.7922e+01, 3.5392e-01, \n",
      " 2DIAGNOSTIC,    30, -4.889962971210e-01, 1.057708459484e-06, 1.8158e+01, 2.3638e-01, \n",
      " 2DIAGNOSTIC,    31, -4.889963567257e-01, 1.025701976687e-06, 1.8360e+01, 2.0173e-01, \n",
      "DIAGNOSTIC,Iteration,metricValue,convergenceValue,ITERATION_TIME_INDEX,SINCE_LAST\n",
      " 2DIAGNOSTIC,     1, -4.298012554646e-01, inf, 2.1445e+01, 3.0849e+00, \n",
      "  Elapsed time (stage 0): 2.2769e+01\n",
      "\n",
      "\n",
      "Stage 1\n",
      "  iterations = 40x20x0\n",
      "  convergence threshold = 1.0000e-07\n",
      "  convergence window size = 8\n",
      "  number of levels = 3\n",
      "  using the Mattes MI metric (number of bins = 32, weight = 1.0000e+00, use gradient filter = 0)\n",
      "  preprocessing:  histogram matching the images\n",
      "  Shrink factors (level 1 out of 3): [4, 4, 4]\n",
      "  Shrink factors (level 2 out of 3): [2, 2, 2]\n",
      "  Shrink factors (level 3 out of 3): [1, 1, 1]\n",
      "  smoothing sigmas per level: [2, 1, 0]\n",
      "  Using default NONE metricSamplingStrategy \n",
      "\n",
      "*** Running SyN registration (varianceForUpdateField = 3.0000e+00, varianceForTotalField = 0.0000e+00) ***\n",
      "\n",
      "XXDIAGNOSTIC,Iteration,metricValue,convergenceValue,ITERATION_TIME_INDEX,SINCE_LAST\n",
      " 1DIAGNOSTIC,     1, -5.480216741562e-01, inf, 1.1534e+00, 1.1534e+00, \n",
      " 1DIAGNOSTIC,     2, -5.534343719482e-01, inf, 1.4517e+00, 2.9833e-01, \n",
      " 1DIAGNOSTIC,     3, -5.587612390518e-01, inf, 1.7465e+00, 2.9481e-01, \n",
      " 1DIAGNOSTIC,     4, -5.639203786850e-01, inf, 2.1150e+00, 3.6850e-01, \n",
      " 1DIAGNOSTIC,     5, -5.689948797226e-01, inf, 2.4186e+00, 3.0356e-01, \n",
      " 1DIAGNOSTIC,     6, -5.734919309616e-01, inf, 2.7240e+00, 3.0540e-01, \n",
      " 1DIAGNOSTIC,     7, -5.776940584183e-01, inf, 3.0320e+00, 3.0798e-01, \n",
      " 1DIAGNOSTIC,     8, -5.813231468201e-01, 4.877351224422e-03, 3.3991e+00, 3.6713e-01, \n",
      " 1DIAGNOSTIC,     9, -5.843679904938e-01, 4.014769103378e-03, 3.7481e+00, 3.4904e-01, \n",
      " 1DIAGNOSTIC,    10, -5.868226289749e-01, 3.261934034526e-03, 4.0701e+00, 3.2198e-01, \n",
      " 1DIAGNOSTIC,    11, -5.891119241714e-01, 2.622015774250e-03, 4.4022e+00, 3.3207e-01, \n",
      " 1DIAGNOSTIC,    12, -5.912891626358e-01, 2.098332392052e-03, 4.7158e+00, 3.1365e-01, \n",
      " 1DIAGNOSTIC,    13, -5.933131575584e-01, 1.695055398159e-03, 5.0404e+00, 3.2455e-01, \n",
      " 1DIAGNOSTIC,    14, -5.953142642975e-01, 1.393418875523e-03, 5.4292e+00, 3.8882e-01, \n",
      " 1DIAGNOSTIC,    15, -5.971562266350e-01, 1.179184997454e-03, 5.7989e+00, 3.6975e-01, \n",
      " 1DIAGNOSTIC,    16, -5.987550020218e-01, 1.021594274789e-03, 6.1081e+00, 3.0920e-01, \n",
      " 1DIAGNOSTIC,    17, -6.001821756363e-01, 8.955915691331e-04, 6.4257e+00, 3.1758e-01, \n",
      " 1DIAGNOSTIC,    18, -6.010493636131e-01, 7.664278964512e-04, 6.7370e+00, 3.1126e-01, \n",
      " 1DIAGNOSTIC,    19, -6.015815734863e-01, 6.302598631009e-04, 7.0581e+00, 3.2115e-01, \n",
      " 1DIAGNOSTIC,    20, -6.025090217590e-01, 5.102983559482e-04, 7.3962e+00, 3.3803e-01, \n",
      " 1DIAGNOSTIC,    21, -6.033316850662e-01, 4.090308502782e-04, 7.7184e+00, 3.2220e-01, \n",
      " 1DIAGNOSTIC,    22, -6.042451858521e-01, 3.373262879904e-04, 8.0504e+00, 3.3203e-01, \n",
      " 1DIAGNOSTIC,    23, -6.051120162010e-01, 2.936130622402e-04, 8.3679e+00, 3.1746e-01, \n",
      " 1DIAGNOSTIC,    24, -6.048359870911e-01, 2.435864880681e-04, 8.6900e+00, 3.2216e-01, \n",
      " 1DIAGNOSTIC,    25, -6.042145490646e-01, 1.817365264287e-04, 9.0079e+00, 3.1789e-01, \n",
      " 1DIAGNOSTIC,    26, -6.036791801453e-01, 1.059829301084e-04, 9.3126e+00, 3.0468e-01, \n",
      " 1DIAGNOSTIC,    27, -6.034034490585e-01, 2.584610956546e-05, 9.6214e+00, 3.0881e-01, \n",
      " 1DIAGNOSTIC,    28, -6.030392646790e-01, -3.991177072749e-05, 9.9311e+00, 3.0968e-01, \n",
      "XXDIAGNOSTIC,Iteration,metricValue,convergenceValue,ITERATION_TIME_INDEX,SINCE_LAST\n",
      " 1DIAGNOSTIC,     1, -5.005682706833e-01, inf, 1.3811e+01, 3.8804e+00, \n",
      " 1DIAGNOSTIC,     2, -5.014663934708e-01, inf, 1.6731e+01, 2.9197e+00, \n",
      " 1DIAGNOSTIC,     3, -5.024835467339e-01, inf, 1.9534e+01, 2.8033e+00, \n",
      " 1DIAGNOSTIC,     4, -5.034359693527e-01, inf, 2.2455e+01, 2.9210e+00, \n",
      " 1DIAGNOSTIC,     5, -5.044682025909e-01, inf, 2.5249e+01, 2.7940e+00, \n",
      " 1DIAGNOSTIC,     6, -5.056467652321e-01, inf, 2.8095e+01, 2.8451e+00, \n",
      " 1DIAGNOSTIC,     7, -5.067026615143e-01, inf, 3.0923e+01, 2.8285e+00, \n",
      " 1DIAGNOSTIC,     8, -5.075923204422e-01, 1.169001683593e-03, 3.3851e+01, 2.9284e+00, \n",
      " 1DIAGNOSTIC,     9, -5.084344744682e-01, 1.032627071254e-03, 3.6573e+01, 2.7213e+00, \n",
      " 1DIAGNOSTIC,    10, -5.092480182648e-01, 9.005559841171e-04, 3.9252e+01, 2.6790e+00, \n",
      " 1DIAGNOSTIC,    11, -5.099216103554e-01, 7.745714974590e-04, 4.2021e+01, 2.7694e+00, \n",
      " 1DIAGNOSTIC,    12, -5.105447769165e-01, 6.530474056490e-04, 4.4739e+01, 2.7177e+00, \n",
      " 1DIAGNOSTIC,    13, -5.110933780670e-01, 5.427924916148e-04, 4.7495e+01, 2.7566e+00, \n",
      " 1DIAGNOSTIC,    14, -5.115947723389e-01, 4.546287818812e-04, 5.0192e+01, 2.6962e+00, \n",
      " 1DIAGNOSTIC,    15, -5.120739936829e-01, 3.845963801723e-04, 5.2925e+01, 2.7330e+00, \n",
      " 1DIAGNOSTIC,    16, -5.121312141418e-01, 3.095657157246e-04, 5.5942e+01, 3.0176e+00, \n",
      " 1DIAGNOSTIC,    17, -5.118230581284e-01, 2.211881364929e-04, 5.8854e+01, 2.9113e+00, \n",
      " 1DIAGNOSTIC,    18, -5.115054845810e-01, 1.302333839703e-04, 6.1890e+01, 3.0366e+00, \n",
      " 1DIAGNOSTIC,    19, -5.111654400826e-01, 4.217899186187e-05, 6.4912e+01, 3.0215e+00, \n",
      " 1DIAGNOSTIC,    20, -5.108236670494e-01, -3.313840716146e-05, 6.8042e+01, 3.1302e+00, \n",
      "  Elapsed time (stage 1): 73.99\n",
      "\n",
      "\n",
      "Total elapsed time: 96.83\n"
     ]
    },
    {
     "ename": "KeyboardInterrupt",
     "evalue": "",
     "output_type": "error",
     "traceback": [
      "\u001b[0;31m---------------------------------------------------------------------------\u001b[0m",
      "\u001b[0;31mKeyboardInterrupt\u001b[0m                         Traceback (most recent call last)",
      "Cell \u001b[0;32mIn[9], line 1\u001b[0m\n\u001b[0;32m----> 1\u001b[0m template_warp_to_raw_anat \u001b[38;5;241m=\u001b[39m \u001b[43mants\u001b[49m\u001b[38;5;241;43m.\u001b[39;49m\u001b[43mregistration\u001b[49m\u001b[43m(\u001b[49m\n\u001b[1;32m      2\u001b[0m \u001b[43m    \u001b[49m\u001b[43mfixed\u001b[49m\u001b[38;5;241;43m=\u001b[39;49m\u001b[43mraw_anat_img\u001b[49m\u001b[43m,\u001b[49m\n\u001b[1;32m      3\u001b[0m \u001b[43m    \u001b[49m\u001b[43mmoving\u001b[49m\u001b[38;5;241;43m=\u001b[39;49m\u001b[43mmni_template_img\u001b[49m\u001b[43m,\u001b[49m\u001b[43m \u001b[49m\n\u001b[1;32m      4\u001b[0m \u001b[43m    \u001b[49m\u001b[43mtype_of_transform\u001b[49m\u001b[38;5;241;43m=\u001b[39;49m\u001b[38;5;124;43m'\u001b[39;49m\u001b[38;5;124;43mSyN\u001b[39;49m\u001b[38;5;124;43m'\u001b[39;49m\u001b[43m,\u001b[49m\n\u001b[1;32m      5\u001b[0m \u001b[43m    \u001b[49m\u001b[43mverbose\u001b[49m\u001b[38;5;241;43m=\u001b[39;49m\u001b[38;5;28;43;01mTrue\u001b[39;49;00m\n\u001b[1;32m      6\u001b[0m \u001b[43m)\u001b[49m\n",
      "File \u001b[0;32m~/repos/neurovolume/.venv/lib/python3.11/site-packages/ants/registration/registration.py:1353\u001b[0m, in \u001b[0;36mregistration\u001b[0;34m(fixed, moving, type_of_transform, initial_transform, outprefix, mask, moving_mask, mask_all_stages, grad_step, flow_sigma, total_sigma, aff_metric, aff_sampling, aff_random_sampling_rate, syn_metric, syn_sampling, reg_iterations, aff_iterations, aff_shrink_factors, aff_smoothing_sigmas, write_composite_transform, random_seed, verbose, multivariate_extras, restrict_transformation, smoothing_in_mm, **kwargs)\u001b[0m\n\u001b[1;32m   1351\u001b[0m \u001b[38;5;28;01mif\u001b[39;00m verbose:\n\u001b[1;32m   1352\u001b[0m     \u001b[38;5;28mprint\u001b[39m(\u001b[38;5;124m\"\u001b[39m\u001b[38;5;124mantsRegistration \u001b[39m\u001b[38;5;124m\"\u001b[39m \u001b[38;5;241m+\u001b[39m \u001b[38;5;124m'\u001b[39m\u001b[38;5;124m \u001b[39m\u001b[38;5;124m'\u001b[39m\u001b[38;5;241m.\u001b[39mjoin(processed_args))\n\u001b[0;32m-> 1353\u001b[0m reg_exit \u001b[38;5;241m=\u001b[39m \u001b[43mlibfn\u001b[49m\u001b[43m(\u001b[49m\u001b[43mprocessed_args\u001b[49m\u001b[43m)\u001b[49m\n\u001b[1;32m   1354\u001b[0m \u001b[38;5;28;01mif\u001b[39;00m (reg_exit \u001b[38;5;241m!=\u001b[39m \u001b[38;5;241m0\u001b[39m):\n\u001b[1;32m   1355\u001b[0m     \u001b[38;5;28;01mraise\u001b[39;00m \u001b[38;5;167;01mRuntimeError\u001b[39;00m(\u001b[38;5;124mf\u001b[39m\u001b[38;5;124m\"\u001b[39m\u001b[38;5;124mRegistration failed with error code \u001b[39m\u001b[38;5;132;01m{\u001b[39;00mreg_exit\u001b[38;5;132;01m}\u001b[39;00m\u001b[38;5;124m\"\u001b[39m)\n",
      "\u001b[0;31mKeyboardInterrupt\u001b[0m: "
     ]
    }
   ],
   "source": [
    "template_warp_to_raw_anat = ants.registration(\n",
    "    fixed=raw_anat_img,\n",
    "    moving=mni_template_img, \n",
    "    type_of_transform='SyN',\n",
    "    verbose=True\n",
    ")"
   ]
  },
  {
   "cell_type": "code",
   "execution_count": 10,
   "metadata": {},
   "outputs": [],
   "source": [
    "registered_template_img = template_warp_to_raw_anat['warpedmovout']"
   ]
  },
  {
   "cell_type": "markdown",
   "metadata": {},
   "source": [
    "The following comparison function asserts that the new `registered_template_img` image has been transformed to the size and shape of the `raw_anat_img`"
   ]
  },
  {
   "cell_type": "markdown",
   "metadata": {},
   "source": [
    "Next, we apply this to the mask so that it fits over the brain in the data we wish to visualize"
   ]
  },
  {
   "cell_type": "code",
   "execution_count": 11,
   "metadata": {},
   "outputs": [
    {
     "name": "stdout",
     "output_type": "stream",
     "text": [
      "['-d', '3', '-i', '0x17f8ce6a8', '-o', '0x17f8ceb28', '-r', '0x17f8ce548', '-n', 'nearestNeighbor', '-t', '/var/folders/m4/rtcmkx_17lv03n9tvdf76ycr0000gn/T/tmpucm2vqlj1Warp.nii.gz', '-t', '/var/folders/m4/rtcmkx_17lv03n9tvdf76ycr0000gn/T/tmpucm2vqlj0GenericAffine.mat']\n",
      "Using double precision for computations.\n",
      "Input scalar image: 0x17f8ce6a8\n",
      "Could not create ImageIO for the input file, assuming dimension = 3 and scalar pixel type\n",
      "Reference image: 0x17f8ce548\n",
      "=============================================================================\n",
      "The composite transform comprises the following transforms (in order): \n",
      "  1. /var/folders/m4/rtcmkx_17lv03n9tvdf76ycr0000gn/T/tmpucm2vqlj0GenericAffine.mat (type = AffineTransform)\n",
      "  2. /var/folders/m4/rtcmkx_17lv03n9tvdf76ycr0000gn/T/tmpucm2vqlj1Warp.nii.gz (type = DisplacementFieldTransform)\n",
      "=============================================================================\n",
      "Default pixel value: 0\n",
      "Interpolation type: NearestNeighborInterpolateImageFunction\n",
      "Output warped image: 0x17f8ceb28\n"
     ]
    }
   ],
   "source": [
    "brain_mask = ants.apply_transforms(\n",
    "    fixed=template_warp_to_raw_anat['warpedmovout'],\n",
    "    moving=mni_template_mask,\n",
    "    transformlist=template_warp_to_raw_anat['fwdtransforms'],\n",
    "    interpolator='nearestNeighbor',\n",
    "    verbose=True\n",
    ")"
   ]
  },
  {
   "cell_type": "code",
   "execution_count": null,
   "metadata": {},
   "outputs": [
    {
     "data": {
      "application/vnd.jupyter.widget-view+json": {
       "model_id": "7e482bb271464c05be9d66538ba4e8ab",
       "version_major": 2,
       "version_minor": 0
      },
      "text/plain": [
       "interactive(children=(IntSlider(value=255, description='slice', max=511), Output()), _dom_classes=('widget-int…"
      ]
     },
     "metadata": {},
     "output_type": "display_data"
    }
   ],
   "source": [
    "#explore(raw_anat_img.numpy(), brain_mask.numpy())\n",
    "explore_3D_vol(raw_anat_img.numpy(), mask=brain_mask.numpy())"
   ]
  },
  {
   "cell_type": "markdown",
   "metadata": {},
   "source": [
    "Let's fine tune the mask a bit"
   ]
  },
  {
   "cell_type": "code",
   "execution_count": 13,
   "metadata": {},
   "outputs": [],
   "source": [
    "brain_mask_dilated = ants.morphology(brain_mask, radius=4, operation='dilate', mtype='binary')"
   ]
  },
  {
   "cell_type": "code",
   "execution_count": 14,
   "metadata": {},
   "outputs": [
    {
     "data": {
      "application/vnd.jupyter.widget-view+json": {
       "model_id": "af8e33e1f1ca4e9fbf89e33a9e5acb4a",
       "version_major": 2,
       "version_minor": 0
      },
      "text/plain": [
       "interactive(children=(IntSlider(value=255, description='slice', max=511), Output()), _dom_classes=('widget-int…"
      ]
     },
     "metadata": {},
     "output_type": "display_data"
    }
   ],
   "source": [
    "explore_3D_vol(raw_anat_img.numpy(), mask=brain_mask_dilated.numpy())"
   ]
  },
  {
   "cell_type": "markdown",
   "metadata": {},
   "source": [
    "# Mask the Image and Create Sections"
   ]
  },
  {
   "cell_type": "code",
   "execution_count": 15,
   "metadata": {},
   "outputs": [],
   "source": [
    "brain_anat = ants.mask_image(raw_anat_img, brain_mask_dilated)"
   ]
  },
  {
   "cell_type": "code",
   "execution_count": 16,
   "metadata": {},
   "outputs": [
    {
     "name": "stdout",
     "output_type": "stream",
     "text": [
      "ANTsImage (LPI)\n",
      "\t Pixel Type : float (float32)\n",
      "\t Components : 1\n",
      "\t Dimensions : (512, 512, 296)\n",
      "\t Spacing    : (0.4785, 0.4785, 0.5)\n",
      "\t Origin     : (119.989, 104.52, -84.2457)\n",
      "\t Direction  : [-1.      0.0025  0.     -0.0025 -1.      0.      0.      0.      1.    ]\n",
      "\n"
     ]
    },
    {
     "data": {
      "application/vnd.jupyter.widget-view+json": {
       "model_id": "604d2c0de09b41beac597203e1e94998",
       "version_major": 2,
       "version_minor": 0
      },
      "text/plain": [
       "interactive(children=(IntSlider(value=255, description='slice', max=511), Output()), _dom_classes=('widget-int…"
      ]
     },
     "metadata": {},
     "output_type": "display_data"
    }
   ],
   "source": [
    "print(brain_anat)\n",
    "explore_3D_vol(brain_anat.numpy())"
   ]
  },
  {
   "cell_type": "markdown",
   "metadata": {},
   "source": [
    "# Building Scivol"
   ]
  },
  {
   "cell_type": "markdown",
   "metadata": {},
   "source": [
    "Initialize the scivol object"
   ]
  },
  {
   "cell_type": "code",
   "execution_count": 17,
   "metadata": {},
   "outputs": [],
   "source": [
    "skullstrip = Scivol(\"skullstrip\")"
   ]
  },
  {
   "cell_type": "markdown",
   "metadata": {},
   "source": [
    "Create the volumes:"
   ]
  },
  {
   "cell_type": "code",
   "execution_count": 18,
   "metadata": {},
   "outputs": [],
   "source": [
    "full_anat_vol = create_normalized_volume(raw_anat_img.numpy())\n",
    "brain_anat_vol = create_normalized_volume(brain_anat.numpy())"
   ]
  },
  {
   "cell_type": "markdown",
   "metadata": {},
   "source": [
    "Create the grids:"
   ]
  },
  {
   "cell_type": "code",
   "execution_count": 19,
   "metadata": {},
   "outputs": [
    {
     "data": {
      "application/vnd.jupyter.widget-view+json": {
       "model_id": "4f1eaf00540547b7b31707b3f1080031",
       "version_major": 2,
       "version_minor": 0
      },
      "text/plain": [
       "interactive(children=(IntSlider(value=255, description='SLICE', max=511), Output()), _dom_classes=('widget-int…"
      ]
     },
     "metadata": {},
     "output_type": "display_data"
    },
    {
     "data": {
      "application/vnd.jupyter.widget-view+json": {
       "model_id": "9083c212388f4ea69a596dc35619f4ce",
       "version_major": 2,
       "version_minor": 0
      },
      "text/plain": [
       "interactive(children=(IntSlider(value=255, description='SLICE', max=511), Output()), _dom_classes=('widget-int…"
      ]
     },
     "metadata": {},
     "output_type": "display_data"
    }
   ],
   "source": [
    "explore_3D_array(full_anat_vol)\n",
    "explore_3D_array(brain_anat_vol)"
   ]
  },
  {
   "cell_type": "code",
   "execution_count": 20,
   "metadata": {},
   "outputs": [
    {
     "name": "stdout",
     "output_type": "stream",
     "text": [
      "writing full_anat to grid\n",
      "writing brain_anat to grid\n"
     ]
    }
   ],
   "source": [
    "skullstrip.add_grids([Grid(\"full_anat\",[full_anat_vol]), Grid(\"brain_anat\", [brain_anat_vol])])"
   ]
  },
  {
   "cell_type": "code",
   "execution_count": 21,
   "metadata": {},
   "outputs": [
    {
     "name": "stdout",
     "output_type": "stream",
     "text": [
      "skullstrip\n",
      "tolerance: 0.0\n",
      "affine: [[1. 0. 0. 0.]\n",
      " [0. 1. 0. 0.]\n",
      " [0. 0. 1. 0.]\n",
      " [0. 0. 0. 1.]]\n",
      "grids:\n",
      "    - full_anat\n",
      "    - brain_anat\n",
      "\n",
      "writing skullstrip scivol dictionary\n",
      "Encoding JSON file to utf-8\n",
      "saving skullstrip.scivol to /Users/joachimpfefferkorn/repos/neurovolume/output/\n"
     ]
    }
   ],
   "source": [
    "print(skullstrip)\n",
    "skullstrip.save_scivol(output_folder)"
   ]
  },
  {
   "cell_type": "markdown",
   "metadata": {},
   "source": [
    "Lets' quickly test this in our notebook"
   ]
  },
  {
   "cell_type": "code",
   "execution_count": 22,
   "metadata": {},
   "outputs": [],
   "source": [
    "test_compressed_file_path = \"/Users/joachimpfefferkorn/repos/neurovolume/output/skullstrip.scivol\"\n",
    "with gzip.open(test_compressed_file_path, 'r') as svin:\n",
    "    scivol_bytes = svin.read()\n",
    "scivol_str = scivol_bytes.decode('utf-8')"
   ]
  },
  {
   "cell_type": "code",
   "execution_count": 23,
   "metadata": {},
   "outputs": [],
   "source": [
    "scivol_dict = json.loads(scivol_str)"
   ]
  },
  {
   "cell_type": "code",
   "execution_count": 26,
   "metadata": {},
   "outputs": [
    {
     "name": "stdout",
     "output_type": "stream",
     "text": [
      "<class 'dict'>\n",
      "skullstrip\n",
      "['full_anat', 'brain_anat']\n",
      "<class 'numpy.ndarray'>\n"
     ]
    },
    {
     "data": {
      "application/vnd.jupyter.widget-view+json": {
       "model_id": "d12513ec31de486f82fea30811de43c5",
       "version_major": 2,
       "version_minor": 0
      },
      "text/plain": [
       "interactive(children=(IntSlider(value=255, description='slice', max=511), Output()), _dom_classes=('widget-int…"
      ]
     },
     "metadata": {},
     "output_type": "display_data"
    }
   ],
   "source": [
    "print(type(scivol_dict))\n",
    "print(scivol_dict['name'])\n",
    "print([grid for grid in scivol_dict['grids']])\n",
    "brain_anat_test_vol = np.asanyarray(scivol_dict['grids']['brain_anat']['frames'][0])\n",
    "print(type(brain_anat_test_vol))\n",
    "explore_3D_vol(brain_anat_test_vol)"
   ]
  },
  {
   "cell_type": "code",
   "execution_count": null,
   "metadata": {},
   "outputs": [
    {
     "data": {
      "application/vnd.jupyter.widget-view+json": {
       "model_id": "652ed61fbbeb45c19464aefab427bfaf",
       "version_major": 2,
       "version_minor": 0
      },
      "text/plain": [
       "interactive(children=(IntSlider(value=255, description='slice', max=511), Output()), _dom_classes=('widget-int…"
      ]
     },
     "metadata": {},
     "output_type": "display_data"
    }
   ],
   "source": [
    "explore_3D_vol(np.asanyarray(scivol_dict['grids']['full_anat']['frames'][0]))"
   ]
  }
 ],
 "metadata": {
  "kernelspec": {
   "display_name": ".venv",
   "language": "python",
   "name": "python3"
  },
  "language_info": {
   "codemirror_mode": {
    "name": "ipython",
    "version": 3
   },
   "file_extension": ".py",
   "mimetype": "text/x-python",
   "name": "python",
   "nbconvert_exporter": "python",
   "pygments_lexer": "ipython3",
   "version": "3.11.5"
  }
 },
 "nbformat": 4,
 "nbformat_minor": 2
}
