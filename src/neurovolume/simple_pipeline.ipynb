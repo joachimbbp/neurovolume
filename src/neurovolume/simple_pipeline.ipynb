{
 "cells": [
  {
   "cell_type": "code",
   "execution_count": 6,
   "metadata": {},
   "outputs": [],
   "source": [
    "import os\n",
    "import nibabel as nib\n",
    "import pylab as plt\n",
    "import numpy as np\n",
    "from nibabel.testing import data_path"
   ]
  },
  {
   "cell_type": "markdown",
   "metadata": {},
   "source": [
    "This is more or less from the `main` branch. Let's see if the old workflow, using blender, works"
   ]
  },
  {
   "cell_type": "code",
   "execution_count": 7,
   "metadata": {},
   "outputs": [],
   "source": [
    "from functions import *"
   ]
  },
  {
   "cell_type": "code",
   "execution_count": 8,
   "metadata": {},
   "outputs": [],
   "source": [
    "#Sets parent directory as per this repo's file structure. If you change the file structure, please modify accordingly.\n",
    "parent_directory = parent_directory()\n",
    "\n",
    "#Likewise, these input and output paths can be hard coded to your own datasets and outputs\n",
    "#Please note that the output file path will also need to be changed in the Blender file's script if you wish to use Blender.\n",
    "input_filepath = os.path.join(parent_directory, \"media/sub-01/anat/sub-01_T2w.nii.gz\")\n",
    "output_folder = os.path.join(parent_directory, \"output/\")"
   ]
  },
  {
   "cell_type": "code",
   "execution_count": 9,
   "metadata": {},
   "outputs": [],
   "source": [
    "brain_file = os.path.join(data_path, input_filepath)\n",
    "brain_img = nib.load(brain_file)\n",
    "brain_tensor = brain_img.get_fdata()\n",
    "normalized_brain_tensor = np.array(normalize_array(brain_tensor)) #Tensors for VDB must be normalized to 0.0-1.0"
   ]
  },
  {
   "cell_type": "markdown",
   "metadata": {},
   "source": [
    "Wow, that took much longer than `anat_pipeline`. Perhaps you are missing something over there?"
   ]
  },
  {
   "cell_type": "code",
   "execution_count": 10,
   "metadata": {},
   "outputs": [
    {
     "name": "stdout",
     "output_type": "stream",
     "text": [
      "512\n"
     ]
    }
   ],
   "source": [
    "#view_sagittal_slice(brain_tensor, 20, mpl.colormaps['tab20c'])\n",
    "\n",
    "print(len(brain_tensor[4]))"
   ]
  },
  {
   "cell_type": "code",
   "execution_count": null,
   "metadata": {},
   "outputs": [],
   "source": []
  }
 ],
 "metadata": {
  "kernelspec": {
   "display_name": ".venv",
   "language": "python",
   "name": "python3"
  },
  "language_info": {
   "codemirror_mode": {
    "name": "ipython",
    "version": 3
   },
   "file_extension": ".py",
   "mimetype": "text/x-python",
   "name": "python",
   "nbconvert_exporter": "python",
   "pygments_lexer": "ipython3",
   "version": "3.11.5"
  }
 },
 "nbformat": 4,
 "nbformat_minor": 2
}
