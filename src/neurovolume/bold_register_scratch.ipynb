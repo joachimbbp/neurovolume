{
 "cells": [
  {
   "cell_type": "markdown",
   "metadata": {},
   "source": [
    "# Setup"
   ]
  },
  {
   "cell_type": "code",
   "execution_count": 1,
   "metadata": {},
   "outputs": [
    {
     "name": "stdout",
     "output_type": "stream",
     "text": [
      "project root: /Users/joachimpfefferkorn/repos/neurovolume\n"
     ]
    }
   ],
   "source": [
    "from notebook_viewer_functions import *\n",
    "from functions import *\n",
    "from scivol import *\n",
    "import numpy as np\n",
    "import json\n",
    "import ants\n",
    "import gzip\n",
    "import matplotlib.pyplot as plt\n",
    "from ipywidgets import interact\n",
    "\n",
    "proj_root = parent_directory()\n",
    "print(f\"project root: {proj_root}\")\n",
    "t1_input_filepath = os.path.join(proj_root, \"media/sub-01/anat/sub-01_T1w.nii.gz\")\n",
    "bold_stim_filepath = os.path.join(proj_root, \"media/sub-01/func/sub-01_task-emotionalfaces_run-1_bold.nii.gz\")\n",
    "bold_rest_filepath = os.path.join(proj_root, \"media/sub-01/func/sub-01_task-rest_bold.nii.gz\")\n",
    "mni_anat_filepath =  os.path.join(proj_root, \"templates/mni_icbm152_t1_tal_nlin_sym_09a.nii\")\n",
    "mni_mask_filepath = os.path.join(proj_root, \"templates/mni_icbm152_t1_tal_nlin_sym_09a_mask.nii\")\n",
    "events_tsv_path = os.path.join(proj_root, \"media/sub-01/func/task-emotionalfaces_run-1_events.tsv\")\n",
    "stimulus_image_path = \"/Users/joachimpfefferkorn/repos/emotional-faces-psychopy-task-main/emofaces/POFA/fMRI_POFA\"\n",
    "log_path = \"/Users/joachimpfefferkorn/repos/emotional-faces-psychopy-task-main/emofaces/data/01-subject_emofaces1_2019_Aug_14_1903.log\"\n",
    "\n",
    "raw_t1_img = ants.image_read(t1_input_filepath)\n",
    "raw_stim_bold = ants.image_read(bold_stim_filepath)\n",
    "raw_rest_bold_img = ants.image_read(bold_rest_filepath)\n",
    "mni_img = ants.image_read(mni_anat_filepath)\n",
    "mni_mask_img = ants.image_read(mni_mask_filepath)"
   ]
  },
  {
   "cell_type": "markdown",
   "metadata": {},
   "source": [
    "# Test registration with one frame\n",
    "Somewhat adapted from a GPT response, let's first make sure that our registration applies to one frame."
   ]
  },
  {
   "cell_type": "code",
   "execution_count": 2,
   "metadata": {},
   "outputs": [],
   "source": [
    "bold_image = ants.image_read(bold_stim_filepath)  # Replace with your BOLD image path\n",
    "t1_image = ants.image_read(t1_input_filepath)     # Replace with your T1 image path"
   ]
  },
  {
   "cell_type": "code",
   "execution_count": 3,
   "metadata": {},
   "outputs": [],
   "source": [
    "test_slice = ants.from_numpy(bold_image.numpy()[:,:,:,0], spacing=bold_image.spacing[:3])"
   ]
  },
  {
   "cell_type": "code",
   "execution_count": 4,
   "metadata": {},
   "outputs": [
    {
     "name": "stdout",
     "output_type": "stream",
     "text": [
      "Test Slice Direction:\n",
      " [[1. 0. 0.]\n",
      " [0. 1. 0.]\n",
      " [0. 0. 1.]]\n",
      "T1 Image Direction:\n",
      " [[-0.99999677  0.00254     0.        ]\n",
      " [-0.00254    -0.99999677  0.        ]\n",
      " [ 0.          0.          1.        ]]\n",
      "Test Slice Origin: (0.0, 0.0, 0.0)\n",
      "T1 Image Origin: (119.98899841308594, 104.5199966430664, -84.24569702148438)\n"
     ]
    }
   ],
   "source": [
    "print(\"Test Slice Direction:\\n\", test_slice.direction)\n",
    "print(\"T1 Image Direction:\\n\", t1_image.direction)\n",
    "print(\"Test Slice Origin:\", test_slice.origin)\n",
    "print(\"T1 Image Origin:\", t1_image.origin)"
   ]
  },
  {
   "cell_type": "markdown",
   "metadata": {},
   "source": [
    "Oooh, these are different directions and origins! Thanks GPT!"
   ]
  },
  {
   "cell_type": "code",
   "execution_count": 5,
   "metadata": {},
   "outputs": [],
   "source": [
    "# test_slice.set_direction(t1_image.direction)\n",
    "# test_slice.set_origin(t1_image.origin)"
   ]
  },
  {
   "cell_type": "code",
   "execution_count": 6,
   "metadata": {},
   "outputs": [],
   "source": [
    "# slice_registration = ants.registration(\n",
    "#     fixed=t1_image,\n",
    "#     moving=test_slice,\n",
    "#     type_of_transform='Affine'  # You can also use 'Affine' or 'SyN' for deformable registration\n",
    "# )\n",
    "\n",
    "# bold_slice_registered = ants.apply_transforms(\n",
    "#     fixed=t1_image,\n",
    "#     moving=test_slice,\n",
    "#     transformlist=slice_registration['fwdtransforms'],\n",
    "#     interpolator='linear'\n",
    "# )"
   ]
  },
  {
   "cell_type": "code",
   "execution_count": 7,
   "metadata": {},
   "outputs": [],
   "source": [
    "def compare_bold_alignment(bold_frame_vol: np.ndarray, anat_vol: np.ndarray, cmap=default_cmap):\n",
    "    #Just doing the Z dimension for now\n",
    "    #No time, just a BOLD frame\n",
    "    def x_coord(slice_idx, opacity):\n",
    "        fig, axes = plt.subplots(1,3, figsize=(15,5))\n",
    "\n",
    "        axes[0].imshow(bold_frame_vol[:,:,slice_idx], cmap='hot')\n",
    "        axes[0].set_title('BOLD')\n",
    "\n",
    "        axes[1].imshow(anat_vol[:,:,slice_idx], cmap='gray')\n",
    "        axes[1].set_title('Anatomy')\n",
    "\n",
    "        axes[2].imshow(anat_vol[:,:,slice_idx], cmap='gray')\n",
    "        axes[2].imshow(bold_frame_vol[:,:,slice_idx], cmap='hot', alpha=opacity)\n",
    "        axes[2].set_title('Overlay')\n",
    "    interact(x_coord, slice_idx=(0, anat_vol.shape[2]-1), opacity=(0, 1.0))"
   ]
  },
  {
   "cell_type": "code",
   "execution_count": 8,
   "metadata": {},
   "outputs": [],
   "source": [
    "# compare_bold_alignment(bold_slice_registered.numpy(), t1_image.numpy())"
   ]
  },
  {
   "cell_type": "markdown",
   "metadata": {},
   "source": [
    "This looks pretty great!"
   ]
  },
  {
   "cell_type": "markdown",
   "metadata": {},
   "source": [
    "# Previous Failures\n",
    "This works! but many of the following things we have tried, have not:"
   ]
  },
  {
   "cell_type": "markdown",
   "metadata": {},
   "source": [
    "## Canonical Way, register all frames within one function\n",
    "\n",
    "The following does not (it crashes the kernel):\n",
    "\n",
    "````python\n",
    "bold_registered = ants.apply_transforms(\n",
    "    fixed=t1_image,\n",
    "    moving=bold_image,\n",
    "    transformlist=registration['fwdtransforms'],\n",
    "    interpolator='linear',\n",
    "    imagetype=3\n",
    ")\n",
    "````\n",
    "\n",
    "I suspect this has to do with a glitch on the image type 3 as this was also an issue yesterday. Perhaps open an issue on github\n",
    "\n",
    "As a workaround, let's use a loop to cycle through all the 4th dimensional stuff.\n",
    "\n",
    "Given the computational lift of registration, let's write them to a list\n",
    "\n",
    "## Gathering the Transforms, then registering\n",
    "The following code proved problematic:\n",
    "````python\n",
    "registrations = []\n",
    "for frame in range(bold_image.shape[3]):\n",
    "    print(f\"frame {frame}/{bold_image.shape[3]}\")\n",
    "    print(\" creating bold frame\")\n",
    "    bold_frame = ants.from_numpy(bold_image.numpy()[:,:,:,frame])\n",
    "\n",
    "    print(\" Registering bold frame to T1 image\")\n",
    "    registration = ants.registration(\n",
    "    fixed=t1_image,\n",
    "    moving=bold_frame,\n",
    "    type_of_transform='Rigid'  # You can also use 'Affine' or 'SyN' for deformable registration\n",
    "    )\n",
    "    registrations += registration #This is incorrect! It's just adding the var names\n",
    "````\n",
    "When trying to apply these registrations, I got strange behavior. I believe this is because these `registration` values might be getting garbled behind the scenes somewhere. To get around this, let's see if one big function that gathers registrations and applies them does the trick!"
   ]
  },
  {
   "cell_type": "markdown",
   "metadata": {},
   "source": [
    "Also, perhaps you could have made this a dictionary `img:transforms`"
   ]
  },
  {
   "cell_type": "markdown",
   "metadata": {},
   "source": [
    "# 4D Registration"
   ]
  },
  {
   "cell_type": "markdown",
   "metadata": {},
   "source": [
    "In order to test this, let's build a very short slice of the BOLD volume"
   ]
  },
  {
   "cell_type": "code",
   "execution_count": null,
   "metadata": {},
   "outputs": [],
   "source": [
    "def align_bold_to_t1(bold_img, t1_img):\n",
    "    result_np = np.empty((t1_image.shape[0], t1_image.shape[1], t1_image.shape[2], bold_img.shape[3]), dtype=np.float32) #you did change this from bold_image to bold_img right after it mysteriously worked, just fyi\n",
    "    template_bold = bold_img\n",
    "    for frame in range(bold_img.shape[3]):\n",
    "            print(f\"frame {frame}/{bold_img.shape[3]}\")\n",
    "            print(\" creating bold frame\")\n",
    "            bold_frame = ants.from_numpy(bold_img.numpy()[:,:,:,frame], spacing=bold_img.spacing[:3])\n",
    "            print(\" Setting direction and origin\")\n",
    "            bold_frame.set_direction(t1_img.direction)\n",
    "            bold_frame.set_origin(t1_img.origin)\n",
    "            print(\" Registering bold frame to T1 image\")\n",
    "            frame_registration = ants.registration(\n",
    "                fixed=t1_img,\n",
    "                moving=bold_frame,\n",
    "                type_of_transform='Affine'  # You can also use 'Affine' or 'SyN' for deformable registration\n",
    "            )\n",
    "            print(\" Applying transforms\")\n",
    "            bold_slice_registered = ants.apply_transforms(\n",
    "                fixed=t1_img,\n",
    "                moving=bold_frame,\n",
    "                transformlist=frame_registration['fwdtransforms'],\n",
    "                interpolator='linear'\n",
    "            )\n",
    "            print(\" Adding BOLD frame to np volume\")\n",
    "            #DEBUG STUFF\n",
    "            print(f\"    bold_slice_registered.numpy() shape {bold_slice_registered.numpy().shape}\")\n",
    "            print(f\"    result_np[:,:,:,frame] shape {result_np[:,:,:,frame].shape}\")\n",
    "            print(f\"    bold_slice_registered.numpy().dtype: {bold_slice_registered.numpy().dtype}\")\n",
    "            print(f\"    result_np.dtype: {result_np.dtype}\")\n",
    "            result_np[:,:,:,frame] = bold_slice_registered.numpy()\n",
    "            print(f\"Updating template_bold\")\n",
    "            template_bold = bold_slice_registered\n",
    "    print(\"All BOLD frames registered and stored in numpy arrays. Creating final image\")\n",
    "    bold_registered_img = ants.from_numpy(result_np, origin=template_bold.origin, spacing=template_bold.spacing, direction=template_bold.direction)\n",
    "    print(\"done\")\n",
    "    return bold_registered_img"
   ]
  },
  {
   "cell_type": "code",
   "execution_count": 10,
   "metadata": {},
   "outputs": [
    {
     "name": "stdout",
     "output_type": "stream",
     "text": [
      "ANTsImage\n",
      "\t Pixel Type : float (float32)\n",
      "\t Components : 1\n",
      "\t Dimensions : (64, 64, 35, 2)\n",
      "\t Spacing    : (4.0, 4.0, 4.0, 2.0)\n",
      "\t Origin     : (-127.953, 108.933, -74.8393, 0.0)\n",
      "\t Direction  : [ 1.  0.  0.  0.  0. -1.  0.  0.  0.  0.  1.  0.  0.  0.  0.  1.]\n",
      "\n",
      "ANTsImage\n",
      "\t Pixel Type : float (float32)\n",
      "\t Components : 1\n",
      "\t Dimensions : (64, 64, 35, 185)\n",
      "\t Spacing    : (4.0, 4.0, 4.0, 2.0)\n",
      "\t Origin     : (-127.953, 108.933, -74.8393, 0.0)\n",
      "\t Direction  : [ 1.  0.  0.  0.  0. -1.  0.  0.  0.  0.  1.  0.  0.  0.  0.  1.]\n",
      "\n"
     ]
    }
   ],
   "source": [
    "sliced = bold_image.numpy()[:, :, :, :2]\n",
    "bold_truncated_img = ants.from_numpy(sliced, spacing=bold_image.spacing, origin=bold_image.origin, direction=bold_image.direction)\n",
    "#hopefully the above args match all the metadata. I've printed to check but there might be some stuff hidden away\n",
    "print(bold_truncated_img)\n",
    "print(bold_image)"
   ]
  },
  {
   "cell_type": "code",
   "execution_count": 11,
   "metadata": {},
   "outputs": [
    {
     "name": "stdout",
     "output_type": "stream",
     "text": [
      "frame 0/2\n",
      " creating bold frame\n",
      " Setting direction and origin\n",
      " Registering bold frame to T1 image\n",
      " Applying transforms\n",
      " Adding BOLD frame to np volume\n",
      "    bold_slice_registered.numpy() shape (512, 512, 296)\n",
      "    result_np[:,:,:,frame] shape (512, 512, 296)\n",
      "    bold_slice_registered.numpy().dtype: float32\n",
      "    result_np.dtype: float32\n",
      "frame 1/2\n",
      " creating bold frame\n",
      " Setting direction and origin\n",
      " Registering bold frame to T1 image\n",
      " Applying transforms\n",
      " Adding BOLD frame to np volume\n",
      "    bold_slice_registered.numpy() shape (512, 512, 296)\n",
      "    result_np[:,:,:,frame] shape (512, 512, 296)\n",
      "    bold_slice_registered.numpy().dtype: float32\n",
      "    result_np.dtype: float32\n",
      "All BOLD frames registered and stored in numpy arrays. Creating final image\n"
     ]
    },
    {
     "ename": "NameError",
     "evalue": "name 'template_bold' is not defined",
     "output_type": "error",
     "traceback": [
      "\u001b[0;31m---------------------------------------------------------------------------\u001b[0m",
      "\u001b[0;31mNameError\u001b[0m                                 Traceback (most recent call last)",
      "Cell \u001b[0;32mIn[11], line 1\u001b[0m\n\u001b[0;32m----> 1\u001b[0m aligned_bold_seq \u001b[38;5;241m=\u001b[39m \u001b[43malign_bold_to_t1\u001b[49m\u001b[43m(\u001b[49m\u001b[43mbold_truncated_img\u001b[49m\u001b[43m,\u001b[49m\u001b[43m \u001b[49m\u001b[43mt1_image\u001b[49m\u001b[43m)\u001b[49m \u001b[38;5;66;03m#erroneously labeled np, these are in fact images\u001b[39;00m\n",
      "Cell \u001b[0;32mIn[9], line 31\u001b[0m, in \u001b[0;36malign_bold_to_t1\u001b[0;34m(bold_img, t1_img)\u001b[0m\n\u001b[1;32m     29\u001b[0m         result_np[:,:,:,frame] \u001b[38;5;241m=\u001b[39m bold_slice_registered\u001b[38;5;241m.\u001b[39mnumpy()\n\u001b[1;32m     30\u001b[0m \u001b[38;5;28mprint\u001b[39m(\u001b[38;5;124m\"\u001b[39m\u001b[38;5;124mAll BOLD frames registered and stored in numpy arrays. Creating final image\u001b[39m\u001b[38;5;124m\"\u001b[39m)\n\u001b[0;32m---> 31\u001b[0m bold_registered_img \u001b[38;5;241m=\u001b[39m ants\u001b[38;5;241m.\u001b[39mfrom_numpy(result_np, origin\u001b[38;5;241m=\u001b[39m\u001b[43mtemplate_bold\u001b[49m\u001b[38;5;241m.\u001b[39morigin, spacing\u001b[38;5;241m=\u001b[39mtemplate_bold\u001b[38;5;241m.\u001b[39mspacing, direction\u001b[38;5;241m=\u001b[39mtemplate_bold\u001b[38;5;241m.\u001b[39mdirection)\n\u001b[1;32m     32\u001b[0m \u001b[38;5;28mprint\u001b[39m(\u001b[38;5;124m\"\u001b[39m\u001b[38;5;124mdone\u001b[39m\u001b[38;5;124m\"\u001b[39m)\n\u001b[1;32m     33\u001b[0m \u001b[38;5;28;01mreturn\u001b[39;00m bold_registered_img\n",
      "\u001b[0;31mNameError\u001b[0m: name 'template_bold' is not defined"
     ]
    }
   ],
   "source": [
    "aligned_bold_seq = align_bold_to_t1(bold_truncated_img, t1_image) #erroneously labeled np, these are in fact images"
   ]
  },
  {
   "cell_type": "code",
   "execution_count": null,
   "metadata": {},
   "outputs": [],
   "source": []
  }
 ],
 "metadata": {
  "kernelspec": {
   "display_name": ".venv",
   "language": "python",
   "name": "python3"
  },
  "language_info": {
   "codemirror_mode": {
    "name": "ipython",
    "version": 3
   },
   "file_extension": ".py",
   "mimetype": "text/x-python",
   "name": "python",
   "nbconvert_exporter": "python",
   "pygments_lexer": "ipython3",
   "version": "3.11.5"
  }
 },
 "nbformat": 4,
 "nbformat_minor": 2
}
