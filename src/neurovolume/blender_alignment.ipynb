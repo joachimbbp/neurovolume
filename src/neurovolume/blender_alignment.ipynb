{
 "cells": [
  {
   "cell_type": "markdown",
   "metadata": {},
   "source": [
    "# Meta\n",
    "In this notebook we will save out the brain, skull, and fMRI activations to then align in blender"
   ]
  },
  {
   "cell_type": "markdown",
   "metadata": {},
   "source": [
    "# Setup"
   ]
  },
  {
   "cell_type": "code",
   "execution_count": 3,
   "metadata": {},
   "outputs": [],
   "source": [
    "from notebook_viewer_functions import *\n",
    "from functions import *\n",
    "import numpy as np\n",
    "import ants\n",
    "import matplotlib.pyplot as plt\n",
    "import os\n",
    "\n",
    "proj_root = parent_directory()\n",
    "t1_input_filepath = os.path.join(proj_root, \"media/sub-01/anat/sub-01_T1w.nii.gz\")\n",
    "bold_stim_filepath = os.path.join(proj_root, \"media/sub-01/func/sub-01_task-emotionalfaces_run-1_bold.nii.gz\")\n",
    "bold_rest_filepath = os.path.join(proj_root, \"media/sub-01/func/sub-01_task-rest_bold.nii.gz\")\n",
    "mni_anat_filepath =  os.path.join(proj_root, \"templates/mni_icbm152_t1_tal_nlin_sym_09a.nii\")\n",
    "mni_mask_filepath = os.path.join(proj_root, \"templates/mni_icbm152_t1_tal_nlin_sym_09a_mask.nii\")\n",
    "events_tsv_path = os.path.join(proj_root, \"media/sub-01/func/task-emotionalfaces_run-1_events.tsv\")\n",
    "stimulus_image_path = \"/Users/joachimpfefferkorn/repos/emotional-faces-psychopy-task-main/emofaces/POFA/fMRI_POFA\"\n",
    "log_path = \"/Users/joachimpfefferkorn/repos/emotional-faces-psychopy-task-main/emofaces/data/01-subject_emofaces1_2019_Aug_14_1903.log\"\n",
    "cache_folder = \"/Volumes/GlyphA_R1/nvol_cache\"\n",
    "template_folder =  os.path.join(proj_root, \"templates/\")\n",
    "output_folder = os.path.join(proj_root, \"output/blender_alignment\")\n",
    "\n",
    "bold_image = ants.image_read(bold_stim_filepath)\n",
    "t1_image = ants.image_read(t1_input_filepath)\n",
    "raw_rest_bold_img = ants.image_read(bold_rest_filepath)\n",
    "mni_template = ants.image_read(mni_anat_filepath)\n",
    "mni_mask = ants.image_read(mni_mask_filepath)"
   ]
  },
  {
   "cell_type": "code",
   "execution_count": null,
   "metadata": {},
   "outputs": [],
   "source": [
    "def create_4D_volume_MVP(experimental_4D, control_3D_test_variant, output_folder=\"/Users/joachimpfefferkorn/repos/neurovolume/output/npy_seq\"):\n",
    "    fmri_volume = np.zeros(experimental_4D.shape)\n",
    "    for time_index in range(experimental_4D.shape[3]):\n",
    "        # Use the experimental_4D data for the current time slice\n",
    "        current_slice = experimental_4D[:, :, :, time_index]\n",
    "        \n",
    "        # Calculate the density difference\n",
    "        density = diff_with_thresh_3D(control_3D_test_variant, current_slice)\n",
    "        \n",
    "        # Update the fmri_volume with the density values\n",
    "        fmri_volume[:, :, :, time_index] = density\n",
    "        \n",
    "        # Save the current time slice\n",
    "        vol_frame = \"{:03d}\".format(time_index)\n",
    "        np.save(f\"{output_folder}/fmri_{vol_frame}.npy\", fmri_volume[:, :, :, time_index])\n",
    "        print(f\"saved {vol_frame}\")"
   ]
  },
  {
   "cell_type": "code",
   "execution_count": null,
   "metadata": {},
   "outputs": [],
   "source": [
    "legacy_bold = create_4D_volume_MVP(bold_image.numpy(), bold_image.numpy()[:,:,:,0], output_folder=output_folder)"
   ]
  },
  {
   "cell_type": "code",
   "execution_count": 4,
   "metadata": {},
   "outputs": [
    {
     "name": "stdout",
     "output_type": "stream",
     "text": [
      "Creating brain mask\n"
     ]
    }
   ],
   "source": [
    "mask = generate_brain_mask(t1_image, mni_template, mni_mask)"
   ]
  },
  {
   "cell_type": "code",
   "execution_count": 5,
   "metadata": {},
   "outputs": [],
   "source": [
    "mask_vol = create_normalized_volume(mask.numpy())"
   ]
  },
  {
   "cell_type": "code",
   "execution_count": 6,
   "metadata": {},
   "outputs": [],
   "source": [
    "t1_vol = create_normalized_volume(t1_image.numpy())"
   ]
  },
  {
   "cell_type": "code",
   "execution_count": 7,
   "metadata": {},
   "outputs": [],
   "source": [
    "fmri_vol = create_normalized_volume(bold_image.numpy())"
   ]
  },
  {
   "cell_type": "code",
   "execution_count": 11,
   "metadata": {},
   "outputs": [
    {
     "name": "stdout",
     "output_type": "stream",
     "text": [
      "(64, 64, 35, 185)\n"
     ]
    }
   ],
   "source": [
    "print(fmri_vol.shape)"
   ]
  },
  {
   "cell_type": "markdown",
   "metadata": {},
   "source": [
    "The following names are important as they will be parsed"
   ]
  },
  {
   "cell_type": "code",
   "execution_count": 8,
   "metadata": {},
   "outputs": [],
   "source": [
    "with open(f'{output_folder}/mask.npy', 'wb') as f:\n",
    "    np.save(f, np.array(mask_vol))"
   ]
  },
  {
   "cell_type": "code",
   "execution_count": 9,
   "metadata": {},
   "outputs": [],
   "source": [
    "with open(f'{output_folder}/anat.npy', 'wb') as f:\n",
    "    np.save(f, np.array(t1_vol))"
   ]
  },
  {
   "cell_type": "code",
   "execution_count": 10,
   "metadata": {},
   "outputs": [],
   "source": [
    "with open(f'{output_folder}/bold.npy', 'wb') as f:\n",
    "    np.save(f, np.array(fmri_vol))"
   ]
  }
 ],
 "metadata": {
  "kernelspec": {
   "display_name": ".venv",
   "language": "python",
   "name": "python3"
  },
  "language_info": {
   "codemirror_mode": {
    "name": "ipython",
    "version": 3
   },
   "file_extension": ".py",
   "mimetype": "text/x-python",
   "name": "python",
   "nbconvert_exporter": "python",
   "pygments_lexer": "ipython3",
   "version": "3.11.5"
  }
 },
 "nbformat": 4,
 "nbformat_minor": 2
}
