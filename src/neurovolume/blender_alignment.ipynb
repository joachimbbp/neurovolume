{
 "cells": [
  {
   "cell_type": "markdown",
   "metadata": {},
   "source": [
    "# Meta\n",
    "In this notebook we will save out the brain, skull, and fMRI activations to then align in blender"
   ]
  },
  {
   "cell_type": "markdown",
   "metadata": {},
   "source": []
  },
  {
   "cell_type": "markdown",
   "metadata": {},
   "source": [
    "# Setup"
   ]
  },
  {
   "cell_type": "code",
   "execution_count": 1,
   "metadata": {},
   "outputs": [],
   "source": [
    "from notebook_viewer_functions import *\n",
    "from functions import *\n",
    "import numpy as np\n",
    "import ants\n",
    "import matplotlib.pyplot as plt\n",
    "import os\n",
    "\n",
    "proj_root = parent_directory()\n",
    "t1_input_filepath = os.path.join(proj_root, \"media/sub-01/anat/sub-01_T1w.nii.gz\")\n",
    "bold_stim_filepath = os.path.join(proj_root, \"media/sub-01/func/sub-01_task-emotionalfaces_run-1_bold.nii.gz\")\n",
    "bold_rest_filepath = os.path.join(proj_root, \"media/sub-01/func/sub-01_task-rest_bold.nii.gz\")\n",
    "mni_anat_filepath =  os.path.join(proj_root, \"templates/mni_icbm152_t1_tal_nlin_sym_09a.nii\")\n",
    "mni_mask_filepath = os.path.join(proj_root, \"templates/mni_icbm152_t1_tal_nlin_sym_09a_mask.nii\")\n",
    "events_tsv_path = os.path.join(proj_root, \"media/sub-01/func/task-emotionalfaces_run-1_events.tsv\")\n",
    "stimulus_image_path = \"/Users/joachimpfefferkorn/repos/emotional-faces-psychopy-task-main/emofaces/POFA/fMRI_POFA\"\n",
    "log_path = \"/Users/joachimpfefferkorn/repos/emotional-faces-psychopy-task-main/emofaces/data/01-subject_emofaces1_2019_Aug_14_1903.log\"\n",
    "cache_folder = \"/Volumes/GlyphA_R1/nvol_cache\"\n",
    "template_folder =  os.path.join(proj_root, \"templates/\")\n",
    "output_folder = os.path.join(proj_root, \"output/blender_alignment\")\n",
    "\n",
    "bold_image = ants.image_read(bold_stim_filepath)\n",
    "t1_image = ants.image_read(t1_input_filepath)\n",
    "raw_rest_bold_img = ants.image_read(bold_rest_filepath)\n",
    "mni_template = ants.image_read(mni_anat_filepath)\n",
    "mni_mask = ants.image_read(mni_mask_filepath)"
   ]
  },
  {
   "cell_type": "code",
   "execution_count": 2,
   "metadata": {},
   "outputs": [],
   "source": [
    "normalize = (lambda arr: (arr - np.min(arr)) / (np.max(arr) - np.min(arr)))"
   ]
  },
  {
   "cell_type": "code",
   "execution_count": null,
   "metadata": {},
   "outputs": [],
   "source": [
    "mask = generate_brain_mask(t1_image, mni_template, mni_mask)"
   ]
  },
  {
   "cell_type": "code",
   "execution_count": null,
   "metadata": {},
   "outputs": [],
   "source": [
    "mask_vol = create_normalized_volume(mask.numpy())"
   ]
  },
  {
   "cell_type": "code",
   "execution_count": 32,
   "metadata": {},
   "outputs": [],
   "source": [
    "og_t1_vol = create_normalized_volume(t1_image.numpy())"
   ]
  },
  {
   "cell_type": "code",
   "execution_count": 31,
   "metadata": {},
   "outputs": [],
   "source": [
    "og_bold_vol = create_normalized_volume(bold_image.numpy())"
   ]
  },
  {
   "cell_type": "markdown",
   "metadata": {},
   "source": [
    "# Skull Stripping and Thresholding"
   ]
  },
  {
   "cell_type": "markdown",
   "metadata": {},
   "source": [
    "## Thresholding BOLD"
   ]
  },
  {
   "cell_type": "code",
   "execution_count": 17,
   "metadata": {},
   "outputs": [],
   "source": [
    "#threshold = (lambda arr, thresh=0.1: np.where(arr <thresh, 0.0, arr))\n",
    "def threshold(arr, cutoff=0.3):\n",
    "    return np.where(arr<cutoff, 0.0, arr)"
   ]
  },
  {
   "cell_type": "markdown",
   "metadata": {},
   "source": [
    "Our bold skull stripping function isn't working too great, so let's just threshold it\n",
    "\n",
    "Of note, the color ramping in blender doesn't work. **Once it's there, the eyes are the most dense part, which seems to imply some data shifting when we change to vdb!**"
   ]
  },
  {
   "cell_type": "code",
   "execution_count": 24,
   "metadata": {},
   "outputs": [
    {
     "data": {
      "application/vnd.jupyter.widget-view+json": {
       "model_id": "61bc067cbed44cdaab4b804d92acf272",
       "version_major": 2,
       "version_minor": 0
      },
      "text/plain": [
       "interactive(children=(IntSlider(value=92, description='slice', max=184), Output()), _dom_classes=('widget-inte…"
      ]
     },
     "metadata": {},
     "output_type": "display_data"
    }
   ],
   "source": [
    "explore_3D_vol(og_bold_vol[30,:,:,:], dim='z')"
   ]
  },
  {
   "cell_type": "markdown",
   "metadata": {},
   "source": [
    "It seems to get rid of all the cerebellum and brain stem! But we'll still use this for testing"
   ]
  },
  {
   "cell_type": "code",
   "execution_count": 44,
   "metadata": {},
   "outputs": [
    {
     "data": {
      "application/vnd.jupyter.widget-view+json": {
       "model_id": "4926a98eee4244cfb436a0c00802a12f",
       "version_major": 2,
       "version_minor": 0
      },
      "text/plain": [
       "interactive(children=(IntSlider(value=92, description='slice', max=184), Output()), _dom_classes=('widget-inte…"
      ]
     },
     "metadata": {},
     "output_type": "display_data"
    }
   ],
   "source": [
    "bold_threshed_vol = threshold(og_bold_vol, cutoff=0.1)\n",
    "explore_3D_vol(bold_threshed_vol[30,:,:,:], dim='z')"
   ]
  },
  {
   "cell_type": "markdown",
   "metadata": {},
   "source": [
    "## Skull Stripping T1"
   ]
  },
  {
   "cell_type": "code",
   "execution_count": 74,
   "metadata": {},
   "outputs": [
    {
     "name": "stdout",
     "output_type": "stream",
     "text": [
      "Skull Stripping Anatomy Volume\n",
      "Registering template to frame\n",
      "Creating brain mask\n",
      "Dilating brain mask\n",
      "Masking brain\n",
      "Done\n"
     ]
    }
   ],
   "source": [
    "t1_brain_vol = create_normalized_volume(skull_strip_anat(t1_image, mni_template, mni_mask).numpy())\n",
    "# lil redundant as it's already normalized, but we'll fix that when we clean this up"
   ]
  },
  {
   "cell_type": "code",
   "execution_count": 75,
   "metadata": {},
   "outputs": [
    {
     "data": {
      "application/vnd.jupyter.widget-view+json": {
       "model_id": "d15fba98e3c341099b777f9533bb03b4",
       "version_major": 2,
       "version_minor": 0
      },
      "text/plain": [
       "interactive(children=(IntSlider(value=255, description='slice', max=511), Output()), _dom_classes=('widget-int…"
      ]
     },
     "metadata": {},
     "output_type": "display_data"
    }
   ],
   "source": [
    "explore_3D_vol(t1_brain_vol[:,:,:], dim='x', cmap='gray')"
   ]
  },
  {
   "cell_type": "markdown",
   "metadata": {},
   "source": [
    "# Method of Subtraction"
   ]
  },
  {
   "cell_type": "markdown",
   "metadata": {},
   "source": [
    "Don't forget the rest file is here:\n",
    "/Users/joachimpfefferkorn/repos/neurovolume/media/sub-01/func/sub-01_task-rest_bold.nii.gz\n",
    "\n",
    "\n",
    "**you need to start using it**\n"
   ]
  },
  {
   "cell_type": "markdown",
   "metadata": {},
   "source": [
    "**Should these functions, or any future \"more correct\" control subtraction functions use absolute**"
   ]
  },
  {
   "cell_type": "code",
   "execution_count": 58,
   "metadata": {},
   "outputs": [],
   "source": [
    "def subtract_previous_frame(bold_vol: np.ndarray):\n",
    "    result = np.empty_like(bold_vol)\n",
    "    for frame in range(bold_vol.shape[3]):\n",
    "        if frame == range(og_bold_vol.shape[3])[0]:\n",
    "            result[:,:,:,frame] = np.zeros_like(bold_vol[:,:,:,frame])\n",
    "        else:\n",
    "            result[:,:,:,frame] = bold_vol[:,:,:,frame] - bold_vol[:,:,:,frame-1]\n",
    "    return np.abs(result)\n"
   ]
  },
  {
   "cell_type": "code",
   "execution_count": 59,
   "metadata": {},
   "outputs": [],
   "source": [
    "def subtract_control_frame(bold_vol: np.ndarray, control_frame_idx: int):\n",
    "    result = np.empty_like(bold_vol)\n",
    "    for frame in range(bold_vol.shape[3]):\n",
    "        result[:,:,:,frame] = bold_vol[:,:,:,frame] - bold_vol[:,:,:,control_frame_idx]\n",
    "    return np.abs(result)"
   ]
  },
  {
   "cell_type": "code",
   "execution_count": 66,
   "metadata": {},
   "outputs": [
    {
     "name": "stdout",
     "output_type": "stream",
     "text": [
      "64\n"
     ]
    }
   ],
   "source": [
    "print(bold_vol.shape[0])"
   ]
  },
  {
   "cell_type": "code",
   "execution_count": 69,
   "metadata": {},
   "outputs": [],
   "source": [
    "def subtract_average_from_frame(bold_vol: np.ndarray, alignment_frame = False):\n",
    "    \"\"\"\n",
    "    An alignment frame is the average bold frame tacked on the last frame\n",
    "    You can use this for manually aligning to anatomy scans\n",
    "    \"\"\"\n",
    "    average = np.mean(bold_vol, axis=3)\n",
    "    if alignment_frame:\n",
    "        seq_len = bold_vol.shape[3]+1\n",
    "    else:\n",
    "        #result = np.empty_like(bold_vol)\n",
    "        seq_len = bold_vol.shape[3]\n",
    "\n",
    "    result = np.empty([bold_vol.shape[0], bold_vol.shape[1], bold_vol.shape[2], seq_len])\n",
    "\n",
    "    for frame in range(bold_vol.shape[3]):\n",
    "        result[:,:,:,frame] = bold_vol[:,:,:,frame] - average\n",
    "    \n",
    "    if alignment_frame:\n",
    "        result[:,:,:,seq_len-1] = average\n",
    "\n",
    "    return np.abs(result)"
   ]
  },
  {
   "cell_type": "code",
   "execution_count": 70,
   "metadata": {},
   "outputs": [],
   "source": [
    "diffed_bold = subtract_average_from_frame(bold_threshed_vol, alignment_frame=True)"
   ]
  },
  {
   "cell_type": "code",
   "execution_count": 71,
   "metadata": {},
   "outputs": [
    {
     "data": {
      "application/vnd.jupyter.widget-view+json": {
       "model_id": "0053649a305f44c99c059b0bcabb8cbc",
       "version_major": 2,
       "version_minor": 0
      },
      "text/plain": [
       "interactive(children=(IntSlider(value=92, description='slice', max=185), Output()), _dom_classes=('widget-inte…"
      ]
     },
     "metadata": {},
     "output_type": "display_data"
    }
   ],
   "source": [
    "explore_3D_vol(diffed_bold[30,:,:,:], dim='z', cmap=\"gray\")"
   ]
  },
  {
   "cell_type": "markdown",
   "metadata": {},
   "source": [
    "# Exports"
   ]
  },
  {
   "cell_type": "code",
   "execution_count": 19,
   "metadata": {},
   "outputs": [],
   "source": [
    "with open(f'{output_folder}/mask.npy', 'wb') as f:\n",
    "    np.save(f, np.array(mask_vol))"
   ]
  },
  {
   "cell_type": "code",
   "execution_count": 78,
   "metadata": {},
   "outputs": [],
   "source": [
    "with open(f'{output_folder}/anat.npy', 'wb') as f:\n",
    "    np.save(f, np.array(og_t1_vol))"
   ]
  },
  {
   "cell_type": "code",
   "execution_count": 76,
   "metadata": {},
   "outputs": [],
   "source": [
    "with open(f'{output_folder}/bold.npy', 'wb') as f:\n",
    "    np.save(f, np.array(diffed_bold))"
   ]
  },
  {
   "cell_type": "code",
   "execution_count": 77,
   "metadata": {},
   "outputs": [],
   "source": [
    "with open(f'{output_folder}/anat_brain.npy', 'wb') as f:\n",
    "    np.save(f, np.array(t1_brain_vol))"
   ]
  }
 ],
 "metadata": {
  "kernelspec": {
   "display_name": ".venv",
   "language": "python",
   "name": "python3"
  },
  "language_info": {
   "codemirror_mode": {
    "name": "ipython",
    "version": 3
   },
   "file_extension": ".py",
   "mimetype": "text/x-python",
   "name": "python",
   "nbconvert_exporter": "python",
   "pygments_lexer": "ipython3",
   "version": "3.11.5"
  }
 },
 "nbformat": 4,
 "nbformat_minor": 2
}
