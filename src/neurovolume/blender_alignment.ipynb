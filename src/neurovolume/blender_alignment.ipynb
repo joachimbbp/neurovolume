{
 "cells": [
  {
   "cell_type": "markdown",
   "metadata": {},
   "source": [
    "# Meta\n",
    "In this notebook we will save out the brain, skull, and fMRI activations to then align in blender"
   ]
  },
  {
   "cell_type": "markdown",
   "metadata": {},
   "source": [
    "# Setup"
   ]
  },
  {
   "cell_type": "code",
   "execution_count": 29,
   "metadata": {},
   "outputs": [],
   "source": [
    "from notebook_viewer_functions import *\n",
    "from functions import *\n",
    "import numpy as np\n",
    "import ants\n",
    "import matplotlib.pyplot as plt\n",
    "import os\n",
    "\n",
    "proj_root = parent_directory()\n",
    "t1_input_filepath = os.path.join(proj_root, \"media/sub-01/anat/sub-01_T1w.nii.gz\")\n",
    "bold_stim_filepath = os.path.join(proj_root, \"media/sub-01/func/sub-01_task-emotionalfaces_run-1_bold.nii.gz\")\n",
    "bold_rest_filepath = os.path.join(proj_root, \"media/sub-01/func/sub-01_task-rest_bold.nii.gz\")\n",
    "mni_anat_filepath =  os.path.join(proj_root, \"templates/mni_icbm152_t1_tal_nlin_sym_09a.nii\")\n",
    "mni_mask_filepath = os.path.join(proj_root, \"templates/mni_icbm152_t1_tal_nlin_sym_09a_mask.nii\")\n",
    "events_tsv_path = os.path.join(proj_root, \"media/sub-01/func/task-emotionalfaces_run-1_events.tsv\")\n",
    "stimulus_image_path = \"/Users/joachimpfefferkorn/repos/emotional-faces-psychopy-task-main/emofaces/POFA/fMRI_POFA\"\n",
    "log_path = \"/Users/joachimpfefferkorn/repos/emotional-faces-psychopy-task-main/emofaces/data/01-subject_emofaces1_2019_Aug_14_1903.log\"\n",
    "cache_folder = \"/Volumes/GlyphA_R1/nvol_cache\"\n",
    "template_folder =  os.path.join(proj_root, \"templates/\")\n",
    "output_folder = os.path.join(proj_root, \"output/blender_alignment\")\n",
    "\n",
    "bold_image = ants.image_read(bold_stim_filepath)\n",
    "t1_image = ants.image_read(t1_input_filepath)\n",
    "raw_rest_bold_img = ants.image_read(bold_rest_filepath)\n",
    "mni_template = ants.image_read(mni_anat_filepath)\n",
    "mni_mask = ants.image_read(mni_mask_filepath)"
   ]
  },
  {
   "cell_type": "code",
   "execution_count": null,
   "metadata": {},
   "outputs": [],
   "source": [
    "mask = generate_brain_mask(t1_image, mni_template, mni_mask)"
   ]
  },
  {
   "cell_type": "code",
   "execution_count": null,
   "metadata": {},
   "outputs": [],
   "source": [
    "mask_vol = create_normalized_volume(mask.numpy())"
   ]
  },
  {
   "cell_type": "code",
   "execution_count": 6,
   "metadata": {},
   "outputs": [],
   "source": [
    "t1_vol = create_normalized_volume(t1_image.numpy())"
   ]
  },
  {
   "cell_type": "markdown",
   "metadata": {},
   "source": [
    "**Obvs still need to do method of subtraction on the vdb**"
   ]
  },
  {
   "cell_type": "code",
   "execution_count": 5,
   "metadata": {},
   "outputs": [],
   "source": [
    "fmri_vol = create_normalized_volume(bold_image.numpy())"
   ]
  },
  {
   "cell_type": "code",
   "execution_count": 58,
   "metadata": {},
   "outputs": [],
   "source": [
    "normalize = (lambda arr: (arr - np.min(arr)) / (np.max(arr) - np.min(arr)))"
   ]
  },
  {
   "cell_type": "code",
   "execution_count": 73,
   "metadata": {},
   "outputs": [],
   "source": [
    "def subtract_average_from_frame(bold_vol: np.ndarray):\n",
    "\n",
    "    average = np.mean(bold_vol, axis=3)\n",
    "    result = np.empty_like(bold_vol)\n",
    "    for frame in range(bold_vol.shape[3]):\n",
    "        result[:,:,:,frame] = bold_vol[:,:,:,frame] - average\n",
    "    return result"
   ]
  },
  {
   "cell_type": "code",
   "execution_count": 74,
   "metadata": {},
   "outputs": [],
   "source": [
    "def subtract_previous_frame(bold_vol: np.ndarray):\n",
    "    result = np.empty_like(bold_vol)\n",
    "    for frame in range(bold_vol.shape[3]):\n",
    "        if frame == range(fmri_vol.shape[3])[0]:\n",
    "            result[:,:,:,frame] = np.zeros_like(bold_vol[:,:,:,frame])\n",
    "        else:\n",
    "            result[:,:,:,frame] = bold_vol[:,:,:,frame] - bold_vol[:,:,:,frame-1]\n",
    "    return result\n"
   ]
  },
  {
   "cell_type": "code",
   "execution_count": 83,
   "metadata": {},
   "outputs": [],
   "source": [
    "def subtract_control_frame(bold_vol: np.ndarray, control_frame_idx: int):\n",
    "    result = np.empty_like(bold_vol)\n",
    "    for frame in range(bold_vol.shape[3]):\n",
    "        result[:,:,:,frame] = bold_vol[:,:,:,frame] - bold_vol[:,:,:,control_frame_idx]\n",
    "    return result"
   ]
  },
  {
   "cell_type": "code",
   "execution_count": 103,
   "metadata": {},
   "outputs": [],
   "source": [
    "#threshold = (lambda arr, thresh=0.1: np.where(arr <thresh, 0.0, arr))\n",
    "threshold = (lambda arr : np.where(arr < 0.3, 0.0, arr))"
   ]
  },
  {
   "cell_type": "code",
   "execution_count": 109,
   "metadata": {},
   "outputs": [],
   "source": [
    "diffed_bold = threshold(normalize(subtract_control_frame(fmri_vol, 1)))"
   ]
  },
  {
   "cell_type": "code",
   "execution_count": 110,
   "metadata": {},
   "outputs": [
    {
     "data": {
      "application/vnd.jupyter.widget-view+json": {
       "model_id": "4fdc3ea5fa954de2ae69d312a09c380f",
       "version_major": 2,
       "version_minor": 0
      },
      "text/plain": [
       "interactive(children=(IntSlider(value=92, description='slice', max=184), Output()), _dom_classes=('widget-inte…"
      ]
     },
     "metadata": {},
     "output_type": "display_data"
    }
   ],
   "source": [
    "explore_3D_vol(diffed_bold[30,:,:,:], dim='z')"
   ]
  },
  {
   "cell_type": "code",
   "execution_count": 19,
   "metadata": {},
   "outputs": [],
   "source": [
    "with open(f'{output_folder}/mask.npy', 'wb') as f:\n",
    "    np.save(f, np.array(mask_vol))"
   ]
  },
  {
   "cell_type": "code",
   "execution_count": 20,
   "metadata": {},
   "outputs": [],
   "source": [
    "with open(f'{output_folder}/anat.npy', 'wb') as f:\n",
    "    np.save(f, np.array(t1_vol))"
   ]
  },
  {
   "cell_type": "code",
   "execution_count": 14,
   "metadata": {},
   "outputs": [],
   "source": [
    "with open(f'{output_folder}/bold.npy', 'wb') as f:\n",
    "    np.save(f, np.array(diffed_bold))"
   ]
  },
  {
   "cell_type": "markdown",
   "metadata": {},
   "source": []
  }
 ],
 "metadata": {
  "kernelspec": {
   "display_name": ".venv",
   "language": "python",
   "name": "python3"
  },
  "language_info": {
   "codemirror_mode": {
    "name": "ipython",
    "version": 3
   },
   "file_extension": ".py",
   "mimetype": "text/x-python",
   "name": "python",
   "nbconvert_exporter": "python",
   "pygments_lexer": "ipython3",
   "version": "3.11.5"
  }
 },
 "nbformat": 4,
 "nbformat_minor": 2
}
