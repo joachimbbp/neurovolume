{
 "cells": [
  {
   "cell_type": "code",
   "execution_count": 6,
   "metadata": {},
   "outputs": [],
   "source": [
    "import os\n",
    "import ants"
   ]
  },
  {
   "cell_type": "code",
   "execution_count": 2,
   "metadata": {},
   "outputs": [],
   "source": [
    "# anat_path = input('Enter path for Anatomy Scan:\\n')\n",
    "# bold_stim_path = input('Enter path for BOLD Stimuli Scan:\\n')\n",
    "# bold_rest_path = input('Enter path for BOLD Rest Path')\n",
    "# mni_template_path = input('Enter path for MNI Template:\\n')\n",
    "# mni_mask_img = input('Enter path for MNI Mask:\\n')"
   ]
  },
  {
   "cell_type": "code",
   "execution_count": 8,
   "metadata": {},
   "outputs": [],
   "source": [
    "# For testing purposes so you don't have to keep typing stuff in\n",
    "parent_dir = (lambda: os.path.dirname(os.path.dirname(os.getcwd())))\n",
    "anat_path = os.path.join(parent_dir(), \"media/sub-01/anat/sub-01_T1w.nii.gz\")\n",
    "bold_stim_path = os.path.join(parent_dir(), \"media/sub-01/func/sub-01_task-emotionalfaces_run-1_bold.nii.gz\")\n",
    "bold_rest_path = os.path.join(parent_dir(), \"media/sub-01/func/sub-01_task-rest_bold.nii.gz\")\n",
    "mni_template_path =  os.path.join(parent_dir(), \"templates/mni_icbm152_t1_tal_nlin_sym_09a.nii\")\n",
    "mni_mask_path = os.path.join(parent_dir(), \"templates/mni_icbm152_t1_tal_nlin_sym_09a_mask.nii\")"
   ]
  },
  {
   "cell_type": "code",
   "execution_count": 9,
   "metadata": {},
   "outputs": [
    {
     "name": "stdout",
     "output_type": "stream",
     "text": [
      "/Users/joachimpfefferkorn/repos/neurovolume/media/sub-01/anat/sub-01_T1w.nii.gz /Users/joachimpfefferkorn/repos/neurovolume/media/sub-01/func/sub-01_task-emotionalfaces_run-1_bold.nii.gz /Users/joachimpfefferkorn/repos/neurovolume/media/sub-01/func/sub-01_task-rest_bold.nii.gz /Users/joachimpfefferkorn/repos/neurovolume/templates/mni_icbm152_t1_tal_nlin_sym_09a.nii /Users/joachimpfefferkorn/repos/neurovolume/templates/mni_icbm152_t1_tal_nlin_sym_09a_mask.nii\n"
     ]
    }
   ],
   "source": [
    "#  quick debug\n",
    "print(anat_path, bold_stim_path, bold_rest_path, mni_template_path, mni_mask_path)"
   ]
  },
  {
   "cell_type": "code",
   "execution_count": 22,
   "metadata": {},
   "outputs": [],
   "source": [
    "# bold_stim_img = ants.image_read(bold_stim_path)\n",
    "# # bold_rest_img = ants.image_read(bold_rest_path)\n",
    "# anat_img_string = ants.image_read(anat_path)\n",
    "# mni_template_img = ants.image_read(mni_template_path)\n",
    "# mni_mask_img = ants.image_read(mni_mask_path)"
   ]
  },
  {
   "cell_type": "code",
   "execution_count": 20,
   "metadata": {},
   "outputs": [],
   "source": [
    "import json"
   ]
  },
  {
   "cell_type": "markdown",
   "metadata": {},
   "source": [
    "Lets get some metadata"
   ]
  },
  {
   "cell_type": "code",
   "execution_count": 46,
   "metadata": {},
   "outputs": [
    {
     "name": "stdout",
     "output_type": "stream",
     "text": [
      "/Users/joachimpfefferkorn/repos/neurovolume/media/sub-01/anat/sub-01_T1w.nii.gz\n",
      "sub-01_T1w.nii.gz\n"
     ]
    }
   ],
   "source": [
    "print(anat_path)\n",
    "print(os.path.basename(anat_path).split()[0])"
   ]
  },
  {
   "cell_type": "code",
   "execution_count": 51,
   "metadata": {},
   "outputs": [],
   "source": [
    "def extract_metadata(ants_img_path, output_folder=\"/Users/joachimpfefferkorn/repos/neurovolume/output\"):\n",
    "    ants_img = ants.image_read(ants_img_path)\n",
    "    filename = os.path.basename(ants_img_path.split('.')[0])\n",
    "    info = str(ants_img).split('\\n')\n",
    "\n",
    "    metadata = {}\n",
    "    for idx, entry in enumerate(info):\n",
    "        strips = entry.strip().split(\":\")\n",
    "        if len(strips) == 1 and idx==0:\n",
    "            metadata[\"Header\"] = strips[0].strip()\n",
    "        elif len(strips) == 2:\n",
    "            key, value = strips\n",
    "            metadata[key.strip()] = value\n",
    "        else:\n",
    "            continue\n",
    "    metadata_json = json.dumps(metadata)\n",
    "    with open(f'{output_folder}/{filename}.json', 'w') as outfile:\n",
    "        outfile.write(metadata_json)"
   ]
  },
  {
   "cell_type": "code",
   "execution_count": 52,
   "metadata": {},
   "outputs": [
    {
     "ename": "NameError",
     "evalue": "name 'filepath' is not defined",
     "output_type": "error",
     "traceback": [
      "\u001b[0;31m---------------------------------------------------------------------------\u001b[0m",
      "\u001b[0;31mNameError\u001b[0m                                 Traceback (most recent call last)",
      "Cell \u001b[0;32mIn[52], line 1\u001b[0m\n\u001b[0;32m----> 1\u001b[0m \u001b[43mextract_metadata\u001b[49m\u001b[43m(\u001b[49m\u001b[43manat_path\u001b[49m\u001b[43m)\u001b[49m\n",
      "Cell \u001b[0;32mIn[51], line 17\u001b[0m, in \u001b[0;36mextract_metadata\u001b[0;34m(ants_img_path, output_folder)\u001b[0m\n\u001b[1;32m     15\u001b[0m         \u001b[38;5;28;01mcontinue\u001b[39;00m\n\u001b[1;32m     16\u001b[0m metadata_json \u001b[38;5;241m=\u001b[39m json\u001b[38;5;241m.\u001b[39mdumps(metadata)\n\u001b[0;32m---> 17\u001b[0m \u001b[38;5;28mprint\u001b[39m(\u001b[38;5;124mf\u001b[39m\u001b[38;5;124m'\u001b[39m\u001b[38;5;124moutput path \u001b[39m\u001b[38;5;132;01m{\u001b[39;00m\u001b[43mfilepath\u001b[49m\u001b[38;5;132;01m}\u001b[39;00m\u001b[38;5;124m'\u001b[39m)\n\u001b[1;32m     18\u001b[0m \u001b[38;5;28;01mwith\u001b[39;00m \u001b[38;5;28mopen\u001b[39m(\u001b[38;5;124mf\u001b[39m\u001b[38;5;124m'\u001b[39m\u001b[38;5;132;01m{\u001b[39;00moutput_folder\u001b[38;5;132;01m}\u001b[39;00m\u001b[38;5;124m/\u001b[39m\u001b[38;5;132;01m{\u001b[39;00mfilename\u001b[38;5;132;01m}\u001b[39;00m\u001b[38;5;124m.json\u001b[39m\u001b[38;5;124m'\u001b[39m, \u001b[38;5;124m'\u001b[39m\u001b[38;5;124mw\u001b[39m\u001b[38;5;124m'\u001b[39m) \u001b[38;5;28;01mas\u001b[39;00m outfile:\n\u001b[1;32m     19\u001b[0m     outfile\u001b[38;5;241m.\u001b[39mwrite(metadata_json)\n",
      "\u001b[0;31mNameError\u001b[0m: name 'filepath' is not defined"
     ]
    }
   ],
   "source": [
    "extract_metadata(anat_path)"
   ]
  },
  {
   "cell_type": "markdown",
   "metadata": {},
   "source": [
    "🤔\n",
    "\n",
    "Should these be normalized at this stage? maybe not? maybe do that in blender with numpy?"
   ]
  },
  {
   "cell_type": "code",
   "execution_count": 8,
   "metadata": {},
   "outputs": [],
   "source": [
    "t1_vol = create_volume(ants_img_string.numpy())\n",
    "bold_stim_vol = create_volume(bold_stim_img.numpy())"
   ]
  },
  {
   "cell_type": "code",
   "execution_count": 9,
   "metadata": {},
   "outputs": [],
   "source": [
    "bold_rest_vol = create_volume(bold_rest_img.numpy())"
   ]
  },
  {
   "cell_type": "code",
   "execution_count": 10,
   "metadata": {},
   "outputs": [
    {
     "name": "stdout",
     "output_type": "stream",
     "text": [
      "Creating brain mask\n"
     ]
    }
   ],
   "source": [
    "mask = generate_brain_mask(ants_img_string, mni_template_img, mni_mask_img)\n",
    "mask_vol = create_volume(mask.numpy())"
   ]
  },
  {
   "cell_type": "markdown",
   "metadata": {},
   "source": [
    "# Quick Viewer Sanity checks"
   ]
  },
  {
   "cell_type": "code",
   "execution_count": 11,
   "metadata": {},
   "outputs": [
    {
     "data": {
      "application/vnd.jupyter.widget-view+json": {
       "model_id": "418a100fdb9c405bbae53ef69236c49e",
       "version_major": 2,
       "version_minor": 0
      },
      "text/plain": [
       "interactive(children=(IntSlider(value=147, description='slice', max=295), Output()), _dom_classes=('widget-int…"
      ]
     },
     "metadata": {},
     "output_type": "display_data"
    }
   ],
   "source": [
    "explore_3D_vol(t1_vol[:,:,:], dim='z')"
   ]
  },
  {
   "cell_type": "code",
   "execution_count": null,
   "metadata": {},
   "outputs": [],
   "source": [
    "explore_3D_vol(mask_vol, dim='z')"
   ]
  },
  {
   "cell_type": "code",
   "execution_count": null,
   "metadata": {},
   "outputs": [],
   "source": [
    "explore_3D_vol(bold_stim_vol[30,:,:,:], dim='z')"
   ]
  },
  {
   "cell_type": "code",
   "execution_count": null,
   "metadata": {},
   "outputs": [],
   "source": [
    "explore_3D_vol(bold_rest_vol[30,:,:,:], dim='z')"
   ]
  },
  {
   "cell_type": "markdown",
   "metadata": {},
   "source": [
    "# Back to our Regularly Scheduled Programming"
   ]
  },
  {
   "cell_type": "code",
   "execution_count": 72,
   "metadata": {},
   "outputs": [],
   "source": [
    "def get_name(var):\n",
    "    \"\"\"\n",
    "    Returns the name of a variable\n",
    "    \"\"\"\n",
    "    for name, value in globals().items():\n",
    "        if value is var:\n",
    "            return name"
   ]
  },
  {
   "cell_type": "code",
   "execution_count": null,
   "metadata": {},
   "outputs": [],
   "source": [
    "print(get_name(t1_vol))"
   ]
  },
  {
   "cell_type": "code",
   "execution_count": 77,
   "metadata": {},
   "outputs": [],
   "source": [
    "def save_npy(vol: np.ndarray, output_folder: str):\n",
    "    with open(f'{output_folder}/{get_name(vol)}.npy', 'wb') as f:\n",
    "        np.save(f, np.array(vol))"
   ]
  },
  {
   "cell_type": "code",
   "execution_count": 78,
   "metadata": {},
   "outputs": [],
   "source": [
    "output_folder = \"/Users/joachimpfefferkorn/repos/neurovolume/output\""
   ]
  },
  {
   "cell_type": "code",
   "execution_count": 79,
   "metadata": {},
   "outputs": [],
   "source": [
    "save_npy(t1_vol, output_folder)"
   ]
  },
  {
   "cell_type": "markdown",
   "metadata": {},
   "source": [
    "# View Exports dummy check"
   ]
  },
  {
   "cell_type": "code",
   "execution_count": 2,
   "metadata": {},
   "outputs": [],
   "source": [
    "import numpy as np"
   ]
  },
  {
   "cell_type": "code",
   "execution_count": 3,
   "metadata": {},
   "outputs": [],
   "source": [
    "anatomy_check =  np.load(\"/Users/joachimpfefferkorn/repos/neurovolume/output/anat.npy\")"
   ]
  },
  {
   "cell_type": "code",
   "execution_count": 11,
   "metadata": {},
   "outputs": [
    {
     "data": {
      "application/vnd.jupyter.widget-view+json": {
       "model_id": "8d2795cbe8b146dcb5a4f6516926ce26",
       "version_major": 2,
       "version_minor": 0
      },
      "text/plain": [
       "interactive(children=(IntSlider(value=147, description='slice', max=295), Output()), _dom_classes=('widget-int…"
      ]
     },
     "metadata": {},
     "output_type": "display_data"
    }
   ],
   "source": [
    "explore_3D_vol(anatomy_check[:,:,:], dim='z')"
   ]
  },
  {
   "cell_type": "code",
   "execution_count": null,
   "metadata": {},
   "outputs": [],
   "source": []
  }
 ],
 "metadata": {
  "kernelspec": {
   "display_name": ".venv",
   "language": "python",
   "name": "python3"
  },
  "language_info": {
   "codemirror_mode": {
    "name": "ipython",
    "version": 3
   },
   "file_extension": ".py",
   "mimetype": "text/x-python",
   "name": "python",
   "nbconvert_exporter": "python",
   "pygments_lexer": "ipython3",
   "version": "3.11.5"
  }
 },
 "nbformat": 4,
 "nbformat_minor": 2
}
