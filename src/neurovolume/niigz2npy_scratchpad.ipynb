{
 "cells": [
  {
   "cell_type": "code",
   "execution_count": 1,
   "metadata": {},
   "outputs": [],
   "source": [
    "import os\n",
    "import ants"
   ]
  },
  {
   "cell_type": "code",
   "execution_count": 2,
   "metadata": {},
   "outputs": [],
   "source": [
    "# anat_path = input('Enter path for Anatomy Scan:\\n')\n",
    "# bold_stim_path = input('Enter path for BOLD Stimuli Scan:\\n')\n",
    "# bold_rest_path = input('Enter path for BOLD Rest Path')\n",
    "# mni_template_path = input('Enter path for MNI Template:\\n')\n",
    "# mni_mask_img = input('Enter path for MNI Mask:\\n')"
   ]
  },
  {
   "cell_type": "code",
   "execution_count": 3,
   "metadata": {},
   "outputs": [],
   "source": [
    "# For testing purposes so you don't have to keep typing stuff in\n",
    "parent_dir = (lambda: os.path.dirname(os.path.dirname(os.getcwd())))\n",
    "anat_path = os.path.join(parent_dir(), \"media/sub-01/anat/sub-01_T1w.nii.gz\")\n",
    "bold_stim_path = os.path.join(parent_dir(), \"media/sub-01/func/sub-01_task-emotionalfaces_run-1_bold.nii.gz\")\n",
    "bold_rest_path = os.path.join(parent_dir(), \"media/sub-01/func/sub-01_task-rest_bold.nii.gz\")\n",
    "mni_template_path =  os.path.join(parent_dir(), \"templates/mni_icbm152_t1_tal_nlin_sym_09a.nii\")\n",
    "mni_mask_path = os.path.join(parent_dir(), \"templates/mni_icbm152_t1_tal_nlin_sym_09a_mask.nii\")"
   ]
  },
  {
   "cell_type": "code",
   "execution_count": 4,
   "metadata": {},
   "outputs": [
    {
     "name": "stdout",
     "output_type": "stream",
     "text": [
      "/Users/joachimpfefferkorn/repos/neurovolume/media/sub-01/anat/sub-01_T1w.nii.gz /Users/joachimpfefferkorn/repos/neurovolume/media/sub-01/func/sub-01_task-emotionalfaces_run-1_bold.nii.gz /Users/joachimpfefferkorn/repos/neurovolume/media/sub-01/func/sub-01_task-rest_bold.nii.gz /Users/joachimpfefferkorn/repos/neurovolume/templates/mni_icbm152_t1_tal_nlin_sym_09a.nii /Users/joachimpfefferkorn/repos/neurovolume/templates/mni_icbm152_t1_tal_nlin_sym_09a_mask.nii\n"
     ]
    }
   ],
   "source": [
    "#  quick debug\n",
    "print(anat_path, bold_stim_path, bold_rest_path, mni_template_path, mni_mask_path)"
   ]
  },
  {
   "cell_type": "code",
   "execution_count": 5,
   "metadata": {},
   "outputs": [],
   "source": [
    "bold_stim_img = ants.image_read(bold_stim_path)\n",
    "# bold_rest_img = ants.image_read(bold_rest_path)\n",
    "ants_img_string = ants.image_read(anat_path)\n",
    "# mni_template_img = ants.image_read(mni_template_path)\n",
    "# mni_mask_img = ants.image_read(mni_mask_path)"
   ]
  },
  {
   "cell_type": "code",
   "execution_count": 6,
   "metadata": {},
   "outputs": [],
   "source": [
    "from functions import *"
   ]
  },
  {
   "cell_type": "markdown",
   "metadata": {},
   "source": [
    "Lets get some metadata"
   ]
  },
  {
   "cell_type": "code",
   "execution_count": 138,
   "metadata": {},
   "outputs": [],
   "source": [
    "import re"
   ]
  },
  {
   "cell_type": "code",
   "execution_count": 195,
   "metadata": {},
   "outputs": [
    {
     "name": "stdout",
     "output_type": "stream",
     "text": [
      "{'Header': 'ANTsImage (LPI)', 'Pixel Type': ' float (float32)', 'Components': ' 1', 'Dimensions': ' (512, 512, 296)', 'Spacing': ' (0.4785, 0.4785, 0.5)', 'Origin': ' (119.989, 104.52, -84.2457)', 'Direction': ' [-1.      0.0025  0.     -0.0025 -1.      0.      0.      0.      1.    ]'}\n"
     ]
    }
   ],
   "source": [
    "def parse_metadata(ants_img_string):\n",
    "    info = str(ants_img_string).split('\\n')\n",
    "    metadata = {}\n",
    "    for idx, entry in enumerate(info):\n",
    "        strips = entry.strip().split(\":\")\n",
    "        if len(strips) == 1 and idx==0:\n",
    "            metadata[\"Header\"] = strips[0].strip()\n",
    "        elif len(strips) == 2:\n",
    "            name, value = strips\n",
    "            metadata[name.strip()] = value\n",
    "        else:\n",
    "            continue\n",
    "    return metadata\n",
    "metadata = parse_metadata(anat_img)\n",
    "print(metadata)"
   ]
  },
  {
   "cell_type": "code",
   "execution_count": 27,
   "metadata": {},
   "outputs": [
    {
     "name": "stdout",
     "output_type": "stream",
     "text": [
      "ANTsImage\n",
      "-\n",
      "\t Pixel Type : float (float32)\n",
      "-\n",
      "\t Components : 1\n",
      "-\n",
      "\t Dimensions : (64, 64, 35, 185)\n",
      "-\n",
      "\t Spacing    : (4.0, 4.0, 4.0, 2.0)\n",
      "-\n",
      "\t Origin     : (-127.953, 108.933, -74.8393, 0.0)\n",
      "-\n",
      "\t Direction  : [ 1.  0.  0.  0.  0. -1.  0.  0.  0.  0.  1.  0.  0.  0.  0.  1.]\n",
      "-\n",
      "\n",
      "-\n"
     ]
    }
   ],
   "source": [
    "parse_metadata(bold_stim_img)"
   ]
  },
  {
   "cell_type": "markdown",
   "metadata": {},
   "source": [
    "🤔\n",
    "\n",
    "Should these be normalized at this stage? maybe not? maybe do that in blender with numpy?"
   ]
  },
  {
   "cell_type": "code",
   "execution_count": 8,
   "metadata": {},
   "outputs": [],
   "source": [
    "t1_vol = create_volume(ants_img_string.numpy())\n",
    "bold_stim_vol = create_volume(bold_stim_img.numpy())"
   ]
  },
  {
   "cell_type": "code",
   "execution_count": 9,
   "metadata": {},
   "outputs": [],
   "source": [
    "bold_rest_vol = create_volume(bold_rest_img.numpy())"
   ]
  },
  {
   "cell_type": "code",
   "execution_count": 10,
   "metadata": {},
   "outputs": [
    {
     "name": "stdout",
     "output_type": "stream",
     "text": [
      "Creating brain mask\n"
     ]
    }
   ],
   "source": [
    "mask = generate_brain_mask(ants_img_string, mni_template_img, mni_mask_img)\n",
    "mask_vol = create_volume(mask.numpy())"
   ]
  },
  {
   "cell_type": "markdown",
   "metadata": {},
   "source": [
    "# Quick Viewer Sanity checks"
   ]
  },
  {
   "cell_type": "code",
   "execution_count": 11,
   "metadata": {},
   "outputs": [
    {
     "data": {
      "application/vnd.jupyter.widget-view+json": {
       "model_id": "418a100fdb9c405bbae53ef69236c49e",
       "version_major": 2,
       "version_minor": 0
      },
      "text/plain": [
       "interactive(children=(IntSlider(value=147, description='slice', max=295), Output()), _dom_classes=('widget-int…"
      ]
     },
     "metadata": {},
     "output_type": "display_data"
    }
   ],
   "source": [
    "explore_3D_vol(t1_vol[:,:,:], dim='z')"
   ]
  },
  {
   "cell_type": "code",
   "execution_count": null,
   "metadata": {},
   "outputs": [],
   "source": [
    "explore_3D_vol(mask_vol, dim='z')"
   ]
  },
  {
   "cell_type": "code",
   "execution_count": null,
   "metadata": {},
   "outputs": [],
   "source": [
    "explore_3D_vol(bold_stim_vol[30,:,:,:], dim='z')"
   ]
  },
  {
   "cell_type": "code",
   "execution_count": null,
   "metadata": {},
   "outputs": [],
   "source": [
    "explore_3D_vol(bold_rest_vol[30,:,:,:], dim='z')"
   ]
  },
  {
   "cell_type": "markdown",
   "metadata": {},
   "source": [
    "# Back to our Regularly Scheduled Programming"
   ]
  },
  {
   "cell_type": "code",
   "execution_count": 72,
   "metadata": {},
   "outputs": [],
   "source": [
    "def get_name(var):\n",
    "    \"\"\"\n",
    "    Returns the name of a variable\n",
    "    \"\"\"\n",
    "    for name, value in globals().items():\n",
    "        if value is var:\n",
    "            return name"
   ]
  },
  {
   "cell_type": "code",
   "execution_count": null,
   "metadata": {},
   "outputs": [],
   "source": [
    "print(get_name(t1_vol))"
   ]
  },
  {
   "cell_type": "code",
   "execution_count": 77,
   "metadata": {},
   "outputs": [],
   "source": [
    "def save_npy(vol: np.ndarray, output_folder: str):\n",
    "    with open(f'{output_folder}/{get_name(vol)}.npy', 'wb') as f:\n",
    "        np.save(f, np.array(vol))"
   ]
  },
  {
   "cell_type": "code",
   "execution_count": 78,
   "metadata": {},
   "outputs": [],
   "source": [
    "output_folder = \"/Users/joachimpfefferkorn/repos/neurovolume/output\""
   ]
  },
  {
   "cell_type": "code",
   "execution_count": 79,
   "metadata": {},
   "outputs": [],
   "source": [
    "save_npy(t1_vol, output_folder)"
   ]
  },
  {
   "cell_type": "markdown",
   "metadata": {},
   "source": [
    "# View Exports dummy check"
   ]
  },
  {
   "cell_type": "code",
   "execution_count": 2,
   "metadata": {},
   "outputs": [],
   "source": [
    "import numpy as np"
   ]
  },
  {
   "cell_type": "code",
   "execution_count": 3,
   "metadata": {},
   "outputs": [],
   "source": [
    "anatomy_check =  np.load(\"/Users/joachimpfefferkorn/repos/neurovolume/output/anat.npy\")"
   ]
  },
  {
   "cell_type": "code",
   "execution_count": 11,
   "metadata": {},
   "outputs": [
    {
     "data": {
      "application/vnd.jupyter.widget-view+json": {
       "model_id": "8d2795cbe8b146dcb5a4f6516926ce26",
       "version_major": 2,
       "version_minor": 0
      },
      "text/plain": [
       "interactive(children=(IntSlider(value=147, description='slice', max=295), Output()), _dom_classes=('widget-int…"
      ]
     },
     "metadata": {},
     "output_type": "display_data"
    }
   ],
   "source": [
    "explore_3D_vol(anatomy_check[:,:,:], dim='z')"
   ]
  },
  {
   "cell_type": "code",
   "execution_count": null,
   "metadata": {},
   "outputs": [],
   "source": []
  }
 ],
 "metadata": {
  "kernelspec": {
   "display_name": ".venv",
   "language": "python",
   "name": "python3"
  },
  "language_info": {
   "codemirror_mode": {
    "name": "ipython",
    "version": 3
   },
   "file_extension": ".py",
   "mimetype": "text/x-python",
   "name": "python",
   "nbconvert_exporter": "python",
   "pygments_lexer": "ipython3",
   "version": "3.11.5"
  }
 },
 "nbformat": 4,
 "nbformat_minor": 2
}
