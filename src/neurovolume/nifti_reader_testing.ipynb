{
 "cells": [
  {
   "cell_type": "code",
   "execution_count": 1,
   "metadata": {},
   "outputs": [],
   "source": [
    "nifti_file_path = \"/Users/joachimpfefferkorn/repos/neurovolume/media/openneuro/sub-01_T1w.nii\""
   ]
  },
  {
   "cell_type": "code",
   "execution_count": 2,
   "metadata": {},
   "outputs": [],
   "source": [
    "from nifti_reader import read_nifti\n",
    "from functions import *\n",
    "import nibabel as nib"
   ]
  },
  {
   "cell_type": "code",
   "execution_count": 3,
   "metadata": {},
   "outputs": [
    {
     "name": "stdout",
     "output_type": "stream",
     "text": [
      "Detected endianness: Little sign: <\n",
      "pixdim:  (1.0, 0.47850000858306885, 0.47850000858306885, 0.5, 0.0, 0.0, 0.0, 0.0)\n",
      "xyzt units <class 'int'> 2\n",
      " slice code 0\n",
      "🟦 qform code  (1,)\n",
      "🟦 sform code  (1,)\n",
      "🟩 srow_x (0.47849801182746887, -0.0012153900461271405, 0.0, -119.98899841308594)\n",
      "   srow_y (0.0012153900461271405, 0.47849801182746887, 0.0, -104.5199966430664)\n",
      "   srow_z (0.0, 0.0, 0.5, -84.24569702148438)\n",
      "Header Size: 348\n",
      "Bitpix: 16\n",
      "Datatype: signed short, 16\n",
      "Vox Offset: 352.0\n",
      "dimensions: (3, 512, 512, 296, 1, 1, 1, 1)\n",
      "Datatype num:  4\n",
      "scl_slope: 0.14433500170707703, scl_inter: 4729.56982421875\n",
      "number of bits:  77594624 \n",
      "number of bytes:  155189248\n",
      "dtype override:  int16\n",
      "Using dtype: int16, Endianness: =\n",
      "voxels 77594624 <class 'numpy.ndarray'> (77594624,)\n",
      "Expected voxel count: 77594624\n",
      "Actual voxel count: 77594624\n",
      "Applied intensity scaling\n",
      "volume shape:  (512, 512, 296, 1)\n",
      "Volume dtype float32\n",
      "input shape (512, 512, 296, 1)\n",
      "using method 3 to transform volume\n",
      "transformation matrix [[ 4.78498012e-01 -1.21539005e-03  0.00000000e+00 -1.19988998e+02]\n",
      " [ 1.21539005e-03  4.78498012e-01  0.00000000e+00 -1.04519997e+02]\n",
      " [ 0.00000000e+00  0.00000000e+00  5.00000000e-01 -8.42456970e+01]\n",
      " [ 0.00000000e+00  0.00000000e+00  0.00000000e+00  1.00000000e+00]]\n"
     ]
    },
    {
     "ename": "ValueError",
     "evalue": "operands could not be broadcast together with shapes (512,512,296,1) (4,4) ",
     "output_type": "error",
     "traceback": [
      "\u001b[0;31m---------------------------------------------------------------------------\u001b[0m",
      "\u001b[0;31mValueError\u001b[0m                                Traceback (most recent call last)",
      "Cell \u001b[0;32mIn[3], line 1\u001b[0m\n\u001b[0;32m----> 1\u001b[0m custom_img \u001b[38;5;241m=\u001b[39m \u001b[43mread_nifti\u001b[49m\u001b[43m(\u001b[49m\u001b[43mnifti_file_path\u001b[49m\u001b[43m)\u001b[49m\n",
      "File \u001b[0;32m~/repos/neurovolume/src/neurovolume/nifti_reader.py:141\u001b[0m, in \u001b[0;36mread_nifti\u001b[0;34m(nifti_file_path)\u001b[0m\n\u001b[1;32m    138\u001b[0m     \u001b[38;5;28mprint\u001b[39m(\u001b[38;5;124m\"\u001b[39m\u001b[38;5;124mtransformation matrix\u001b[39m\u001b[38;5;124m\"\u001b[39m, transformation_matrix)\n\u001b[1;32m    139\u001b[0m     \u001b[38;5;28;01mreturn\u001b[39;00m \u001b[38;5;28minput\u001b[39m \u001b[38;5;241m*\u001b[39m transformation_matrix\n\u001b[0;32m--> 141\u001b[0m voxels \u001b[38;5;241m=\u001b[39m \u001b[43mmethod_3\u001b[49m\u001b[43m(\u001b[49m\u001b[43mvoxels\u001b[49m\u001b[43m)\u001b[49m\n\u001b[1;32m    143\u001b[0m \u001b[38;5;28;01mreturn\u001b[39;00m voxels\n",
      "File \u001b[0;32m~/repos/neurovolume/src/neurovolume/nifti_reader.py:139\u001b[0m, in \u001b[0;36mread_nifti.<locals>.method_3\u001b[0;34m(input, srow_x, srow_y, srow_z)\u001b[0m\n\u001b[1;32m    132\u001b[0m transformation_matrix \u001b[38;5;241m=\u001b[39m np\u001b[38;5;241m.\u001b[39marray([\n\u001b[1;32m    133\u001b[0m [srow_x[\u001b[38;5;241m0\u001b[39m], srow_x[\u001b[38;5;241m1\u001b[39m], srow_x[\u001b[38;5;241m2\u001b[39m], srow_x[\u001b[38;5;241m3\u001b[39m]],\n\u001b[1;32m    134\u001b[0m [srow_y[\u001b[38;5;241m0\u001b[39m], srow_y[\u001b[38;5;241m1\u001b[39m], srow_y[\u001b[38;5;241m2\u001b[39m], srow_y[\u001b[38;5;241m3\u001b[39m]],\n\u001b[1;32m    135\u001b[0m [srow_z[\u001b[38;5;241m0\u001b[39m], srow_z[\u001b[38;5;241m1\u001b[39m], srow_z[\u001b[38;5;241m2\u001b[39m], srow_z[\u001b[38;5;241m3\u001b[39m]],\n\u001b[1;32m    136\u001b[0m [\u001b[38;5;241m0\u001b[39m, \u001b[38;5;241m0\u001b[39m, \u001b[38;5;241m0\u001b[39m, \u001b[38;5;241m1\u001b[39m]\n\u001b[1;32m    137\u001b[0m                     ])\n\u001b[1;32m    138\u001b[0m \u001b[38;5;28mprint\u001b[39m(\u001b[38;5;124m\"\u001b[39m\u001b[38;5;124mtransformation matrix\u001b[39m\u001b[38;5;124m\"\u001b[39m, transformation_matrix)\n\u001b[0;32m--> 139\u001b[0m \u001b[38;5;28;01mreturn\u001b[39;00m \u001b[38;5;28;43minput\u001b[39;49m\u001b[43m \u001b[49m\u001b[38;5;241;43m*\u001b[39;49m\u001b[43m \u001b[49m\u001b[43mtransformation_matrix\u001b[49m\n",
      "\u001b[0;31mValueError\u001b[0m: operands could not be broadcast together with shapes (512,512,296,1) (4,4) "
     ]
    }
   ],
   "source": [
    "custom_img = read_nifti(nifti_file_path)"
   ]
  },
  {
   "cell_type": "code",
   "execution_count": null,
   "metadata": {},
   "outputs": [],
   "source": [
    "nib_img = nib.load(nifti_file_path)\n",
    "print(nib_img)"
   ]
  },
  {
   "cell_type": "code",
   "execution_count": 9,
   "metadata": {},
   "outputs": [],
   "source": [
    "nib_array = nib_img.get_fdata()"
   ]
  },
  {
   "cell_type": "code",
   "execution_count": null,
   "metadata": {},
   "outputs": [],
   "source": [
    "print(type(nib_array))"
   ]
  },
  {
   "cell_type": "code",
   "execution_count": null,
   "metadata": {},
   "outputs": [],
   "source": [
    "import numpy as np\n",
    "print(np.min(custom_img), np.max(custom_img))\n",
    "print(np.min(nib_array), np.max(nib_array))"
   ]
  },
  {
   "cell_type": "code",
   "execution_count": null,
   "metadata": {},
   "outputs": [],
   "source": [
    "explore_3D_vol(nib_array)"
   ]
  },
  {
   "cell_type": "code",
   "execution_count": null,
   "metadata": {},
   "outputs": [],
   "source": [
    "print(custom_img.shape)\n",
    "print(nib_array.shape)"
   ]
  },
  {
   "cell_type": "code",
   "execution_count": null,
   "metadata": {},
   "outputs": [],
   "source": [
    "#s_custom_img = np.squeeze(custom_img, axis=-1)\n",
    "s_custom_img = custom_img[...,0]\n",
    "print(s_custom_img.shape)"
   ]
  },
  {
   "cell_type": "code",
   "execution_count": null,
   "metadata": {},
   "outputs": [],
   "source": [
    "explore_3D_vol(s_custom_img)"
   ]
  },
  {
   "cell_type": "code",
   "execution_count": null,
   "metadata": {},
   "outputs": [],
   "source": [
    "print(ants_vol_test.numpy().dtype)"
   ]
  },
  {
   "cell_type": "markdown",
   "metadata": {},
   "source": [
    "# GPT stuff"
   ]
  },
  {
   "cell_type": "code",
   "execution_count": 4,
   "metadata": {},
   "outputs": [
    {
     "ename": "NameError",
     "evalue": "name 'data' is not defined",
     "output_type": "error",
     "traceback": [
      "\u001b[0;31m---------------------------------------------------------------------------\u001b[0m",
      "\u001b[0;31mNameError\u001b[0m                                 Traceback (most recent call last)",
      "Cell \u001b[0;32mIn[4], line 2\u001b[0m\n\u001b[1;32m      1\u001b[0m \u001b[38;5;66;03m# Get voxel grid indices\u001b[39;00m\n\u001b[0;32m----> 2\u001b[0m D, H, W \u001b[38;5;241m=\u001b[39m \u001b[43mdata\u001b[49m\u001b[38;5;241m.\u001b[39mshape\n\u001b[1;32m      3\u001b[0m i, j, k \u001b[38;5;241m=\u001b[39m np\u001b[38;5;241m.\u001b[39mmeshgrid(np\u001b[38;5;241m.\u001b[39marange(W), np\u001b[38;5;241m.\u001b[39marange(H), np\u001b[38;5;241m.\u001b[39marange(D), indexing\u001b[38;5;241m=\u001b[39m\u001b[38;5;124m'\u001b[39m\u001b[38;5;124mxy\u001b[39m\u001b[38;5;124m'\u001b[39m)\n\u001b[1;32m      5\u001b[0m \u001b[38;5;66;03m# Flatten indices and add homogeneous coordinate (1s)\u001b[39;00m\n",
      "\u001b[0;31mNameError\u001b[0m: name 'data' is not defined"
     ]
    }
   ],
   "source": [
    "affine = np.array([\n",
    "    [srow_x[0], srow_x[1], srow_x[2], srow_x[3]],\n",
    "    [srow_y[0], srow_y[1], srow_y[2], srow_y[3]],\n",
    "    [srow_z[0], srow_z[1], srow_z[2], srow_z[3]],\n",
    "    [0, 0, 0, 1]  # Homogeneous coordinate row\n",
    "])\n",
    "\n",
    "# Get voxel grid indices\n",
    "D, H, W = custom_img.shape\n",
    "i, j, k = np.meshgrid(np.arange(W), np.arange(H), np.arange(D), indexing='xy')\n",
    "\n",
    "# Flatten indices and add homogeneous coordinate (1s)\n",
    "voxels = np.vstack([i.ravel(), j.ravel(), k.ravel(), np.ones(i.size)])\n",
    "\n",
    "# Apply affine transformation to get world coordinates\n",
    "world_coords = affine @ voxels  # Matrix multiplication\n",
    "\n",
    "# Extract x, y, z\n",
    "x, y, z = world_coords[:3]\n",
    "\n",
    "# Get voxel intensity values\n",
    "intensities = custom_img.ravel()\n",
    "\n",
    "# Combine into a structured NumPy array (or a Pandas DataFrame)\n",
    "point_cloud = np.vstack([x, y, z, intensities]).T  # Shape: (num_voxels, 4)\n"
   ]
  },
  {
   "cell_type": "code",
   "execution_count": null,
   "metadata": {},
   "outputs": [],
   "source": []
  }
 ],
 "metadata": {
  "kernelspec": {
   "display_name": ".venv",
   "language": "python",
   "name": "python3"
  },
  "language_info": {
   "codemirror_mode": {
    "name": "ipython",
    "version": 3
   },
   "file_extension": ".py",
   "mimetype": "text/x-python",
   "name": "python",
   "nbconvert_exporter": "python",
   "pygments_lexer": "ipython3",
   "version": "3.11.5"
  }
 },
 "nbformat": 4,
 "nbformat_minor": 2
}
