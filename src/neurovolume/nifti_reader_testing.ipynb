{
 "cells": [
  {
   "cell_type": "code",
   "execution_count": 1,
   "metadata": {},
   "outputs": [],
   "source": [
    "from nifti_reader import read_nifti\n",
    "from functions import *\n",
    "import nibabel as nib\n",
    "import numpy as np\n",
    "import pickle"
   ]
  },
  {
   "cell_type": "code",
   "execution_count": 2,
   "metadata": {},
   "outputs": [],
   "source": [
    "nifti_file_path = \"/Users/joachimpfefferkorn/repos/neurovolume/media/openneuro/sub-01_T1w.nii\""
   ]
  },
  {
   "cell_type": "code",
   "execution_count": 3,
   "metadata": {},
   "outputs": [
    {
     "name": "stdout",
     "output_type": "stream",
     "text": [
      "Detected endianness: Little sign: <\n",
      "pixdim:  (1.0, 0.47850000858306885, 0.47850000858306885, 0.5, 0.0, 0.0, 0.0, 0.0)\n",
      "xyzt units <class 'int'> 2\n",
      "🟦 qform code  (1,)\n",
      "🟦 sform code  (1,)\n",
      "🟩 srow_x (0.47849801182746887, -0.0012153900461271405, 0.0, -119.98899841308594)\n",
      "   srow_y (0.0012153900461271405, 0.47849801182746887, 0.0, -104.5199966430664)\n",
      "   srow_z (0.0, 0.0, 0.5, -84.24569702148438)\n",
      "Header Size: 348\n",
      "Bitpix: 16\n",
      "Datatype: signed short, 16\n",
      "Vox Offset: 352.0\n",
      "dimensions: (3, 512, 512, 296, 1, 1, 1, 1)\n",
      "Datatype num:  4\n",
      "scl_slope: 0.14433500170707703, scl_inter: 4729.56982421875\n",
      "🍕 slice code 0\n",
      "  slice start 0 slice end  0\n",
      "  slice duration  0.0\n",
      "number of voxels:  77594624 \n",
      "number of byres:  155189248 vox offset int 352 dtype override:  int16\n",
      "Current file position: 352 (Expected: 352)\n",
      "Using dtype: int16, Endianness: =\n",
      "💠voxels 77594624 <class 'numpy.ndarray'> (77594624,)\n",
      "Expected voxel count: 77594624 Actual voxel count: 77594624\n",
      "Applied intensity scaling\n",
      "volume shape:  (512, 512, 296)\n",
      "Volume dtype float64\n",
      "<numpy.ndindex object at 0x141296050>\n"
     ]
    }
   ],
   "source": [
    "raw_voxels = read_nifti(nifti_file_path)"
   ]
  },
  {
   "cell_type": "code",
   "execution_count": 4,
   "metadata": {},
   "outputs": [
    {
     "name": "stdout",
     "output_type": "stream",
     "text": [
      "512\n",
      "<class 'numpy.ndarray'>\n",
      "(512, 512, 296)\n",
      "82.99311426281929\n",
      "<class 'numpy.float64'>\n"
     ]
    }
   ],
   "source": [
    "print(len(raw_voxels))\n",
    "print(type(raw_voxels))\n",
    "print(raw_voxels.shape)\n",
    "print(raw_voxels[250][250][100])\n",
    "print(type(raw_voxels[250][250][100]))\n",
    "#print(raw_voxels[0])\n"
   ]
  },
  {
   "cell_type": "code",
   "execution_count": 5,
   "metadata": {},
   "outputs": [],
   "source": [
    "# Hard coding affine for now (we got it from the binary parsing srow)\n",
    "affine = np.array([\n",
    "    [0.47849801182746887, -0.0012153900461271405, 0.0, -119.98899841308594],\n",
    "    [0.0012153900461271405, 0.47849801182746887, 0.0, -104.5199966430664],\n",
    "    [0.0, 0.0, 0.5, -84.24569702148438],\n",
    "    [0.0,     0.0,     0.0,   1.0]  # Homogeneous coordinates\n",
    "])\n"
   ]
  },
  {
   "cell_type": "code",
   "execution_count": 6,
   "metadata": {},
   "outputs": [],
   "source": [
    "cloud = []\n",
    "for index, value in np.ndenumerate(raw_voxels):\n",
    "    ijk1 = [index[0], index[1], index[2], 1] #OG position + homogenous \n",
    "    res = affine @ ijk1\n",
    "    wisp = value, np.int16(round(res[0])), np.int16(round(res[1])), np.int16(round(res[2]))\n",
    "    cloud += wisp"
   ]
  },
  {
   "cell_type": "code",
   "execution_count": null,
   "metadata": {},
   "outputs": [],
   "source": [
    "print(cloud[:3])"
   ]
  },
  {
   "cell_type": "code",
   "execution_count": null,
   "metadata": {},
   "outputs": [],
   "source": [
    "# print(cloud[:100])\n",
    "# print('\\n')\n",
    "# print(len(cloud))\n",
    "# print('\\n')\n",
    "for i, val in enumerate(cloud):\n",
    "#    print(i, val, type(val))\n",
    "    if type(val) == np.float64:\n",
    "        x, y, z = i+1, i+2, i+3\n",
    "        if x and y and z > 0:\n",
    "            print(f'x{x}, y{y}, z{z}, val{val}')\n",
    "        else:\n",
    "            print('weird negative stuff:\\n      x{x}, y{y}, z{z}, val{val}')"
   ]
  },
  {
   "cell_type": "code",
   "execution_count": null,
   "metadata": {},
   "outputs": [],
   "source": []
  }
 ],
 "metadata": {
  "kernelspec": {
   "display_name": ".venv",
   "language": "python",
   "name": "python3"
  },
  "language_info": {
   "codemirror_mode": {
    "name": "ipython",
    "version": 3
   },
   "file_extension": ".py",
   "mimetype": "text/x-python",
   "name": "python",
   "nbconvert_exporter": "python",
   "pygments_lexer": "ipython3",
   "version": "3.11.5"
  }
 },
 "nbformat": 4,
 "nbformat_minor": 2
}
