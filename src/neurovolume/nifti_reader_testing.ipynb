{
 "cells": [
  {
   "cell_type": "code",
   "execution_count": 1,
   "metadata": {},
   "outputs": [],
   "source": [
    "nifti_file_path = \"/Users/joachimpfefferkorn/repos/neurovolume/media/openneuro/sub-01_T1w.nii\""
   ]
  },
  {
   "cell_type": "code",
   "execution_count": 2,
   "metadata": {},
   "outputs": [
    {
     "name": "stdout",
     "output_type": "stream",
     "text": [
      "Detected endianness: Little sign: <\n",
      "pixdim:  (1.0, 0.47850000858306885, 0.47850000858306885, 0.5, 0.0, 0.0, 0.0, 0.0)\n",
      "xyzt units <class 'int'> 2\n",
      " slice code 0\n",
      "🟦 qform code  (1,)\n",
      "🟦 sform code  (1,)\n",
      "🟩 srow_x (0.47849801182746887, -0.0012153900461271405, 0.0, -119.98899841308594)\n",
      "   srow_y (0.0012153900461271405, 0.47849801182746887, 0.0, -104.5199966430664)\n",
      "   srow_z (0.0, 0.0, 0.5, -84.24569702148438)\n",
      "Header Size: 348\n",
      "Bitpix: 16\n",
      "Datatype: signed short, 16\n",
      "Vox Offset: 352.0\n",
      "dimensions: (3, 512, 512, 296, 1, 1, 1, 1)\n",
      "Datatype num:  4\n",
      "scl_slope: 0.14433500170707703, scl_inter: 4729.56982421875\n",
      "number of bits:  77594624 \n",
      "number of bytes:  155189248\n",
      "dtype override:  int16\n",
      "Using dtype: int16, Endianness: =\n",
      "voxels 77594624 <class 'numpy.ndarray'> (77594624,)\n",
      "Expected voxel count: 77594624\n",
      "Actual voxel count: 77594624\n",
      "Applied intensity scaling\n",
      "volume shape:  (512, 512, 296, 1)\n",
      "Volume dtype float32\n",
      "input shape (512, 512, 296, 1)\n",
      "using method 3 to transform volume\n",
      "transformation matrix [[ 4.78498012e-01 -1.21539005e-03  0.00000000e+00 -1.19988998e+02]\n",
      " [ 1.21539005e-03  4.78498012e-01  0.00000000e+00 -1.04519997e+02]\n",
      " [ 0.00000000e+00  0.00000000e+00  5.00000000e-01 -8.42456970e+01]\n",
      " [ 0.00000000e+00  0.00000000e+00  0.00000000e+00  1.00000000e+00]]\n",
      "input shape (512, 512, 296, 4)\n",
      "using method 3 to transform volume\n",
      "transformation matrix [[ 4.78498012e-01 -1.21539005e-03  0.00000000e+00 -1.19988998e+02]\n",
      " [ 1.21539005e-03  4.78498012e-01  0.00000000e+00 -1.04519997e+02]\n",
      " [ 0.00000000e+00  0.00000000e+00  5.00000000e-01 -8.42456970e+01]\n",
      " [ 0.00000000e+00  0.00000000e+00  0.00000000e+00  1.00000000e+00]]\n"
     ]
    }
   ],
   "source": [
    "from nifti_reader import read_nifti\n",
    "from functions import *"
   ]
  },
  {
   "cell_type": "code",
   "execution_count": 3,
   "metadata": {},
   "outputs": [
    {
     "name": "stdout",
     "output_type": "stream",
     "text": [
      "ANTsImage (LPI)\n",
      "\t Pixel Type : float (float32)\n",
      "\t Components : 1\n",
      "\t Dimensions : (512, 512, 296)\n",
      "\t Spacing    : (0.4785, 0.4785, 0.5)\n",
      "\t Origin     : (119.989, 104.52, -84.2457)\n",
      "\t Direction  : [-1.      0.0025  0.     -0.0025 -1.      0.      0.      0.      1.    ]\n",
      "\n"
     ]
    }
   ],
   "source": [
    "import ants\n",
    "ants_vol_test = ants.image_read(nifti_file_path)\n",
    "print(ants_vol_test)"
   ]
  },
  {
   "cell_type": "code",
   "execution_count": 4,
   "metadata": {},
   "outputs": [
    {
     "name": "stdout",
     "output_type": "stream",
     "text": [
      "Detected endianness: Little sign: <\n",
      "pixdim:  (1.0, 0.47850000858306885, 0.47850000858306885, 0.5, 0.0, 0.0, 0.0, 0.0)\n",
      "xyzt units <class 'int'> 2\n",
      " slice code 0\n",
      "🟦 qform code  (1,)\n",
      "🟦 sform code  (1,)\n",
      "🟩 srow_x (0.47849801182746887, -0.0012153900461271405, 0.0, -119.98899841308594)\n",
      "   srow_y (0.0012153900461271405, 0.47849801182746887, 0.0, -104.5199966430664)\n",
      "   srow_z (0.0, 0.0, 0.5, -84.24569702148438)\n",
      "Header Size: 348\n",
      "Bitpix: 16\n",
      "Datatype: signed short, 16\n",
      "Vox Offset: 352.0\n",
      "dimensions: (3, 512, 512, 296, 1, 1, 1, 1)\n",
      "Datatype num:  4\n",
      "scl_slope: 0.14433500170707703, scl_inter: 4729.56982421875\n",
      "number of bits:  77594624 \n",
      "number of bytes:  155189248\n",
      "dtype override:  int16\n",
      "Using dtype: int16, Endianness: =\n",
      "voxels 77594624 <class 'numpy.ndarray'> (77594624,)\n",
      "Expected voxel count: 77594624\n",
      "Actual voxel count: 77594624\n",
      "Applied intensity scaling\n",
      "volume shape:  (512, 512, 296, 1)\n",
      "Volume dtype float32\n",
      "input shape (512, 512, 296, 1)\n",
      "using method 3 to transform volume\n",
      "transformation matrix [[ 4.78498012e-01 -1.21539005e-03  0.00000000e+00 -1.19988998e+02]\n",
      " [ 1.21539005e-03  4.78498012e-01  0.00000000e+00 -1.04519997e+02]\n",
      " [ 0.00000000e+00  0.00000000e+00  5.00000000e-01 -8.42456970e+01]\n",
      " [ 0.00000000e+00  0.00000000e+00  0.00000000e+00  1.00000000e+00]]\n",
      "input shape (512, 512, 296, 4)\n",
      "using method 3 to transform volume\n",
      "transformation matrix [[ 4.78498012e-01 -1.21539005e-03  0.00000000e+00 -1.19988998e+02]\n",
      " [ 1.21539005e-03  4.78498012e-01  0.00000000e+00 -1.04519997e+02]\n",
      " [ 0.00000000e+00  0.00000000e+00  5.00000000e-01 -8.42456970e+01]\n",
      " [ 0.00000000e+00  0.00000000e+00  0.00000000e+00  1.00000000e+00]]\n"
     ]
    }
   ],
   "source": [
    "volume = read_nifti(nifti_file_path)"
   ]
  },
  {
   "cell_type": "code",
   "execution_count": 5,
   "metadata": {},
   "outputs": [
    {
     "name": "stdout",
     "output_type": "stream",
     "text": [
      "-120.6100627266569 171.25430297851562\n",
      "0.00048828125 9458.995\n"
     ]
    }
   ],
   "source": [
    "import numpy as np\n",
    "print(np.min(volume), np.max(volume))\n",
    "print(np.min(ants_vol_test.numpy()), np.max(ants_vol_test.numpy()))"
   ]
  },
  {
   "cell_type": "code",
   "execution_count": 6,
   "metadata": {},
   "outputs": [
    {
     "data": {
      "application/vnd.jupyter.widget-view+json": {
       "model_id": "8cb3d92545ef4dd2abaafee89ad127b8",
       "version_major": 2,
       "version_minor": 0
      },
      "text/plain": [
       "interactive(children=(IntSlider(value=255, description='slice', max=511), Output()), _dom_classes=('widget-int…"
      ]
     },
     "metadata": {},
     "output_type": "display_data"
    }
   ],
   "source": [
    "explore_3D_vol(volume)"
   ]
  },
  {
   "cell_type": "code",
   "execution_count": null,
   "metadata": {},
   "outputs": [],
   "source": [
    "explore_3D_vol(ants_vol_test.numpy())"
   ]
  },
  {
   "cell_type": "code",
   "execution_count": null,
   "metadata": {},
   "outputs": [],
   "source": [
    "print(ants_vol_test.numpy().dtype)"
   ]
  },
  {
   "cell_type": "code",
   "execution_count": null,
   "metadata": {},
   "outputs": [],
   "source": []
  }
 ],
 "metadata": {
  "kernelspec": {
   "display_name": ".venv",
   "language": "python",
   "name": "python3"
  },
  "language_info": {
   "codemirror_mode": {
    "name": "ipython",
    "version": 3
   },
   "file_extension": ".py",
   "mimetype": "text/x-python",
   "name": "python",
   "nbconvert_exporter": "python",
   "pygments_lexer": "ipython3",
   "version": "3.11.5"
  }
 },
 "nbformat": 4,
 "nbformat_minor": 2
}
