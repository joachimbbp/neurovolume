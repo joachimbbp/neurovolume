{
 "cells": [
  {
   "cell_type": "code",
   "execution_count": 1,
   "metadata": {},
   "outputs": [],
   "source": [
    "nifti_file_path = \"/Users/joachimpfefferkorn/repos/neurovolume/media/openneuro/sub-01_T1w.nii\""
   ]
  },
  {
   "cell_type": "code",
   "execution_count": 2,
   "metadata": {},
   "outputs": [],
   "source": [
    "from nifti_reader import read_nifti\n",
    "from functions import *\n",
    "import nibabel as nib"
   ]
  },
  {
   "cell_type": "code",
   "execution_count": 3,
   "metadata": {},
   "outputs": [
    {
     "name": "stdout",
     "output_type": "stream",
     "text": [
      "Detected endianness: Little sign: <\n",
      "pixdim:  (1.0, 0.47850000858306885, 0.47850000858306885, 0.5, 0.0, 0.0, 0.0, 0.0)\n",
      "xyzt units <class 'int'> 2\n",
      " slice code 0\n",
      "🟦 qform code  (1,)\n",
      "🟦 sform code  (1,)\n",
      "🟩 srow_x (0.47849801182746887, -0.0012153900461271405, 0.0, -119.98899841308594)\n",
      "   srow_y (0.0012153900461271405, 0.47849801182746887, 0.0, -104.5199966430664)\n",
      "   srow_z (0.0, 0.0, 0.5, -84.24569702148438)\n",
      "Header Size: 348\n",
      "Bitpix: 16\n",
      "Datatype: signed short, 16\n",
      "Vox Offset: 352.0\n",
      "dimensions: (3, 512, 512, 296, 1, 1, 1, 1)\n",
      "Datatype num:  4\n",
      "scl_slope: 0.14433500170707703, scl_inter: 4729.56982421875\n",
      "number of bits:  77594624 \n",
      "number of bytes:  155189248\n",
      "dtype override:  int16\n",
      "Using dtype: int16, Endianness: =\n",
      "voxels 77594624 <class 'numpy.ndarray'> (77594624,)\n",
      "Expected voxel count: 77594624\n",
      "Actual voxel count: 77594624\n",
      "Applied intensity scaling\n",
      "volume shape:  (512, 512, 296, 1)\n",
      "Volume dtype float32\n"
     ]
    }
   ],
   "source": [
    "custom_img = read_nifti(nifti_file_path)"
   ]
  },
  {
   "cell_type": "code",
   "execution_count": 4,
   "metadata": {},
   "outputs": [
    {
     "name": "stdout",
     "output_type": "stream",
     "text": [
      "\n",
      "<class 'nibabel.nifti1.Nifti1Image'>\n",
      "data shape (512, 512, 296)\n",
      "affine:\n",
      "[[ 4.78498012e-01 -1.21539005e-03  0.00000000e+00 -1.19988998e+02]\n",
      " [ 1.21539005e-03  4.78498012e-01  0.00000000e+00 -1.04519997e+02]\n",
      " [ 0.00000000e+00  0.00000000e+00  5.00000000e-01 -8.42456970e+01]\n",
      " [ 0.00000000e+00  0.00000000e+00  0.00000000e+00  1.00000000e+00]]\n",
      "metadata:\n",
      "<class 'nibabel.nifti1.Nifti1Header'> object, endian='<'\n",
      "sizeof_hdr      : 348\n",
      "data_type       : np.bytes_(b'')\n",
      "db_name         : np.bytes_(b'')\n",
      "extents         : 0\n",
      "session_error   : 0\n",
      "regular         : np.bytes_(b'r')\n",
      "dim_info        : 54\n",
      "dim             : [  3 512 512 296   1   1   1   1]\n",
      "intent_p1       : 0.0\n",
      "intent_p2       : 0.0\n",
      "intent_p3       : 0.0\n",
      "intent_code     : none\n",
      "datatype        : int16\n",
      "bitpix          : 16\n",
      "slice_start     : 0\n",
      "pixdim          : [1.     0.4785 0.4785 0.5    0.     0.     0.     0.    ]\n",
      "vox_offset      : 0.0\n",
      "scl_slope       : nan\n",
      "scl_inter       : nan\n",
      "slice_end       : 0\n",
      "slice_code      : unknown\n",
      "xyzt_units      : 10\n",
      "cal_max         : 0.0\n",
      "cal_min         : 0.0\n",
      "slice_duration  : 0.0\n",
      "toffset         : 0.0\n",
      "glmax           : 0\n",
      "glmin           : 0\n",
      "descrip         : np.bytes_(b'FSL5.0\\x00me=181529.000')\n",
      "aux_file        : np.bytes_(b'imgComments')\n",
      "qform_code      : scanner\n",
      "sform_code      : scanner\n",
      "quatern_b       : 0.0\n",
      "quatern_c       : 0.0\n",
      "quatern_d       : 0.00127\n",
      "qoffset_x       : -119.989\n",
      "qoffset_y       : -104.52\n",
      "qoffset_z       : -84.2457\n",
      "srow_x          : [ 4.78498e-01 -1.21539e-03  0.00000e+00 -1.19989e+02]\n",
      "srow_y          : [ 1.21539e-03  4.78498e-01  0.00000e+00 -1.04520e+02]\n",
      "srow_z          : [  0.       0.       0.5    -84.2457]\n",
      "intent_name     : np.bytes_(b'')\n",
      "magic           : np.bytes_(b'n+1')\n",
      "\n"
     ]
    }
   ],
   "source": [
    "nib_img = nib.load(nifti_file_path)\n",
    "print(nib_img)"
   ]
  },
  {
   "cell_type": "code",
   "execution_count": 6,
   "metadata": {},
   "outputs": [],
   "source": [
    "nib_array = nib_img.get_fdata()"
   ]
  },
  {
   "cell_type": "code",
   "execution_count": 22,
   "metadata": {},
   "outputs": [
    {
     "name": "stdout",
     "output_type": "stream",
     "text": [
      "<class 'numpy.ndarray'>\n"
     ]
    }
   ],
   "source": [
    "print(type(nib_array))"
   ]
  },
  {
   "cell_type": "code",
   "execution_count": 8,
   "metadata": {},
   "outputs": [
    {
     "name": "stdout",
     "output_type": "stream",
     "text": [
      "0.00048828125 9458.994\n",
      "0.00048828125 9458.994825154543\n"
     ]
    }
   ],
   "source": [
    "import numpy as np\n",
    "print(np.min(custom_img), np.max(custom_img))\n",
    "print(np.min(nib_array), np.max(nib_array))"
   ]
  },
  {
   "cell_type": "code",
   "execution_count": 16,
   "metadata": {},
   "outputs": [],
   "source": [
    "nib_unscaled = nib_img.dataobj.get_unscaled()"
   ]
  },
  {
   "cell_type": "code",
   "execution_count": 18,
   "metadata": {},
   "outputs": [
    {
     "data": {
      "application/vnd.jupyter.widget-view+json": {
       "model_id": "edb586382356493c8126c0787be537da",
       "version_major": 2,
       "version_minor": 0
      },
      "text/plain": [
       "interactive(children=(IntSlider(value=255, description='slice', max=511), Output()), _dom_classes=('widget-int…"
      ]
     },
     "metadata": {},
     "output_type": "display_data"
    }
   ],
   "source": [
    "explore_3D_vol(nib_unscaled, dim='y')"
   ]
  },
  {
   "cell_type": "code",
   "execution_count": 19,
   "metadata": {},
   "outputs": [
    {
     "data": {
      "application/vnd.jupyter.widget-view+json": {
       "model_id": "3345f92e68104d66b4d0d8e0e444efb2",
       "version_major": 2,
       "version_minor": 0
      },
      "text/plain": [
       "interactive(children=(IntSlider(value=255, description='slice', max=511), Output()), _dom_classes=('widget-int…"
      ]
     },
     "metadata": {},
     "output_type": "display_data"
    }
   ],
   "source": [
    "explore_3D_vol(nib_array, dim='y')"
   ]
  },
  {
   "cell_type": "code",
   "execution_count": 12,
   "metadata": {},
   "outputs": [
    {
     "name": "stdout",
     "output_type": "stream",
     "text": [
      "(512, 512, 296, 1)\n",
      "(512, 512, 296)\n"
     ]
    }
   ],
   "source": [
    "print(custom_img.shape)\n",
    "print(nib_array.shape)"
   ]
  },
  {
   "cell_type": "code",
   "execution_count": 47,
   "metadata": {},
   "outputs": [
    {
     "name": "stdout",
     "output_type": "stream",
     "text": [
      "(512, 512, 296)\n"
     ]
    }
   ],
   "source": [
    "#s_custom_img = np.squeeze(custom_img, axis=-1)\n",
    "s_custom_img = custom_img[...,0]\n",
    "print(s_custom_img.shape)"
   ]
  },
  {
   "cell_type": "code",
   "execution_count": 48,
   "metadata": {},
   "outputs": [
    {
     "data": {
      "application/vnd.jupyter.widget-view+json": {
       "model_id": "6b805194114c459f8de4ca4797da7c38",
       "version_major": 2,
       "version_minor": 0
      },
      "text/plain": [
       "interactive(children=(IntSlider(value=255, description='slice', max=511), Output()), _dom_classes=('widget-int…"
      ]
     },
     "metadata": {},
     "output_type": "display_data"
    }
   ],
   "source": [
    "explore_3D_vol(s_custom_img, dim='y')"
   ]
  },
  {
   "cell_type": "code",
   "execution_count": null,
   "metadata": {},
   "outputs": [],
   "source": [
    "print(ants_vol_test.numpy().dtype)"
   ]
  },
  {
   "cell_type": "markdown",
   "metadata": {},
   "source": [
    "# Reorder the Slices with Nibabel Source Code"
   ]
  },
  {
   "cell_type": "code",
   "execution_count": 20,
   "metadata": {},
   "outputs": [],
   "source": [
    "import orientations"
   ]
  },
  {
   "cell_type": "code",
   "execution_count": 36,
   "metadata": {},
   "outputs": [
    {
     "name": "stdout",
     "output_type": "stream",
     "text": [
      "[[ 4.78500e-01 -1.20000e-03  0.00000e+00 -1.19989e+02]\n",
      " [ 1.20000e-03  4.78500e-01  0.00000e+00 -1.04520e+02]\n",
      " [ 0.00000e+00  0.00000e+00  5.00000e-01 -8.42460e+01]\n",
      " [ 0.00000e+00  0.00000e+00  0.00000e+00  1.00000e+00]]\n"
     ]
    }
   ],
   "source": [
    "# Hard coding affine for now (we got it from the binary parsing srow)\n",
    "affine = np.array([\n",
    "    [0.4785, -0.0012,  0.0,  -119.989],\n",
    "    [0.0012,  0.4785,  0.0,  -104.520],\n",
    "    [0.0,     0.0,     0.5,  -84.246],\n",
    "    [0.0,     0.0,     0.0,   1.0]  # Homogeneous coordinates\n",
    "])\n",
    "\n",
    "print(affine)"
   ]
  },
  {
   "cell_type": "code",
   "execution_count": 37,
   "metadata": {},
   "outputs": [],
   "source": [
    "orientation = orientations.io_orientation(affine)"
   ]
  },
  {
   "cell_type": "code",
   "execution_count": 38,
   "metadata": {},
   "outputs": [
    {
     "name": "stdout",
     "output_type": "stream",
     "text": [
      "[[0. 1.]\n",
      " [1. 1.]\n",
      " [2. 1.]]\n"
     ]
    }
   ],
   "source": [
    "print(orientation)"
   ]
  },
  {
   "cell_type": "code",
   "execution_count": 49,
   "metadata": {},
   "outputs": [],
   "source": [
    "oriented_arr = orientations.apply_orientation(s_custom_img, orientation)"
   ]
  },
  {
   "cell_type": "code",
   "execution_count": 50,
   "metadata": {},
   "outputs": [
    {
     "data": {
      "application/vnd.jupyter.widget-view+json": {
       "model_id": "1737fbf59d9541f49d6f9cf1fdf33ca4",
       "version_major": 2,
       "version_minor": 0
      },
      "text/plain": [
       "interactive(children=(IntSlider(value=255, description='slice', max=511), Output()), _dom_classes=('widget-int…"
      ]
     },
     "metadata": {},
     "output_type": "display_data"
    }
   ],
   "source": [
    "explore_3D_vol(oriented_arr, dim='y')"
   ]
  },
  {
   "cell_type": "code",
   "execution_count": 45,
   "metadata": {},
   "outputs": [
    {
     "ename": "HeaderDataError",
     "evalue": "Cannot get slice times when slice code is \"unknown\"",
     "output_type": "error",
     "traceback": [
      "\u001b[0;31m---------------------------------------------------------------------------\u001b[0m",
      "\u001b[0;31mHeaderDataError\u001b[0m                           Traceback (most recent call last)",
      "Cell \u001b[0;32mIn[45], line 2\u001b[0m\n\u001b[1;32m      1\u001b[0m nib_header \u001b[38;5;241m=\u001b[39m nib_img\u001b[38;5;241m.\u001b[39mheader\n\u001b[0;32m----> 2\u001b[0m \u001b[38;5;28mprint\u001b[39m(\u001b[43mnib_header\u001b[49m\u001b[38;5;241;43m.\u001b[39;49m\u001b[43mget_slice_times\u001b[49m\u001b[43m(\u001b[49m\u001b[43m)\u001b[49m)\n",
      "File \u001b[0;32m~/repos/neurovolume/.venv/lib/python3.11/site-packages/nibabel/nifti1.py:1728\u001b[0m, in \u001b[0;36mNifti1Header.get_slice_times\u001b[0;34m(self)\u001b[0m\n\u001b[1;32m   1726\u001b[0m slabel \u001b[38;5;241m=\u001b[39m \u001b[38;5;28mself\u001b[39m\u001b[38;5;241m.\u001b[39mget_value_label(\u001b[38;5;124m'\u001b[39m\u001b[38;5;124mslice_code\u001b[39m\u001b[38;5;124m'\u001b[39m)\n\u001b[1;32m   1727\u001b[0m \u001b[38;5;28;01mif\u001b[39;00m slabel \u001b[38;5;241m==\u001b[39m \u001b[38;5;124m'\u001b[39m\u001b[38;5;124munknown\u001b[39m\u001b[38;5;124m'\u001b[39m:\n\u001b[0;32m-> 1728\u001b[0m     \u001b[38;5;28;01mraise\u001b[39;00m HeaderDataError(\u001b[38;5;124m'\u001b[39m\u001b[38;5;124mCannot get slice times when slice code is \u001b[39m\u001b[38;5;124m\"\u001b[39m\u001b[38;5;124munknown\u001b[39m\u001b[38;5;124m\"\u001b[39m\u001b[38;5;124m'\u001b[39m)\n\u001b[1;32m   1729\u001b[0m slice_start, slice_end \u001b[38;5;241m=\u001b[39m (\u001b[38;5;28mint\u001b[39m(hdr[\u001b[38;5;124m'\u001b[39m\u001b[38;5;124mslice_start\u001b[39m\u001b[38;5;124m'\u001b[39m]), \u001b[38;5;28mint\u001b[39m(hdr[\u001b[38;5;124m'\u001b[39m\u001b[38;5;124mslice_end\u001b[39m\u001b[38;5;124m'\u001b[39m]))\n\u001b[1;32m   1730\u001b[0m \u001b[38;5;28;01mif\u001b[39;00m slice_start \u001b[38;5;241m<\u001b[39m \u001b[38;5;241m0\u001b[39m:\n",
      "\u001b[0;31mHeaderDataError\u001b[0m: Cannot get slice times when slice code is \"unknown\""
     ]
    }
   ],
   "source": [
    "nib_header = nib_img.header\n",
    "print(nib_header.get_slice_times())"
   ]
  }
 ],
 "metadata": {
  "kernelspec": {
   "display_name": ".venv",
   "language": "python",
   "name": "python3"
  },
  "language_info": {
   "codemirror_mode": {
    "name": "ipython",
    "version": 3
   },
   "file_extension": ".py",
   "mimetype": "text/x-python",
   "name": "python",
   "nbconvert_exporter": "python",
   "pygments_lexer": "ipython3",
   "version": "3.11.5"
  }
 },
 "nbformat": 4,
 "nbformat_minor": 2
}
