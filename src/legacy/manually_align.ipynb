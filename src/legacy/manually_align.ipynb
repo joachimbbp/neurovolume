{
 "cells": [
  {
   "cell_type": "markdown",
   "metadata": {},
   "source": [
    "# Overview\n",
    "\n",
    "**This is a work in progress**\n",
    "\n",
    "\n",
    "More or less a clone of `bold_register_scratch.ipynb` only now we are going to rely on manually alignment instead of the always failing ML models from ANTs. I don't mean to entirely imply that it is ANTs' fault, I might be misusing the models. However, it's proving difficult, and iterating over something that takes so long to align is taking forever. So lets go with the manual alignment.\n",
    "\n",
    "**steps**\n",
    "We will load all the data, run motion correction, and then manually align"
   ]
  },
  {
   "cell_type": "markdown",
   "metadata": {},
   "source": [
    "# Setup and Load Data"
   ]
  },
  {
   "cell_type": "code",
   "execution_count": 63,
   "metadata": {},
   "outputs": [],
   "source": [
    "from notebook_viewer_functions import *\n",
    "from functions import *\n",
    "from scivol import *\n",
    "import numpy as np\n",
    "import json\n",
    "import ants\n",
    "import gzip\n",
    "import matplotlib.pyplot as plt\n",
    "from ipywidgets import interact, Button, Output\n",
    "import pickle\n",
    "import napari\n",
    "import matplotlib.transforms as mtransforms\n",
    "import os\n",
    "from PIL import Image as im\n",
    "\n",
    "proj_root = parent_directory()\n",
    "t1_input_filepath = os.path.join(proj_root, \"media/sub-01/anat/sub-01_T1w.nii.gz\")\n",
    "bold_stim_filepath = os.path.join(proj_root, \"media/sub-01/func/sub-01_task-emotionalfaces_run-1_bold.nii.gz\")\n",
    "bold_rest_filepath = os.path.join(proj_root, \"media/sub-01/func/sub-01_task-rest_bold.nii.gz\")\n",
    "mni_anat_filepath =  os.path.join(proj_root, \"templates/mni_icbm152_t1_tal_nlin_sym_09a.nii\")\n",
    "mni_mask_filepath = os.path.join(proj_root, \"templates/mni_icbm152_t1_tal_nlin_sym_09a_mask.nii\")\n",
    "events_tsv_path = os.path.join(proj_root, \"media/sub-01/func/task-emotionalfaces_run-1_events.tsv\")\n",
    "stimulus_image_path = \"/Users/joachimpfefferkorn/repos/emotional-faces-psychopy-task-main/emofaces/POFA/fMRI_POFA\"\n",
    "log_path = \"/Users/joachimpfefferkorn/repos/emotional-faces-psychopy-task-main/emofaces/data/01-subject_emofaces1_2019_Aug_14_1903.log\"\n",
    "cache_folder = \"/Volumes/GlyphA_R1/nvol_cache\"\n",
    "template_folder =  os.path.join(proj_root, \"templates/\")\n",
    "output_folder = os.path.join(proj_root, \"output/\")\n",
    "\n",
    "bold_image = ants.image_read(bold_stim_filepath)\n",
    "t1_image = ants.image_read(t1_input_filepath)\n",
    "raw_rest_bold_img = ants.image_read(bold_rest_filepath)\n",
    "mni_template = ants.image_read(mni_anat_filepath)\n",
    "mni_mask = ants.image_read(mni_mask_filepath)"
   ]
  },
  {
   "cell_type": "markdown",
   "metadata": {},
   "source": [
    "# Functions"
   ]
  },
  {
   "cell_type": "code",
   "execution_count": 64,
   "metadata": {},
   "outputs": [],
   "source": [
    "def transform_BOLD(bold_frame: np.ndarray, translation: tuple, scale: tuple, rotation: tuple,):\n",
    "    tx, ty, tz = translation\n",
    "    sx, sy, sz = scale\n",
    "    rx, ry, rz = rotation\n",
    "    translation = np.array([\n",
    "        [1, 0, 0, tx],\n",
    "        [0, 1, 0, ty],\n",
    "        [0, 0, 1, tz],\n",
    "        [0, 0, 0, 1]\n",
    "    ])\n",
    "\n",
    "# Translation matrices copypasta from GPT\n",
    "    scale = np.array([\n",
    "            [sx, 0,  0,  0],\n",
    "            [0,  sy, 0,  0],\n",
    "            [0,  0,  sz, 0],\n",
    "            [0,  0,  0,  1]\n",
    "        ])\n",
    "\n",
    "# I wonder where the origin is here...\n",
    "    rotation_x = np.array([\n",
    "        [1, 0, 0, 0],\n",
    "        [0, np.cos(rx), -np.sin(rx), 0],\n",
    "        [0, np.sin(rx), np.cos(rx), 0],\n",
    "        [0, 0, 0, 1]\n",
    "    ])\n",
    "    rotation_y = np.array([\n",
    "        [np.cos(ry), 0, np.sin(ry), 0],\n",
    "        [0, 1, 0, 0],\n",
    "        [-np.sin(ry), 0, np.cos(ry), 0],\n",
    "        [0, 0, 0, 1]\n",
    "    ])\n",
    "    rotation_z = np.array([\n",
    "        [np.cos(rz), -np.sin(rz), 0, 0],\n",
    "        [np.sin(rz), np.cos(rz), 0, 0],\n",
    "        [0, 0, 1, 0],\n",
    "        [0, 0, 0, 1]\n",
    "    ])\n",
    "    rotation_matrix = rotation_x @ rotation_y @ rotation_z\n",
    "    transformation_matrix = translation @ rotation @ scale"
   ]
  },
  {
   "cell_type": "code",
   "execution_count": 104,
   "metadata": {},
   "outputs": [],
   "source": [
    "def adjust_alignment(static: np.ndarray, moving: np.ndarray):\n",
    "    \"\"\"\n",
    "    Starting off with just a single frame and rotation\n",
    "    call with `interact()`\n",
    "    https://ipywidgets.readthedocs.io/en/latest/examples/Using%20Interact.html\n",
    "\n",
    "    Needs a freeze button eventually\n",
    "    \"\"\"\n",
    "    def transform(rx, freeze):\n",
    "        rotation_x = np.array([\n",
    "            [1, 0, 0, 0],\n",
    "            [0, np.cos(rx), -np.sin(rx), 0],\n",
    "            [0, np.sin(rx), np.cos(rx), 0],\n",
    "            [0, 0, 0, 1]\n",
    "            ])\n",
    "        return moving.dot(rotation_x)\n",
    "\n",
    "\n",
    "    def view_frame(static: np.ndarray, moving: np.ndarray):\n",
    "        plt.imshow(static[:,:,200], cmap='gray')\n",
    "        plt.imshow(moving[:,:,200], alpha=0.5, cmap='gist_heat')\n",
    "\n",
    "    transformed_moving = interact(transform, rx=(0,360), freeze=False)\n",
    "\n",
    "    view_frame(static, transformed_moving)\n",
    "\n",
    "#interact(x_coord, slice=(0, anat_vol.shape[0]-1), frame=(0, bold_seq_vol.shape[3]-1),opacity=(0, 1.0))"
   ]
  },
  {
   "cell_type": "code",
   "execution_count": 69,
   "metadata": {},
   "outputs": [],
   "source": [
    "def compare_bold_alignment(bold: np.ndarray, anat: np.ndarray):\n",
    "\n",
    "    #dummy for now\n",
    "    frame = 5\n",
    "    slice = 100\n",
    "    opacity = 0.5\n",
    "\n",
    "\n",
    "    fig, axes = plt.subplots(1,3) #leaving figsize default for now\n",
    "    #x\n",
    "    #axes[0].imshow(anat[slice,:,:], cmap='gray')\n",
    "    axes[0].imshow(ba(bold[slice,:,:, frame]), cmap='hot', alpha=opacity)\n",
    "    #y\n",
    "    axes[1].imshow(anat[:,slice,:], cmap='gray')\n",
    "    axes[1].imshow(bold[:,slice,:, frame], cmap='hot', alpha=opacity)\n",
    "    #z\n",
    "    axes[2].imshow(anat[:,:,slice], cmap='gray')\n",
    "    axes[2].imshow(ba(bold[:,:,slice, frame]), cmap='hot', alpha=opacity)\n",
    "    \n",
    "# def compare_bold_alignment(bold_seq_vol: np.ndarray, anat_vol: np.ndarray, dim='x'):\n",
    "#     def x_coord(slice, frame, opacity):\n",
    "#         fig, axes = plt.subplots(1,3, figsize=(15,5))\n",
    "\n",
    "#         fig.suptitle('x axis view')\n",
    "\n",
    "#         axes[0].imshow(bold_seq_vol[slice,:,:, frame], cmap='hot')\n",
    "#         axes[0].set_title('BOLD')\n",
    "\n",
    "#         axes[1].imshow(anat_vol[slice,:,:], cmap='gray')\n",
    "#         axes[1].set_title('Anatomy')\n",
    "\n",
    "#         axes[2].imshow(anat_vol[slice,:,:], cmap='gray')\n",
    "#         axes[2].imshow(bold_seq_vol[slice,:,:, frame], cmap='hot', alpha=opacity)\n",
    "#         axes[2].set_title('Overlay')\n",
    "\n",
    "#     def y_coord(slice, frame, opacity):\n",
    "#         fig, axes = plt.subplots(1,3, figsize=(15,5))\n",
    "\n",
    "#         fig.suptitle('y axis view')\n",
    "\n",
    "#         axes[0].imshow(bold_seq_vol[:,slice,:, frame], cmap='hot')\n",
    "#         axes[0].set_title('BOLD')\n",
    "\n",
    "#         axes[1].imshow(anat_vol[:,slice,:], cmap='gray')\n",
    "#         axes[1].set_title('Anatomy')\n",
    "\n",
    "#         axes[2].imshow(anat_vol[:,slice,:], cmap='gray')\n",
    "#         axes[2].imshow(bold_seq_vol[:,slice,:, frame], cmap='hot', alpha=opacity)\n",
    "#         axes[2].set_title('Overlay')\n",
    "\n",
    "#     def z_coord(slice, frame, opacity):\n",
    "#         fig, axes = plt.subplots(1,3, figsize=(15,5))\n",
    "\n",
    "#         fig.suptitle('z axis view')\n",
    "\n",
    "#         axes[0].imshow(bold_seq_vol[:,:,slice, frame], cmap='hot')\n",
    "#         axes[0].set_title('BOLD')\n",
    "\n",
    "#         axes[1].imshow(anat_vol[:,:,slice], cmap='gray')\n",
    "#         axes[1].set_title('Anatomy')\n",
    "\n",
    "#         axes[2].imshow(anat_vol[:,:,slice], cmap='gray')\n",
    "#         axes[2].imshow(bold_seq_vol[:,:,slice, frame], cmap='hot', alpha=opacity)\n",
    "#         axes[2].set_title('Overlay')\n",
    "\n",
    "#     match dim:\n",
    "#         case \"x\":\n",
    "#             interact(x_coord, slice=(0, anat_vol.shape[0]-1), frame=(0, bold_seq_vol.shape[3]-1),opacity=(0, 1.0))\n",
    "#         case 'y':\n",
    "#             interact(y_coord, slice=(0, anat_vol.shape[1]-1), frame=(0, bold_seq_vol.shape[3]-1),opacity=(0, 1.0))\n",
    "#         case 'z':\n",
    "#             interact(z_coord, slice=(0, anat_vol.shape[2]-1), frame=(0, bold_seq_vol.shape[3]-1),opacity=(0, 1.0))\n"
   ]
  },
  {
   "cell_type": "code",
   "execution_count": 73,
   "metadata": {},
   "outputs": [],
   "source": [
    "def align_stabilized_bold_to_anat(bold_img, t1_img, template_frame_idx=0):\n",
    "    \"\"\"\"\n",
    "    \"\"\"\n",
    "\n",
    "    print(\"Aligning stabilized bold to anat\\nEstablishing temporal mean\")\n",
    "    template_frame_idx = ants.from_numpy(bold_img.numpy()[:,:,:,template_frame_idx], spacing=bold_img.spacing[:3])\n",
    "\n",
    "    frame_registration = ants.registration(\n",
    "        fixed=t1_img,\n",
    "        moving=template_frame_idx,\n",
    "        type_of_transform=\"Rigid\", \n",
    "    )\n",
    "    registered_frames = []\n",
    "\n",
    "    print(\"Applying transformations to frames\")\n",
    "    for frame in range(bold_img.shape[3]):\n",
    "        print(f\"frame{frame}/{bold_img.shape[3]}\")\n",
    "        print(\"creating image of bold frame\")\n",
    "        bold_frame = ants.from_numpy(bold_img.numpy()[:,:,:,frame],\n",
    "                                     spacing=bold_img.spacing[:3])\n",
    "        print(\"     Applying frame transformation\")\n",
    "        registered_frame = ants.apply_transforms(\n",
    "            fixed=t1_img,\n",
    "            moving=bold_frame,\n",
    "            transformlist=frame_registration['fwdtransforms'],\n",
    "            interpolator='linear'\n",
    "        )\n",
    "        print(\"     adding registered frame to list\")\n",
    "        registered_frames.append(registered_frame.numpy())\n",
    "    print(\"Creating 4D numpy vol from list of 3D ANTs imgs\")\n",
    "    data = np.stack([frame for frame in registered_frames], axis=3)\n",
    "    print(\"Creating 4D bold image from numpy vol\")\n",
    "    registered_bold_img = ants.from_numpy(data, origin=bold_img.origin, spacing=bold_img.spacing)\n",
    "    return registered_bold_img"
   ]
  },
  {
   "cell_type": "markdown",
   "metadata": {},
   "source": [
    "# Skull Stripping"
   ]
  },
  {
   "cell_type": "code",
   "execution_count": 74,
   "metadata": {},
   "outputs": [
    {
     "name": "stdout",
     "output_type": "stream",
     "text": [
      "Skull Stripping Anatomy Volume\n",
      "Registering template to frame\n",
      "Creating brain mask\n",
      "Dilating brain mask\n",
      "Masking brain\n",
      "Done\n"
     ]
    }
   ],
   "source": [
    "isolated_t1 = skull_strip_anat(t1_image, mni_template, mni_mask)"
   ]
  },
  {
   "cell_type": "code",
   "execution_count": 75,
   "metadata": {},
   "outputs": [
    {
     "name": "stdout",
     "output_type": "stream",
     "text": [
      "Skull strip for BOLD\n",
      "Skull stripping bold frame 1/10\n",
      "Creating brain mask\n",
      "Skull stripping bold frame 2/10\n",
      "Creating brain mask\n",
      "Skull stripping bold frame 3/10\n",
      "Creating brain mask\n",
      "Skull stripping bold frame 4/10\n",
      "Creating brain mask\n",
      "Skull stripping bold frame 5/10\n",
      "Creating brain mask\n",
      "Skull stripping bold frame 6/10\n",
      "Creating brain mask\n",
      "Skull stripping bold frame 7/10\n",
      "Creating brain mask\n",
      "Skull stripping bold frame 8/10\n",
      "Creating brain mask\n",
      "Skull stripping bold frame 9/10\n",
      "Creating brain mask\n",
      "Skull stripping bold frame 10/10\n",
      "Creating brain mask\n",
      "Creating new ANTsImage from isolated brain volumes\n",
      "Done\n"
     ]
    }
   ],
   "source": [
    "# Truncated Version\n",
    "sliced = bold_image.numpy()[:, :, :, :10]\n",
    "bold_truncated_img = ants.from_numpy(sliced, spacing=bold_image.spacing, origin=bold_image.origin, direction=bold_image.direction)\n",
    "#stabilized = ants.motion_correction(bold_image)\n",
    "stabilized_truncated = ants.motion_correction(bold_truncated_img)\n",
    "isolated_bold = skull_strip_bold(stabilized_truncated['motion_corrected'], mni_template, mni_mask)"
   ]
  },
  {
   "cell_type": "markdown",
   "metadata": {},
   "source": [
    "# The Meat of it All"
   ]
  },
  {
   "cell_type": "markdown",
   "metadata": {},
   "source": [
    "Alignment hasn't been working without skull stripping, so let's reintroduce that\n",
    "\n",
    "\n",
    "Of note, `AntsPyNet` has a built in function that might be a bit more robust. However, it is heavy and falls into dependency hell quite quickly. It would be worth playing around with, but the heaviness of the package might be antithetical to Neurovolume"
   ]
  },
  {
   "cell_type": "code",
   "execution_count": 76,
   "metadata": {},
   "outputs": [
    {
     "name": "stdout",
     "output_type": "stream",
     "text": [
      "Aligning stabilized bold to anat\n",
      "Establishing temporal mean\n",
      "Applying transformations to frames\n",
      "frame0/10\n",
      "creating image of bold frame\n",
      "     Applying frame transformation\n",
      "     adding registered frame to list\n",
      "frame1/10\n",
      "creating image of bold frame\n",
      "     Applying frame transformation\n",
      "     adding registered frame to list\n",
      "frame2/10\n",
      "creating image of bold frame\n",
      "     Applying frame transformation\n",
      "     adding registered frame to list\n",
      "frame3/10\n",
      "creating image of bold frame\n",
      "     Applying frame transformation\n",
      "     adding registered frame to list\n",
      "frame4/10\n",
      "creating image of bold frame\n",
      "     Applying frame transformation\n",
      "     adding registered frame to list\n",
      "frame5/10\n",
      "creating image of bold frame\n",
      "     Applying frame transformation\n",
      "     adding registered frame to list\n",
      "frame6/10\n",
      "creating image of bold frame\n",
      "     Applying frame transformation\n",
      "     adding registered frame to list\n",
      "frame7/10\n",
      "creating image of bold frame\n",
      "     Applying frame transformation\n",
      "     adding registered frame to list\n",
      "frame8/10\n",
      "creating image of bold frame\n",
      "     Applying frame transformation\n",
      "     adding registered frame to list\n",
      "frame9/10\n",
      "creating image of bold frame\n",
      "     Applying frame transformation\n",
      "     adding registered frame to list\n",
      "Creating 4D numpy vol from list of 3D ANTs imgs\n",
      "Creating 4D bold image from numpy vol\n"
     ]
    }
   ],
   "source": [
    "registered_BOLD = align_stabilized_bold_to_anat(stabilized_truncated['motion_corrected'], t1_image)"
   ]
  },
  {
   "cell_type": "markdown",
   "metadata": {},
   "source": [
    "## Joachim tries to get some layering correct"
   ]
  },
  {
   "cell_type": "code",
   "execution_count": 100,
   "metadata": {},
   "outputs": [],
   "source": [
    "s = isolated_t1.numpy()\n",
    "m =registered_BOLD.numpy()[:,:,:,1]"
   ]
  },
  {
   "cell_type": "code",
   "execution_count": 101,
   "metadata": {},
   "outputs": [
    {
     "name": "stdout",
     "output_type": "stream",
     "text": [
      "(512, 512, 296)\n",
      "(512, 512, 296)\n"
     ]
    }
   ],
   "source": [
    "print(s.shape)\n",
    "print(m.shape)"
   ]
  },
  {
   "cell_type": "code",
   "execution_count": 105,
   "metadata": {},
   "outputs": [
    {
     "data": {
      "application/vnd.jupyter.widget-view+json": {
       "model_id": "b04866ac60bd46af804070e57090d16e",
       "version_major": 2,
       "version_minor": 0
      },
      "text/plain": [
       "interactive(children=(IntSlider(value=180, description='rx', max=360), Checkbox(value=False, description='free…"
      ]
     },
     "metadata": {},
     "output_type": "display_data"
    },
    {
     "ename": "TypeError",
     "evalue": "'function' object is not subscriptable",
     "output_type": "error",
     "traceback": [
      "\u001b[0;31m---------------------------------------------------------------------------\u001b[0m",
      "\u001b[0;31mTypeError\u001b[0m                                 Traceback (most recent call last)",
      "Cell \u001b[0;32mIn[105], line 1\u001b[0m\n\u001b[0;32m----> 1\u001b[0m \u001b[43madjust_alignment\u001b[49m\u001b[43m(\u001b[49m\u001b[43ms\u001b[49m\u001b[43m,\u001b[49m\u001b[43m \u001b[49m\u001b[43mm\u001b[49m\u001b[43m)\u001b[49m\n",
      "Cell \u001b[0;32mIn[104], line 25\u001b[0m, in \u001b[0;36madjust_alignment\u001b[0;34m(static, moving)\u001b[0m\n\u001b[1;32m     21\u001b[0m     plt\u001b[38;5;241m.\u001b[39mimshow(moving[:,:,\u001b[38;5;241m200\u001b[39m], alpha\u001b[38;5;241m=\u001b[39m\u001b[38;5;241m0.5\u001b[39m, cmap\u001b[38;5;241m=\u001b[39m\u001b[38;5;124m'\u001b[39m\u001b[38;5;124mgist_heat\u001b[39m\u001b[38;5;124m'\u001b[39m)\n\u001b[1;32m     23\u001b[0m transformed_moving \u001b[38;5;241m=\u001b[39m interact(transform, rx\u001b[38;5;241m=\u001b[39m(\u001b[38;5;241m0\u001b[39m,\u001b[38;5;241m360\u001b[39m), freeze\u001b[38;5;241m=\u001b[39m\u001b[38;5;28;01mFalse\u001b[39;00m)\n\u001b[0;32m---> 25\u001b[0m \u001b[43mview_frame\u001b[49m\u001b[43m(\u001b[49m\u001b[43mstatic\u001b[49m\u001b[43m,\u001b[49m\u001b[43m \u001b[49m\u001b[43mtransformed_moving\u001b[49m\u001b[43m)\u001b[49m\n",
      "Cell \u001b[0;32mIn[104], line 21\u001b[0m, in \u001b[0;36madjust_alignment.<locals>.view_frame\u001b[0;34m(static, moving)\u001b[0m\n\u001b[1;32m     19\u001b[0m \u001b[38;5;28;01mdef\u001b[39;00m \u001b[38;5;21mview_frame\u001b[39m(static: np\u001b[38;5;241m.\u001b[39mndarray, moving: np\u001b[38;5;241m.\u001b[39mndarray):\n\u001b[1;32m     20\u001b[0m     plt\u001b[38;5;241m.\u001b[39mimshow(static[:,:,\u001b[38;5;241m200\u001b[39m], cmap\u001b[38;5;241m=\u001b[39m\u001b[38;5;124m'\u001b[39m\u001b[38;5;124mgray\u001b[39m\u001b[38;5;124m'\u001b[39m)\n\u001b[0;32m---> 21\u001b[0m     plt\u001b[38;5;241m.\u001b[39mimshow(\u001b[43mmoving\u001b[49m\u001b[43m[\u001b[49m\u001b[43m:\u001b[49m\u001b[43m,\u001b[49m\u001b[43m:\u001b[49m\u001b[43m,\u001b[49m\u001b[38;5;241;43m200\u001b[39;49m\u001b[43m]\u001b[49m, alpha\u001b[38;5;241m=\u001b[39m\u001b[38;5;241m0.5\u001b[39m, cmap\u001b[38;5;241m=\u001b[39m\u001b[38;5;124m'\u001b[39m\u001b[38;5;124mgist_heat\u001b[39m\u001b[38;5;124m'\u001b[39m)\n",
      "\u001b[0;31mTypeError\u001b[0m: 'function' object is not subscriptable"
     ]
    },
    {
     "data": {
      "image/png": "[encoded data removed]",
      "text/plain": [
       "<Figure size 640x480 with 1 Axes>"
      ]
     },
     "metadata": {},
     "output_type": "display_data"
    }
   ],
   "source": [
    "adjust_alignment(s, m)"
   ]
  },
  {
   "cell_type": "code",
   "execution_count": null,
   "metadata": {},
   "outputs": [],
   "source": []
  }
 ],
 "metadata": {
  "kernelspec": {
   "display_name": ".venv",
   "language": "python",
   "name": "python3"
  },
  "language_info": {
   "codemirror_mode": {
    "name": "ipython",
    "version": 3
   },
   "file_extension": ".py",
   "mimetype": "text/x-python",
   "name": "python",
   "nbconvert_exporter": "python",
   "pygments_lexer": "ipython3",
   "version": "3.11.5"
  }
 },
 "nbformat": 4,
 "nbformat_minor": 2
}
